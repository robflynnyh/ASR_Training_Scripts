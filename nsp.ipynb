{
 "cells": [
  {
   "cell_type": "code",
   "execution_count": 1,
   "metadata": {},
   "outputs": [
    {
     "name": "stdout",
     "output_type": "stream",
     "text": [
      "ami\t\t\t\t     model_configs\t    setup.py\n",
      "checkpoints\t\t\t     model_utils.py\t    speachy\n",
      "checkpoints_done\t\t     nbests_ng.pkl\t    speachy.egg-info\n",
      "compute_rescore_wer.py\t\t     nbests.pkl\t\t    sweep.yaml\n",
      "distance_bias_LM_not_pretrained.svg  non_iid_dataloader.py  tedlium\n",
      "eval_perplexity.py\t\t     nsp.ipynb\t\t    tools.py\n",
      "experiment_configs\t\t     pos.pkl\t\t    train_LM.py\n",
      "ipynbs\t\t\t\t     ppls.pkl\t\t    train_lm.sh\n",
      "lm\t\t\t\t     __pycache__\t    wandb\n",
      "lm_utils.py\t\t\t     README.md\n",
      "log.txt\t\t\t\t     rescore_with_TLM.py\n"
     ]
    }
   ],
   "source": [
    "!ls"
   ]
  },
  {
   "cell_type": "code",
   "execution_count": 2,
   "metadata": {},
   "outputs": [
    {
     "name": "stderr",
     "output_type": "stream",
     "text": [
      "[NeMo W 2022-12-12 20:32:28 experimental:27] Module <class 'nemo.collections.nlp.data.language_modeling.megatron.megatron_batch_samplers.MegatronPretrainingRandomBatchSampler'> is experimental, not ready for production and is not fully supported. Use at your own risk.\n",
      "[NeMo W 2022-12-12 20:32:28 experimental:27] Module <class 'nemo.collections.nlp.models.text_normalization_as_tagging.thutmose_tagger.ThutmoseTaggerModel'> is experimental, not ready for production and is not fully supported. Use at your own risk.\n"
     ]
    }
   ],
   "source": [
    "import ami.non_iid_dataloader as non_iid_dataloader\n",
    "import ami.tools as tools"
   ]
  },
  {
   "cell_type": "code",
   "execution_count": 3,
   "metadata": {},
   "outputs": [],
   "source": [
    "corpus = tools.load_corpus()"
   ]
  },
  {
   "cell_type": "code",
   "execution_count": 4,
   "metadata": {},
   "outputs": [],
   "source": [
    "dl = non_iid_dataloader.get_eval_dataloader(\n",
    "    corpus['train'],\n",
    "    max_duration=1000000000000000000000,\n",
    "    return_speaker=True,\n",
    ")"
   ]
  },
  {
   "cell_type": "code",
   "execution_count": 11,
   "metadata": {},
   "outputs": [],
   "source": [
    "for batch in dl:\n",
    "    b = batch\n",
    "    break"
   ]
  },
  {
   "cell_type": "code",
   "execution_count": 20,
   "metadata": {},
   "outputs": [
    {
     "data": {
      "text/plain": [
       "733"
      ]
     },
     "execution_count": 20,
     "metadata": {},
     "output_type": "execute_result"
    }
   ],
   "source": [
    "spl = b['speakers']\n",
    "newspl = []\n",
    "for i, s in enumerate(spl):\n",
    "    if i == 0:\n",
    "        newspl.append(s)\n",
    "    if i > 0 and s != spl[i-1]:\n",
    "        newspl.append(s)\n",
    "len(newspl)"
   ]
  },
  {
   "cell_type": "code",
   "execution_count": 5,
   "metadata": {},
   "outputs": [
    {
     "name": "stdout",
     "output_type": "stream",
     "text": [
      "tensor(21.2375)\n",
      "tensor(21.7344)\n",
      "tensor(17.0422)\n",
      "tensor(14.6876)\n",
      "tensor(17.0086)\n",
      "tensor(15.3617)\n",
      "tensor(19.7604)\n",
      "tensor(13.4295)\n",
      "tensor(17.6699)\n",
      "tensor(17.5631)\n",
      "tensor(15.7420)\n",
      "tensor(20.2281)\n",
      "tensor(18.7027)\n",
      "tensor(17.9395)\n",
      "tensor(16.9446)\n",
      "tensor(22.0462)\n",
      "tensor(19.4262)\n",
      "tensor(14.7732)\n",
      "tensor(25.5301)\n",
      "tensor(18.8373)\n",
      "tensor(13.5417)\n",
      "tensor(12.3904)\n",
      "tensor(17.2389)\n",
      "tensor(15.3236)\n",
      "tensor(15.7174)\n",
      "tensor(13.8005)\n",
      "tensor(18.3838)\n",
      "tensor(15.3918)\n",
      "tensor(18.7320)\n",
      "tensor(16.8086)\n",
      "tensor(16.0194)\n",
      "tensor(16.9349)\n",
      "tensor(16.1739)\n",
      "tensor(19.4674)\n",
      "tensor(18.1989)\n",
      "tensor(22.3386)\n",
      "tensor(17.9628)\n",
      "tensor(19.5514)\n",
      "tensor(18.7000)\n",
      "tensor(13.9884)\n",
      "tensor(21.0108)\n",
      "tensor(14.9891)\n",
      "tensor(17.8220)\n",
      "tensor(16.0109)\n",
      "tensor(16.2700)\n",
      "tensor(23.4093)\n",
      "tensor(15.7319)\n",
      "tensor(17.7848)\n",
      "tensor(15.6955)\n",
      "tensor(19.1709)\n",
      "tensor(14.6828)\n",
      "tensor(18.0201)\n",
      "tensor(17.5083)\n",
      "tensor(19.5573)\n",
      "tensor(15.8367)\n",
      "tensor(14.5951)\n",
      "tensor(15.2498)\n",
      "tensor(18.7005)\n",
      "tensor(21.5145)\n",
      "tensor(20.7437)\n",
      "tensor(18.5741)\n",
      "tensor(17.6838)\n",
      "tensor(20.7467)\n",
      "tensor(17.9159)\n",
      "tensor(17.0907)\n",
      "tensor(18.6407)\n",
      "tensor(21.7187)\n",
      "tensor(19.2763)\n",
      "tensor(16.0437)\n",
      "tensor(16.5017)\n",
      "tensor(17.0300)\n",
      "tensor(17.4329)\n",
      "tensor(16.7247)\n",
      "tensor(18.0295)\n",
      "tensor(16.3421)\n",
      "tensor(16.0681)\n",
      "tensor(14.5141)\n",
      "tensor(15.0904)\n",
      "tensor(14.4299)\n",
      "tensor(17.3762)\n",
      "tensor(17.0272)\n",
      "tensor(16.3680)\n",
      "tensor(19.1862)\n",
      "tensor(17.6154)\n",
      "tensor(13.6475)\n",
      "tensor(16.4374)\n",
      "tensor(20.2608)\n",
      "tensor(18.6642)\n",
      "tensor(18.5453)\n",
      "tensor(16.7991)\n",
      "tensor(16.9476)\n",
      "tensor(16.4133)\n",
      "tensor(14.2541)\n",
      "tensor(16.3151)\n",
      "tensor(15.5450)\n",
      "tensor(21.7730)\n",
      "tensor(17.5235)\n",
      "tensor(21.0278)\n",
      "tensor(14.3793)\n",
      "tensor(15.5627)\n",
      "tensor(15.9614)\n",
      "tensor(17.8957)\n",
      "tensor(16.7263)\n",
      "tensor(16.0945)\n",
      "tensor(19.2344)\n",
      "tensor(19.8472)\n",
      "tensor(20.7154)\n",
      "tensor(15.8604)\n",
      "tensor(16.5709)\n",
      "tensor(16.5152)\n",
      "tensor(22.9592)\n",
      "tensor(16.2567)\n",
      "tensor(15.7247)\n",
      "tensor(20.8518)\n",
      "tensor(21.0513)\n",
      "tensor(19.2279)\n",
      "tensor(15.3080)\n",
      "tensor(13.4925)\n",
      "tensor(16.2614)\n",
      "tensor(15.7364)\n",
      "tensor(16.8276)\n",
      "tensor(20.9514)\n",
      "tensor(16.9315)\n",
      "tensor(14.4293)\n",
      "tensor(17.4222)\n",
      "tensor(13.2322)\n",
      "tensor(17.6645)\n",
      "tensor(14.3792)\n",
      "tensor(20.3479)\n",
      "tensor(18.9987)\n",
      "tensor(17.7615)\n",
      "tensor(20.7845)\n"
     ]
    }
   ],
   "source": [
    "spms  = []\n",
    "for batch in dl:\n",
    "    b = batch\n",
    "    spl = b['speakers']\n",
    "    newspl = []\n",
    "    for i, s in enumerate(spl):\n",
    "        if i == 0:\n",
    "            newspl.append(s)\n",
    "        if i > 0 and s != spl[i-1]:\n",
    "            newspl.append(s)\n",
    "    spm = len(newspl) / ((b['audio_lens'].sum()/16000)/60)\n",
    "    print(spm)\n",
    "    spms.append(spm)\n",
    "    \n"
   ]
  },
  {
   "cell_type": "code",
   "execution_count": 8,
   "metadata": {},
   "outputs": [],
   "source": [
    "import torch"
   ]
  },
  {
   "cell_type": "code",
   "execution_count": 10,
   "metadata": {},
   "outputs": [
    {
     "data": {
      "text/plain": [
       "tensor(17.5013)"
      ]
     },
     "execution_count": 10,
     "metadata": {},
     "output_type": "execute_result"
    }
   ],
   "source": [
    "torch.as_tensor(spms).mean()"
   ]
  }
 ],
 "metadata": {
  "kernelspec": {
   "display_name": "Python 3.8.13 ('k2_custom-nemo')",
   "language": "python",
   "name": "python3"
  },
  "language_info": {
   "codemirror_mode": {
    "name": "ipython",
    "version": 3
   },
   "file_extension": ".py",
   "mimetype": "text/x-python",
   "name": "python",
   "nbconvert_exporter": "python",
   "pygments_lexer": "ipython3",
   "version": "3.8.13"
  },
  "orig_nbformat": 4,
  "vscode": {
   "interpreter": {
    "hash": "c94c8ffa67fdebd9384b5746b8c4850bc2cec88ff489992126dcd0aca228c275"
   }
  }
 },
 "nbformat": 4,
 "nbformat_minor": 2
}
