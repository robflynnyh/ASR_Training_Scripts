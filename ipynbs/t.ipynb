{
 "cells": [
  {
   "cell_type": "code",
   "execution_count": 22,
   "metadata": {},
   "outputs": [],
   "source": [
    "import torch, torch.nn as nn, torch.nn.functional as F"
   ]
  },
  {
   "cell_type": "code",
   "execution_count": 36,
   "metadata": {},
   "outputs": [
    {
     "data": {
      "text/plain": [
       "torch.Size([2, 10, 1])"
      ]
     },
     "execution_count": 36,
     "metadata": {},
     "output_type": "execute_result"
    }
   ],
   "source": [
    "torch.randn(2,10)[...,None].shape\n"
   ]
  },
  {
   "cell_type": "code",
   "execution_count": 42,
   "metadata": {},
   "outputs": [
    {
     "data": {
      "text/plain": [
       "tensor(0.)"
      ]
     },
     "execution_count": 42,
     "metadata": {},
     "output_type": "execute_result"
    }
   ],
   "source": [
    "recon_loss_fn = lambda *args, **kwargs: torch.tensor(0., device=x.device)\n",
    "recon_loss_fn('d', d=2)"
   ]
  },
  {
   "cell_type": "code",
   "execution_count": 183,
   "metadata": {},
   "outputs": [],
   "source": [
    "class Halfer(nn.Module): # uses conv instead of avg_pool1d\n",
    "    def __init__(self, dim):\n",
    "        super().__init__()\n",
    "        self.conv = nn.Conv1d(dim, dim*2, kernel_size=2, stride=2, padding=0, bias=True)\n",
    "        self.act = nn.SiLU()\n",
    "        self.ff = nn.Linear(dim*2, dim)\n",
    "\n",
    "    def forward(self, x, length):\n",
    "        if x.shape[1] % 2 == 1:\n",
    "            x = torch.cat([x, torch.zeros_like(x[:,0:1,:])], dim=1)\n",
    "            length += 1\n",
    "        x = self.conv(x.transpose(1,2)).transpose(1,2)\n",
    "        x = self.ff(self.act(x))\n",
    "        length = (length + 1).div(2).floor().long()\n",
    "        return x, length\n",
    "\n",
    "class InverseHalfer(nn.Module): # opposite of Halfer\n",
    "    def __init__(self, dim):\n",
    "        super().__init__()\n",
    "        self.conv = nn.ConvTranspose1d(dim, dim//2, kernel_size=2, stride=2, padding=0, bias=True)\n",
    "        self.act = nn.SiLU()\n",
    "        self.ff = nn.Linear(dim//2, dim)\n",
    "\n",
    "    def forward(self, x, length):\n",
    "        x = self.conv(x.transpose(1,2)).transpose(1,2)\n",
    "        x = self.ff(self.act(x))\n",
    "        length = length.mul(2)\n",
    "        return x, length\n",
    "\n",
    "class HalferBlock(nn.Module):\n",
    "    def __init__(self, dim):\n",
    "        super().__init__()\n",
    "        self.halfer = Halfer(dim)\n",
    "        self.inverse_halfer = InverseHalfer(dim)\n",
    "        self.loss = nn.MSELoss(reduction='none')\n",
    "\n",
    "    def forward(self, x, length, mask=None):\n",
    "        halved_x, halved_length = self.halfer(x, length)\n",
    "        loss = torch.tensor(0., device=x.device)\n",
    "        if self.training:\n",
    "            restored_x, restored_length = self.inverse_halfer(x, halved_length)\n",
    "            restored_x = restored_x[:, :x.shape[1], :] # trim to original length\n",
    "            loss = self.loss(restored_x, x)\n",
    "            if mask is not None: # mask out padding\n",
    "                loss.masked_fill_(mask, 0)\n",
    "            loss = loss.mean()\n",
    "        return halved_x, halved_length, loss\n"
   ]
  },
  {
   "cell_type": "code",
   "execution_count": 185,
   "metadata": {},
   "outputs": [
    {
     "name": "stdout",
     "output_type": "stream",
     "text": [
      "torch.Size([2, 50, 256]) tensor([50, 33])\n",
      "torch.Size([2, 100, 256]) tensor([100,  66])\n"
     ]
    }
   ],
   "source": [
    "halfer = Halfer(256)\n",
    "inv_halfer = InverseHalfer(256)\n",
    "x = torch.randn(2, 100, 256)\n",
    "length = torch.tensor([100, 65])\n",
    "x, length = halfer(x, length)\n",
    "print(x.shape, length)\n",
    "x, length = inv_halfer(x, length)\n",
    "print(x.shape, length)"
   ]
  },
  {
   "cell_type": "code",
   "execution_count": 34,
   "metadata": {},
   "outputs": [
    {
     "name": "stdout",
     "output_type": "stream",
     "text": [
      "tensor(1.9711)\n"
     ]
    }
   ],
   "source": [
    "a = torch.randn(3, 8, 32)\n",
    "b = torch.randn(3, 8, 32)\n",
    "mseloss = torch.nn.MSELoss(reduction='none')\n",
    "loss = mseloss(a, b)\n",
    "loss = loss.mean()\n",
    "print(loss)"
   ]
  },
  {
   "cell_type": "code",
   "execution_count": 1,
   "metadata": {},
   "outputs": [],
   "source": [
    "import matplotlib.pyplot as plt\n",
    "import numpy as  np"
   ]
  },
  {
   "cell_type": "code",
   "execution_count": 2,
   "metadata": {},
   "outputs": [
    {
     "name": "stderr",
     "output_type": "stream",
     "text": [
      "CUDA extension for cauchy multiplication not found. Install by going to extensions/cauchy/ and running `python setup.py install`. This should speed up end-to-end training by 10-50%\n",
      "[NeMo W 2023-04-10 16:53:03 experimental:27] Module <class 'nemo.collections.nlp.data.language_modeling.megatron.megatron_batch_samplers.MegatronPretrainingRandomBatchSampler'> is experimental, not ready for production and is not fully supported. Use at your own risk.\n",
      "[NeMo W 2023-04-10 16:53:03 experimental:27] Module <class 'nemo.collections.nlp.models.text_normalization_as_tagging.thutmose_tagger.ThutmoseTaggerModel'> is experimental, not ready for production and is not fully supported. Use at your own risk.\n"
     ]
    }
   ],
   "source": [
    "import argparse\n",
    "import pickle as pkl\n",
    "from Levenshtein import distance\n",
    "from speachy.rescoring.tools import ( sort_hypothesis_by_recording, order_recordings_by_start_time, )\n",
    "import numpy as np\n",
    "from functools import reduce\n",
    "import torch\n",
    "import os\n",
    "import traceback\n",
    "from speachy.utils.misc import ( add_common_args, get_parameters, load_pkl )\n",
    "\n",
    "from speachy.utils.general import (\n",
    "    load_config,\n",
    "    load_checkpoint,\n",
    "    load_tokenizer,\n",
    "    save_checkpoint,\n",
    "    save_schedular_data,\n",
    "    write_to_log,\n",
    "    draw_text,\n",
    ")\n",
    "\n",
    "from speachy.lm.tools.train import (\n",
    "    loss_ce,\n",
    "    batch_to_device,\n",
    "    token_lens_to_mask,\n",
    "    add_bos,\n",
    "    add_eos,\n",
    "    mark_padding\n",
    ")\n",
    "\n",
    "from speachy.utils.general import load_checkpoint\n",
    "from speachy.lm.tools.loading import autoload\n",
    "from speachy.utils.helpers import  exists, isfalse, istrue\n",
    "from speachy.utils.general.training_loop import optimizer, update_schedular\n",
    "from contextlib import nullcontext\n",
    "from tqdm import tqdm\n",
    "import wandb\n",
    "from torch.cuda.amp import GradScaler   \n",
    "from torch_ema import ExponentialMovingAverage"
   ]
  },
  {
   "cell_type": "code",
   "execution_count": 2,
   "metadata": {},
   "outputs": [
    {
     "data": {
      "text/html": [
       "<pre style=\"white-space:pre;overflow-x:auto;line-height:normal;font-family:Menlo,'DejaVu Sans Mono',consolas,'Courier New',monospace\"><span style=\"color: #800000; text-decoration-color: #800000\">╭─────────────────────────────── </span><span style=\"color: #800000; text-decoration-color: #800000; font-weight: bold\">Traceback </span><span style=\"color: #bf7f7f; text-decoration-color: #bf7f7f; font-weight: bold\">(most recent call last)</span><span style=\"color: #800000; text-decoration-color: #800000\"> ────────────────────────────────╮</span>\n",
       "<span style=\"color: #800000; text-decoration-color: #800000\">│</span> <span style=\"color: #bfbf7f; text-decoration-color: #bfbf7f\">/tmp/ipykernel_1998431/</span><span style=\"color: #808000; text-decoration-color: #808000; font-weight: bold\">574941044.py</span>:<span style=\"color: #0000ff; text-decoration-color: #0000ff\">1</span> in <span style=\"color: #00ff00; text-decoration-color: #00ff00\">&lt;module&gt;</span>                                                <span style=\"color: #800000; text-decoration-color: #800000\">│</span>\n",
       "<span style=\"color: #800000; text-decoration-color: #800000\">│</span>                                                                                                  <span style=\"color: #800000; text-decoration-color: #800000\">│</span>\n",
       "<span style=\"color: #800000; text-decoration-color: #800000\">│</span> <span style=\"color: #800000; text-decoration-color: #800000; font-style: italic\">[Errno 2] No such file or directory: '/tmp/ipykernel_1998431/574941044.py'</span>                       <span style=\"color: #800000; text-decoration-color: #800000\">│</span>\n",
       "<span style=\"color: #800000; text-decoration-color: #800000\">│</span>                                                                                                  <span style=\"color: #800000; text-decoration-color: #800000\">│</span>\n",
       "<span style=\"color: #800000; text-decoration-color: #800000\">│</span> <span style=\"color: #bfbf7f; text-decoration-color: #bfbf7f\">/exp/exp1/acp21rjf/deliberation/speachy/speachy/utils/general/</span><span style=\"color: #808000; text-decoration-color: #808000; font-weight: bold\">model_utils.py</span>:<span style=\"color: #0000ff; text-decoration-color: #0000ff\">12</span> in <span style=\"color: #00ff00; text-decoration-color: #00ff00\">load_config</span>   <span style=\"color: #800000; text-decoration-color: #800000\">│</span>\n",
       "<span style=\"color: #800000; text-decoration-color: #800000\">│</span>                                                                                                  <span style=\"color: #800000; text-decoration-color: #800000\">│</span>\n",
       "<span style=\"color: #800000; text-decoration-color: #800000\">│</span>   <span style=\"color: #7f7f7f; text-decoration-color: #7f7f7f\"> 9 </span><span style=\"color: #0000ff; text-decoration-color: #0000ff\">import</span> <span style=\"color: #00ffff; text-decoration-color: #00ffff; text-decoration: underline\">json</span>                                                                                 <span style=\"color: #800000; text-decoration-color: #800000\">│</span>\n",
       "<span style=\"color: #800000; text-decoration-color: #800000\">│</span>   <span style=\"color: #7f7f7f; text-decoration-color: #7f7f7f\">10 </span>                                                                                            <span style=\"color: #800000; text-decoration-color: #800000\">│</span>\n",
       "<span style=\"color: #800000; text-decoration-color: #800000\">│</span>   <span style=\"color: #7f7f7f; text-decoration-color: #7f7f7f\">11 </span><span style=\"color: #0000ff; text-decoration-color: #0000ff\">def</span> <span style=\"color: #00ff00; text-decoration-color: #00ff00\">load_config</span>(config:<span style=\"color: #00ffff; text-decoration-color: #00ffff\">str</span>):                                                                <span style=\"color: #800000; text-decoration-color: #800000\">│</span>\n",
       "<span style=\"color: #800000; text-decoration-color: #800000\">│</span> <span style=\"color: #800000; text-decoration-color: #800000\">❱ </span>12 <span style=\"color: #7f7f7f; text-decoration-color: #7f7f7f\">│   </span><span style=\"color: #0000ff; text-decoration-color: #0000ff\">return</span> OmegaConf.load(config)                                                           <span style=\"color: #800000; text-decoration-color: #800000\">│</span>\n",
       "<span style=\"color: #800000; text-decoration-color: #800000\">│</span>   <span style=\"color: #7f7f7f; text-decoration-color: #7f7f7f\">13 </span>                                                                                            <span style=\"color: #800000; text-decoration-color: #800000\">│</span>\n",
       "<span style=\"color: #800000; text-decoration-color: #800000\">│</span>   <span style=\"color: #7f7f7f; text-decoration-color: #7f7f7f\">14 </span><span style=\"color: #0000ff; text-decoration-color: #0000ff\">def</span> <span style=\"color: #00ff00; text-decoration-color: #00ff00\">write_to_log</span>(log_file, data):                                                           <span style=\"color: #800000; text-decoration-color: #800000\">│</span>\n",
       "<span style=\"color: #800000; text-decoration-color: #800000\">│</span>   <span style=\"color: #7f7f7f; text-decoration-color: #7f7f7f\">15 │   </span><span style=\"color: #0000ff; text-decoration-color: #0000ff\">if</span> log_file <span style=\"color: #ff00ff; text-decoration-color: #ff00ff\">is</span> <span style=\"color: #0000ff; text-decoration-color: #0000ff\">None</span> <span style=\"color: #ff00ff; text-decoration-color: #ff00ff\">or</span> log_file == <span style=\"color: #808000; text-decoration-color: #808000\">''</span>:                                                  <span style=\"color: #800000; text-decoration-color: #800000\">│</span>\n",
       "<span style=\"color: #800000; text-decoration-color: #800000\">│</span>                                                                                                  <span style=\"color: #800000; text-decoration-color: #800000\">│</span>\n",
       "<span style=\"color: #800000; text-decoration-color: #800000\">│</span> <span style=\"color: #bfbf7f; text-decoration-color: #bfbf7f\">/store/store1/software/bin/anaconda3/envs/k2_custom-nemo/lib/python3.8/site-packages/omegaconf/</span><span style=\"color: #808000; text-decoration-color: #808000; font-weight: bold\">o</span> <span style=\"color: #800000; text-decoration-color: #800000\">│</span>\n",
       "<span style=\"color: #800000; text-decoration-color: #800000\">│</span> <span style=\"color: #808000; text-decoration-color: #808000; font-weight: bold\">megaconf.py</span>:<span style=\"color: #0000ff; text-decoration-color: #0000ff\">183</span> in <span style=\"color: #00ff00; text-decoration-color: #00ff00\">load</span>                                                                          <span style=\"color: #800000; text-decoration-color: #800000\">│</span>\n",
       "<span style=\"color: #800000; text-decoration-color: #800000\">│</span>                                                                                                  <span style=\"color: #800000; text-decoration-color: #800000\">│</span>\n",
       "<span style=\"color: #800000; text-decoration-color: #800000\">│</span>   <span style=\"color: #7f7f7f; text-decoration-color: #7f7f7f\"> 180 │   │   </span><span style=\"color: #0000ff; text-decoration-color: #0000ff\">from</span> <span style=\"color: #00ffff; text-decoration-color: #00ffff; text-decoration: underline\">._utils</span> <span style=\"color: #0000ff; text-decoration-color: #0000ff\">import</span> get_yaml_loader                                               <span style=\"color: #800000; text-decoration-color: #800000\">│</span>\n",
       "<span style=\"color: #800000; text-decoration-color: #800000\">│</span>   <span style=\"color: #7f7f7f; text-decoration-color: #7f7f7f\"> 181 │   │   </span>                                                                                  <span style=\"color: #800000; text-decoration-color: #800000\">│</span>\n",
       "<span style=\"color: #800000; text-decoration-color: #800000\">│</span>   <span style=\"color: #7f7f7f; text-decoration-color: #7f7f7f\"> 182 │   │   </span><span style=\"color: #0000ff; text-decoration-color: #0000ff\">if</span> <span style=\"color: #00ffff; text-decoration-color: #00ffff\">isinstance</span>(file_, (<span style=\"color: #00ffff; text-decoration-color: #00ffff\">str</span>, pathlib.Path)):                                        <span style=\"color: #800000; text-decoration-color: #800000\">│</span>\n",
       "<span style=\"color: #800000; text-decoration-color: #800000\">│</span> <span style=\"color: #800000; text-decoration-color: #800000\">❱ </span> 183 <span style=\"color: #7f7f7f; text-decoration-color: #7f7f7f\">│   │   │   </span><span style=\"color: #0000ff; text-decoration-color: #0000ff\">with</span> io.open(os.path.abspath(file_), <span style=\"color: #808000; text-decoration-color: #808000\">\"r\"</span>, encoding=<span style=\"color: #808000; text-decoration-color: #808000\">\"utf-8\"</span>) <span style=\"color: #0000ff; text-decoration-color: #0000ff\">as</span> f:             <span style=\"color: #800000; text-decoration-color: #800000\">│</span>\n",
       "<span style=\"color: #800000; text-decoration-color: #800000\">│</span>   <span style=\"color: #7f7f7f; text-decoration-color: #7f7f7f\"> 184 │   │   │   │   </span>obj = yaml.load(f, Loader=get_yaml_loader())                              <span style=\"color: #800000; text-decoration-color: #800000\">│</span>\n",
       "<span style=\"color: #800000; text-decoration-color: #800000\">│</span>   <span style=\"color: #7f7f7f; text-decoration-color: #7f7f7f\"> 185 │   │   </span><span style=\"color: #0000ff; text-decoration-color: #0000ff\">elif</span> <span style=\"color: #00ffff; text-decoration-color: #00ffff\">getattr</span>(file_, <span style=\"color: #808000; text-decoration-color: #808000\">\"read\"</span>, <span style=\"color: #0000ff; text-decoration-color: #0000ff\">None</span>):                                                <span style=\"color: #800000; text-decoration-color: #800000\">│</span>\n",
       "<span style=\"color: #800000; text-decoration-color: #800000\">│</span>   <span style=\"color: #7f7f7f; text-decoration-color: #7f7f7f\"> 186 │   │   │   </span>obj = yaml.load(file_, Loader=get_yaml_loader())                              <span style=\"color: #800000; text-decoration-color: #800000\">│</span>\n",
       "<span style=\"color: #800000; text-decoration-color: #800000\">╰──────────────────────────────────────────────────────────────────────────────────────────────────╯</span>\n",
       "<span style=\"color: #ff0000; text-decoration-color: #ff0000; font-weight: bold\">FileNotFoundError: </span><span style=\"font-weight: bold\">[</span>Errno <span style=\"color: #008080; text-decoration-color: #008080; font-weight: bold\">2</span><span style=\"font-weight: bold\">]</span> No such file or directory: \n",
       "<span style=\"color: #008000; text-decoration-color: #008000\">'/exp/exp1/acp21rjf/deliberation/speachy/ipynbs/experiment_configs/lm/uniformer_test.yaml'</span>\n",
       "</pre>\n"
      ],
      "text/plain": [
       "\u001b[31m╭─\u001b[0m\u001b[31m──────────────────────────────\u001b[0m\u001b[31m \u001b[0m\u001b[1;31mTraceback \u001b[0m\u001b[1;2;31m(most recent call last)\u001b[0m\u001b[31m \u001b[0m\u001b[31m───────────────────────────────\u001b[0m\u001b[31m─╮\u001b[0m\n",
       "\u001b[31m│\u001b[0m \u001b[2;33m/tmp/ipykernel_1998431/\u001b[0m\u001b[1;33m574941044.py\u001b[0m:\u001b[94m1\u001b[0m in \u001b[92m<module>\u001b[0m                                                \u001b[31m│\u001b[0m\n",
       "\u001b[31m│\u001b[0m                                                                                                  \u001b[31m│\u001b[0m\n",
       "\u001b[31m│\u001b[0m \u001b[3;31m[Errno 2] No such file or directory: '/tmp/ipykernel_1998431/574941044.py'\u001b[0m                       \u001b[31m│\u001b[0m\n",
       "\u001b[31m│\u001b[0m                                                                                                  \u001b[31m│\u001b[0m\n",
       "\u001b[31m│\u001b[0m \u001b[2;33m/exp/exp1/acp21rjf/deliberation/speachy/speachy/utils/general/\u001b[0m\u001b[1;33mmodel_utils.py\u001b[0m:\u001b[94m12\u001b[0m in \u001b[92mload_config\u001b[0m   \u001b[31m│\u001b[0m\n",
       "\u001b[31m│\u001b[0m                                                                                                  \u001b[31m│\u001b[0m\n",
       "\u001b[31m│\u001b[0m   \u001b[2m 9 \u001b[0m\u001b[94mimport\u001b[0m \u001b[4;96mjson\u001b[0m                                                                                 \u001b[31m│\u001b[0m\n",
       "\u001b[31m│\u001b[0m   \u001b[2m10 \u001b[0m                                                                                            \u001b[31m│\u001b[0m\n",
       "\u001b[31m│\u001b[0m   \u001b[2m11 \u001b[0m\u001b[94mdef\u001b[0m \u001b[92mload_config\u001b[0m(config:\u001b[96mstr\u001b[0m):                                                                \u001b[31m│\u001b[0m\n",
       "\u001b[31m│\u001b[0m \u001b[31m❱ \u001b[0m12 \u001b[2m│   \u001b[0m\u001b[94mreturn\u001b[0m OmegaConf.load(config)                                                           \u001b[31m│\u001b[0m\n",
       "\u001b[31m│\u001b[0m   \u001b[2m13 \u001b[0m                                                                                            \u001b[31m│\u001b[0m\n",
       "\u001b[31m│\u001b[0m   \u001b[2m14 \u001b[0m\u001b[94mdef\u001b[0m \u001b[92mwrite_to_log\u001b[0m(log_file, data):                                                           \u001b[31m│\u001b[0m\n",
       "\u001b[31m│\u001b[0m   \u001b[2m15 \u001b[0m\u001b[2m│   \u001b[0m\u001b[94mif\u001b[0m log_file \u001b[95mis\u001b[0m \u001b[94mNone\u001b[0m \u001b[95mor\u001b[0m log_file == \u001b[33m'\u001b[0m\u001b[33m'\u001b[0m:                                                  \u001b[31m│\u001b[0m\n",
       "\u001b[31m│\u001b[0m                                                                                                  \u001b[31m│\u001b[0m\n",
       "\u001b[31m│\u001b[0m \u001b[2;33m/store/store1/software/bin/anaconda3/envs/k2_custom-nemo/lib/python3.8/site-packages/omegaconf/\u001b[0m\u001b[1;33mo\u001b[0m \u001b[31m│\u001b[0m\n",
       "\u001b[31m│\u001b[0m \u001b[1;33mmegaconf.py\u001b[0m:\u001b[94m183\u001b[0m in \u001b[92mload\u001b[0m                                                                          \u001b[31m│\u001b[0m\n",
       "\u001b[31m│\u001b[0m                                                                                                  \u001b[31m│\u001b[0m\n",
       "\u001b[31m│\u001b[0m   \u001b[2m 180 \u001b[0m\u001b[2m│   │   \u001b[0m\u001b[94mfrom\u001b[0m \u001b[4;96m.\u001b[0m\u001b[4;96m_utils\u001b[0m \u001b[94mimport\u001b[0m get_yaml_loader                                               \u001b[31m│\u001b[0m\n",
       "\u001b[31m│\u001b[0m   \u001b[2m 181 \u001b[0m\u001b[2m│   │   \u001b[0m                                                                                  \u001b[31m│\u001b[0m\n",
       "\u001b[31m│\u001b[0m   \u001b[2m 182 \u001b[0m\u001b[2m│   │   \u001b[0m\u001b[94mif\u001b[0m \u001b[96misinstance\u001b[0m(file_, (\u001b[96mstr\u001b[0m, pathlib.Path)):                                        \u001b[31m│\u001b[0m\n",
       "\u001b[31m│\u001b[0m \u001b[31m❱ \u001b[0m 183 \u001b[2m│   │   │   \u001b[0m\u001b[94mwith\u001b[0m io.open(os.path.abspath(file_), \u001b[33m\"\u001b[0m\u001b[33mr\u001b[0m\u001b[33m\"\u001b[0m, encoding=\u001b[33m\"\u001b[0m\u001b[33mutf-8\u001b[0m\u001b[33m\"\u001b[0m) \u001b[94mas\u001b[0m f:             \u001b[31m│\u001b[0m\n",
       "\u001b[31m│\u001b[0m   \u001b[2m 184 \u001b[0m\u001b[2m│   │   │   │   \u001b[0mobj = yaml.load(f, Loader=get_yaml_loader())                              \u001b[31m│\u001b[0m\n",
       "\u001b[31m│\u001b[0m   \u001b[2m 185 \u001b[0m\u001b[2m│   │   \u001b[0m\u001b[94melif\u001b[0m \u001b[96mgetattr\u001b[0m(file_, \u001b[33m\"\u001b[0m\u001b[33mread\u001b[0m\u001b[33m\"\u001b[0m, \u001b[94mNone\u001b[0m):                                                \u001b[31m│\u001b[0m\n",
       "\u001b[31m│\u001b[0m   \u001b[2m 186 \u001b[0m\u001b[2m│   │   │   \u001b[0mobj = yaml.load(file_, Loader=get_yaml_loader())                              \u001b[31m│\u001b[0m\n",
       "\u001b[31m╰──────────────────────────────────────────────────────────────────────────────────────────────────╯\u001b[0m\n",
       "\u001b[1;91mFileNotFoundError: \u001b[0m\u001b[1m[\u001b[0mErrno \u001b[1;36m2\u001b[0m\u001b[1m]\u001b[0m No such file or directory: \n",
       "\u001b[32m'/exp/exp1/acp21rjf/deliberation/speachy/ipynbs/experiment_configs/lm/uniformer_test.yaml'\u001b[0m\n"
      ]
     },
     "metadata": {},
     "output_type": "display_data"
    }
   ],
   "source": [
    "device, config = torch.device('cpu'), load_config('./experiment_configs/lm/uniformer_test.yaml')\n",
    "tokenizer_path = os.path.join(config['model']['tokenizer']['dir'], 'tokenizer.model')\n",
    "tokenizer = load_tokenizer(model_path=tokenizer_path)\n",
    "model = autoload(config=config, tokenizer=tokenizer)\n",
    "class argsclass:\n",
    "    def __init__(self, **kwargs):\n",
    "        self.__dict__.update(kwargs)\n",
    "epoch_prev, val_loss = load_checkpoint(args=argsclass(**{'checkpoint':'./checkpoints/unitformer_test/checkpoint_7_id_46.pt'}), model=model, force_cpu=True)"
   ]
  },
  {
   "cell_type": "code",
   "execution_count": 4,
   "metadata": {},
   "outputs": [],
   "source": [
    "import matplotlib.pyplot as plt"
   ]
  },
  {
   "cell_type": "code",
   "execution_count": 10,
   "metadata": {},
   "outputs": [],
   "source": [
    "labels = tokenizer.text_to_ids('New Deep Learning Optimizer, Ranger: Synergistic combination of RAdam'.lower())\n",
    "labels = torch.tensor(labels, device=device)[None]\n",
    "labels = add_bos(labels, 0)\n",
    "lengths = torch.tensor([len(labels[0])], device=device)\n",
    "model.eval()\n",
    "out = model(labels, lengths)"
   ]
  },
  {
   "cell_type": "code",
   "execution_count": 74,
   "metadata": {},
   "outputs": [
    {
     "data": {
      "text/plain": [
       "[tensor([[ 0,  1,  7,  2, 17,  1, 12,  2,  2, 20,  1, 11,  2,  4, 10,  7,  6,  7,\n",
       "          18,  1,  5, 20,  3,  6, 16,  6, 27,  2, 10,  0,  1, 10,  4,  7, 18,  2,\n",
       "          10,  0,  1,  8, 15,  7,  2, 10, 18,  6,  8,  3,  6, 14,  1, 14,  5, 16,\n",
       "          21,  6,  7,  4,  3,  6,  5,  7,  1,  5, 19,  1, 10,  4, 12,  4, 16]]),\n",
       " tensor([[  1,  87,  83,  84, 112, 121, 112,  58,  79, 164,  22,  55,  55,  84,\n",
       "            0,  93, 167,  94,   0, 173, 167, 166,  55, 135, 132,  21, 179,  55,\n",
       "           23,  55,  38,  93, 133,  58,  23,  22]]),\n",
       " tensor([[226, 425, 239, 239, 239, 239, 239, 239, 239, 129, 129, 239, 239, 239,\n",
       "          239, 239, 239, 239]]),\n",
       " tensor([[336, 336, 336, 336, 336, 336, 336, 336, 336]])]"
      ]
     },
     "execution_count": 74,
     "metadata": {},
     "output_type": "execute_result"
    }
   ],
   "source": [
    "out['targets']"
   ]
  },
  {
   "cell_type": "code",
   "execution_count": 72,
   "metadata": {},
   "outputs": [
    {
     "data": {
      "text/plain": [
       "1"
      ]
     },
     "execution_count": 72,
     "metadata": {},
     "output_type": "execute_result"
    }
   ],
   "source": [
    "tohighlight[0][5]"
   ]
  },
  {
   "cell_type": "code",
   "execution_count": 50,
   "metadata": {},
   "outputs": [
    {
     "data": {
      "text/plain": [
       "-10.652408"
      ]
     },
     "execution_count": 50,
     "metadata": {},
     "output_type": "execute_result"
    }
   ],
   "source": [
    "embedding[tohighlight[0][5], 0]"
   ]
  },
  {
   "cell_type": "code",
   "execution_count": 27,
   "metadata": {},
   "outputs": [],
   "source": [
    "import vector_quantize_pytorch"
   ]
  },
  {
   "cell_type": "code",
   "execution_count": null,
   "metadata": {},
   "outputs": [],
   "source": [
    "vector_quantize_pytorch.vector_quantize_pytorch_m.VectorQuantize"
   ]
  },
  {
   "cell_type": "code",
   "execution_count": 464,
   "metadata": {},
   "outputs": [
    {
     "name": "stdout",
     "output_type": "stream",
     "text": [
      "The autoreload extension is already loaded. To reload it, use:\n",
      "  %reload_ext autoreload\n"
     ]
    }
   ],
   "source": [
    "%load_ext autoreload\n",
    "%autoreload 2\n"
   ]
  },
  {
   "cell_type": "code",
   "execution_count": 22,
   "metadata": {},
   "outputs": [],
   "source": [
    "import vector_quantize_pytorch"
   ]
  },
  {
   "cell_type": "code",
   "execution_count": 23,
   "metadata": {},
   "outputs": [
    {
     "data": {
      "text/plain": [
       "vector_quantize_pytorch.random_projection_quantizer.RandomProjectionQuantizer"
      ]
     },
     "execution_count": 23,
     "metadata": {},
     "output_type": "execute_result"
    }
   ],
   "source": [
    "vector_quantize_pytorch.RandomProjectionQuantizer"
   ]
  },
  {
   "cell_type": "code",
   "execution_count": 25,
   "metadata": {},
   "outputs": [
    {
     "data": {
      "text/plain": [
       "<function vector_quantize_pytorch.random_projection_quantizer.RandomProjectionQuantizer.prep(self, x)>"
      ]
     },
     "execution_count": 25,
     "metadata": {},
     "output_type": "execute_result"
    }
   ],
   "source": [
    "RandomProjectionQuantizer.prep"
   ]
  },
  {
   "cell_type": "code",
   "execution_count": 1,
   "metadata": {},
   "outputs": [
    {
     "name": "stderr",
     "output_type": "stream",
     "text": [
      "CUDA extension for cauchy multiplication not found. Install by going to extensions/cauchy/ and running `python setup.py install`. This should speed up end-to-end training by 10-50%\n",
      "[NeMo W 2023-04-19 12:25:55 experimental:27] Module <class 'nemo.collections.nlp.data.language_modeling.megatron.megatron_batch_samplers.MegatronPretrainingRandomBatchSampler'> is experimental, not ready for production and is not fully supported. Use at your own risk.\n",
      "[NeMo W 2023-04-19 12:25:55 experimental:27] Module <class 'nemo.collections.nlp.models.text_normalization_as_tagging.thutmose_tagger.ThutmoseTaggerModel'> is experimental, not ready for production and is not fully supported. Use at your own risk.\n"
     ]
    }
   ],
   "source": [
    "import torch, torch.nn as nn, torch.nn.functional as F\n",
    "from speachy.lm.tools.train import add_eos, token_lens_to_mask, mark_padding\n",
    "import numpy as np\n",
    "from einops import rearrange, repeat\n",
    "from torch import einsum\n",
    "from torch.utils.checkpoint import checkpoint # # gradient/activation checkpointing\n",
    "from functools import partial\n",
    "import string\n",
    "from math import ceil\n",
    "from einops import einsum as einsumops\n",
    "from vector_quantize_pytorch import RandomProjectionQuantizer\n",
    "from vector_quantize_pytorch.vector_quantize_pytorch_m import VectorQuantize\n",
    "from typing import Optional, Tuple, List, Dict, Union, Callable\n",
    "import torch_scatter\n",
    "import math\n",
    "\n",
    "def exists(val):\n",
    "    return val is not None\n",
    "\n",
    "# token shifting\n",
    "# lucidrains implementation: https://github.com/lucidrains/x-transformers/blob/main/x_transformers/x_transformers.py\n",
    "# BlinkDL idea from RWKV-LM https://github.com/BlinkDL/RWKV-LM\n",
    "def shift(t, amount, mask = None):\n",
    "    if amount == 0:\n",
    "        return t\n",
    "    else:\n",
    "        amount = min(amount, t.shape[1])\n",
    "\n",
    "    if exists(mask):\n",
    "        t = t.masked_fill(~mask[..., None], 0.)\n",
    "\n",
    "    return F.pad(t, (0, 0, amount, -amount), value = 0.)\n",
    "\n",
    "class ShiftTokens(nn.Module):\n",
    "    '''from Phil Wang's x-transformers library'''\n",
    "    def __init__(self, shifts, fn):\n",
    "        super().__init__()\n",
    "        self.fn = fn\n",
    "        self.shifts = tuple(shifts)\n",
    "\n",
    "    def forward(self, x, **kwargs):\n",
    "        mask = kwargs.get('mask', None)\n",
    "        shifts = self.shifts\n",
    "        segments = len(shifts)\n",
    "        feats_per_shift = x.shape[-1] // segments\n",
    "        splitted = x.split(feats_per_shift, dim = -1)\n",
    "        segments_to_shift, rest = splitted[:segments], splitted[segments:]\n",
    "        segments_to_shift = list(map(lambda args: shift(*args, mask = mask), zip(segments_to_shift, shifts)))\n",
    "        x = torch.cat((*segments_to_shift, *rest), dim = -1)\n",
    "        return self.fn(x, **kwargs)\n",
    "\n",
    "def ff(dim, mult=4, dropout=0.1):\n",
    "    return nn.Sequential(\n",
    "        GLU(dim, dim * mult, nn.SiLU()),\n",
    "        nn.Dropout(dropout),\n",
    "        nn.Linear(dim * mult, dim)\n",
    "    )\n",
    "\n",
    "class DynamicPositionBias(nn.Module):\n",
    "    '''Adapted from Phil Wang's x-transformers library'''\n",
    "    def __init__(self, dim, *, heads, depth, log_distance = False, norm = False, activation=nn.ReLU):\n",
    "        super().__init__()\n",
    "        assert depth >= 1, 'depth for dynamic position bias MLP must be greater or equal to 1'\n",
    "        self.log_distance = log_distance\n",
    "\n",
    "        self.mlp = nn.ModuleList([])\n",
    "\n",
    "        self.mlp.append(nn.Sequential(\n",
    "            nn.Linear(1, dim),\n",
    "            nn.LayerNorm(dim) if norm else nn.Identity(),\n",
    "            activation()\n",
    "        ))\n",
    "\n",
    "        for _ in range(depth - 1):\n",
    "            self.mlp.append(nn.Sequential(\n",
    "                nn.Linear(dim, dim),\n",
    "                nn.LayerNorm(dim) if norm else nn.Identity(),\n",
    "                activation()\n",
    "            ))\n",
    "\n",
    "        self.mlp.append(nn.Linear(dim, heads))\n",
    "\n",
    "\n",
    "    def forward(self, pos, indices, device, dtype):\n",
    "        pos = pos.to(device=device, dtype=dtype)\n",
    "        \n",
    "        if self.log_distance:\n",
    "            pos = torch.sign(pos) * torch.log(pos.abs() + 1)  # log of distance is sign(rel_pos) * log(abs(rel_pos) + 1)\n",
    "\n",
    "        for layer in self.mlp:\n",
    "            pos = layer(pos) \n",
    "      \n",
    "        bias = pos[indices]\n",
    "        #print(bias.shape)\n",
    "        bias = rearrange(bias, 'b i j h -> b h i j')\n",
    "        return bias\n",
    "\n",
    "class ScaledSinuEmbedding(nn.Module):\n",
    "    '''taken From Phil Wang's x-transformers library'''\n",
    "    def __init__(self, dim):\n",
    "        super().__init__()\n",
    "        self.scale = nn.Parameter(torch.ones(1,))\n",
    "        inv_freq = 1. / (10000 ** (torch.arange(0, dim, 2).float() / dim))\n",
    "        self.register_buffer('inv_freq', inv_freq)\n",
    "\n",
    "    def forward(self, x):\n",
    "        n, device = x.shape[1], x.device\n",
    "        t = torch.arange(n, device = device).type_as(self.inv_freq)\n",
    "        sinu = einsum('i , j -> i j', t, self.inv_freq)\n",
    "        emb = torch.cat((sinu.sin(), sinu.cos()), dim = -1)\n",
    "        return emb * self.scale\n",
    "\n",
    "class ReLUSquared(nn.Module):\n",
    "    def forward(self, x):\n",
    "        return torch.pow(F.relu(x), 2)\n",
    "\n",
    "def l2norm(t, groups = 1, dim = -1):\n",
    "    if groups == 1:\n",
    "        return F.normalize(t, p = 2, dim = dim)\n",
    "    t = rearrange(t, '... (g d) -> ... g d', g = groups)\n",
    "    t = F.normalize(t, p = 2, dim = dim)\n",
    "    return rearrange(t, '... g d -> ... (g d)')\n",
    "\n",
    "\n",
    "\n",
    "class Attention(nn.Module):\n",
    "    def __init__(\n",
    "        self,\n",
    "        n_feats,\n",
    "        head_dim,\n",
    "        n_heads,\n",
    "        dropout=0.1,\n",
    "        bias=False,\n",
    "        return_attention=False,\n",
    "        causal=False,\n",
    "        activation='softmax',\n",
    "        **kwargs\n",
    "    ):\n",
    "        super().__init__()\n",
    "        assert activation in ['relusq', 'softmax']\n",
    "        self.shared_kv = kwargs.get('shared_kv', False)\n",
    "        \n",
    "        self.talking_heads = kwargs.get('talking_heads', 'none') # 'none', 'pre', 'both', 'post' \n",
    "\n",
    "        self.n_feats, self.head_dim, self.n_heads = n_feats, head_dim, n_heads\n",
    "        self.dropout = nn.Dropout(dropout)\n",
    "        self.bias = bias\n",
    "        self.return_attention = return_attention\n",
    "        self.causal = causal\n",
    "\n",
    "        if self.talking_heads == 'pre' or self.talking_heads == 'both':\n",
    "            self._head_proj = nn.Conv2d(n_heads, n_heads, (1, 1))\n",
    "        if self.talking_heads == 'post' or self.talking_heads == 'both':\n",
    "            self._head_proj_post = nn.Conv2d(n_heads, n_heads, (1, 1))\n",
    "            \n",
    "\n",
    "        self.activation = ReLUSquared() if activation == 'relusq' else nn.Softmax(dim=-1)\n",
    "\n",
    "        if not self.shared_kv:\n",
    "            self.qkv_proj = nn.Linear(n_feats, 3 * n_heads * head_dim, bias=bias)\n",
    "            self.qkv = lambda x: rearrange(self.qkv_proj(x), \"b n (h d qkv) -> qkv b h n d\", qkv=3, h=n_heads, d=head_dim)\n",
    "        else:\n",
    "            self.q_proj, self.kv_proj = [nn.Linear(n_feats, el, bias=bias) for el in [n_heads * head_dim, 2 * head_dim]]\n",
    "            map_q, map_kv = lambda q: rearrange(q, 'b n (h d) -> b h n d', h=n_heads), lambda kv: rearrange(kv, 'b n (kv d) -> kv b () n d', kv=2, d=head_dim)\n",
    "            self.qkv = lambda x: (map_q(self.q_proj(x)), *map_kv(self.kv_proj(x)))\n",
    "\n",
    "        self.out_proj = nn.Linear(n_heads * head_dim, n_feats, bias=bias)\n",
    "    \n",
    "    def head_proj(self, dots, mode='pre'):\n",
    "        if mode == 'pre' and (self.talking_heads == 'pre' or self.talking_heads == 'both'):\n",
    "            dots = self._head_proj(dots)\n",
    "        if mode == 'post' and (self.talking_heads == 'post' or self.talking_heads == 'both'):\n",
    "            dots = self._head_proj_post(dots)\n",
    "        return dots      \n",
    "  \n",
    "\n",
    "    def attend(self, query, key, value, attn_mask, pos_bias):        \n",
    "        dots = einsum('bhid,bhjd->bhij', query, key) * self.head_dim ** -0.5\n",
    "        dots = self.head_proj(dots, mode='pre')\n",
    "\n",
    "        dots += pos_bias\n",
    "        dots.masked_fill_(attn_mask, -torch.finfo(dots.dtype).max)\n",
    "\n",
    "        attn = self.activation(dots)\n",
    "        attn = self.head_proj(attn, mode='post')\n",
    "     \n",
    "        attn = self.dropout(attn)\n",
    "        return einsum(\"bhij,bhjd->bhid\", attn, value)\n",
    "\n",
    "    @staticmethod\n",
    "    def attach_cache(kv, cache, cache_indices):\n",
    "        kv = torch.stack(kv, dim=0)\n",
    "        if cache is None:\n",
    "            return kv\n",
    "        zero_vector = torch.zeros_like(kv[:, :, :, :1, :])\n",
    "        kv_w_cache = torch.cat([cache, kv, zero_vector], dim=-2)\n",
    "        kv_w_cache = torch.gather(kv_w_cache, dim=-2, index=cache_indices) # we do this to remove unnecessary padding\n",
    "        return kv_w_cache\n",
    "\n",
    "    def forward(self, x, pos_bias, mask, cache=None, cache_indices=None):\n",
    "        B, N, C, H, D = *x.shape, self.n_heads, self.head_dim\n",
    "    \n",
    "        q, k, v  = self.qkv(x)\n",
    "        kv = self.attach_cache([k, v], cache, cache_indices)\n",
    "        k, v = kv\n",
    "\n",
    "        out = self.attend(q, k, v, mask, pos_bias)\n",
    "\n",
    "        out = rearrange(out, \"b h n d -> b n (h d)\")\n",
    "        out = self.out_proj(out)\n",
    "        return out, kv\n",
    "\n",
    "class PreNorm(nn.Module):\n",
    "    def __init__(self, dim, fn, elementwise_affine=True):\n",
    "        super().__init__()\n",
    "        self.norm = nn.LayerNorm(dim, elementwise_affine=elementwise_affine)\n",
    "        self.fn = fn\n",
    "\n",
    "    def forward(self, x, *args, **kwargs):\n",
    "        return self.fn(self.norm(x), *args, **kwargs)\n",
    "\n",
    "class NoGrad(nn.Module):\n",
    "    def __init__(self, fn):\n",
    "        super().__init__()\n",
    "        self.fn = fn\n",
    "\n",
    "    @torch.no_grad()\n",
    "    def forward(self, *args, **kwargs):\n",
    "        return self.fn(*args, **kwargs)\n",
    "\n",
    "class GLU(nn.Module):\n",
    "    def __init__(self, dim_in, dim_out, activation):\n",
    "        super().__init__()\n",
    "        self.act = activation\n",
    "        self.proj = nn.Linear(dim_in, dim_out * 2)\n",
    "\n",
    "    def forward(self, x):\n",
    "        x, gate = self.proj(x).chunk(2, dim = -1)\n",
    "        return x * self.act(gate)\n",
    "\n",
    "def orthogonal_loss_fn(t):\n",
    "    # eq (2) from https://arxiv.org/abs/2112.00384\n",
    "    h, n = t.shape[:2]\n",
    "    normed_codes = l2norm(t)\n",
    "    cosine_sim = einsum('h i d, h j d -> h i j', normed_codes, normed_codes)\n",
    "    return (cosine_sim ** 2).sum() / (h * n ** 2) - (1 / n)\n",
    "\n",
    "\n",
    "\n",
    "class orthoginal_loss(nn.Module): # same as above but as a module\n",
    "    def __init__(self, weight=1.0):\n",
    "        super().__init__()\n",
    "        self.loss_fn = orthogonal_loss_fn_padded\n",
    "        self.weight = weight\n",
    "\n",
    "    def forward(self, t, mask=None):\n",
    "        return self.loss_fn(t, mask) * self.weight\n",
    "\n",
    "class Halfer(nn.Module): # uses conv instead of avg_pool1d\n",
    "    def __init__(self, dim, exp_f=4):\n",
    "        super().__init__()\n",
    "        self.conv = nn.Conv1d(dim, dim*exp_f*2, kernel_size=2, stride=2, padding=0, bias=True)\n",
    "        self.act = nn.SiLU()\n",
    "        self.empty_vec = torch.zeros(1,1,dim)\n",
    "        self.ff = nn.Linear(dim*exp_f, dim)\n",
    "\n",
    "    def forward(self, x, length):\n",
    "        if x.shape[1] % 2 == 1:\n",
    "            x = torch.cat([x, self.empty_vec.to(x.device).expand(x.shape[0],1,-1)], dim=1)\n",
    "            length += 1\n",
    "        x = self.conv(x.transpose(1,2)).transpose(1,2)\n",
    "        a, b = x.chunk(2, dim=-1)\n",
    "        x = a * self.act(b)\n",
    "        x = self.ff(x)\n",
    "        length = (length + 1).div(2).floor().long()\n",
    "        return x, length\n",
    "\n",
    "class InverseHalfer(nn.Module): # opposite of Halfer\n",
    "    def __init__(self, dim, exp_f=2):\n",
    "        super().__init__()\n",
    "        self.conv = nn.ConvTranspose1d(dim, dim*exp_f, kernel_size=2, stride=2, padding=0, bias=True)\n",
    "        self.act = nn.SiLU()\n",
    "        self.ff = nn.Linear(dim*exp_f, dim)\n",
    "\n",
    "    def forward(self, x, length):\n",
    "        x = self.conv(x.transpose(1,2)).transpose(1,2)\n",
    "        x = self.ff(self.act(x))\n",
    "        length = length.mul(2)\n",
    "        return x, length\n",
    "\n",
    "class HalferBlock(nn.Module):\n",
    "    def __init__(self, dim, exp_f=2):\n",
    "        super().__init__()\n",
    "        self.halfer = PreNorm(dim=dim, fn=Halfer(dim, exp_f=exp_f))\n",
    "        self.inverse_halfer = PreNorm(dim=dim, fn=InverseHalfer(dim, exp_f=exp_f))\n",
    "        self.loss = nn.MSELoss(reduction='none')\n",
    "\n",
    "    def forward(self, x, length, mask=None):\n",
    "        halved_x, halved_length = self.halfer(x, length)\n",
    "        def recon_loss_fn(quantized_x):\n",
    "            restored_x, _ = self.inverse_halfer(quantized_x, halved_length)\n",
    "            restored_x = restored_x[:, :x.shape[1], :] # trim to original length\n",
    "            loss = torch.tensor([0.], device=x.device)\n",
    "            if self.training:\n",
    "                loss = self.loss(restored_x, x)\n",
    "                if mask is not None: # mask out padding\n",
    "                    loss.masked_fill_(mask[..., None], 0.)\n",
    "                loss = loss.mean()\n",
    "            return loss, restored_x\n",
    "        return halved_x, halved_length, recon_loss_fn\n",
    "\n",
    "\n",
    "\n",
    "class PredictionLayer(nn.Module):\n",
    "    def __init__(self, dim, n_classes):\n",
    "        super().__init__()\n",
    "        self.proj = PreNorm(dim, nn.Linear(dim, n_classes))\n",
    "    def forward(self, x):\n",
    "        return self.proj(x)\n",
    "\n",
    "\n",
    "\n",
    "def grab_last_token(x, length):\n",
    "    return x[torch.arange(x.shape[0]), length-1][:,None,:]\n",
    "\n",
    "class AttentionFF(nn.Module):\n",
    "    def __init__(\n",
    "            self, \n",
    "            dim, \n",
    "            n_heads, \n",
    "            head_dim, \n",
    "            dropout=0., \n",
    "            ff_mult=4,\n",
    "            causal=True,\n",
    "            **kwargs\n",
    "        ):\n",
    "        super().__init__()\n",
    "        self.attention = Attention(dim, n_heads=n_heads, head_dim=head_dim, causal=causal,dropout=dropout,**kwargs)\n",
    "        self.ff = ff(dim, mult=ff_mult, dropout=0.1)\n",
    "        self.ff, self.attention = map(PreNorm, (dim, dim), (self.ff, self.attention))\n",
    "\n",
    "    def forward(self, x, pos_bias, attn_mask, cache=None, cache_indices=None):\n",
    "        x_out, kv = self.attention(x, pos_bias, attn_mask, cache, cache_indices)\n",
    "        x = x_out + x\n",
    "        x = self.ff(x) + x\n",
    "        return x, kv\n",
    "\n",
    "\n",
    "class AttentionFFstack(nn.Module):\n",
    "    def __init__(\n",
    "        self,\n",
    "        dim=256, \n",
    "        total_depth=3,\n",
    "        n_heads=8, \n",
    "        head_dim=32, \n",
    "        dropout=0., \n",
    "        ff_mult=4,\n",
    "        causal=True,\n",
    "        **kwargs\n",
    "    ):   \n",
    "        super().__init__()\n",
    "        self.layers = nn.ModuleList([])\n",
    "        for _ in range(total_depth):\n",
    "            self.layers.append(AttentionFF(dim, n_heads, head_dim, dropout, ff_mult, causal, **kwargs))\n",
    "\n",
    "    def forward(self, x, pos_bias, attn_mask, cache=None, cache_indices=None):\n",
    "        cached_kvs = []\n",
    "        for i, layer in enumerate(self.layers):\n",
    "            x, kv = layer(x, pos_bias, attn_mask, cache[i] if cache is not None else None, cache_indices)\n",
    "            cached_kvs.append(kv[None])\n",
    "        return x, cached_kvs\n",
    "\n",
    "def map_to_sequence(int_list):\n",
    "    unique_ints = torch.unique(int_list)\n",
    "    max_int = unique_ints.max()\n",
    "    seq = torch.zeros(max_int + 1, dtype=torch.int64)\n",
    "    seq[unique_ints] = torch.arange(len(unique_ints))\n",
    "    return seq[int_list]\n",
    "\n",
    "\n",
    "class EinopsFn(nn.Module):\n",
    "    def __init__(self):\n",
    "        super().__init__()\n",
    "    def forward(self, x, y, pattern):\n",
    "        return einsumops(x, y, pattern)\n",
    "\n",
    "def stable_weighted_softmax(logits, weights):\n",
    "    ## logits: B, H, N, V # weights: 1 H 1 V ##\n",
    "    stable_logits = logits - logits.max(dim=-1, keepdim=True)[0] # subtract max to make logits more stable\n",
    "    weights = weights.clamp(min=torch.finfo(weights.dtype).eps)\n",
    "    numerators = torch.exp(stable_logits) * weights\n",
    "    denominators = numerators.sum(dim=-1, keepdim=True) \n",
    "    return numerators / (denominators + torch.finfo(denominators.dtype).eps)\n",
    "    \n",
    "class StableWeightedSoftmax(nn.Module):\n",
    "    def __init__(self):\n",
    "        super().__init__()\n",
    "    def forward(self, logits, weights):\n",
    "        return stable_weighted_softmax(logits, weights)\n",
    "\n",
    "class transformer(nn.Module):\n",
    "    def __init__(\n",
    "            self, \n",
    "            dim, \n",
    "            depth, \n",
    "            heads, \n",
    "            dim_head, \n",
    "            causal=True,\n",
    "            base_vocab_size=29,\n",
    "            dropout = 0.1,\n",
    "            **kwargs\n",
    "        ):\n",
    "        super().__init__()\n",
    "    \n",
    "\n",
    "        ff_mult = kwargs.get('ff_mult', 4)\n",
    "        self.checkpoint_every_n = kwargs.get('checkpoint_every_n', 0)\n",
    "        self.base_vocab = base_vocab_size\n",
    "        self.max_vocab = kwargs.get('max_vocab', 10000)\n",
    "        commitment_weight = kwargs.get('commitment_weight', 1.0)\n",
    "        self.inner_depth = kwargs.get('inner_depth', 2)\n",
    "\n",
    "        self.embedding = nn.Embedding(base_vocab_size, dim)\n",
    "\n",
    "        self.causal = causal\n",
    "\n",
    "        self.depth = depth\n",
    "        self.positional_bias = DynamicPositionBias(\n",
    "            dim = dim // 4,\n",
    "            heads = heads,\n",
    "            depth = 2,\n",
    "            log_distance = False,\n",
    "            norm = False\n",
    "        )\n",
    "\n",
    "        self.halfers = nn.ModuleList([])\n",
    "\n",
    "        self.codebook_dim = 8\n",
    "        self.codebook_heads = 8\n",
    "        self.codebook_vocab = 1024\n",
    "        \n",
    "        self.vqs = nn.ModuleList([])\n",
    "            \n",
    "        self.prediction_layers = nn.ModuleList([])\n",
    "\n",
    "        self.attn_ffs = nn.ModuleList([])\n",
    "        for lth in range(depth):\n",
    "            self.attn_ffs.append(AttentionFFstack(\n",
    "                total_depth=self.inner_depth,\n",
    "                dim=dim,\n",
    "                n_heads=heads,\n",
    "                head_dim=dim_head,\n",
    "                causal=causal,\n",
    "                dropout=dropout,\n",
    "                **kwargs\n",
    "            ))\n",
    "\n",
    "            if lth == 0:\n",
    "                self.prediction_layers.append(PredictionLayer(dim, base_vocab_size))\n",
    "            else:\n",
    "                self.prediction_layers.append(PredictionLayer(dim, self.codebook_vocab*self.codebook_heads))\n",
    "\n",
    "            if lth < depth - 1:\n",
    "                '''self.vqs.append(\n",
    "                    RandomProjectionQuantizer(\n",
    "                        dim = dim,\n",
    "                        codebook_dim = self.codebook_dim,\n",
    "                        codebook_size = self.codebook_vocab,\n",
    "                        num_codebooks = self.codebook_heads,    \n",
    "                    )\n",
    "                )\n",
    "                '''\n",
    "                self.vqs.append(\n",
    "                    VectorQuantize(\n",
    "                        dim=dim,\n",
    "                        codebook_size=self.codebook_vocab,\n",
    "                        codebook_dim = self.codebook_dim,\n",
    "                        use_cosine_sim = True,\n",
    "                        decay = 0.9999,\n",
    "                        separate_codebook_per_head=True,\n",
    "                        heads=self.codebook_heads,\n",
    "                        threshold_ema_dead_code=0.01,\n",
    "                    )\n",
    "                )\n",
    "                self.vqs[-1].requires_grad_(False)\n",
    "                self.halfers.append(PreNorm(dim=dim, fn=Halfer(dim, exp_f=8), elementwise_affine = True))\n",
    "                self.halfers[-1].fn.requires_grad_(False)\n",
    "\n",
    "        self.einopsfn = EinopsFn()\n",
    "\n",
    "\n",
    "\n",
    "    @staticmethod\n",
    "    def create_custom_forward(module):\n",
    "        def custom_forward(*args, **kwargs):\n",
    "            return module(*args, **kwargs)\n",
    "        return custom_forward\n",
    "\n",
    "    def checkpoint(self, layer, module, *args, **kwargs):\n",
    "        condition = self.training and self.checkpoint_every_n != 0 and layer < self.depth - 1 and layer % self.checkpoint_every_n == 0\n",
    "        return checkpoint(self.create_custom_forward(module), *args, **kwargs) if condition else module(*args, **kwargs)\n",
    "\n",
    "    @staticmethod\n",
    "    def get_cache(cache):\n",
    "        if cache is None:\n",
    "            return None\n",
    "        return cache['cache'][0]\n",
    "\n",
    "    @staticmethod\n",
    "    def get_cache_indices(x_lens, cache_lens, cache_kv, x):  \n",
    "        # used later w/ gather to remove padding when cache is concatenated with current input to remove padding\n",
    "        max_new_len = (x_lens + cache_lens).max()\n",
    "        # cache kv =  LAYERS, KEYS+VALUES (2), BATCH, HEADS, N, DIM\n",
    "        B, H, N, D = x.shape[0], cache_kv.shape[-3], (x.shape[1] + cache_kv.shape[-2]), cache_kv.shape[-1]\n",
    "        indices = []\n",
    "        for i in range(B): # stinky for loop to sort out indices for gather \n",
    "            cache_indices = torch.arange(cache_lens[i], device='cpu')\n",
    "            total_length = cache_lens[i] + x_lens[i] \n",
    "            diff_from_max_len = max_new_len - total_length\n",
    "            x_indices = torch.arange(x_lens[i]+diff_from_max_len, device='cpu') + cache_kv.shape[-2]\n",
    "            if diff_from_max_len > 0:\n",
    "                x_indices[-diff_from_max_len:] = N  # last index will be used for padding\n",
    "            new_indices = torch.cat([cache_indices, x_indices])\n",
    "            indices.append(new_indices)\n",
    "\n",
    "        indices = torch.stack(indices, dim=0)\n",
    "        \n",
    "        indices = rearrange(indices, 'b n -> () b () n ()').expand(2, B, H,-1, D) # 2 for key and value\n",
    "        return indices.to(x.device)\n",
    "\n",
    "    def create_masks_and_positions(self, x, length, cache): \n",
    "        x_len = length if length is not None else torch.tensor(x.shape[-2]).expand(x.shape[0])\n",
    "        cache_len = cache['cache_lengths'] if exists(cache) else 0\n",
    "\n",
    "        total_len = x_len + cache_len\n",
    "        kv_mask = torch.arange(total_len.max(), device=x.device).expand(len(total_len), -1) >= total_len.unsqueeze(-1)\n",
    "        q_mask = torch.arange(x_len.max(), device=x.device).expand(len(x_len), -1) >= x_len.unsqueeze(-1)\n",
    "        attn_mask = ~(rearrange(~q_mask, \"b n -> b () n ()\") * rearrange(~kv_mask, \"b n -> b () () n\"))\n",
    "        ##\n",
    "        ##\n",
    "        causal_mask = repeat(torch.arange(total_len.max(), device=x.device), 'i -> b r i', b=len(total_len), r=x_len.max())\n",
    "        cache_offset = cache_len[:,None,None] if exists(cache) else cache_len\n",
    "        diagonal_offset = torch.arange(x_len.max(), device=x.device)[None,:,None]\n",
    "        ##\n",
    "        ## positional stuff ##\n",
    "        positional_grid = (causal_mask - cache_offset - diagonal_offset) * -1\n",
    "        pos = torch.arange(positional_grid.min(), positional_grid.max()+1, device=x.device, dtype=x.dtype)[:,None]\n",
    "        min_cache_len = 0 if cache_len.__class__ == int else cache_len.min()\n",
    "        positional_indices = ((positional_grid) + (total_len.max() - min_cache_len - 1)) # shift so zero is the smallest number\n",
    "        pos_bias = self.positional_bias(pos=pos, indices=positional_indices, dtype=x.dtype, device=x.device)\n",
    "        ## positional stuff ##\n",
    "        ##\n",
    "        if self.causal:\n",
    "            causal_mask = causal_mask >= (cache_offset + diagonal_offset + 1)\n",
    "            attn_mask = torch.logical_or(attn_mask, causal_mask[:,None])\n",
    "        ##\n",
    "        return q_mask, attn_mask, total_len, x_len, cache_len, pos_bias\n",
    "\n",
    "\n",
    "    def next_token_mse_loss(self, x, y, length):\n",
    "        '''minimise MSE between each x_t and y_t+1'''\n",
    "        B,N,D = x.shape\n",
    "        y = y[:,1:].clone()\n",
    "        x = x[:,:-1].clone()\n",
    "        # mask that is shifted for next token prediction\n",
    "        mask = torch.arange(N-1, device=x.device).expand(B,-1) >= length[:,None] -2 # -2 bcos -1 for N-1 arange and -1 for shifted mask\n",
    "        x = l2norm(x, groups=8)\n",
    "        y = l2norm(y, groups=8)\n",
    "        loss = self.checkpoint(0, self.einopsfn, x, y, 'b n d, b n d -> b n')\n",
    "        loss = (-1) * loss # maximise similarity\n",
    "        loss = loss + 8 # shift so that loss is positive (number of groups)\n",
    "        \n",
    "        loss = loss.masked_fill(mask, 0)\n",
    "        loss = loss.sum() / (~mask).sum()\n",
    "        if torch.isnan(loss): # empty sequence\n",
    "            loss = torch.tensor(0, device=x.device, dtype=x.dtype)\n",
    "        return loss \n",
    "\n",
    "\n",
    "\n",
    "    def forward(self, x, length, cache=None, **kwargs):\n",
    "        \n",
    "        intermediate_logits = []\n",
    "        next_token_preds = []\n",
    "        \n",
    "        intermediate_targets = [None] # for the first layer we use ground truth tokens as targets\n",
    "        cache_lengths = []\n",
    "        lengths = [length.clone()]\n",
    "        cached_kvs = []\n",
    "        x_outs = []\n",
    "\n",
    " \n",
    "        curcache = cache[0] if exists(cache) else None\n",
    "        mask, attn_mask, total_lens, x_len, cache_len, pos_bias = self.create_masks_and_positions(x, length, curcache)\n",
    "        cache_indices = self.get_cache_indices(x_len, cache_len, curcache['cache'], x) if exists(curcache) else None\n",
    "\n",
    "        mask, attn_mask, total_lens, x_len, cache_len, pos_bias = self.create_masks_and_positions(x, length, curcache)\n",
    "        cache_indices = self.get_cache_indices(x_len, cache_len, curcache['cache'], x) if exists(curcache) else None\n",
    "\n",
    "        all_ema_data = []\n",
    "\n",
    "        pred_layers, hidden_outs, post_project_fn = [], [], []\n",
    "\n",
    "        for i in range(self.depth):\n",
    "            attn_ff, pred_layer = self.attn_ffs[i], self.prediction_layers[i]\n",
    "\n",
    "            ## attention ff blocks ##\n",
    "            \n",
    "            attn_cache = [cache[ix]['cache'][0] if exists(cache) else None for ix in range(i*self.inner_depth, i*self.inner_depth+self.inner_depth)] \n",
    "            x, kvs = self.checkpoint(i, attn_ff, x, pos_bias, attn_mask, attn_cache, cache_indices)\n",
    "    \n",
    "            cached_kvs.extend(kvs)\n",
    "            cache_lengths.extend([total_lens]*len(kvs))\n",
    "            ## attention ff blocks ##\n",
    "\n",
    "            pred_layers.append(pred_layer)\n",
    "            hidden_outs.append(x)\n",
    "            if i != 0:\n",
    "                post_project_fn.append(lambda el: rearrange(el, 'b n (h v) -> b h n v', h=self.codebook_heads))\n",
    "            else:\n",
    "                post_project_fn.append(lambda el: el)\n",
    "\n",
    "            if i != self.depth-1:\n",
    "                halfer = self.halfers[i]\n",
    "                x, length = self.checkpoint(i, halfer, x, length)\n",
    "                x_outs.append(x)\n",
    "                xbelow = x.clone()\n",
    "                lengths.append(length.clone())\n",
    "                \n",
    "                \n",
    "                curcache = cache[(i+1)*self.inner_depth] if exists(cache) else None\n",
    "                mask, attn_mask, total_lens, x_len, cache_len, pos_bias = self.create_masks_and_positions(x, length, curcache)\n",
    "                cache_indices = self.get_cache_indices(x_len, cache_len, curcache['cache'], x) if exists(curcache) else None\n",
    "\n",
    "\n",
    "                B, N, D = x.shape\n",
    "                vq = self.vqs[i]\n",
    "                _,indices,_, ema_data = self.checkpoint(i, vq, x)\n",
    "\n",
    "                if self.training:\n",
    "                    all_ema_data.append(ema_data)\n",
    "\n",
    "                if len(indices.shape) == 2:\n",
    "                    indices = rearrange(indices, 'b n -> b n ()') # add dummy head dimension\n",
    "\n",
    "                intermediate_targets.append(indices)\n",
    "\n",
    "        #orth_loss = orthogonal_loss_fn(pred_matrix)\n",
    "        #commitment_loss =  orth_loss.sum() * 10.0 \n",
    "\n",
    "        for pix in range(len(pred_layers)): # compute next token predictions\n",
    "            zsim = self.checkpoint(pix, pred_layers[pix], hidden_outs[pix])\n",
    "            zsim = post_project_fn[pix](zsim)\n",
    "            clen = lengths[pix]\n",
    "            if pix != 0:\n",
    "                clen = repeat(clen, 'b -> (b h)', h=self.codebook_heads)\n",
    "                zsim = rearrange(zsim, 'b h n v -> (b h) n v')\n",
    "            ntp = grab_last_token(zsim, clen)\n",
    "            if pix != 0:\n",
    "                ntp = rearrange(ntp, '(b h) n v -> b h n v', h=self.codebook_heads)\n",
    "                zsim = rearrange(zsim, '(b h) n v -> b h n v', h=self.codebook_heads)\n",
    "            intermediate_logits.append(zsim)\n",
    "            next_token_preds.append(ntp)\n",
    "\n",
    "        #print(len(cached_kvs), len(layer_below_next_token_preds), len(cache_lengths), len(next_token_preds))\n",
    "        assert len(cached_kvs) == len(cache_lengths), 'something went wrong'\n",
    "  \n",
    "        cached_kvs = [{'cache': curcache, 'cache_lengths': curlen} for curcache, curlen in zip(cached_kvs, cache_lengths)]\n",
    "        cached_kvs = {'layers': cached_kvs, 'next_sentence_pred': next_token_preds}\n",
    "        '''# shift layers down list down by 1 \n",
    "        print(len(cached_kvs['layers']))\n",
    "        cached_kvs['layers'] = cached_kvs['layers'][self.inner_depth:] + [cached_kvs['layers'][-1]]*self.inner_depth\n",
    "        print(len(cached_kvs['layers']))'''\n",
    "\n",
    "        \n",
    "        return {\n",
    "            'logits': intermediate_logits,\n",
    "            'targets': intermediate_targets,\n",
    "            'cache': cached_kvs,\n",
    "            'lengths': torch.stack(lengths),\n",
    "            'x_outs': x_outs,\n",
    "            'all_ema_data': all_ema_data,\n",
    "            'hidden_outs': hidden_outs,\n",
    "        }\n",
    "\n",
    "\n",
    "class transformer_lm(nn.Module):\n",
    "    def __init__(\n",
    "        self,\n",
    "        dim,\n",
    "        vocab_size,\n",
    "        depth,\n",
    "        heads,\n",
    "        dim_head,\n",
    "        causal=True,\n",
    "        dropout=0.,\n",
    "        use_abs_pos=False,\n",
    "        **kwargs\n",
    "    ):\n",
    "        super().__init__()\n",
    "    \n",
    "        self.use_abs_pos = use_abs_pos\n",
    "        if self.use_abs_pos:\n",
    "            self.abs_pos_fn = ScaledSinuEmbedding(dim=dim)\n",
    "        self.abs_pos = lambda x: x + self.abs_pos_fn(x) if self.use_abs_pos else x\n",
    "\n",
    "\n",
    "        self.layers = transformer(\n",
    "            dim = dim, \n",
    "            depth = depth, \n",
    "            heads = heads, \n",
    "            dim_head = dim_head, \n",
    "            causal = causal, \n",
    "            dropout = dropout,\n",
    "            base_vocab_size = vocab_size,\n",
    "            **kwargs\n",
    "        )\n",
    "        \n",
    "\n",
    "    def count_parameters(self):\n",
    "        return sum(p.numel() for p in self.parameters() if p.requires_grad)\n",
    "\n",
    "   \n",
    "    def calc_all_losses(self, tlm_out, prev_cache):\n",
    "        eos_id = -100\n",
    "        loss_fn = lambda l, t: F.cross_entropy(rearrange(l, 'b n c -> b c n'), t, ignore_index=-100, reduction='mean')\n",
    "        losses = []\n",
    "\n",
    "        def calc_token_loss(logits, targets, first_token_pred, length):\n",
    "            if length.max() == 1 and not exists(first_token_pred):\n",
    "                return None # no loss for single token sequences if no previous prediction is available\n",
    "            heads = 1\n",
    "            if len(logits.shape) == 4:\n",
    "                heads = logits.shape[1]\n",
    "                length = repeat(length, 'b -> (b h)', h=heads).clone().contiguous()\n",
    "                logits = rearrange(logits, 'b h n v -> (b h) n v')\n",
    "                targets = rearrange(targets, 'b n (h 1) -> (b h) n')\n",
    "                first_token_pred = None if not exists(first_token_pred) else rearrange(first_token_pred, 'b h n v -> (b h) n v')\n",
    "\n",
    "            if exists(first_token_pred): # concat zero vect to end of targets\n",
    "                targets = rearrange(targets, '(b h) n -> b h n', h=heads)\n",
    "                targets = torch.cat([targets, torch.zeros(targets.size(0), heads, 1, device=targets.device).long()], dim=2)\n",
    "                targets = rearrange(targets, 'b h n -> (b h) n')\n",
    "                logits = torch.cat([first_token_pred, logits], dim=1)\n",
    "                length += 1\n",
    "            else:\n",
    "                if heads == 1:\n",
    "                    targets[:,:-1] = targets.clone()[:,1:]\n",
    "                else:\n",
    "                    targets = rearrange(targets, '(b h) n -> b h n', h=heads)\n",
    "                    targets[:,:,:-1] = targets.clone()[:,:,1:]\n",
    "                    targets = rearrange(targets, 'b h n -> (b h) n')\n",
    "            \n",
    "            targets = add_eos(targets, eos_id=eos_id, token_lens=length)\n",
    "            mask =  token_lens_to_mask(token_lens=length)\n",
    "            \n",
    "            targets = mark_padding(targets=targets, mask=mask, pad_id=eos_id)\n",
    "            loss = loss_fn(logits, targets) #* heads # multiply by heads \n",
    "            \n",
    "            return loss\n",
    "\n",
    "    \n",
    "        if exists(prev_cache):\n",
    "            assert len(tlm_out['logits']) == len(prev_cache['next_sentence_pred']), 'something went wrong'\n",
    "        for lth in range(len(tlm_out['logits'])):\n",
    "            logits = tlm_out['logits'][lth]\n",
    "            targets = tlm_out['targets'][lth]\n",
    "            \n",
    "            #print(targets.reshape(-1).unique().shape)\n",
    "            first_token_pred = prev_cache['next_sentence_pred'][lth] if exists(prev_cache) else None\n",
    "            \n",
    "            lengths = tlm_out['lengths'][lth]\n",
    "            loss = calc_token_loss(logits, targets.clone(), first_token_pred, lengths.clone())\n",
    "            if exists(loss): # incase of single token sequences\n",
    "                losses.append(loss)\n",
    "              \n",
    "        tlm_out['token_losses'] = torch.stack(losses) \n",
    "\n",
    "        return tlm_out\n",
    "\n",
    "    def forward(self, labels, length, cache:Dict=None, calc_loss=False, **kwargs):\n",
    "        '''\n",
    "        x: [B, N] (embedding indices)\n",
    "        length: [B] (length of each sequence)\n",
    "        cache: {cache_lengths: [B, N], cache: [L, KV, B, H, N, D]} KV: key and value (2)\n",
    "        '''\n",
    "        assert labels.shape[1] == length.max(), 'sequence length should be equal to the length of the longest sequence!'\n",
    "        x = self.layers.embedding(labels)\n",
    "        x = self.abs_pos(x) \n",
    "        \n",
    "        outputs = self.layers(x, length, cache=cache['layers'] if exists(cache) else None, **kwargs)\n",
    "\n",
    "        if len(outputs['all_ema_data']) > 0:\n",
    "            for ix in range(len(outputs['all_ema_data'])):\n",
    "                self.layers.vqs[ix]._codebook.update_codebook(\n",
    "                    bins = outputs['all_ema_data'][ix]['bins'],\n",
    "                    embed_sum = outputs['all_ema_data'][ix]['embed_sum'],\n",
    "                )\n",
    "\n",
    "\n",
    "        outputs['targets'][0] = labels.clone() # for the first layer we use ground truth tokens as targets\n",
    "        if calc_loss:\n",
    "            outputs = self.calc_all_losses(tlm_out=outputs, prev_cache=cache)\n",
    "   \n",
    "        return outputs\n",
    "\n",
    "    def _forward(self, labels, length, cache:Dict=None, calc_loss=False, **kwargs):\n",
    "        '''\n",
    "        x: [B, N] (embedding indices)\n",
    "        length: [B] (length of each sequence)\n",
    "        cache: {cache_lengths: [B, N], cache: [L, KV, B, H, N, D]} KV: key and value (2)\n",
    "        '''\n",
    "        assert labels.shape[1] == length.max(), 'sequence length should be equal to the length of the longest sequence!'\n",
    "        total_layer_lengths = torch.zeros(self.layers.depth, device=labels.device)\n",
    "        total_layers_losses = torch.zeros(self.layers.depth, device=labels.device)\n",
    "\n",
    "        x = self.layers.embedding(labels)\n",
    "        x = self.abs_pos(x) \n",
    "\n",
    "        subsize = (2 ** (self.layers.depth - 1)) * 3\n",
    "        B, N, D = x.shape\n",
    "        substeps = math.ceil(N / subsize)\n",
    "        remaining_length = length.clone()\n",
    "        all_outputs = []\n",
    "        prev_x, prev_labels = [x], [labels]\n",
    "        \n",
    "        prev_states = cache\n",
    "\n",
    "        all_ema_data = []\n",
    "\n",
    "        for i in range(substeps):\n",
    "            \n",
    "\n",
    "            if exists(prev_states):\n",
    "                for ix in range(len(prev_states['layers'])):\n",
    "                    inner_depth = self.layers.inner_depth \n",
    "                    #c_ix = ix + inner_depth if ix < len(prev_states['layers']) - inner_depth else len(prev_states['layers']) - 1\n",
    "                    c_ix = ix\n",
    "                    prev_states['layers'][ix]['cache'] = prev_states['layers'][c_ix]['cache'][:,:,unfinished_indices]\n",
    "                    prev_states['layers'][ix]['cache_lengths'] = prev_states['layers'][c_ix]['cache_lengths'][unfinished_indices]\n",
    "\n",
    "                for ix in range(len(prev_states['next_sentence_pred'])):\n",
    "                    prev_states['next_sentence_pred'][ix] = prev_states['next_sentence_pred'][ix][unfinished_indices]\n",
    "\n",
    "            #print(f'step {i} of {substeps} ({i/substeps*100:.2f}%)')\n",
    "            curx = x[:, i*subsize:(i+1)*subsize].clone().contiguous()\n",
    "            curlabels = labels[:, i*subsize:(i+1)*subsize].clone().contiguous()\n",
    "            curlength = remaining_length.clone()\n",
    "            curlength[curlength > subsize] = subsize\n",
    "            remaining_length -= subsize\n",
    "            \n",
    "            outputs = self.layers(curx, curlength, cache=prev_states['layers'] if exists(prev_states) else None, **kwargs)\n",
    "\n",
    "            if len(outputs['all_ema_data']) > 0:\n",
    "                if len(all_ema_data) == 0:\n",
    "                    all_ema_data = outputs['all_ema_data']\n",
    "                else:\n",
    "                    for ix in range(len(all_ema_data)):\n",
    "                        all_ema_data[ix]['bins'] += outputs['all_ema_data'][ix]['bins']\n",
    "                        all_ema_data[ix]['embed_sum'] += outputs['all_ema_data'][ix]['embed_sum'] \n",
    "\n",
    "            #finished_indices = (curlength <= 0).nonzero().squeeze(1)\n",
    "            # get length indices that are not less than/equal to zero (i.e. finished)\n",
    "            unfinished_indices = (remaining_length > 0).nonzero().squeeze(1)\n",
    "            finished_indices = (curlength <= 0).nonzero().squeeze(1)\n",
    "            #print(f'finished: {len(finished_indices)}')\n",
    "         \n",
    "            x = x[unfinished_indices]\n",
    "            labels = labels[unfinished_indices]\n",
    "            remaining_length = remaining_length[unfinished_indices]\n",
    "            length = length[unfinished_indices]\n",
    "\n",
    "            outputs['targets'][0] = curlabels.clone() # for the first layer we use ground truth tokens as targets\n",
    "            if calc_loss:\n",
    "                outputs = self.calc_all_losses(tlm_out=outputs, prev_cache=prev_states)\n",
    "\n",
    "            total_layer_lengths[:len(outputs['token_losses'])] += outputs['lengths'].sum(-1)[:len(outputs['token_losses'])]\n",
    "            total_layers_losses[:len(outputs['token_losses'])] += outputs['token_losses'][:len(outputs['token_losses'])] * outputs['lengths'].sum(-1)[:len(outputs['token_losses'])]\n",
    "            \n",
    "            prev_states = outputs['cache']\n",
    "\n",
    "        #print(total_layer_lengths, outputs['lengths'].sum(-1))\n",
    "        total_layers_losses /= (total_layer_lengths + 1e-8)\n",
    "        \n",
    "        #total_layers_losses[:-1] = total_layers_losses[:-1] * 0.0 # only use the last layer for loss calculation (hehe :)\n",
    "      \n",
    "        if len(all_ema_data) > 0:\n",
    "            for ix in range(len(all_ema_data)):\n",
    "                self.layers.vqs[ix]._codebook.update_codebook(\n",
    "                    bins = all_ema_data[ix]['bins'],\n",
    "                    embed_sum = all_ema_data[ix]['embed_sum'],\n",
    "                )\n",
    "\n",
    "        return total_layers_losses\n",
    "        "
   ]
  },
  {
   "cell_type": "code",
   "execution_count": 2,
   "metadata": {},
   "outputs": [],
   "source": [
    "import torch, torch.nn as nn, torch.nn.functional as F\n",
    "from speachy.lm.tools.train import add_eos, token_lens_to_mask, mark_padding\n",
    "import numpy as np\n",
    "from einops import rearrange, repeat\n",
    "from torch import einsum\n",
    "from torch.utils.checkpoint import checkpoint # # gradient/activation checkpointing\n",
    "from functools import partial\n",
    "import string\n",
    "from math import ceil\n",
    "from einops import einsum as einsumops\n",
    "from vector_quantize_pytorch import RandomProjectionQuantizer\n",
    "from vector_quantize_pytorch.vector_quantize_pytorch_m import VectorQuantize\n",
    "from typing import Optional, Tuple, List, Dict, Union, Callable\n",
    "import torch_scatter\n",
    "import math\n",
    "from batchrenorm import BatchRenorm1d\n",
    "\n",
    "def exists(val):\n",
    "    return val is not None\n",
    "\n",
    "# token shifting\n",
    "# lucidrains implementation: https://github.com/lucidrains/x-transformers/blob/main/x_transformers/x_transformers.py\n",
    "# BlinkDL idea from RWKV-LM https://github.com/BlinkDL/RWKV-LM\n",
    "def shift(t, amount, mask = None):\n",
    "    if amount == 0:\n",
    "        return t\n",
    "    else:\n",
    "        amount = min(amount, t.shape[1])\n",
    "\n",
    "    if exists(mask):\n",
    "        t = t.masked_fill(~mask[..., None], 0.)\n",
    "\n",
    "    return F.pad(t, (0, 0, amount, -amount), value = 0.)\n",
    "\n",
    "class ShiftTokens(nn.Module):\n",
    "    '''from Phil Wang's x-transformers library'''\n",
    "    def __init__(self, shifts, fn):\n",
    "        super().__init__()\n",
    "        self.fn = fn\n",
    "        self.shifts = tuple(shifts)\n",
    "\n",
    "    def forward(self, x, **kwargs):\n",
    "        mask = kwargs.get('mask', None)\n",
    "        shifts = self.shifts\n",
    "        segments = len(shifts)\n",
    "        feats_per_shift = x.shape[-1] // segments\n",
    "        splitted = x.split(feats_per_shift, dim = -1)\n",
    "        segments_to_shift, rest = splitted[:segments], splitted[segments:]\n",
    "        segments_to_shift = list(map(lambda args: shift(*args, mask = mask), zip(segments_to_shift, shifts)))\n",
    "        x = torch.cat((*segments_to_shift, *rest), dim = -1)\n",
    "        return self.fn(x, **kwargs)\n",
    "\n",
    "def ff(dim, mult=4, dropout=0.1):\n",
    "    return nn.Sequential(\n",
    "        GLU(dim, dim * mult, nn.SiLU()),\n",
    "        nn.Dropout(dropout),\n",
    "        nn.Linear(dim * mult, dim)\n",
    "    )\n",
    "\n",
    "class DynamicPositionBias(nn.Module):\n",
    "    '''Adapted from Phil Wang's x-transformers library'''\n",
    "    def __init__(self, dim, *, heads, depth, log_distance = False, norm = False, activation=nn.ReLU):\n",
    "        super().__init__()\n",
    "        assert depth >= 1, 'depth for dynamic position bias MLP must be greater or equal to 1'\n",
    "        self.log_distance = log_distance\n",
    "\n",
    "        self.mlp = nn.ModuleList([])\n",
    "\n",
    "        self.mlp.append(nn.Sequential(\n",
    "            nn.Linear(1, dim),\n",
    "            nn.LayerNorm(dim) if norm else nn.Identity(),\n",
    "            activation()\n",
    "        ))\n",
    "\n",
    "        for _ in range(depth - 1):\n",
    "            self.mlp.append(nn.Sequential(\n",
    "                nn.Linear(dim, dim),\n",
    "                nn.LayerNorm(dim) if norm else nn.Identity(),\n",
    "                activation()\n",
    "            ))\n",
    "\n",
    "        self.mlp.append(nn.Linear(dim, heads))\n",
    "\n",
    "\n",
    "    def forward(self, pos, indices, device, dtype):\n",
    "        pos = pos.to(device=device, dtype=dtype)\n",
    "        \n",
    "        if self.log_distance:\n",
    "            pos = torch.sign(pos) * torch.log(pos.abs() + 1)  # log of distance is sign(rel_pos) * log(abs(rel_pos) + 1)\n",
    "\n",
    "        for layer in self.mlp:\n",
    "            pos = layer(pos) \n",
    "      \n",
    "        bias = pos[indices]\n",
    "        #print(bias.shape)\n",
    "        bias = rearrange(bias, 'b i j h -> b h i j')\n",
    "        return bias\n",
    "\n",
    "class ScaledSinuEmbedding(nn.Module):\n",
    "    '''taken From Phil Wang's x-transformers library'''\n",
    "    def __init__(self, dim):\n",
    "        super().__init__()\n",
    "        self.scale = nn.Parameter(torch.ones(1,))\n",
    "        inv_freq = 1. / (10000 ** (torch.arange(0, dim, 2).float() / dim))\n",
    "        self.register_buffer('inv_freq', inv_freq)\n",
    "\n",
    "    def forward(self, x):\n",
    "        n, device = x.shape[1], x.device\n",
    "        t = torch.arange(n, device = device).type_as(self.inv_freq)\n",
    "        sinu = einsum('i , j -> i j', t, self.inv_freq)\n",
    "        emb = torch.cat((sinu.sin(), sinu.cos()), dim = -1)\n",
    "        return emb * self.scale\n",
    "\n",
    "class ReLUSquared(nn.Module):\n",
    "    def forward(self, x):\n",
    "        return torch.pow(F.relu(x), 2)\n",
    "\n",
    "def l2norm(t, groups = 1, dim = -1):\n",
    "    if groups == 1:\n",
    "        return F.normalize(t, p = 2, dim = dim)\n",
    "    t = rearrange(t, '... (g d) -> ... g d', g = groups)\n",
    "    t = F.normalize(t, p = 2, dim = dim)\n",
    "    return rearrange(t, '... g d -> ... (g d)')\n",
    "\n",
    "\n",
    "\n",
    "class Attention(nn.Module):\n",
    "    def __init__(\n",
    "        self,\n",
    "        n_feats,\n",
    "        head_dim,\n",
    "        n_heads,\n",
    "        dropout=0.1,\n",
    "        bias=False,\n",
    "        return_attention=False,\n",
    "        causal=False,\n",
    "        activation='softmax',\n",
    "        **kwargs\n",
    "    ):\n",
    "        super().__init__()\n",
    "        assert activation in ['relusq', 'softmax']\n",
    "        self.shared_kv = kwargs.get('shared_kv', False)\n",
    "        \n",
    "        self.talking_heads = kwargs.get('talking_heads', 'none') # 'none', 'pre', 'both', 'post' \n",
    "\n",
    "        self.n_feats, self.head_dim, self.n_heads = n_feats, head_dim, n_heads\n",
    "        self.dropout = nn.Dropout(dropout)\n",
    "        self.bias = bias\n",
    "        self.return_attention = return_attention\n",
    "        self.causal = causal\n",
    "\n",
    "        if self.talking_heads == 'pre' or self.talking_heads == 'both':\n",
    "            self._head_proj = nn.Conv2d(n_heads, n_heads, (1, 1))\n",
    "        if self.talking_heads == 'post' or self.talking_heads == 'both':\n",
    "            self._head_proj_post = nn.Conv2d(n_heads, n_heads, (1, 1))\n",
    "            \n",
    "\n",
    "        self.activation = ReLUSquared() if activation == 'relusq' else nn.Softmax(dim=-1)\n",
    "\n",
    "        if not self.shared_kv:\n",
    "            self.qkv_proj = nn.Linear(n_feats, 3 * n_heads * head_dim, bias=bias)\n",
    "            self.qkv = lambda x: rearrange(self.qkv_proj(x), \"b n (h d qkv) -> qkv b h n d\", qkv=3, h=n_heads, d=head_dim)\n",
    "        else:\n",
    "            self.q_proj, self.kv_proj = [nn.Linear(n_feats, el, bias=bias) for el in [n_heads * head_dim, 2 * head_dim]]\n",
    "            map_q, map_kv = lambda q: rearrange(q, 'b n (h d) -> b h n d', h=n_heads), lambda kv: rearrange(kv, 'b n (kv d) -> kv b () n d', kv=2, d=head_dim)\n",
    "            self.qkv = lambda x: (map_q(self.q_proj(x)), *map_kv(self.kv_proj(x)))\n",
    "\n",
    "        self.out_proj = nn.Linear(n_heads * head_dim, n_feats, bias=bias)\n",
    "    \n",
    "    def head_proj(self, dots, mode='pre'):\n",
    "        if mode == 'pre' and (self.talking_heads == 'pre' or self.talking_heads == 'both'):\n",
    "            dots = self._head_proj(dots)\n",
    "        if mode == 'post' and (self.talking_heads == 'post' or self.talking_heads == 'both'):\n",
    "            dots = self._head_proj_post(dots)\n",
    "        return dots      \n",
    "  \n",
    "\n",
    "    def attend(self, query, key, value, attn_mask, pos_bias):        \n",
    "        dots = einsum('bhid,bhjd->bhij', query, key) * self.head_dim ** -0.5\n",
    "        dots = self.head_proj(dots, mode='pre')\n",
    "\n",
    "        dots += pos_bias\n",
    "        dots.masked_fill_(attn_mask, -torch.finfo(dots.dtype).max)\n",
    "\n",
    "        attn = self.activation(dots)\n",
    "        attn = self.head_proj(attn, mode='post')\n",
    "     \n",
    "        attn = self.dropout(attn)\n",
    "        return einsum(\"bhij,bhjd->bhid\", attn, value)\n",
    "\n",
    "    @staticmethod\n",
    "    def attach_cache(kv, cache, cache_indices):\n",
    "        kv = torch.stack(kv, dim=0)\n",
    "        if cache is None:\n",
    "            return kv\n",
    "        zero_vector = torch.zeros_like(kv[:, :, :, :1, :])\n",
    "        kv_w_cache = torch.cat([cache, kv, zero_vector], dim=-2)\n",
    "        kv_w_cache = torch.gather(kv_w_cache, dim=-2, index=cache_indices) # we do this to remove unnecessary padding\n",
    "        return kv_w_cache\n",
    "\n",
    "    def forward(self, x, pos_bias, mask, cache=None, cache_indices=None):\n",
    "        B, N, C, H, D = *x.shape, self.n_heads, self.head_dim\n",
    "    \n",
    "        q, k, v  = self.qkv(x)\n",
    "        kv = self.attach_cache([k, v], cache, cache_indices)\n",
    "        k, v = kv\n",
    "\n",
    "        out = self.attend(q, k, v, mask, pos_bias)\n",
    "\n",
    "        out = rearrange(out, \"b h n d -> b n (h d)\")\n",
    "        out = self.out_proj(out)\n",
    "        return out, kv\n",
    "\n",
    "class PreNorm(nn.Module):\n",
    "    def __init__(self, dim, fn, elementwise_affine=True):\n",
    "        super().__init__()\n",
    "        self.norm = nn.LayerNorm(dim, elementwise_affine=elementwise_affine)\n",
    "        self.fn = fn\n",
    "\n",
    "    def forward(self, x, *args, **kwargs):\n",
    "        return self.fn(self.norm(x), *args, **kwargs)\n",
    "\n",
    "\n",
    "\n",
    "class PreBatchReNorm(nn.Module):\n",
    "    def __init__(self, dim, fn, affine=True):\n",
    "        super().__init__()\n",
    "        self.norm = BatchRenorm1d(dim, affine=affine)\n",
    "        self.fn = fn\n",
    "\n",
    "    def forward(self, x, mask, *args, **kwargs):\n",
    "        x = rearrange(x, 'b n d -> b d n')\n",
    "        x = self.norm(x, mask=mask)\n",
    "        x = rearrange(x, 'b d n -> b n d')\n",
    "        if mask is not None:\n",
    "            x = x.masked_fill(mask[:,:,None], 0) \n",
    "        return self.fn(x, *args, **kwargs)\n",
    "\n",
    "\n",
    "class NoGrad(nn.Module):\n",
    "    def __init__(self, fn):\n",
    "        super().__init__()\n",
    "        self.fn = fn\n",
    "\n",
    "    @torch.no_grad()\n",
    "    def forward(self, *args, **kwargs):\n",
    "        return self.fn(*args, **kwargs)\n",
    "\n",
    "class GLU(nn.Module):\n",
    "    def __init__(self, dim_in, dim_out, activation):\n",
    "        super().__init__()\n",
    "        self.act = activation\n",
    "        self.proj = nn.Linear(dim_in, dim_out * 2)\n",
    "\n",
    "    def forward(self, x):\n",
    "        x, gate = self.proj(x).chunk(2, dim = -1)\n",
    "        return x * self.act(gate)\n",
    "\n",
    "def orthogonal_loss_fn(t):\n",
    "    # eq (2) from https://arxiv.org/abs/2112.00384\n",
    "    h, n = t.shape[:2]\n",
    "    normed_codes = l2norm(t)\n",
    "    cosine_sim = einsum('h i d, h j d -> h i j', normed_codes, normed_codes)\n",
    "    return (cosine_sim ** 2).sum() / (h * n ** 2) - (1 / n)\n",
    "\n",
    "\n",
    "\n",
    "class orthoginal_loss(nn.Module): # same as above but as a module\n",
    "    def __init__(self, weight=1.0):\n",
    "        super().__init__()\n",
    "        self.loss_fn = orthogonal_loss_fn_padded\n",
    "        self.weight = weight\n",
    "\n",
    "    def forward(self, t, mask=None):\n",
    "        return self.loss_fn(t, mask) * self.weight\n",
    "\n",
    "class Halfer(nn.Module): # uses conv instead of avg_pool1d\n",
    "    def __init__(self, dim, exp_f=4):\n",
    "        super().__init__()\n",
    "        self.conv = nn.Conv1d(dim, dim*exp_f*2, kernel_size=2, stride=2, padding=0, bias=True)\n",
    "        self.act = nn.SiLU()\n",
    "        self.empty_vec = torch.zeros(1,1,dim)\n",
    "        self.ff = nn.Linear(dim*exp_f, dim)\n",
    "\n",
    "    def forward(self, x, length):\n",
    "        if x.shape[1] % 2 == 1:\n",
    "            x = torch.cat([x, self.empty_vec.to(x.device).expand(x.shape[0],1,-1)], dim=1)\n",
    "            length += 1\n",
    "        x = self.conv(x.transpose(1,2)).transpose(1,2)\n",
    "        a, b = x.chunk(2, dim=-1)\n",
    "        x = a * self.act(b)\n",
    "        x = self.ff(x)\n",
    "        length = (length + 1).div(2).floor().long()\n",
    "        return x, length\n",
    "\n",
    "class InverseHalfer(nn.Module): # opposite of Halfer\n",
    "    def __init__(self, dim, exp_f=2):\n",
    "        super().__init__()\n",
    "        self.conv = nn.ConvTranspose1d(dim, dim*exp_f, kernel_size=2, stride=2, padding=0, bias=True)\n",
    "        self.act = nn.SiLU()\n",
    "        self.ff = nn.Linear(dim*exp_f, dim)\n",
    "\n",
    "    def forward(self, x, length):\n",
    "        x = self.conv(x.transpose(1,2)).transpose(1,2)\n",
    "        x = self.ff(self.act(x))\n",
    "        length = length.mul(2)\n",
    "        return x, length\n",
    "\n",
    "class HalferBlock(nn.Module):\n",
    "    def __init__(self, dim, exp_f=2):\n",
    "        super().__init__()\n",
    "        self.halfer = PreNorm(dim=dim, fn=Halfer(dim, exp_f=exp_f))\n",
    "        self.inverse_halfer = PreNorm(dim=dim, fn=InverseHalfer(dim, exp_f=exp_f))\n",
    "        self.loss = nn.MSELoss(reduction='none')\n",
    "\n",
    "    def forward(self, x, length, mask=None):\n",
    "        halved_x, halved_length = self.halfer(x, length)\n",
    "        def recon_loss_fn(quantized_x):\n",
    "            restored_x, _ = self.inverse_halfer(quantized_x, halved_length)\n",
    "            restored_x = restored_x[:, :x.shape[1], :] # trim to original length\n",
    "            loss = torch.tensor([0.], device=x.device)\n",
    "            if self.training:\n",
    "                loss = self.loss(restored_x, x)\n",
    "                if mask is not None: # mask out padding\n",
    "                    loss.masked_fill_(mask[..., None], 0.)\n",
    "                loss = loss.mean()\n",
    "            return loss, restored_x\n",
    "        return halved_x, halved_length, recon_loss_fn\n",
    "\n",
    "\n",
    "\n",
    "class PredictionLayer(nn.Module):\n",
    "    def __init__(self, dim, n_classes, affine=True):\n",
    "        super().__init__()\n",
    "        self.proj = PreNorm(dim, nn.Linear(dim, n_classes), elementwise_affine=affine)\n",
    "    def forward(self, x):\n",
    "        return self.proj(x)\n",
    "\n",
    "\n",
    "\n",
    "def grab_last_token(x, length):\n",
    "    return x[torch.arange(x.shape[0]), length-1][:,None,:]\n",
    "\n",
    "class AttentionFF(nn.Module):\n",
    "    def __init__(\n",
    "            self, \n",
    "            dim, \n",
    "            n_heads, \n",
    "            head_dim, \n",
    "            dropout=0., \n",
    "            ff_mult=4,\n",
    "            causal=True,\n",
    "            **kwargs\n",
    "        ):\n",
    "        super().__init__()\n",
    "        self.attention = Attention(dim, n_heads=n_heads, head_dim=head_dim, causal=causal,dropout=dropout,**kwargs)\n",
    "        self.ff = ff(dim, mult=ff_mult, dropout=0.1)\n",
    "        self.ff, self.attention = map(PreNorm, (dim, dim), (self.ff, self.attention))\n",
    "\n",
    "    def forward(self, x, pos_bias, attn_mask, cache=None, cache_indices=None):\n",
    "        x_out, kv = self.attention(x, pos_bias, attn_mask, cache, cache_indices)\n",
    "        x = x_out + x\n",
    "        x = self.ff(x) + x\n",
    "        return x, kv\n",
    "\n",
    "\n",
    "class AttentionFFstack(nn.Module):\n",
    "    def __init__(\n",
    "        self,\n",
    "        dim=256, \n",
    "        total_depth=3,\n",
    "        n_heads=8, \n",
    "        head_dim=32, \n",
    "        dropout=0., \n",
    "        ff_mult=4,\n",
    "        causal=True,\n",
    "        **kwargs\n",
    "    ):   \n",
    "        super().__init__()\n",
    "        self.layers = nn.ModuleList([])\n",
    "        for _ in range(total_depth):\n",
    "            self.layers.append(AttentionFF(dim, n_heads, head_dim, dropout, ff_mult, causal, **kwargs))\n",
    "\n",
    "    def forward(self, x, pos_bias, attn_mask, cache=None, cache_indices=None):\n",
    "        cached_kvs = []\n",
    "        for i, layer in enumerate(self.layers):\n",
    "            x, kv = layer(x, pos_bias, attn_mask, cache[i] if cache is not None else None, cache_indices)\n",
    "            cached_kvs.append(kv[None])\n",
    "        return x, cached_kvs\n",
    "\n",
    "def map_to_sequence(int_list):\n",
    "    unique_ints = torch.unique(int_list)\n",
    "    max_int = unique_ints.max()\n",
    "    seq = torch.zeros(max_int + 1, dtype=torch.int64)\n",
    "    seq[unique_ints] = torch.arange(len(unique_ints))\n",
    "    return seq[int_list]\n",
    "\n",
    "\n",
    "class EinopsFn(nn.Module):\n",
    "    def __init__(self):\n",
    "        super().__init__()\n",
    "    def forward(self, x, y, pattern):\n",
    "        return einsumops(x, y, pattern)\n",
    "\n",
    "def stable_weighted_softmax(logits, weights):\n",
    "    ## logits: B, H, N, V # weights: 1 H 1 V ##\n",
    "    stable_logits = logits - logits.max(dim=-1, keepdim=True)[0] # subtract max to make logits more stable\n",
    "    weights = weights.clamp(min=torch.finfo(weights.dtype).eps)\n",
    "    numerators = torch.exp(stable_logits) * weights\n",
    "    denominators = numerators.sum(dim=-1, keepdim=True) \n",
    "    return numerators / (denominators + torch.finfo(denominators.dtype).eps)\n",
    "    \n",
    "class StableWeightedSoftmax(nn.Module):\n",
    "    def __init__(self):\n",
    "        super().__init__()\n",
    "    def forward(self, logits, weights):\n",
    "        return stable_weighted_softmax(logits, weights)\n",
    "\n",
    "class transformer(nn.Module):\n",
    "    def __init__(\n",
    "            self, \n",
    "            dim, \n",
    "            depth, \n",
    "            heads, \n",
    "            dim_head, \n",
    "            causal=True,\n",
    "            base_vocab_size=29,\n",
    "            dropout = 0.1,\n",
    "            **kwargs\n",
    "        ):\n",
    "        super().__init__()\n",
    "    \n",
    "\n",
    "        ff_mult = kwargs.get('ff_mult', 4)\n",
    "        self.checkpoint_every_n = kwargs.get('checkpoint_every_n', 0)\n",
    "        self.base_vocab = base_vocab_size\n",
    "        self.max_vocab = kwargs.get('max_vocab', 10000)\n",
    "        commitment_weight = kwargs.get('commitment_weight', 1.0)\n",
    "        self.inner_depth = kwargs.get('inner_depth', 2)\n",
    "\n",
    "        self.embedding = nn.Embedding(base_vocab_size, dim)\n",
    "\n",
    "        self.causal = causal\n",
    "\n",
    "        self.depth = depth\n",
    "        self.positional_bias = DynamicPositionBias(\n",
    "            dim = dim // 4,\n",
    "            heads = heads,\n",
    "            depth = 2,\n",
    "            log_distance = False,\n",
    "            norm = False\n",
    "        )\n",
    "\n",
    "        self.halfers = nn.ModuleList([])\n",
    "\n",
    "        self.codebook_dim = 8\n",
    "        self.codebook_heads = 16\n",
    "        self.codebook_vocab = 256\n",
    "        \n",
    "        self.vqs = nn.ModuleList([])\n",
    "            \n",
    "        self.prediction_layers = nn.ModuleList([])\n",
    "        self.pred_scalers = torch.nn.Parameter(torch.ones((depth-1, 1))*5.0, requires_grad=True)\n",
    "\n",
    "        self.attn_ffs = nn.ModuleList([])\n",
    "        for lth in range(depth):\n",
    "            self.attn_ffs.append(AttentionFFstack(\n",
    "                total_depth=self.inner_depth,\n",
    "                dim=dim,\n",
    "                n_heads=heads,\n",
    "                head_dim=dim_head,\n",
    "                causal=causal,\n",
    "                dropout=dropout,\n",
    "                **kwargs\n",
    "            ))\n",
    "\n",
    "            if lth == 0:\n",
    "                self.prediction_layers.append(PredictionLayer(dim, base_vocab_size))\n",
    "            else:\n",
    "                self.prediction_layers.append(PredictionLayer(dim, dim))\n",
    "\n",
    "            if lth < depth - 1:\n",
    "                self.vqs.append(\n",
    "                    VectorQuantize(\n",
    "                        dim=dim,\n",
    "                        codebook_size=self.codebook_vocab,\n",
    "                        codebook_dim = self.codebook_dim,\n",
    "                        use_cosine_sim = True,\n",
    "                        decay = 0.1,\n",
    "                        separate_codebook_per_head=True,\n",
    "                        heads=self.codebook_heads,\n",
    "                        commitment_weight=0.0\n",
    "                    )\n",
    "                )\n",
    "                self.vqs[-1].project_in.requires_grad_(False)\n",
    "                self.vqs[-1].project_out.requires_grad_(False)\n",
    "\n",
    "                '''RandomProjectionQuantizer(\n",
    "                    dim = dim,\n",
    "                    codebook_dim = self.codebook_dim,\n",
    "                    codebook_size = self.codebook_vocab,\n",
    "                    num_codebooks = self.codebook_heads,  \n",
    "                    norm = True  \n",
    "                )'''\n",
    "                #self.vqs[-1].requires_grad_(False)'''\n",
    "                self.halfers.append(PreBatchReNorm(dim=dim, fn=Halfer(dim, exp_f=4), affine = True))\n",
    "                #self.halfers[-1].fn.requires_grad_(False)\n",
    "\n",
    "        self.einopsfn = EinopsFn()\n",
    "    \n",
    "\n",
    "\n",
    "    @staticmethod\n",
    "    def create_custom_forward(module):\n",
    "        def custom_forward(*args, **kwargs):\n",
    "            return module(*args, **kwargs)\n",
    "        return custom_forward\n",
    "\n",
    "    def checkpoint(self, layer, module, *args, **kwargs):\n",
    "        condition = self.training and self.checkpoint_every_n != 0 and layer < self.depth - 1 and layer % self.checkpoint_every_n == 0\n",
    "        return checkpoint(self.create_custom_forward(module), *args, **kwargs) if condition else module(*args, **kwargs)\n",
    "\n",
    "    @staticmethod\n",
    "    def get_cache(cache):\n",
    "        if cache is None:\n",
    "            return None\n",
    "        return cache['cache'][0]\n",
    "\n",
    "    @staticmethod\n",
    "    def get_cache_indices(x_lens, cache_lens, cache_kv, x):  \n",
    "        # used later w/ gather to remove padding when cache is concatenated with current input to remove padding\n",
    "        max_new_len = (x_lens + cache_lens).max()\n",
    "        # cache kv =  LAYERS, KEYS+VALUES (2), BATCH, HEADS, N, DIM\n",
    "        B, H, N, D = x.shape[0], cache_kv.shape[-3], (x.shape[1] + cache_kv.shape[-2]), cache_kv.shape[-1]\n",
    "        indices = []\n",
    "        for i in range(B): # stinky for loop to sort out indices for gather \n",
    "            cache_indices = torch.arange(cache_lens[i], device='cpu')\n",
    "            total_length = cache_lens[i] + x_lens[i] \n",
    "            diff_from_max_len = max_new_len - total_length\n",
    "            x_indices = torch.arange(x_lens[i]+diff_from_max_len, device='cpu') + cache_kv.shape[-2]\n",
    "            if diff_from_max_len > 0:\n",
    "                x_indices[-diff_from_max_len:] = N  # last index will be used for padding\n",
    "            new_indices = torch.cat([cache_indices, x_indices])\n",
    "            indices.append(new_indices)\n",
    "\n",
    "        indices = torch.stack(indices, dim=0)\n",
    "        \n",
    "        indices = rearrange(indices, 'b n -> () b () n ()').expand(2, B, H,-1, D) # 2 for key and value\n",
    "        return indices.to(x.device)\n",
    "\n",
    "    def create_masks_and_positions(self, x, length, cache): \n",
    "        x_len = length if length is not None else torch.tensor(x.shape[-2]).expand(x.shape[0])\n",
    "        cache_len = cache['cache_lengths'] if exists(cache) else 0\n",
    "\n",
    "        total_len = x_len + cache_len\n",
    "        kv_mask = torch.arange(total_len.max(), device=x.device).expand(len(total_len), -1) >= total_len.unsqueeze(-1)\n",
    "        q_mask = torch.arange(x_len.max(), device=x.device).expand(len(x_len), -1) >= x_len.unsqueeze(-1)\n",
    "        attn_mask = ~(rearrange(~q_mask, \"b n -> b () n ()\") * rearrange(~kv_mask, \"b n -> b () () n\"))\n",
    "        ##\n",
    "        ##\n",
    "        causal_mask = repeat(torch.arange(total_len.max(), device=x.device), 'i -> b r i', b=len(total_len), r=x_len.max())\n",
    "        cache_offset = cache_len[:,None,None] if exists(cache) else cache_len\n",
    "        diagonal_offset = torch.arange(x_len.max(), device=x.device)[None,:,None]\n",
    "        ##\n",
    "        ## positional stuff ##\n",
    "        positional_grid = (causal_mask - cache_offset - diagonal_offset) * -1\n",
    "        pos = torch.arange(positional_grid.min(), positional_grid.max()+1, device=x.device, dtype=x.dtype)[:,None]\n",
    "        min_cache_len = 0 if cache_len.__class__ == int else cache_len.min()\n",
    "        positional_indices = ((positional_grid) + (total_len.max() - min_cache_len - 1)) # shift so zero is the smallest number\n",
    "        pos_bias = self.positional_bias(pos=pos, indices=positional_indices, dtype=x.dtype, device=x.device)\n",
    "        ## positional stuff ##\n",
    "        ##\n",
    "        if self.causal:\n",
    "            causal_mask = causal_mask >= (cache_offset + diagonal_offset + 1)\n",
    "            attn_mask = torch.logical_or(attn_mask, causal_mask[:,None])\n",
    "        ##\n",
    "        return q_mask, attn_mask, total_len, x_len, cache_len, pos_bias\n",
    "\n",
    "\n",
    "\n",
    "\n",
    "\n",
    "    def forward(self, x, length, cache=None, **kwargs):\n",
    "        \n",
    "        intermediate_logits = []\n",
    "        next_token_preds = []\n",
    "        last_token_latents = []\n",
    "        \n",
    "        intermediate_targets = [None] # for the first layer we use ground truth tokens as targets\n",
    "        cache_lengths = []\n",
    "        lengths = [length.clone()]\n",
    "        cached_kvs = []\n",
    "        x_outs = []\n",
    "\n",
    "        quantized_latents = []\n",
    "        predictions = []\n",
    "        next_token_preds_mse = []\n",
    "        \n",
    "        orth_loss = []\n",
    "\n",
    "        all_ema_data = []\n",
    " \n",
    "        curcache = cache[0] if exists(cache) else None\n",
    "        mask, attn_mask, total_lens, x_len, cache_len, pos_bias = self.create_masks_and_positions(x, length, curcache)\n",
    "        cache_indices = self.get_cache_indices(x_len, cache_len, curcache['cache'], x) if exists(curcache) else None\n",
    "\n",
    "        mask, attn_mask, total_lens, x_len, cache_len, pos_bias = self.create_masks_and_positions(x, length, curcache)\n",
    "        cache_indices = self.get_cache_indices(x_len, cache_len, curcache['cache'], x) if exists(curcache) else None\n",
    "\n",
    "        #all_ema_data = []\n",
    "\n",
    "        for i in range(self.depth):\n",
    "            attn_ff, pred_layer = self.attn_ffs[i], self.prediction_layers[i]\n",
    "\n",
    "            ## attention ff blocks ##            \n",
    "            attn_cache = [cache[ix]['cache'][0] if exists(cache) else None for ix in range(i*self.inner_depth, i*self.inner_depth+self.inner_depth)] \n",
    "            x, kvs = self.checkpoint(i, attn_ff, x, pos_bias, attn_mask, attn_cache, cache_indices)\n",
    "    \n",
    "            cached_kvs.extend(kvs)\n",
    "            cache_lengths.extend([total_lens]*len(kvs))\n",
    "            ## attention ff blocks ##\n",
    "\n",
    "            if i!= 0:\n",
    "                z = x\n",
    "                zsim = self.checkpoint(i, pred_layer, z)\n",
    "                predictions.append(zsim.clone())\n",
    "            else:\n",
    "                zsim = self.checkpoint(i, pred_layer, x)\n",
    "                intermediate_logits.append(zsim)\n",
    "            ntp = grab_last_token(zsim, length)   \n",
    "            if i==0:\n",
    "                next_token_preds.append(ntp)\n",
    "            else:\n",
    "                next_token_preds_mse.append(ntp)\n",
    "     \n",
    "\n",
    "            if i != self.depth-1:\n",
    "                halfer = self.halfers[i]\n",
    "                x, length = self.checkpoint(i, halfer, x, mask, length)\n",
    "                x_outs.append(x.detach())\n",
    "                lengths.append(length.clone())\n",
    "                \n",
    "                \n",
    "                curcache = cache[(i+1)*self.inner_depth] if exists(cache) else None\n",
    "                mask, attn_mask, total_lens, x_len, cache_len, pos_bias = self.create_masks_and_positions(x, length, curcache)\n",
    "                cache_indices = self.get_cache_indices(x_len, cache_len, curcache['cache'], x) if exists(curcache) else None\n",
    "\n",
    "\n",
    "                B, N, D = x.shape\n",
    "                vq = self.vqs[i]\n",
    "                \n",
    "                qv, indices, vq_loss, ema_data = self.checkpoint(i, vq, x, mask)\n",
    "                if self.training:\n",
    "                    all_ema_data.append(ema_data)\n",
    "                    orth_loss.append(vq_loss)\n",
    "               \n",
    "                quantized_latents.append(qv.detach())\n",
    "                intermediate_targets.append(indices)\n",
    "                last_token_latents.append(grab_last_token(qv.detach(), length))\n",
    "\n",
    "        #orth_loss = orthogonal_loss_fn(pred_matrix)\n",
    "        #commitment_loss =  orth_loss.sum() * 10.0 \n",
    "\n",
    "        #print(len(cached_kvs), len(layer_below_next_token_preds), len(cache_lengths), len(next_token_preds))\n",
    "        assert len(cached_kvs) == len(cache_lengths), 'something went wrong'\n",
    "  \n",
    "        cached_kvs = [{'cache': curcache, 'cache_lengths': curlen} for curcache, curlen in zip(cached_kvs, cache_lengths)]\n",
    "        cached_kvs = {\n",
    "            'layers': cached_kvs, \n",
    "            'next_sentence_pred': next_token_preds,\n",
    "            'next_sentence_pred_mse': next_token_preds_mse,\n",
    "        }\n",
    "        \n",
    "        \n",
    "        return {\n",
    "            'logits': intermediate_logits,\n",
    "            'targets': intermediate_targets,\n",
    "            'cache': cached_kvs,\n",
    "            'lengths': torch.stack(lengths),\n",
    "            'x_outs': x_outs,\n",
    "            'quantized_latents': quantized_latents,\n",
    "            'last_token_latents': last_token_latents,\n",
    "            'predictions': predictions,\n",
    "            'all_ema_data': all_ema_data,\n",
    "            'orth_loss': torch.tensor(orth_loss) if len(orth_loss) > 0 else torch.tensor([0.]),\n",
    "        }\n",
    "\n",
    "\n",
    "class transformer_lm(nn.Module):\n",
    "    def __init__(\n",
    "        self,\n",
    "        dim,\n",
    "        vocab_size,\n",
    "        depth,\n",
    "        heads,\n",
    "        dim_head,\n",
    "        causal=True,\n",
    "        dropout=0.,\n",
    "        use_abs_pos=False,\n",
    "        **kwargs\n",
    "    ):\n",
    "        super().__init__()\n",
    "    \n",
    "        self.use_abs_pos = use_abs_pos\n",
    "        if self.use_abs_pos:\n",
    "            self.abs_pos_fn = ScaledSinuEmbedding(dim=dim)\n",
    "        self.abs_pos = lambda x: x + self.abs_pos_fn(x) if self.use_abs_pos else x\n",
    "\n",
    "\n",
    "        self.layers = transformer(\n",
    "            dim = dim, \n",
    "            depth = depth, \n",
    "            heads = heads, \n",
    "            dim_head = dim_head, \n",
    "            causal = causal, \n",
    "            dropout = dropout,\n",
    "            base_vocab_size = vocab_size,\n",
    "            **kwargs\n",
    "        )\n",
    "        \n",
    "\n",
    "    def count_parameters(self):\n",
    "        return sum(p.numel() for p in self.parameters() if p.requires_grad)\n",
    "\n",
    "   \n",
    "    def calc_all_losses(self, tlm_out, prev_cache, last_qlatents=None):\n",
    "        eos_id = -100\n",
    "        loss_fn = lambda l, t: F.cross_entropy(rearrange(l, 'b n c -> b c n'), t, ignore_index=-100, reduction='mean')\n",
    "        losses = []\n",
    "\n",
    "        def calc_token_loss(logits, targets, first_token_pred, length):\n",
    "            if length.max() == 1 and not exists(first_token_pred):\n",
    "                return None # no loss for single token sequences if no previous prediction is available\n",
    "            heads = 1\n",
    "            if len(logits.shape) == 4:\n",
    "                heads = logits.shape[1]\n",
    "                length = repeat(length, 'b -> (b h)', h=heads).clone().contiguous()\n",
    "                logits = rearrange(logits, 'b h n v -> (b h) n v')\n",
    "                targets = rearrange(targets, 'b n (h 1) -> (b h) n')\n",
    "                first_token_pred = None if not exists(first_token_pred) else rearrange(first_token_pred, 'b h n v -> (b h) n v')\n",
    "\n",
    "            if exists(first_token_pred): # concat zero vect to end of targets\n",
    "                targets = rearrange(targets, '(b h) n -> b h n', h=heads)\n",
    "                targets = torch.cat([targets, torch.zeros(targets.size(0), heads, 1, device=targets.device).long()], dim=2)\n",
    "                targets = rearrange(targets, 'b h n -> (b h) n')\n",
    "                logits = torch.cat([first_token_pred, logits], dim=1)\n",
    "                length += 1\n",
    "            else:\n",
    "                if heads == 1:\n",
    "                    targets[:,:-1] = targets.clone()[:,1:]\n",
    "                else:\n",
    "                    targets = rearrange(targets, '(b h) n -> b h n', h=heads)\n",
    "                    targets[:,:,:-1] = targets.clone()[:,:,1:]\n",
    "                    targets = rearrange(targets, 'b h n -> (b h) n')\n",
    "            \n",
    "            targets = add_eos(targets, eos_id=eos_id, token_lens=length)\n",
    "            mask =  token_lens_to_mask(token_lens=length)\n",
    "            \n",
    "            targets = mark_padding(targets=targets, mask=mask, pad_id=eos_id)\n",
    "            loss = loss_fn(logits, targets) #* heads # multiply by heads \n",
    "            \n",
    "            return loss\n",
    "\n",
    "        def calc_latents_mse_loss(predictions, latents, lengths, first_token_pred, last_token_latents):\n",
    "            '''minimise mse between prediction from x_t and latent at t+1'''\n",
    "            if lengths.max() == 1 and not exists(first_token_pred):\n",
    "                return None\n",
    "            if exists(first_token_pred):\n",
    "                predictions = torch.cat([first_token_pred, predictions], dim=1) # cat zero vect to end of latents\n",
    "                latent_negatives = torch.cat([last_token_latents, latents], dim=1) # cat zero vect to end of latents\n",
    "                latents_targets = torch.cat([latents, torch.zeros(latents.size(0), 1, latents.size(2), device=latents.device)], dim=1)\n",
    "                lengths += 1\n",
    "            else:\n",
    "                predictions = predictions[:,:-1] # remove last prediction as no latent to predict\n",
    "                latent_negatives = latents[:,:-1].clone() # remove last latent as no prediction to predict it\n",
    "                latents_targets = latents[:,1:].clone() # remove first latent as no prediction to predict it\n",
    "            B, N, D = predictions.shape\n",
    "            mask = torch.arange(N, device=predictions.device).expand(B, N) >= lengths.unsqueeze(1) - 1\n",
    "            predictions = l2norm(predictions, dim=-1)\n",
    "            latents_targets = l2norm(latents_targets, dim=-1)\n",
    "            latent_negatives = l2norm(latent_negatives, dim=-1)\n",
    "\n",
    "       \n",
    "            mse = F.mse_loss(predictions, latents_targets, reduction='none').sum(-1)\n",
    "            if self.training:\n",
    "                mse_neg = F.mse_loss(predictions, latent_negatives, reduction='none').sum(-1)\n",
    "                mse_diff = mse - mse_neg \n",
    "                mse_diff[mse_diff < 0] = 0\n",
    "                mse[mse_diff > 0] = mse_diff[mse_diff > 0] + 4 # bound\n",
    "\n",
    "            mse = mse.sum() / (~mask).sum() # average over non-masked elements\n",
    "            if torch.isnan(mse):\n",
    "                mse = torch.tensor(0., device=predictions.device, dtype=predictions.dtype)\n",
    "            return mse\n",
    "\n",
    "    \n",
    "        if exists(prev_cache):\n",
    "            assert len(tlm_out['logits']) == len(prev_cache['next_sentence_pred']), 'something went wrong'\n",
    "            assert len(tlm_out['predictions']) == len(prev_cache['next_sentence_pred_mse']), 'something went wrong'\n",
    "\n",
    "        for lth in range(len(tlm_out['logits'])):\n",
    "            logits = tlm_out['logits'][lth]\n",
    "            targets = tlm_out['targets'][lth]\n",
    "\n",
    "            #print(targets.reshape(-1).unique().shape)\n",
    "            first_token_pred = prev_cache['next_sentence_pred'][lth] if exists(prev_cache) else None\n",
    "            \n",
    "            lengths = tlm_out['lengths'][lth]\n",
    "            loss = calc_token_loss(logits, targets.clone(), first_token_pred, lengths.clone())\n",
    "            if exists(loss): # incase of single token sequences\n",
    "                losses.append(loss)\n",
    "\n",
    "        for lth in range(len(tlm_out['predictions'])):\n",
    "            predictions = tlm_out['predictions'][lth]\n",
    "            latents = tlm_out['quantized_latents'][lth]\n",
    "            \n",
    "            next_token_preds = prev_cache['next_sentence_pred_mse'][lth] if exists(prev_cache) else None\n",
    "            last_token_latents = last_qlatents[lth] if exists(next_token_preds) else None\n",
    "\n",
    "            lengths = tlm_out['lengths'][lth+1] # +1 because 1st layer is normal targets\n",
    "            loss = calc_latents_mse_loss(predictions=predictions, latents=latents, lengths=lengths, first_token_pred=next_token_preds, last_token_latents=last_token_latents)\n",
    "            if exists(loss):\n",
    "                losses.append(loss)\n",
    "            #print(predictions.shape, latents.shape, lengths.shape, next_token_preds.shape if exists(next_token_preds) else None)\n",
    "\n",
    "              \n",
    "        tlm_out['token_losses'] = torch.stack(losses) \n",
    "\n",
    "        return tlm_out\n",
    "\n",
    "    def forward(self, labels, length, cache:Dict=None, calc_loss=False, **kwargs):\n",
    "        '''\n",
    "        x: [B, N] (embedding indices)\n",
    "        length: [B] (length of each sequence)\n",
    "        cache: {cache_lengths: [B, N], cache: [L, KV, B, H, N, D]} KV: key and value (2)\n",
    "        '''\n",
    "        assert labels.shape[1] == length.max(), 'sequence length should be equal to the length of the longest sequence!'\n",
    "        x = self.layers.embedding(labels)\n",
    "        x = self.abs_pos(x) \n",
    "        \n",
    "        outputs = self.layers(x, length, cache=cache['layers'] if exists(cache) else None, **kwargs)\n",
    "\n",
    "        outputs['targets'][0] = labels.clone() # for the first layer we use ground truth tokens as targets\n",
    "        if calc_loss:\n",
    "            if exists(cache):\n",
    "                print('not set up to work properly with, cache as qlatents arent stored (to implement)')\n",
    "            outputs = self.calc_all_losses(tlm_out=outputs, prev_cache=cache)\n",
    "   \n",
    "        return outputs\n",
    "\n",
    "    def dev_forward(self, labels, length, cache:Dict=None, calc_loss=False, **kwargs):\n",
    "        '''\n",
    "        x: [B, N] (embedding indices)\n",
    "        length: [B] (length of each sequence)\n",
    "        cache: {cache_lengths: [B, N], cache: [L, KV, B, H, N, D]} KV: key and value (2)\n",
    "        '''\n",
    "        assert labels.shape[1] == length.max(), 'sequence length should be equal to the length of the longest sequence!'\n",
    "        total_layer_lengths = torch.zeros(self.layers.depth, device=labels.device)\n",
    "        total_layers_losses = torch.zeros(self.layers.depth, device=labels.device)\n",
    "\n",
    "        x = self.layers.embedding(labels)\n",
    "        x = self.abs_pos(x) \n",
    "\n",
    "        subsize = (2 ** (self.layers.depth - 1)) * 3\n",
    "        B, N, D = x.shape\n",
    "        substeps = math.ceil(N / subsize)\n",
    "        remaining_length = length.clone()\n",
    "        all_outputs = []\n",
    "        prev_x, prev_labels = [x], [labels]\n",
    "        \n",
    "        prev_states = cache\n",
    "\n",
    "        all_ema_data = []\n",
    "\n",
    "        for i in range(substeps):\n",
    "            \n",
    "\n",
    "            if exists(prev_states):\n",
    "                for ix in range(len(prev_states['layers'])):\n",
    "                    prev_states['layers'][ix]['cache'] = prev_states['layers'][ix]['cache'][:,:,unfinished_indices]\n",
    "                    prev_states['layers'][ix]['cache_lengths'] = prev_states['layers'][ix]['cache_lengths'][unfinished_indices]\n",
    "                for ix in range(len(prev_states['next_sentence_pred'])):\n",
    "                    prev_states['next_sentence_pred'][ix] = prev_states['next_sentence_pred'][ix][unfinished_indices]\n",
    "                for ix in range(len(prev_states['next_sentence_pred_mse'])):\n",
    "                    prev_states['next_sentence_pred_mse'][ix] = prev_states['next_sentence_pred_mse'][ix][unfinished_indices]\n",
    "                for ix in range(len(prev_states['last_token_latents'])):\n",
    "                    prev_states['last_token_latents'][ix] = prev_states['last_token_latents'][ix][unfinished_indices]\n",
    "\n",
    "            #print(f'step {i} of {substeps} ({i/substeps*100:.2f}%)')\n",
    "            curx = x[:, i*subsize:(i+1)*subsize].clone().contiguous()\n",
    "            curlabels = labels[:, i*subsize:(i+1)*subsize].clone().contiguous()\n",
    "            curlength = remaining_length.clone()\n",
    "            curlength[curlength > subsize] = subsize\n",
    "            remaining_length -= subsize\n",
    "            \n",
    "            outputs = self.layers(curx, curlength, cache=prev_states['layers'] if exists(prev_states) else None, **kwargs)\n",
    "\n",
    "            unfinished_indices = (remaining_length > 0).nonzero().squeeze(1)        \n",
    "         \n",
    "            x = x[unfinished_indices]\n",
    "            labels = labels[unfinished_indices]\n",
    "            remaining_length = remaining_length[unfinished_indices]\n",
    "            length = length[unfinished_indices]\n",
    "\n",
    "            outputs['targets'][0] = curlabels.clone() # for the first layer we use ground truth tokens as targets\n",
    "            if calc_loss:\n",
    "                last_token_qlatents = prev_states['last_token_latents'] if exists(prev_states) else None\n",
    "                outputs = self.calc_all_losses(tlm_out=outputs, prev_cache=prev_states, last_qlatents=last_token_qlatents)\n",
    "\n",
    "                total_layer_lengths[:len(outputs['token_losses'])] += outputs['lengths'].sum(-1)[:len(outputs['token_losses'])]\n",
    "                total_layers_losses[:len(outputs['token_losses'])] += outputs['token_losses'][:len(outputs['token_losses'])] * outputs['lengths'].sum(-1)[:len(outputs['token_losses'])]\n",
    "                \n",
    "            prev_states = outputs['cache']\n",
    "            prev_states['last_token_latents'] = outputs['last_token_latents']\n",
    "\n",
    "        #print(total_layer_lengths, outputs['lengths'].sum(-1))\n",
    "        total_layers_losses /= (total_layer_lengths + 1e-8)\n",
    "        \n",
    "      \n",
    "\n",
    "        return total_layers_losses\n",
    "\n",
    "    def _forward(self, labels, length, cache:Dict=None, calc_loss=False, ema_targets=None, **kwargs):\n",
    "        '''\n",
    "        x: [B, N] (embedding indices)\n",
    "        length: [B] (length of each sequence)\n",
    "        cache: {cache_lengths: [B, N], cache: [L, KV, B, H, N, D]} KV: key and value (2)\n",
    "        '''\n",
    "        assert labels.shape[1] == length.max(), 'sequence length should be equal to the length of the longest sequence!'\n",
    "        total_layer_lengths = torch.zeros(self.layers.depth, device=labels.device)\n",
    "        total_layers_losses = torch.zeros(self.layers.depth, device=labels.device)\n",
    "\n",
    "        x = self.layers.embedding(labels)\n",
    "        x = self.abs_pos(x) \n",
    "\n",
    "        subsize = (2 ** (self.layers.depth - 1)) * 3\n",
    "        B, N, D = x.shape\n",
    "        substeps = math.ceil(N / subsize)\n",
    "        remaining_length = length.clone()\n",
    "        all_outputs = []\n",
    "        prev_x, prev_labels = [x], [labels]\n",
    "        \n",
    "        prev_states = cache\n",
    "\n",
    "        iteration_targets = []\n",
    "\n",
    "        all_ema_data = []\n",
    "\n",
    "        all_orth_loss = []\n",
    "\n",
    "        for i in range(substeps):\n",
    "            \n",
    "            if exists(prev_states):\n",
    "                for ix in range(len(prev_states['layers'])):\n",
    "                    prev_states['layers'][ix]['cache'] = prev_states['layers'][ix]['cache'][:,:,unfinished_indices]\n",
    "                    prev_states['layers'][ix]['cache_lengths'] = prev_states['layers'][ix]['cache_lengths'][unfinished_indices]\n",
    "                for ix in range(len(prev_states['next_sentence_pred'])):\n",
    "                    prev_states['next_sentence_pred'][ix] = prev_states['next_sentence_pred'][ix][unfinished_indices]\n",
    "                for ix in range(len(prev_states['next_sentence_pred_mse'])):\n",
    "                    prev_states['next_sentence_pred_mse'][ix] = prev_states['next_sentence_pred_mse'][ix][unfinished_indices]\n",
    "                if ema_targets is None:\n",
    "                    for ix in range(len(iteration_targets[i-1]['last_token_qlatents'])):\n",
    "                        iteration_targets[i-1]['last_token_qlatents'][ix] = iteration_targets[i-1]['last_token_qlatents'][ix][unfinished_indices]\n",
    "\n",
    "            #print(f'step {i} of {substeps} ({i/substeps*100:.2f}%)')\n",
    "            curx = x[:, i*subsize:(i+1)*subsize].clone().contiguous()\n",
    "            curlabels = labels[:, i*subsize:(i+1)*subsize].clone().contiguous()\n",
    "            curlength = remaining_length.clone()\n",
    "            curlength[curlength > subsize] = subsize\n",
    "            remaining_length -= subsize\n",
    "            \n",
    "            outputs = self.layers(curx, curlength, cache=prev_states['layers'] if exists(prev_states) else None, **kwargs)\n",
    "\n",
    "            all_orth_loss.append(outputs['orth_loss'].mean())\n",
    "\n",
    "            if len(outputs['all_ema_data']) > 0:\n",
    "                if len(all_ema_data) == 0:\n",
    "                    all_ema_data = outputs['all_ema_data']\n",
    "                else:\n",
    "                    for ix in range(len(all_ema_data)):\n",
    "                        all_ema_data[ix]['bins'] += outputs['all_ema_data'][ix]['bins']\n",
    "                        all_ema_data[ix]['embed_sum'] += outputs['all_ema_data'][ix]['embed_sum'] \n",
    "\n",
    "            unfinished_indices = (remaining_length > 0).nonzero().squeeze(1)\n",
    "         \n",
    "            x = x[unfinished_indices]\n",
    "            labels = labels[unfinished_indices]\n",
    "            remaining_length = remaining_length[unfinished_indices]\n",
    "            length = length[unfinished_indices]\n",
    "\n",
    "            outputs['targets'][0] = curlabels.clone() # for the first layer we use ground truth tokens as targets\n",
    "\n",
    "            if ema_targets is None:\n",
    "                iteration_targets.append({\n",
    "                    'quantized_latents': outputs['quantized_latents'],\n",
    "                    'last_token_qlatents': outputs['last_token_latents'],\n",
    "                })\n",
    "\n",
    "            if calc_loss and ema_targets is not None:\n",
    "                outputs['quantized_latents'] = ema_targets[i]['quantized_latents']\n",
    "                last_token_qlatents = ema_targets[i-1]['last_token_qlatents'] if i > 0 else None\n",
    "                outputs = self.calc_all_losses(tlm_out=outputs, prev_cache=prev_states, last_qlatents=last_token_qlatents)\n",
    "\n",
    "                total_layer_lengths[:len(outputs['token_losses'])] += outputs['lengths'].sum(-1)[:len(outputs['token_losses'])]\n",
    "                total_layers_losses[:len(outputs['token_losses'])] += outputs['token_losses'][:len(outputs['token_losses'])] * outputs['lengths'].sum(-1)[:len(outputs['token_losses'])]\n",
    "            elif calc_loss:\n",
    "                print('EMA TARGETS NOT PROVIDED, NEEDED FOR TRAINING')  \n",
    "                raise Exception  \n",
    "            prev_states = outputs['cache']\n",
    "\n",
    "        total_layers_losses /= (total_layer_lengths + 1e-8)\n",
    "       \n",
    "        if len(all_ema_data) > 0:\n",
    "            for ix in range(len(all_ema_data)):\n",
    "                self.layers.vqs[ix]._codebook.update_codebook(\n",
    "                    bins = all_ema_data[ix]['bins'],\n",
    "                    embed_sum = all_ema_data[ix]['embed_sum'],\n",
    "                )\n",
    "\n",
    "        all_orth_loss = torch.tensor(all_orth_loss).mean()\n",
    "\n",
    "        return total_layers_losses, iteration_targets, all_orth_loss\n",
    "        "
   ]
  },
  {
   "cell_type": "code",
   "execution_count": 3,
   "metadata": {},
   "outputs": [],
   "source": [
    "import umap\n",
    "import tools\n",
    "tokenizer = tools.load_tokenizer('../lm/tokenizers/tokenizer_spe_bpe_v29/tokenizer.model')"
   ]
  },
  {
   "cell_type": "code",
   "execution_count": 4,
   "metadata": {},
   "outputs": [
    {
     "name": "stdout",
     "output_type": "stream",
     "text": [
      "95,966,121\n",
      "tensor([141,   1,   3])\n",
      "tensor([3.6008, 5.7561, 6.0400, 5.7285, 6.0156], grad_fn=<StackBackward0>)\n"
     ]
    }
   ],
   "source": [
    "tlm = transformer_lm(\n",
    "    dim=512,\n",
    "    vocab_size=29,\n",
    "    depth=5,\n",
    "    inner_depth=5,\n",
    "    heads=8,\n",
    "    ff_mult=3,\n",
    "    shared_kv=True,\n",
    "    dim_head=64,\n",
    ")\n",
    "print(f'{tlm.count_parameters():,}')\n",
    "\n",
    "s = \"\"\"Dolphins are marine mammals that are known for their intelligence and playful behavior They are found in oceans and seas all over the world \"\"\"\n",
    "x = tokenizer.text_to_ids(s.lower())\n",
    "x = [0] + x \n",
    "x = torch.tensor(x).unsqueeze(0)\n",
    "tlm.eval()\n",
    "x = repeat(x, '1 n -> b n', b=3)\n",
    "length = torch.tensor([len(x[0]), 1, 3])\n",
    "print(length)\n",
    "#cache = None\n",
    "outputs = tlm(x, length, calc_loss=True)#, cache=outputs['cache'])\n",
    "#\n",
    "print(outputs['token_losses'])"
   ]
  },
  {
   "cell_type": "code",
   "execution_count": 55,
   "metadata": {},
   "outputs": [],
   "source": [
    "x= torch.randn(3, 5, 256)"
   ]
  },
  {
   "cell_type": "code",
   "execution_count": 206,
   "metadata": {},
   "outputs": [
    {
     "data": {
      "text/plain": [
       "tensor([nan, 0., 0.,  ..., 0., 0., 0.])"
      ]
     },
     "execution_count": 206,
     "metadata": {},
     "output_type": "execute_result"
    }
   ],
   "source": [
    "test_fn(p_sims, n_sims)"
   ]
  },
  {
   "cell_type": "code",
   "execution_count": 308,
   "metadata": {},
   "outputs": [
    {
     "data": {
      "text/plain": [
       "tensor(1.0986)"
      ]
     },
     "execution_count": 308,
     "metadata": {},
     "output_type": "execute_result"
    }
   ],
   "source": [
    "p_sim = 3.0\n",
    "n_sim = 1.0\n",
    "\n",
    "\n",
    "\n",
    "\n",
    "torch.log(torch.tensor(p_sim / (n_sim + 1e-8)))"
   ]
  },
  {
   "cell_type": "code",
   "execution_count": 56,
   "metadata": {},
   "outputs": [
    {
     "data": {
      "text/plain": [
       "tensor([[235.5540, 258.9219, 221.9025, 193.1136, 272.9230],\n",
       "        [306.1269, 273.0979, 269.9890, 281.2263, 230.7613],\n",
       "        [306.9206, 291.0210, 251.7941, 281.2831, 248.7271]])"
      ]
     },
     "execution_count": 56,
     "metadata": {},
     "output_type": "execute_result"
    }
   ],
   "source": [
    "einsumops(x,x, 'b n d, b n d -> b n')"
   ]
  },
  {
   "cell_type": "code",
   "execution_count": 51,
   "metadata": {},
   "outputs": [
    {
     "data": {
      "text/plain": [
       "tensor([[0.0290, 0.0225, 0.0438],\n",
       "        [1.0000, 0.0059, 1.0000]])"
      ]
     },
     "execution_count": 51,
     "metadata": {},
     "output_type": "execute_result"
    }
   ],
   "source": [
    "anchor = torch.randn(2, 3, 256)\n",
    "positive = torch.randn(2, 3, 256)\n",
    "negative = torch.randn(2, 3, 256)\n",
    "anchor = anchor / anchor.norm(dim=-1, keepdim=True)\n",
    "positive = positive / positive.norm(dim=-1, keepdim=True)\n",
    "negative = negative / negative.norm(dim=-1, keepdim=True)\n",
    "mal = F.triplet_margin_loss(anchor, positive, negative, margin=0.0, p=2, reduction='none')\n",
    "mal[mal==0] = 1\n",
    "mal"
   ]
  },
  {
   "cell_type": "code",
   "execution_count": 33,
   "metadata": {},
   "outputs": [
    {
     "data": {
      "text/plain": [
       "dict_keys(['layers', 'next_sentence_pred', 'next_sentence_pred_mse'])"
      ]
     },
     "execution_count": 33,
     "metadata": {},
     "output_type": "execute_result"
    }
   ],
   "source": [
    "outputs['cache'].keys()"
   ]
  },
  {
   "cell_type": "code",
   "execution_count": 328,
   "metadata": {},
   "outputs": [
    {
     "data": {
      "text/plain": [
       "torch.Size([16, 1024, 96])"
      ]
     },
     "execution_count": 328,
     "metadata": {},
     "output_type": "execute_result"
    }
   ],
   "source": [
    "tlm.layers.vqs[0].vq._codebook.embed.shape"
   ]
  },
  {
   "cell_type": "code",
   "execution_count": 455,
   "metadata": {},
   "outputs": [],
   "source": [
    "class Halfer(nn.Module): # uses conv instead of avg_pool1d\n",
    "    def __init__(self, dim, exp_f=4):\n",
    "        super().__init__()\n",
    "        self.conv = nn.Conv1d(dim, dim*exp_f*2, kernel_size=2, stride=2, padding=0, bias=True)\n",
    "        self.act = nn.SiLU()\n",
    "        self.empty_vec = torch.zeros(1,1,dim)\n",
    "        self.ff = nn.Linear(dim*exp_f, dim)\n",
    "\n",
    "    def forward(self, x, length):\n",
    "        if x.shape[1] % 2 == 1:\n",
    "            x = torch.cat([x, self.empty_vec.to(x.device).expand(x.shape[0],1,-1)], dim=1)\n",
    "            length += 1\n",
    "        x = self.conv(x.transpose(1,2)).transpose(1,2)\n",
    "        a, b = x.chunk(2, dim=-1)\n",
    "        x = a * self.act(b)\n",
    "        x = self.ff(x)\n",
    "        length = (length + 1).div(2).floor().long()\n",
    "        return x, length\n",
    "\n",
    "halfer = Halfer(dim=256)"
   ]
  },
  {
   "cell_type": "code",
   "execution_count": 256,
   "metadata": {},
   "outputs": [
    {
     "data": {
      "text/plain": [
       "tensor([[17, 22, 27, 35, 22, 24, 23, 27, 41, 16, 16, 21, 14, 15, 13, 12, 10, 31],\n",
       "        [ 9, 12, 14, 18, 12, 13, 12, 14, 21,  9,  9, 11,  8,  8,  7,  7,  6, 16],\n",
       "        [ 5,  7,  8, 10,  7,  7,  7,  8, 11,  5,  5,  6,  5,  5,  4,  4,  4,  9],\n",
       "        [ 3,  4,  5,  6,  4,  4,  4,  5,  6,  3,  3,  4,  3,  3,  3,  3,  3,  5],\n",
       "        [ 2,  2,  3,  3,  2,  2,  2,  3,  3,  2,  2,  2,  2,  2,  2,  2,  2,  3]])"
      ]
     },
     "execution_count": 256,
     "metadata": {},
     "output_type": "execute_result"
    }
   ],
   "source": [
    "def grab_last_token_(x, length):\n",
    "    B, N, D = x.shape\n",
    "    last_tokens =  x[torch.arange(x.shape[0]), length-1][:,None,:]\n",
    "    x_last_tokens_removed_mask = torch.arange(x.shape[1], device=x.device)[None,:] < length[:,None] - 1 # mask for removing last tokens\n",
    "    x = x.masked_fill(~x_last_tokens_removed_mask[:,:,None], 0) #blank out last tokens\n",
    "    x = x[:, :-1] # remove last tokens\n",
    "    return x, last_tokens"
   ]
  },
  {
   "cell_type": "code",
   "execution_count": 291,
   "metadata": {},
   "outputs": [
    {
     "name": "stdout",
     "output_type": "stream",
     "text": [
      "torch.Size([18, 3, 256])\n",
      "torch.Size([18, 1, 256]) torch.Size([18, 2, 256])\n",
      "torch.Size([18, 6, 256])\n",
      "torch.Size([18, 1, 256]) torch.Size([18, 5, 256])\n",
      "torch.Size([18, 11, 256])\n",
      "torch.Size([18, 1, 256]) torch.Size([18, 10, 256])\n",
      "torch.Size([18, 21, 256])\n",
      "torch.Size([18, 1, 256]) torch.Size([18, 20, 256])\n"
     ]
    }
   ],
   "source": [
    "def grab_last_token_(x, length):\n",
    "    B, N, D = x.shape\n",
    "    last_tokens =  x[torch.arange(x.shape[0]), length-1][:,None,:]\n",
    "    x_last_tokens_removed_mask = torch.arange(x.shape[1], device=x.device)[None,:] < length[:,None] - 1 # mask for removing last tokens\n",
    "    x = x.masked_fill(~x_last_tokens_removed_mask[:,:,None], 0) #blank out last tokens\n",
    "    x = x[:, :-1] # remove last tokens\n",
    "    return x, last_tokens\n",
    "\n",
    "for i in range(len(outputs['hidden_outs'])-1, 0,-1):\n",
    "    hduped = outputs['hidden_outs'][i].clone()\n",
    "    l_lengths = outputs['lengths'][i]\n",
    "    print(hduped.shape)\n",
    "    hduped ,hduped_lasts = grab_last_token_(hduped, l_lengths)\n",
    "    print(hduped_lasts.shape, hduped.shape)\n",
    "    continue\n",
    "    hduped = hduped.repeat_interleave(2, dim=1)[:,:,None]\n",
    "    # shift by 2 to the right\n",
    "   \n",
    "\n",
    "    lbelow = outputs['hidden_outs'][i-1][:,:,None]\n",
    "    if lbelow.shape[1] < hduped.shape[1]:\n",
    "        diff = hduped.shape[1] - lbelow.shape[1]\n",
    "        lbelow = torch.cat([lbelow, torch.zeros((lbelow.shape[0], diff, lbelow.shape[2], lbelow.shape[3]), device=lbelow.device)], dim=1)\n",
    "    hjoint = torch.cat([hduped, lbelow], dim=2)\n",
    "    hjoint = rearrange(hjoint, 'b n l d -> (b n) l d')\n",
    "    clength = repeat(torch.tensor([2]), 'n -> b n', b=hjoint.shape[0])\n",
    "    #print(clength.shape, hjoint.shape)\n",
    "    hjoint,l = halfer(x=hjoint, length=clength)\n",
    "    #print(hjoint.shape)\n"
   ]
  },
  {
   "cell_type": "code",
   "execution_count": 174,
   "metadata": {},
   "outputs": [
    {
     "data": {
      "text/plain": [
       "torch.Size([3, 71, 256])"
      ]
     },
     "execution_count": 174,
     "metadata": {},
     "output_type": "execute_result"
    }
   ],
   "source": [
    "outputs['hidden_outs'][1].shape"
   ]
  },
  {
   "cell_type": "code",
   "execution_count": 157,
   "metadata": {},
   "outputs": [
    {
     "data": {
      "text/plain": [
       "torch.Size([3, 24, 1])"
      ]
     },
     "execution_count": 157,
     "metadata": {},
     "output_type": "execute_result"
    }
   ],
   "source": [
    "outputs['targets'][1].shape"
   ]
  },
  {
   "cell_type": "code",
   "execution_count": 280,
   "metadata": {},
   "outputs": [],
   "source": [
    "def shift(seq, n):\n",
    "    n = n % len(seq)\n",
    "    return seq[n:] + [seq[-1]] * n"
   ]
  },
  {
   "cell_type": "code",
   "execution_count": 283,
   "metadata": {},
   "outputs": [],
   "source": [
    "a  =shift(outputs['layers'], 4)"
   ]
  },
  {
   "cell_type": "code",
   "execution_count": 123,
   "metadata": {},
   "outputs": [
    {
     "data": {
      "text/plain": [
       "tensor([32, 16,  8,  4,  2,  1])"
      ]
     },
     "execution_count": 123,
     "metadata": {},
     "output_type": "execute_result"
    }
   ],
   "source": [
    "outputs['lengths'].sum(-1)"
   ]
  },
  {
   "cell_type": "code",
   "execution_count": 53,
   "metadata": {},
   "outputs": [
    {
     "data": {
      "text/plain": [
       "30"
      ]
     },
     "execution_count": 53,
     "metadata": {},
     "output_type": "execute_result"
    }
   ],
   "source": [
    "495 // 16"
   ]
  },
  {
   "cell_type": "code",
   "execution_count": 477,
   "metadata": {},
   "outputs": [
    {
     "data": {
      "text/plain": [
       "False"
      ]
     },
     "execution_count": 477,
     "metadata": {},
     "output_type": "execute_result"
    }
   ],
   "source": [
    "torch.rand(1).item() < 0.25"
   ]
  },
  {
   "cell_type": "code",
   "execution_count": 34,
   "metadata": {},
   "outputs": [
    {
     "data": {
      "text/plain": [
       "torch.Size([2, 8, 31, 2048])"
      ]
     },
     "execution_count": 34,
     "metadata": {},
     "output_type": "execute_result"
    }
   ],
   "source": [
    "outputs['logits'][0].shape"
   ]
  },
  {
   "cell_type": "code",
   "execution_count": 84,
   "metadata": {},
   "outputs": [
    {
     "data": {
      "text/plain": [
       "tensor([65.9580, 63.7633, 62.8315, 69.2358], grad_fn=<StackBackward0>)"
      ]
     },
     "execution_count": 84,
     "metadata": {},
     "output_type": "execute_result"
    }
   ],
   "source": [
    "outputs['ntmselosses']"
   ]
  },
  {
   "cell_type": "code",
   "execution_count": 155,
   "metadata": {},
   "outputs": [
    {
     "data": {
      "text/plain": [
       "PreNorm(\n",
       "  (norm): LayerNorm((512,), eps=1e-05, elementwise_affine=True)\n",
       "  (fn): Linear(in_features=512, out_features=65536, bias=True)\n",
       ")"
      ]
     },
     "execution_count": 155,
     "metadata": {},
     "output_type": "execute_result"
    }
   ],
   "source": [
    "tlm.layers.prediction_layer.proj"
   ]
  },
  {
   "cell_type": "code",
   "execution_count": 10,
   "metadata": {},
   "outputs": [
    {
     "data": {
      "text/plain": [
       "torch.Size([8, 512, 16])"
      ]
     },
     "execution_count": 10,
     "metadata": {},
     "output_type": "execute_result"
    }
   ],
   "source": [
    "tlm.layers.vq.rand_projs.sha"
   ]
  },
  {
   "cell_type": "code",
   "execution_count": 69,
   "metadata": {},
   "outputs": [
    {
     "data": {
      "text/plain": [
       "tensor([4.8512e-05, 1.0593e-11, 7.2242e-09, 2.6193e-05, 8.0787e-01, 2.6063e-03,\n",
       "        4.7783e-09, 3.2229e-07, 1.4465e-05, 3.6879e-06, 1.0025e-01, 8.8024e-02,\n",
       "        2.2859e-04, 3.6317e-05, 3.1599e-04, 2.3074e-06, 4.0680e-10, 5.3289e-09,\n",
       "        8.5113e-12, 4.3304e-10, 9.8376e-05, 3.4789e-12, 7.5649e-05, 7.8943e-12,\n",
       "        4.0337e-04, 1.6436e-07, 3.8995e-10, 5.4118e-08, 4.5816e-08],\n",
       "       grad_fn=<SoftmaxBackward0>)"
      ]
     },
     "execution_count": 69,
     "metadata": {},
     "output_type": "execute_result"
    }
   ],
   "source": [
    "outputs['logits'][0][0][0].softmax(-1)"
   ]
  },
  {
   "cell_type": "code",
   "execution_count": 177,
   "metadata": {},
   "outputs": [
    {
     "data": {
      "text/plain": [
       "tensor([69.2053, 13.9073,  4.6358,  4.3046])"
      ]
     },
     "execution_count": 177,
     "metadata": {},
     "output_type": "execute_result"
    }
   ],
   "source": [
    "outputs['codebook_usage']"
   ]
  },
  {
   "cell_type": "code",
   "execution_count": 126,
   "metadata": {},
   "outputs": [
    {
     "data": {
      "text/plain": [
       "302"
      ]
     },
     "execution_count": 126,
     "metadata": {},
     "output_type": "execute_result"
    }
   ],
   "source": [
    "tlm.layers.codebook_size"
   ]
  },
  {
   "cell_type": "code",
   "execution_count": 134,
   "metadata": {},
   "outputs": [
    {
     "data": {
      "text/plain": [
       "tensor([[  0],\n",
       "        [302]])"
      ]
     },
     "execution_count": 134,
     "metadata": {},
     "output_type": "execute_result"
    }
   ],
   "source": [
    "(torch.arange(0, a.shape[0])*tlm.layers.codebook_size)[:,None]"
   ]
  },
  {
   "cell_type": "code",
   "execution_count": 145,
   "metadata": {},
   "outputs": [
    {
     "data": {
      "text/plain": [
       "tensor(301)"
      ]
     },
     "execution_count": 145,
     "metadata": {},
     "output_type": "execute_result"
    }
   ],
   "source": [
    "outputs['codebook_indices'][0].max()"
   ]
  },
  {
   "cell_type": "code",
   "execution_count": 203,
   "metadata": {},
   "outputs": [
    {
     "name": "stdout",
     "output_type": "stream",
     "text": [
      "tensor(601)\n",
      "tensor(903)\n",
      "torch.Size([359])\n",
      "59.44%\n"
     ]
    }
   ],
   "source": [
    "a = rearrange(outputs['codebook_indices'][0].clone(), 'b n h -> h (b n)')\n",
    "print(a.max())\n",
    "a += (torch.arange(0, a.shape[0])*tlm.layers.codebook_size)[:,None]\n",
    "print(a.max())\n",
    "a = rearrange(a, 'h o -> (h o)')\n",
    "print(a.unique().shape)\n",
    "usage = (a.unique().shape[0] / (tlm.layers.codebook_size*tlm.layers.codebook_heads)) * 100\n",
    "print(f'{usage:.2f}%')"
   ]
  },
  {
   "cell_type": "code",
   "execution_count": 321,
   "metadata": {},
   "outputs": [
    {
     "data": {
      "text/plain": [
       "torch.Size([678])"
      ]
     },
     "execution_count": 321,
     "metadata": {},
     "output_type": "execute_result"
    }
   ],
   "source": [
    "a = torch.randn(40,32)\n",
    "a[a<0.1].shape"
   ]
  },
  {
   "cell_type": "code",
   "execution_count": 101,
   "metadata": {},
   "outputs": [
    {
     "data": {
      "text/plain": [
       "torch.Size([2, 248, 2])"
      ]
     },
     "execution_count": 101,
     "metadata": {},
     "output_type": "execute_result"
    }
   ],
   "source": [
    "outputs['codebook_usage'][0].shape"
   ]
  },
  {
   "cell_type": "code",
   "execution_count": 102,
   "metadata": {},
   "outputs": [
    {
     "data": {
      "text/plain": [
       "1.3509933774834437"
      ]
     },
     "execution_count": 102,
     "metadata": {},
     "output_type": "execute_result"
    }
   ],
   "source": [
    "(outputs['codebook_usage'][0].reshape(-1, 2) + (torch.arange(2)*302)[None,:]).reshape(-1).unique().shape[0] / 302*2"
   ]
  },
  {
   "cell_type": "code",
   "execution_count": 340,
   "metadata": {},
   "outputs": [
    {
     "data": {
      "text/plain": [
       "Parameter containing:\n",
       "tensor(nan, requires_grad=True)"
      ]
     },
     "execution_count": 340,
     "metadata": {},
     "output_type": "execute_result"
    }
   ],
   "source": [
    "tlm.layers."
   ]
  },
  {
   "cell_type": "code",
   "execution_count": 31,
   "metadata": {},
   "outputs": [
    {
     "data": {
      "text/plain": [
       "[tensor(1.7931, grad_fn=<DivBackward0>),\n",
       " tensor(2.7000, grad_fn=<DivBackward0>),\n",
       " tensor(1.4052, grad_fn=<DivBackward0>),\n",
       " tensor(0.7261, grad_fn=<DivBackward0>)]"
      ]
     },
     "execution_count": 31,
     "metadata": {},
     "output_type": "execute_result"
    }
   ],
   "source": [
    "outputs['losses']"
   ]
  },
  {
   "cell_type": "code",
   "execution_count": 505,
   "metadata": {},
   "outputs": [
    {
     "data": {
      "text/plain": [
       "502.4375"
      ]
     },
     "execution_count": 505,
     "metadata": {},
     "output_type": "execute_result"
    }
   ],
   "source": [
    "8039 / 16"
   ]
  },
  {
   "cell_type": "code",
   "execution_count": 426,
   "metadata": {},
   "outputs": [
    {
     "name": "stdout",
     "output_type": "stream",
     "text": [
      "torch.Size([2, 124, 16, 128]) torch.Size([2, 124, 16])\n"
     ]
    }
   ],
   "source": [
    "t = outputs['targets'][2]\n",
    "l = outputs['logits'][2]\n",
    "l = rearrange(l, 'b h n v -> b n h v')\n",
    "print(l.shape, t.shape)"
   ]
  },
  {
   "cell_type": "code",
   "execution_count": 438,
   "metadata": {},
   "outputs": [
    {
     "data": {
      "text/plain": [
       "(torch.Size([2, 124, 16]), torch.Size([2, 124, 16, 128]))"
      ]
     },
     "execution_count": 438,
     "metadata": {},
     "output_type": "execute_result"
    }
   ],
   "source": [
    "t.shape, l.shape"
   ]
  },
  {
   "cell_type": "code",
   "execution_count": 455,
   "metadata": {},
   "outputs": [
    {
     "name": "stdout",
     "output_type": "stream",
     "text": [
      "torch.Size([32, 124, 128]) torch.Size([32, 124])\n",
      "torch.Size([32, 124])\n"
     ]
    },
    {
     "data": {
      "text/plain": [
       "tensor(8.5365, grad_fn=<DivBackward0>)"
      ]
     },
     "execution_count": 455,
     "metadata": {},
     "output_type": "execute_result"
    }
   ],
   "source": [
    "lo = outputs['token_losses_others'][2]\n",
    "logits = lo['logits']\n",
    "targets = lo['targets']\n",
    "print(logits.shape, targets.shape)\n",
    "# output: torch.Size([32, 62, 128]) torch.Size([32, 62])\n",
    "# set -100 values to 0 on targets_to_grab\n",
    "targets_to_grab = targets.clone()\n",
    "targets_to_grab[targets_to_grab == -100] = 0\n",
    "# create mask\n",
    "mask = targets == -100\n",
    "selected = -logits.gather(2, targets_to_grab.unsqueeze(2)).squeeze(2)\n",
    "# set -100 values to 0 on selected\n",
    "selected[mask] = 0\n",
    "print(selected.shape)\n",
    "selected.sum() / (~mask).sum()"
   ]
  },
  {
   "cell_type": "code",
   "execution_count": 341,
   "metadata": {},
   "outputs": [
    {
     "data": {
      "text/plain": [
       "torch.Size([2, 16, 31, 128])"
      ]
     },
     "execution_count": 341,
     "metadata": {},
     "output_type": "execute_result"
    }
   ],
   "source": [
    "outputs['logits'][4].shape"
   ]
  },
  {
   "cell_type": "code",
   "execution_count": 284,
   "metadata": {},
   "outputs": [
    {
     "data": {
      "text/plain": [
       "tensor(-5.6230, grad_fn=<MaxBackward1>)"
      ]
     },
     "execution_count": 284,
     "metadata": {},
     "output_type": "execute_result"
    }
   ],
   "source": [
    "outputs['logits'][1][0,0,0].max()"
   ]
  },
  {
   "cell_type": "code",
   "execution_count": null,
   "metadata": {},
   "outputs": [],
   "source": [
    "                print(zsimt.shape, prev_idx.shape, ntpt.shape, ntp.shape, zsim.shape, mask.shape)\n"
   ]
  },
  {
   "cell_type": "code",
   "execution_count": 79,
   "metadata": {},
   "outputs": [
    {
     "data": {
      "text/plain": [
       "tensor([0.0000, 1.2000])"
      ]
     },
     "execution_count": 79,
     "metadata": {},
     "output_type": "execute_result"
    }
   ],
   "source": [
    "torch.tensor([0.0,1.2]) / torch.tensor([1.0, 1.0])"
   ]
  },
  {
   "cell_type": "code",
   "execution_count": 71,
   "metadata": {},
   "outputs": [],
   "source": [
    "tlm.update_codebook(outputs['cache'])"
   ]
  },
  {
   "cell_type": "code",
   "execution_count": 60,
   "metadata": {},
   "outputs": [
    {
     "data": {
      "text/plain": [
       "16"
      ]
     },
     "execution_count": 60,
     "metadata": {},
     "output_type": "execute_result"
    }
   ],
   "source": [
    "len(torch.randn(16, 2, 248, 32).unbind(dim=0))"
   ]
  },
  {
   "cell_type": "code",
   "execution_count": 47,
   "metadata": {},
   "outputs": [
    {
     "name": "stdout",
     "output_type": "stream",
     "text": [
      "torch.Size([1, 512]) 1\n"
     ]
    }
   ],
   "source": [
    "rl(vector_quantize_pytorch)\n",
    "a= vector_quantize_pytorch.vector_quantize_pytorch_m.VectorQuantize(\n",
    "    dim = 256,\n",
    "    codebook_size = 512,     # codebook size\n",
    "    decay = 0.8,             # the exponential moving average decay, lower means the dictionary will change faster\n",
    "    commitment_weight = 1.   # the weight on the commitment loss\n",
    ")\n",
    "x = torch.randn(1, 1024, 256)\n",
    "quantized, indices, commit_loss = a(x) # (1, 1024, 256), (1, 1024), (1)"
   ]
  },
  {
   "cell_type": "code",
   "execution_count": 49,
   "metadata": {},
   "outputs": [
    {
     "data": {
      "text/plain": [
       "16384"
      ]
     },
     "execution_count": 49,
     "metadata": {},
     "output_type": "execute_result"
    }
   ],
   "source": [
    "16*1024"
   ]
  },
  {
   "cell_type": "code",
   "execution_count": 36,
   "metadata": {},
   "outputs": [
    {
     "data": {
      "text/plain": [
       "torch.Size([16, 27, 256])"
      ]
     },
     "execution_count": 36,
     "metadata": {},
     "output_type": "execute_result"
    }
   ],
   "source": [
    "a = torch.randn(16, 256, 27)\n",
    "a = a.transpose(1,-1)\n",
    "a.shape"
   ]
  },
  {
   "cell_type": "code",
   "execution_count": 46,
   "metadata": {},
   "outputs": [
    {
     "data": {
      "text/plain": [
       "torch.Size([1, 1024, 16])"
      ]
     },
     "execution_count": 46,
     "metadata": {},
     "output_type": "execute_result"
    }
   ],
   "source": [
    "x.shape"
   ]
  },
  {
   "cell_type": "code",
   "execution_count": 101,
   "metadata": {},
   "outputs": [
    {
     "data": {
      "text/html": [
       "<pre style=\"white-space:pre;overflow-x:auto;line-height:normal;font-family:Menlo,'DejaVu Sans Mono',consolas,'Courier New',monospace\"><span style=\"color: #800000; text-decoration-color: #800000\">╭─────────────────────────────── </span><span style=\"color: #800000; text-decoration-color: #800000; font-weight: bold\">Traceback </span><span style=\"color: #bf7f7f; text-decoration-color: #bf7f7f; font-weight: bold\">(most recent call last)</span><span style=\"color: #800000; text-decoration-color: #800000\"> ────────────────────────────────╮</span>\n",
       "<span style=\"color: #800000; text-decoration-color: #800000\">│</span> <span style=\"color: #bfbf7f; text-decoration-color: #bfbf7f\">/tmp/ipykernel_211058/</span><span style=\"color: #808000; text-decoration-color: #808000; font-weight: bold\">1473143956.py</span>:<span style=\"color: #0000ff; text-decoration-color: #0000ff\">21</span> in <span style=\"color: #00ff00; text-decoration-color: #00ff00\">&lt;module&gt;</span>                                               <span style=\"color: #800000; text-decoration-color: #800000\">│</span>\n",
       "<span style=\"color: #800000; text-decoration-color: #800000\">│</span>                                                                                                  <span style=\"color: #800000; text-decoration-color: #800000\">│</span>\n",
       "<span style=\"color: #800000; text-decoration-color: #800000\">│</span> <span style=\"color: #800000; text-decoration-color: #800000; font-style: italic\">[Errno 2] No such file or directory: '/tmp/ipykernel_211058/1473143956.py'</span>                       <span style=\"color: #800000; text-decoration-color: #800000\">│</span>\n",
       "<span style=\"color: #800000; text-decoration-color: #800000\">│</span>                                                                                                  <span style=\"color: #800000; text-decoration-color: #800000\">│</span>\n",
       "<span style=\"color: #800000; text-decoration-color: #800000\">│</span> <span style=\"color: #bfbf7f; text-decoration-color: #bfbf7f\">/store/store1/software/bin/anaconda3/envs/k2_custom-nemo/lib/python3.8/site-packages/torch/nn/mo</span> <span style=\"color: #800000; text-decoration-color: #800000\">│</span>\n",
       "<span style=\"color: #800000; text-decoration-color: #800000\">│</span> <span style=\"color: #bfbf7f; text-decoration-color: #bfbf7f\">dules/</span><span style=\"color: #808000; text-decoration-color: #808000; font-weight: bold\">module.py</span>:<span style=\"color: #0000ff; text-decoration-color: #0000ff\">1110</span> in <span style=\"color: #00ff00; text-decoration-color: #00ff00\">_call_impl</span>                                                               <span style=\"color: #800000; text-decoration-color: #800000\">│</span>\n",
       "<span style=\"color: #800000; text-decoration-color: #800000\">│</span>                                                                                                  <span style=\"color: #800000; text-decoration-color: #800000\">│</span>\n",
       "<span style=\"color: #800000; text-decoration-color: #800000\">│</span>   <span style=\"color: #7f7f7f; text-decoration-color: #7f7f7f\">1107 │   │   # this function, and just call forward.</span>                                           <span style=\"color: #800000; text-decoration-color: #800000\">│</span>\n",
       "<span style=\"color: #800000; text-decoration-color: #800000\">│</span>   <span style=\"color: #7f7f7f; text-decoration-color: #7f7f7f\">1108 │   │   </span><span style=\"color: #0000ff; text-decoration-color: #0000ff\">if</span> <span style=\"color: #ff00ff; text-decoration-color: #ff00ff\">not</span> (<span style=\"color: #00ffff; text-decoration-color: #00ffff\">self</span>._backward_hooks <span style=\"color: #ff00ff; text-decoration-color: #ff00ff\">or</span> <span style=\"color: #00ffff; text-decoration-color: #00ffff\">self</span>._forward_hooks <span style=\"color: #ff00ff; text-decoration-color: #ff00ff\">or</span> <span style=\"color: #00ffff; text-decoration-color: #00ffff\">self</span>._forward_pre_hooks <span style=\"color: #ff00ff; text-decoration-color: #ff00ff\">o</span>  <span style=\"color: #800000; text-decoration-color: #800000\">│</span>\n",
       "<span style=\"color: #800000; text-decoration-color: #800000\">│</span>   <span style=\"color: #7f7f7f; text-decoration-color: #7f7f7f\">1109 │   │   │   │   </span><span style=\"color: #ff00ff; text-decoration-color: #ff00ff\">or</span> _global_forward_hooks <span style=\"color: #ff00ff; text-decoration-color: #ff00ff\">or</span> _global_forward_pre_hooks):                   <span style=\"color: #800000; text-decoration-color: #800000\">│</span>\n",
       "<span style=\"color: #800000; text-decoration-color: #800000\">│</span> <span style=\"color: #800000; text-decoration-color: #800000\">❱ </span>1110 <span style=\"color: #7f7f7f; text-decoration-color: #7f7f7f\">│   │   │   </span><span style=\"color: #0000ff; text-decoration-color: #0000ff\">return</span> forward_call(*<span style=\"color: #00ffff; text-decoration-color: #00ffff\">input</span>, **kwargs)                                         <span style=\"color: #800000; text-decoration-color: #800000\">│</span>\n",
       "<span style=\"color: #800000; text-decoration-color: #800000\">│</span>   <span style=\"color: #7f7f7f; text-decoration-color: #7f7f7f\">1111 │   │   # Do not call functions when jit is used</span>                                          <span style=\"color: #800000; text-decoration-color: #800000\">│</span>\n",
       "<span style=\"color: #800000; text-decoration-color: #800000\">│</span>   <span style=\"color: #7f7f7f; text-decoration-color: #7f7f7f\">1112 │   │   </span>full_backward_hooks, non_full_backward_hooks = [], []                             <span style=\"color: #800000; text-decoration-color: #800000\">│</span>\n",
       "<span style=\"color: #800000; text-decoration-color: #800000\">│</span>   <span style=\"color: #7f7f7f; text-decoration-color: #7f7f7f\">1113 │   │   </span><span style=\"color: #0000ff; text-decoration-color: #0000ff\">if</span> <span style=\"color: #00ffff; text-decoration-color: #00ffff\">self</span>._backward_hooks <span style=\"color: #ff00ff; text-decoration-color: #ff00ff\">or</span> _global_backward_hooks:                                <span style=\"color: #800000; text-decoration-color: #800000\">│</span>\n",
       "<span style=\"color: #800000; text-decoration-color: #800000\">│</span>                                                                                                  <span style=\"color: #800000; text-decoration-color: #800000\">│</span>\n",
       "<span style=\"color: #800000; text-decoration-color: #800000\">│</span> <span style=\"color: #bfbf7f; text-decoration-color: #bfbf7f\">/tmp/ipykernel_211058/</span><span style=\"color: #808000; text-decoration-color: #808000; font-weight: bold\">2336294555.py</span>:<span style=\"color: #0000ff; text-decoration-color: #0000ff\">847</span> in <span style=\"color: #00ff00; text-decoration-color: #00ff00\">forward</span>                                               <span style=\"color: #800000; text-decoration-color: #800000\">│</span>\n",
       "<span style=\"color: #800000; text-decoration-color: #800000\">│</span>                                                                                                  <span style=\"color: #800000; text-decoration-color: #800000\">│</span>\n",
       "<span style=\"color: #800000; text-decoration-color: #800000\">│</span> <span style=\"color: #800000; text-decoration-color: #800000; font-style: italic\">[Errno 2] No such file or directory: '/tmp/ipykernel_211058/2336294555.py'</span>                       <span style=\"color: #800000; text-decoration-color: #800000\">│</span>\n",
       "<span style=\"color: #800000; text-decoration-color: #800000\">│</span>                                                                                                  <span style=\"color: #800000; text-decoration-color: #800000\">│</span>\n",
       "<span style=\"color: #800000; text-decoration-color: #800000\">│</span> <span style=\"color: #bfbf7f; text-decoration-color: #bfbf7f\">/tmp/ipykernel_211058/</span><span style=\"color: #808000; text-decoration-color: #808000; font-weight: bold\">2336294555.py</span>:<span style=\"color: #0000ff; text-decoration-color: #0000ff\">821</span> in <span style=\"color: #00ff00; text-decoration-color: #00ff00\">calc_all_losses</span>                                       <span style=\"color: #800000; text-decoration-color: #800000\">│</span>\n",
       "<span style=\"color: #800000; text-decoration-color: #800000\">│</span>                                                                                                  <span style=\"color: #800000; text-decoration-color: #800000\">│</span>\n",
       "<span style=\"color: #800000; text-decoration-color: #800000\">│</span> <span style=\"color: #800000; text-decoration-color: #800000; font-style: italic\">[Errno 2] No such file or directory: '/tmp/ipykernel_211058/2336294555.py'</span>                       <span style=\"color: #800000; text-decoration-color: #800000\">│</span>\n",
       "<span style=\"color: #800000; text-decoration-color: #800000\">│</span>                                                                                                  <span style=\"color: #800000; text-decoration-color: #800000\">│</span>\n",
       "<span style=\"color: #800000; text-decoration-color: #800000\">│</span> <span style=\"color: #bfbf7f; text-decoration-color: #bfbf7f\">/tmp/ipykernel_211058/</span><span style=\"color: #808000; text-decoration-color: #808000; font-weight: bold\">2336294555.py</span>:<span style=\"color: #0000ff; text-decoration-color: #0000ff\">789</span> in <span style=\"color: #00ff00; text-decoration-color: #00ff00\">calc_latents_mse_loss</span>                                 <span style=\"color: #800000; text-decoration-color: #800000\">│</span>\n",
       "<span style=\"color: #800000; text-decoration-color: #800000\">│</span>                                                                                                  <span style=\"color: #800000; text-decoration-color: #800000\">│</span>\n",
       "<span style=\"color: #800000; text-decoration-color: #800000\">│</span> <span style=\"color: #800000; text-decoration-color: #800000; font-style: italic\">[Errno 2] No such file or directory: '/tmp/ipykernel_211058/2336294555.py'</span>                       <span style=\"color: #800000; text-decoration-color: #800000\">│</span>\n",
       "<span style=\"color: #800000; text-decoration-color: #800000\">╰──────────────────────────────────────────────────────────────────────────────────────────────────╯</span>\n",
       "<span style=\"color: #ff0000; text-decoration-color: #ff0000; font-weight: bold\">UnboundLocalError: </span>local variable <span style=\"color: #008000; text-decoration-color: #008000\">'mse_diff'</span> referenced before assignment\n",
       "</pre>\n"
      ],
      "text/plain": [
       "\u001b[31m╭─\u001b[0m\u001b[31m──────────────────────────────\u001b[0m\u001b[31m \u001b[0m\u001b[1;31mTraceback \u001b[0m\u001b[1;2;31m(most recent call last)\u001b[0m\u001b[31m \u001b[0m\u001b[31m───────────────────────────────\u001b[0m\u001b[31m─╮\u001b[0m\n",
       "\u001b[31m│\u001b[0m \u001b[2;33m/tmp/ipykernel_211058/\u001b[0m\u001b[1;33m1473143956.py\u001b[0m:\u001b[94m21\u001b[0m in \u001b[92m<module>\u001b[0m                                               \u001b[31m│\u001b[0m\n",
       "\u001b[31m│\u001b[0m                                                                                                  \u001b[31m│\u001b[0m\n",
       "\u001b[31m│\u001b[0m \u001b[3;31m[Errno 2] No such file or directory: '/tmp/ipykernel_211058/1473143956.py'\u001b[0m                       \u001b[31m│\u001b[0m\n",
       "\u001b[31m│\u001b[0m                                                                                                  \u001b[31m│\u001b[0m\n",
       "\u001b[31m│\u001b[0m \u001b[2;33m/store/store1/software/bin/anaconda3/envs/k2_custom-nemo/lib/python3.8/site-packages/torch/nn/mo\u001b[0m \u001b[31m│\u001b[0m\n",
       "\u001b[31m│\u001b[0m \u001b[2;33mdules/\u001b[0m\u001b[1;33mmodule.py\u001b[0m:\u001b[94m1110\u001b[0m in \u001b[92m_call_impl\u001b[0m                                                               \u001b[31m│\u001b[0m\n",
       "\u001b[31m│\u001b[0m                                                                                                  \u001b[31m│\u001b[0m\n",
       "\u001b[31m│\u001b[0m   \u001b[2m1107 \u001b[0m\u001b[2m│   │   \u001b[0m\u001b[2m# this function, and just call forward.\u001b[0m                                           \u001b[31m│\u001b[0m\n",
       "\u001b[31m│\u001b[0m   \u001b[2m1108 \u001b[0m\u001b[2m│   │   \u001b[0m\u001b[94mif\u001b[0m \u001b[95mnot\u001b[0m (\u001b[96mself\u001b[0m._backward_hooks \u001b[95mor\u001b[0m \u001b[96mself\u001b[0m._forward_hooks \u001b[95mor\u001b[0m \u001b[96mself\u001b[0m._forward_pre_hooks \u001b[95mo\u001b[0m  \u001b[31m│\u001b[0m\n",
       "\u001b[31m│\u001b[0m   \u001b[2m1109 \u001b[0m\u001b[2m│   │   │   │   \u001b[0m\u001b[95mor\u001b[0m _global_forward_hooks \u001b[95mor\u001b[0m _global_forward_pre_hooks):                   \u001b[31m│\u001b[0m\n",
       "\u001b[31m│\u001b[0m \u001b[31m❱ \u001b[0m1110 \u001b[2m│   │   │   \u001b[0m\u001b[94mreturn\u001b[0m forward_call(*\u001b[96minput\u001b[0m, **kwargs)                                         \u001b[31m│\u001b[0m\n",
       "\u001b[31m│\u001b[0m   \u001b[2m1111 \u001b[0m\u001b[2m│   │   \u001b[0m\u001b[2m# Do not call functions when jit is used\u001b[0m                                          \u001b[31m│\u001b[0m\n",
       "\u001b[31m│\u001b[0m   \u001b[2m1112 \u001b[0m\u001b[2m│   │   \u001b[0mfull_backward_hooks, non_full_backward_hooks = [], []                             \u001b[31m│\u001b[0m\n",
       "\u001b[31m│\u001b[0m   \u001b[2m1113 \u001b[0m\u001b[2m│   │   \u001b[0m\u001b[94mif\u001b[0m \u001b[96mself\u001b[0m._backward_hooks \u001b[95mor\u001b[0m _global_backward_hooks:                                \u001b[31m│\u001b[0m\n",
       "\u001b[31m│\u001b[0m                                                                                                  \u001b[31m│\u001b[0m\n",
       "\u001b[31m│\u001b[0m \u001b[2;33m/tmp/ipykernel_211058/\u001b[0m\u001b[1;33m2336294555.py\u001b[0m:\u001b[94m847\u001b[0m in \u001b[92mforward\u001b[0m                                               \u001b[31m│\u001b[0m\n",
       "\u001b[31m│\u001b[0m                                                                                                  \u001b[31m│\u001b[0m\n",
       "\u001b[31m│\u001b[0m \u001b[3;31m[Errno 2] No such file or directory: '/tmp/ipykernel_211058/2336294555.py'\u001b[0m                       \u001b[31m│\u001b[0m\n",
       "\u001b[31m│\u001b[0m                                                                                                  \u001b[31m│\u001b[0m\n",
       "\u001b[31m│\u001b[0m \u001b[2;33m/tmp/ipykernel_211058/\u001b[0m\u001b[1;33m2336294555.py\u001b[0m:\u001b[94m821\u001b[0m in \u001b[92mcalc_all_losses\u001b[0m                                       \u001b[31m│\u001b[0m\n",
       "\u001b[31m│\u001b[0m                                                                                                  \u001b[31m│\u001b[0m\n",
       "\u001b[31m│\u001b[0m \u001b[3;31m[Errno 2] No such file or directory: '/tmp/ipykernel_211058/2336294555.py'\u001b[0m                       \u001b[31m│\u001b[0m\n",
       "\u001b[31m│\u001b[0m                                                                                                  \u001b[31m│\u001b[0m\n",
       "\u001b[31m│\u001b[0m \u001b[2;33m/tmp/ipykernel_211058/\u001b[0m\u001b[1;33m2336294555.py\u001b[0m:\u001b[94m789\u001b[0m in \u001b[92mcalc_latents_mse_loss\u001b[0m                                 \u001b[31m│\u001b[0m\n",
       "\u001b[31m│\u001b[0m                                                                                                  \u001b[31m│\u001b[0m\n",
       "\u001b[31m│\u001b[0m \u001b[3;31m[Errno 2] No such file or directory: '/tmp/ipykernel_211058/2336294555.py'\u001b[0m                       \u001b[31m│\u001b[0m\n",
       "\u001b[31m╰──────────────────────────────────────────────────────────────────────────────────────────────────╯\u001b[0m\n",
       "\u001b[1;91mUnboundLocalError: \u001b[0mlocal variable \u001b[32m'mse_diff'\u001b[0m referenced before assignment\n"
      ]
     },
     "metadata": {},
     "output_type": "display_data"
    }
   ],
   "source": [
    "tlm = transformer_lm(\n",
    "    dim=512,\n",
    "    vocab_size=29,\n",
    "    depth=5,\n",
    "    inner_depth=5,\n",
    "    heads=8,\n",
    "    ff_mult=3,\n",
    "    shared_kv=True,\n",
    "    dim_head=64,\n",
    ")\n",
    "f'{tlm.count_parameters():,}'\n",
    "\n",
    "s = \"\"\"Dolphins are marine mammals that are known for their intelligence and playful behavior They are found in oceans and seas all over the world Dolphins are social animals that live in groups called pods They are known for their sleek bodies which help them swim through the water at high speeds Dolphins are also known for their echolocation abilities which they use to locate prey and navigate through the water Dolphins are fascinating creatures that are beloved by many people around the world\"\"\"\n",
    "x = tokenizer.text_to_ids(s.lower())\n",
    "x = [0] + x \n",
    "x = torch.tensor(x).unsqueeze(0)\n",
    "tlm.eval()\n",
    "x = repeat(x, '1 n -> b n', b=2)\n",
    "length = torch.tensor([len(x[0]), len(x[0])-2])\n",
    "#cache = None\n",
    "outputs = tlm(x, length, calc_loss=True)#, cache=outputs['cache'])\n",
    "#"
   ]
  },
  {
   "cell_type": "code",
   "execution_count": 7,
   "metadata": {},
   "outputs": [
    {
     "data": {
      "text/plain": [
       "tensor([3.4910, 9.1232, 9.0053, 9.3228, 9.1290], grad_fn=<StackBackward0>)"
      ]
     },
     "execution_count": 7,
     "metadata": {},
     "output_type": "execute_result"
    }
   ],
   "source": [
    "outputs['token_losses']"
   ]
  },
  {
   "cell_type": "code",
   "execution_count": 106,
   "metadata": {},
   "outputs": [],
   "source": [
    "def orthogonal_loss_fn(t):\n",
    "    # eq (2) from https://arxiv.org/abs/2112.00384\n",
    "    h, n = t.shape[:2]\n",
    "    normed_codes = l2norm(t)\n",
    "    cosine_sim = einsum('h i d, h j d -> h i j', normed_codes, normed_codes)\n",
    "    return (cosine_sim ** 2).sum() / (h * n ** 2) - (1 / n)"
   ]
  },
  {
   "cell_type": "code",
   "execution_count": 109,
   "metadata": {},
   "outputs": [
    {
     "name": "stdout",
     "output_type": "stream",
     "text": [
      "torch.Size([2, 8, 10, 10])\n"
     ]
    }
   ],
   "source": [
    "x = torch.randn(2, 10, dim)\n",
    "x = rearrange(x, 'b n (h d) -> b h n d', h=heads)\n",
    "normed_x = l2norm(x)\n",
    "cosine_sim = einsum('b h i d, b h j d -> b h i j', normed_x, normed_x)\n",
    "loss = cosine_sim ** "
   ]
  },
  {
   "cell_type": "code",
   "execution_count": 37,
   "metadata": {},
   "outputs": [],
   "source": [
    "sentences = [\n",
    "    'I love this car',\n",
    "    'This view is amazing',\n",
    "    'I feel great this morning',\n",
    "    'I am so excited about the concert',\n",
    "    'He is my best friend',\n",
    "    'I do not like this car',\n",
    "    'This view is horrible',\n",
    "    'I feel tired this morning',\n",
    "    'I am not looking forward to the concert',\n",
    "    'He is my enemy',\n",
    "    'what is up dog',\n",
    "    \"nachos are the best\",\n",
    "    \"I hate pizza\",\n",
    "    \"I love nachos\",\n",
    "    'I got a key',\n",
    "    'I male man',\n",
    "    'I qwerty',\n",
    "    'travelling in a mobile device',\n",
    "    \"The NVIDIA Deep Learning Institute DLI offers resources for a large set of learning eeds from learning materials to self laced and live training to educator programs giving individuals teams organizations educators and men what they need to advance their knowledge in AI accelerated computing accelerated data science graphics and simulation and more\"\n",
    "]\n",
    "\n",
    "sentences = [s.lower() for s in sentences]\n",
    "x = [[0] + tokenizer.text_to_ids(s) for s in sentences] # add bos token\n",
    "lengths = [len(s) for s in x]\n",
    "max_len = max(lengths)\n",
    "x = [s + [0] * (max_len - len(s)) for s in x] # pad\n",
    "x = torch.tensor(x)\n",
    "lengths = torch.tensor(lengths)\n",
    "tlm.eval()\n",
    "with torch.no_grad():\n",
    "    outputs = tlm(x, lengths, calc_loss=True)"
   ]
  },
  {
   "cell_type": "code",
   "execution_count": 219,
   "metadata": {},
   "outputs": [],
   "source": [
    "tlm.layers.depth = 4"
   ]
  },
  {
   "cell_type": "code",
   "execution_count": 38,
   "metadata": {},
   "outputs": [
    {
     "name": "stderr",
     "output_type": "stream",
     "text": [
      "[NeMo W 2023-04-19 12:32:50 nemo_logging:349] /store/store1/software/bin/anaconda3/envs/k2_custom-nemo/lib/python3.8/site-packages/umap/umap_.py:1356: RuntimeWarning: divide by zero encountered in power\n",
      "      return 1.0 / (1.0 + a * x ** (2 * b))\n",
      "    \n"
     ]
    },
    {
     "name": "stdout",
     "output_type": "stream",
     "text": [
      "torch.Size([374, 512])\n",
      "[(9, 2), (11, 2), (14, 2), (18, 2), (11, 2), (12, 2), (12, 2), (14, 2), (21, 2), (8, 2), (8, 2), (11, 2), (7, 2), (8, 2), (7, 2), (6, 2), (5, 2), (16, 2), (176, 2)]\n",
      "176\n"
     ]
    }
   ],
   "source": [
    "\n",
    "ski = 2\n",
    "ds = 0\n",
    "lengths = outputs['lengths'][ds+1]\n",
    "x = outputs['x_outs'][ds].detach()\n",
    "x = [el[:lengths[i]] for i, el in enumerate(x)]\n",
    "x = torch.cat(x, dim=0)\n",
    "print(x.shape)\n",
    "proj = umap.UMAP(n_components=2, metric='cosine', random_state=22, n_neighbors=2, spread=2.5, min_dist=2.5).fit_transform(x)\n",
    "culm_lengths = torch.cumsum(lengths, dim=0)\n",
    "start_lengths = culm_lengths - lengths\n",
    "proj = [proj[start_lengths[i]:culm_lengths[i]] for i in range(len(lengths))]\n",
    "print([el.shape for el in proj])\n",
    "s = ['_'+el for el in sentences]\n",
    "s = [[el[i:i+ski] for i in range(0, len(el), ski)] for el in s]\n",
    "#s = [[el.replace(' ','_') for el in ix] for ix in s]\n",
    "max_s = max([len(el) for el in s])\n",
    "print(max_s)"
   ]
  },
  {
   "cell_type": "code",
   "execution_count": 39,
   "metadata": {},
   "outputs": [
    {
     "data": {
      "image/png": "[encoded data removed]",
      "text/plain": [
       "<Figure size 1000x1000 with 1 Axes>"
      ]
     },
     "metadata": {},
     "output_type": "display_data"
    }
   ],
   "source": [
    "plt.figure(figsize=(10,10))\n",
    "colors = ['red', 'blue', 'green', 'orange', 'purple', 'yellow', 'black', 'pink', 'brown', 'grey', 'cyan', 'magenta', 'olive', 'teal', 'coral', 'lime', 'lavender', 'turquoise', 'darkgreen', 'tan', 'salmon', 'gold', 'darkred', 'darkblue']\n",
    "for i, item in enumerate(proj):\n",
    "    \n",
    "    plt.scatter(item[:,0], item[:,1], label=f'sentence {i}', c=colors[i])\n",
    "\n",
    "for i, sentence in enumerate(s):\n",
    "    for j, word in enumerate(sentence):\n",
    "        plt.annotate(word, (proj[i][j,0], proj[i][j,1]), fontsize=10)   \n",
    "#plt.legend()\n",
    "plt.show()\n"
   ]
  },
  {
   "cell_type": "code",
   "execution_count": 35,
   "metadata": {},
   "outputs": [
    {
     "name": "stderr",
     "output_type": "stream",
     "text": [
      "[NeMo W 2023-04-19 12:32:03 nemo_logging:349] /store/store1/software/bin/anaconda3/envs/k2_custom-nemo/lib/python3.8/site-packages/umap/umap_.py:1356: RuntimeWarning: divide by zero encountered in power\n",
      "      return 1.0 / (1.0 + a * x ** (2 * b))\n",
      "    \n"
     ]
    },
    {
     "name": "stdout",
     "output_type": "stream",
     "text": [
      "(22, 512) 22\n"
     ]
    }
   ],
   "source": [
    "a = '_'+s\n",
    "# split char\n",
    "ids = 16\n",
    "a = [a[i:i+ids] for i in range(0, len(a), ids)]\n",
    "proj = outputs['x_outs'][3][0].squeeze(0).detach().cpu().numpy()\n",
    "print(proj.shape, len(a))\n",
    "# umap force it to be spread out\n",
    "proj = umap.UMAP(n_components=2, metric='cosine', random_state=42, n_neighbors=3, spread=2.5, min_dist=1.5).fit_transform(proj)"
   ]
  },
  {
   "cell_type": "code",
   "execution_count": 34,
   "metadata": {},
   "outputs": [],
   "source": [
    "import matplotlib.pyplot as plt"
   ]
  },
  {
   "cell_type": "code",
   "execution_count": 36,
   "metadata": {},
   "outputs": [
    {
     "data": {
      "image/png": "[encoded data removed]",
      "text/plain": [
       "<Figure size 1000x1000 with 1 Axes>"
      ]
     },
     "metadata": {},
     "output_type": "display_data"
    }
   ],
   "source": [
    "plt.figure(figsize=(10,10))\n",
    "plt.scatter(proj[:,0], proj[:,1])\n",
    "#plt.scatter(prok2[:,0], prok2[:,1], c='r')\n",
    "# add labels (a)\n",
    "import random\n",
    "for i, txt in enumerate(a):\n",
    "    st = f'{txt}'\n",
    "    if random.random() < 0.9999:\n",
    "        plt.annotate(st, (proj[i,0], proj[i,1]), size=10)\n",
    "        #plt.annotate(st, (prok2[i,0], prok2[i,1]), size=10, c='r')\n",
    "plt.show()"
   ]
  },
  {
   "cell_type": "code",
   "execution_count": null,
   "metadata": {},
   "outputs": [],
   "source": [
    "for ix in range(1,5):\n",
    "    items = [\"_\".join(str(el) for el in it.tolist()) for it in outputs['targets'][ix][0]]\n",
    "    num_items = len(items)\n",
    "    unique_items = list(set(items))\n",
    "    num_unique_items = len(unique_items)\n",
    "    print(f'num_items: {num_items}, num_unique_items: {num_unique_items} ratio: {num_unique_items/num_items}, ix: {ix}')"
   ]
  },
  {
   "cell_type": "code",
   "execution_count": null,
   "metadata": {},
   "outputs": [],
   "source": [
    "for ix in range(1,5):\n",
    "    items = [\"_\".join(str(el) for el in it.tolist()) for it in outputs['targets'][ix][0]]\n",
    "    num_items = len(items)\n",
    "    unique_items = list(set(items))\n",
    "    num_unique_items = len(unique_items)\n",
    "    print(f'num_items: {num_items}, num_unique_items: {num_unique_items} ratio: {num_unique_items/num_items}, ix: {ix}')"
   ]
  },
  {
   "cell_type": "code",
   "execution_count": 162,
   "metadata": {},
   "outputs": [
    {
     "name": "stdout",
     "output_type": "stream",
     "text": [
      "percent: 37.841796875\n",
      "percent: 22.4609375\n",
      "percent: 14.5751953125\n",
      "percent: 8.7158203125\n"
     ]
    }
   ],
   "source": [
    "for t in outputs['targets'][1:]:\n",
    "    tog = t + (torch.arange(t.shape[-1]) * 256)[None,None,:]\n",
    "    tog = rearrange(tog, 'b n h -> (b n h)')\n",
    "    alltog = torch.unique(tog)\n",
    "    percent = (alltog.shape[0] / (256 * t.shape[-1]) ) * 100\n",
    "    print(f'percent: {percent}')"
   ]
  },
  {
   "cell_type": "code",
   "execution_count": 192,
   "metadata": {},
   "outputs": [
    {
     "name": "stdout",
     "output_type": "stream",
     "text": [
      "percent: 39.013671875\n",
      "percent: 23.2421875\n",
      "percent: 14.794921875\n",
      "percent: 8.2763671875\n"
     ]
    }
   ],
   "source": [
    "for t in outputs['targets'][1:]:\n",
    "    tog = t + (torch.arange(t.shape[-1]) * 256)[None,None,:]\n",
    "    tog = rearrange(tog, 'b n h -> (b n h)')\n",
    "    alltog = torch.unique(tog)\n",
    "    percent = (alltog.shape[0] / (256 * t.shape[-1]) ) * 100\n",
    "    print(f'percent: {percent}')"
   ]
  },
  {
   "cell_type": "code",
   "execution_count": 463,
   "metadata": {},
   "outputs": [
    {
     "name": "stdout",
     "output_type": "stream",
     "text": [
      "percent: 42.6513671875\n",
      "percent: 24.267578125\n",
      "percent: 13.76953125\n",
      "percent: 7.763671875\n"
     ]
    }
   ],
   "source": [
    "for t in outputs['targets'][1:]:\n",
    "    tog = t + (torch.arange(t.shape[-1]) * 256)[None,None,:]\n",
    "    tog = rearrange(tog, 'b n h -> (b n h)')\n",
    "    alltog = torch.unique(tog)\n",
    "    percent = (alltog.shape[0] / (256 * t.shape[-1]) ) * 100\n",
    "    print(f'percent: {percent}')"
   ]
  },
  {
   "cell_type": "code",
   "execution_count": 462,
   "metadata": {},
   "outputs": [
    {
     "name": "stdout",
     "output_type": "stream",
     "text": [
      "percent: 42.6513671875\n",
      "percent: 24.267578125\n",
      "percent: 13.76953125\n",
      "percent: 7.763671875\n"
     ]
    }
   ],
   "source": [
    "for t in outputs['targets'][1:]:\n",
    "    tog = t + (torch.arange(t.shape[-1]) * 256)[None,None,:]\n",
    "    tog = rearrange(tog, 'b n h -> (b n h)')\n",
    "    alltog = torch.unique(tog)\n",
    "    percent = (alltog.shape[0] / (256 * t.shape[-1]) ) * 100\n",
    "    print(f'percent: {percent}')"
   ]
  },
  {
   "cell_type": "code",
   "execution_count": null,
   "metadata": {},
   "outputs": [],
   "source": [
    "for t in outputs['targets'][1:]:\n",
    "    tog = t + (torch.arange(t.shape[-1]) * 256)[None,None,:]\n",
    "    tog = rearrange(tog, 'b n h -> (b n h)')\n",
    "    alltog = torch.unique(tog)\n",
    "    percent = (alltog.shape[0] / (256 * t.shape[-1]) ) * 100\n",
    "    print(f'percent: {percent}')"
   ]
  },
  {
   "cell_type": "code",
   "execution_count": 465,
   "metadata": {},
   "outputs": [
    {
     "name": "stdout",
     "output_type": "stream",
     "text": [
      "percent: 63.7451171875\n",
      "percent: 37.8173828125\n",
      "percent: 23.7060546875\n",
      "percent: 13.4033203125\n"
     ]
    }
   ],
   "source": [
    "for t in outputs['targets'][1:]:\n",
    "    tog = t + (torch.arange(t.shape[-1]) * 256)[None,None,:]\n",
    "    tog = rearrange(tog, 'b n h -> (b n h)')\n",
    "    alltog = torch.unique(tog)\n",
    "    percent = (alltog.shape[0] / (256 * t.shape[-1]) ) * 100\n",
    "    print(f'percent: {percent}')"
   ]
  },
  {
   "cell_type": "code",
   "execution_count": 120,
   "metadata": {},
   "outputs": [
    {
     "data": {
      "text/plain": [
       "torch.Size([18, 21, 16])"
      ]
     },
     "execution_count": 120,
     "metadata": {},
     "output_type": "execute_result"
    }
   ],
   "source": [
    "outputs['targets'][1][0][0[]]"
   ]
  },
  {
   "cell_type": "code",
   "execution_count": 405,
   "metadata": {},
   "outputs": [
    {
     "data": {
      "text/plain": [
       "tensor(8.9889)"
      ]
     },
     "execution_count": 405,
     "metadata": {},
     "output_type": "execute_result"
    }
   ],
   "source": [
    "tlm.layers.vqs[0]._codebook.cluster_size.sort().values[0][:100].mean()"
   ]
  },
  {
   "cell_type": "code",
   "execution_count": 99,
   "metadata": {},
   "outputs": [],
   "source": [
    "sentences = [\n",
    "    'I love this car',\n",
    "    'This view is amazing',\n",
    "    'I feel great this morning',\n",
    "    'I am so excited about the concert',\n",
    "    'He is my best friend',\n",
    "    'I do not like this car',\n",
    "    'This view is horrible',\n",
    "    'I feel tired this morning',\n",
    "    'I am not looking forward to the concert',\n",
    "    'He is my enemy'\n",
    "]\n",
    "sentences = [s.lower() for s in sentences]\n",
    "x = [[0] + tokenizer.text_to_ids(s) for s in sentences] # add bos token\n",
    "lengths = [len(s) for s in x]\n",
    "max_len = max(lengths)\n",
    "x = [s + [0] * (max_len - len(s)) for s in x] # pad\n",
    "x = torch.tensor(x)\n",
    "lengths = torch.tensor(lengths)\n",
    "tlm.eval()\n",
    "with torch.no_grad():\n",
    "    outputs = tlm(x, lengths, calc_loss=True)"
   ]
  },
  {
   "cell_type": "code",
   "execution_count": 411,
   "metadata": {},
   "outputs": [
    {
     "data": {
      "text/plain": [
       "tensor([[251,  19,  39, 242,  50, 126, 163, 166],\n",
       "        [ 24, 165, 139,  26,  46,  85, 133, 138],\n",
       "        [ 40,  56, 244,  38, 117, 208, 232,  56],\n",
       "        [  2, 171,  21, 101, 117, 136, 232, 109],\n",
       "        [122, 208, 245, 213, 108,  86, 230,  48],\n",
       "        [ 13,  22, 166, 195, 117,  53, 232, 109],\n",
       "        [101, 128, 253, 213, 128,  86, 215,   6],\n",
       "        [167, 101, 131, 177,   5, 195,  33,  11],\n",
       "        [101, 150, 168, 219, 128,  78, 230,  48],\n",
       "        [ 76, 158,  41, 194, 133,  11,  75,  21]])"
      ]
     },
     "execution_count": 411,
     "metadata": {},
     "output_type": "execute_result"
    }
   ],
   "source": [
    "outputs['targets'][-1][0,:10,:8]"
   ]
  },
  {
   "cell_type": "code",
   "execution_count": 32,
   "metadata": {},
   "outputs": [],
   "source": [
    "s = \"\"\"The NVIDIA Deep Learning Institute DLI offers resources for a large set of learning eeds from learning materials to self paced and live training to educator programs giving individuals teams organizations educators and men what they need to advance their knowledge in AI accelerated computing accelerated data science graphics and simulation and more\n",
    "\"\"\"\n",
    "x = tokenizer.text_to_ids(s.lower())\n",
    "x = [0] + x \n",
    "x = torch.tensor(x).unsqueeze(0)\n",
    "tlm.eval()\n",
    "x = repeat(x, '1 n -> b n', b=2)\n",
    "length = torch.tensor([len(x[0]), len(x[0])])\n",
    "#cache = None\n",
    "with torch.no_grad():\n",
    "    outputs = tlm(x, length, calc_loss=True)#, cache=outputs['cache'])"
   ]
  },
  {
   "cell_type": "markdown",
   "metadata": {},
   "source": []
  },
  {
   "cell_type": "code",
   "execution_count": 28,
   "metadata": {},
   "outputs": [
    {
     "name": "stdout",
     "output_type": "stream",
     "text": [
      "tensor([2.2778, 1.0033, 0.4604, 0.9020, 0.3431])\n"
     ]
    }
   ],
   "source": [
    "print(outputs['token_losses'])"
   ]
  },
  {
   "cell_type": "code",
   "execution_count": 30,
   "metadata": {},
   "outputs": [
    {
     "name": "stdout",
     "output_type": "stream",
     "text": [
      "tensor([2.2874, 1.0087, 0.5212, 0.9480, 0.3534])\n"
     ]
    }
   ],
   "source": [
    "print(outputs['token_losses'])"
   ]
  },
  {
   "cell_type": "code",
   "execution_count": 26,
   "metadata": {},
   "outputs": [
    {
     "name": "stdout",
     "output_type": "stream",
     "text": [
      "tensor([2.2732, 1.0040, 0.4725, 0.9015, 0.3509])\n"
     ]
    }
   ],
   "source": [
    "print(outputs['token_losses'])"
   ]
  },
  {
   "cell_type": "code",
   "execution_count": 176,
   "metadata": {},
   "outputs": [
    {
     "name": "stdout",
     "output_type": "stream",
     "text": [
      "tensor([1.5510, 4.1987, 5.6630, 6.2816, 6.9677])\n"
     ]
    }
   ],
   "source": [
    "print(outputs['token_losses'])"
   ]
  },
  {
   "cell_type": "code",
   "execution_count": 34,
   "metadata": {},
   "outputs": [
    {
     "name": "stdout",
     "output_type": "stream",
     "text": [
      "tensor([15.8873, 15.3536, 23.1229, 16.5136,  5.7290])\n",
      "tensor([1.2418, 3.3099, 5.1592, 5.1793, 3.0789])\n"
     ]
    }
   ],
   "source": [
    "print(outputs['ntmselosses'])\n",
    "print(outputs['token_losses'])"
   ]
  },
  {
   "cell_type": "code",
   "execution_count": 429,
   "metadata": {},
   "outputs": [
    {
     "data": {
      "text/plain": [
       "tensor([2.5404, 1.2680, 0.0215, 0.0679, 0.4284])"
      ]
     },
     "execution_count": 429,
     "metadata": {},
     "output_type": "execute_result"
    }
   ],
   "source": [
    "outputs['token_losses']"
   ]
  },
  {
   "cell_type": "code",
   "execution_count": 431,
   "metadata": {},
   "outputs": [
    {
     "data": {
      "text/plain": [
       "tensor([2.7687e+01, 3.7194e-02, 1.1329e-04, 5.2470e-06, 2.0531e-06])"
      ]
     },
     "execution_count": 431,
     "metadata": {},
     "output_type": "execute_result"
    }
   ],
   "source": [
    "outputs['ntmselosses']"
   ]
  },
  {
   "cell_type": "code",
   "execution_count": 433,
   "metadata": {},
   "outputs": [
    {
     "data": {
      "text/plain": [
       "tensor([2.5431, 1.2764, 0.0215, 0.0679, 0.4284])"
      ]
     },
     "execution_count": 433,
     "metadata": {},
     "output_type": "execute_result"
    }
   ],
   "source": [
    "outputs['token_losses']"
   ]
  },
  {
   "cell_type": "code",
   "execution_count": 24,
   "metadata": {},
   "outputs": [
    {
     "data": {
      "text/plain": [
       "tensor([2.5476, 8.2728, 7.9951, 7.9922, 8.0387])"
      ]
     },
     "execution_count": 24,
     "metadata": {},
     "output_type": "execute_result"
    }
   ],
   "source": [
    "outputs['token_losses']"
   ]
  },
  {
   "cell_type": "code",
   "execution_count": 195,
   "metadata": {},
   "outputs": [
    {
     "data": {
      "text/plain": [
       "tensor([1.2177, 1.5959, 2.3750, 1.9043, 1.8378])"
      ]
     },
     "execution_count": 195,
     "metadata": {},
     "output_type": "execute_result"
    }
   ],
   "source": [
    "outputs['token_losses']"
   ]
  },
  {
   "cell_type": "code",
   "execution_count": 72,
   "metadata": {},
   "outputs": [
    {
     "data": {
      "text/plain": [
       "['layers.embedding.weight',\n",
       " 'layers.vqs.0._codebook.embed',\n",
       " 'layers.vqs.1._codebook.embed',\n",
       " 'layers.vqs.2._codebook.embed',\n",
       " 'layers.vqs.3._codebook.embed']"
      ]
     },
     "execution_count": 72,
     "metadata": {},
     "output_type": "execute_result"
    }
   ],
   "source": [
    "[el for el in list(checkpoint['model_state_dict'].keys()) if 'embed' in el]"
   ]
  },
  {
   "cell_type": "code",
   "execution_count": 9,
   "metadata": {},
   "outputs": [
    {
     "name": "stdout",
     "output_type": "stream",
     "text": [
      "ls: cannot access './checkpoints/unitformer_test/checkpoint_0_id_50.pt': No such file or directory\n"
     ]
    },
    {
     "data": {
      "text/plain": [
       "<All keys matched successfully>"
      ]
     },
     "execution_count": 9,
     "metadata": {},
     "output_type": "execute_result"
    }
   ],
   "source": [
    "!ls ./checkpoints/unitformer_test/checkpoint_0_id_50.pt\n",
    "checkpoint = torch.load('../checkpoints/unitformer_test/checkpoint_73_id_22.pt', map_location='cpu')\n",
    "tlm.load_state_dict(checkpoint['model_state_dict'])"
   ]
  },
  {
   "cell_type": "code",
   "execution_count": 15,
   "metadata": {},
   "outputs": [
    {
     "name": "stdout",
     "output_type": "stream",
     "text": [
      "ls: cannot access './lm/tokenizers/tokenizer_spe_bpe_v29/tokenizer.model': No such file or directory\n"
     ]
    }
   ],
   "source": [
    "!ls ./lm/tokenizers/tokenizer_spe_bpe_v29/tokenizer.model"
   ]
  },
  {
   "cell_type": "code",
   "execution_count": 4,
   "metadata": {},
   "outputs": [],
   "source": []
  },
  {
   "cell_type": "markdown",
   "metadata": {},
   "source": []
  },
  {
   "cell_type": "code",
   "execution_count": 6,
   "metadata": {},
   "outputs": [],
   "source": [
    "tokenizer = tools.load_tokenizer('../lm/tokenizers/tokenizer_spe_bpe_v29/tokenizer.model')"
   ]
  },
  {
   "cell_type": "code",
   "execution_count": 19,
   "metadata": {},
   "outputs": [],
   "source": [
    "x = tokenizer.text_to_ids(\"\"\"so today I went to the park\"\"\".lower())\n",
    "x = torch.tensor(x).unsqueeze(0)\n",
    "length = torch.tensor([len(x[0])])\n",
    "cache = None\n",
    "outputs = tlm(x, length, calc_loss=True)#,cache=cache, calc_loss=False)"
   ]
  },
  {
   "cell_type": "code",
   "execution_count": 71,
   "metadata": {},
   "outputs": [
    {
     "data": {
      "text/plain": [
       "[tensor([[ 1, 16, 15,  1,  7,  4, 16,  2,  1, 25,  2, 19, 19]]),\n",
       " tensor([[ 43,  23, 112,  97,  61, 172, 158]]),\n",
       " tensor([[ 2, 81,  6, 47]]),\n",
       " tensor([[1, 2]])]"
      ]
     },
     "execution_count": 71,
     "metadata": {},
     "output_type": "execute_result"
    }
   ],
   "source": [
    "outputs['targets']"
   ]
  },
  {
   "cell_type": "code",
   "execution_count": 239,
   "metadata": {},
   "outputs": [
    {
     "data": {
      "text/plain": [
       "'Convolution operations and higher order neural networks From the perspective of modern\\ndeep learning considering higher order correlations between downstream inputs to a neuron is\\nquite classical'"
      ]
     },
     "execution_count": 239,
     "metadata": {},
     "output_type": "execute_result"
    }
   ],
   "source": [
    "\"\"\"Convolution operations and higher order neural networks From the perspective of modern\n",
    "deep learning considering higher order correlations between downstream inputs to a neuron is\n",
    "quite classical\"\"\""
   ]
  },
  {
   "cell_type": "code",
   "execution_count": 413,
   "metadata": {},
   "outputs": [
    {
     "data": {
      "text/plain": [
       "[tensor([[ 1, 17,  9,  4,  3,  1,  3,  6, 16,  2,  1,  6,  8,  1,  6,  3,  1,  5,\n",
       "           9,  1,  7,  5,  1, 21, 11,  4,  9,  1, 21, 11,  4,  9,  1, 27, 27,  1,\n",
       "           6,  1, 11,  6, 23,  2,  1, 14,  4, 10, 10,  5,  3,  8]]),\n",
       " tensor([[ 30,  37, 124,  45, 119, 118, 105,  95,  62,   7,  99, 160, 137,   7,\n",
       "            0, 100,  62, 110, 124,  74, 119, 134,  89,  99, 182]]),\n",
       " tensor([[260, 254,  35, 254, 314, 384,  35, 254,  27, 254,  35, 172, 390]]),\n",
       " tensor([[357, 140, 140, 140, 140, 140, 689]])]"
      ]
     },
     "execution_count": 413,
     "metadata": {},
     "output_type": "execute_result"
    }
   ],
   "source": [
    "outputs['targets']"
   ]
  },
  {
   "cell_type": "code",
   "execution_count": 94,
   "metadata": {},
   "outputs": [
    {
     "data": {
      "text/html": [
       "<pre style=\"white-space:pre;overflow-x:auto;line-height:normal;font-family:Menlo,'DejaVu Sans Mono',consolas,'Courier New',monospace\"><span style=\"color: #800000; text-decoration-color: #800000\">╭─────────────────────────────── </span><span style=\"color: #800000; text-decoration-color: #800000; font-weight: bold\">Traceback </span><span style=\"color: #bf7f7f; text-decoration-color: #bf7f7f; font-weight: bold\">(most recent call last)</span><span style=\"color: #800000; text-decoration-color: #800000\"> ────────────────────────────────╮</span>\n",
       "<span style=\"color: #800000; text-decoration-color: #800000\">│</span> <span style=\"color: #bfbf7f; text-decoration-color: #bfbf7f\">/tmp/ipykernel_2637/</span><span style=\"color: #808000; text-decoration-color: #808000; font-weight: bold\">3567845408.py</span>:<span style=\"color: #0000ff; text-decoration-color: #0000ff\">3</span> in <span style=\"color: #00ff00; text-decoration-color: #00ff00\">&lt;module&gt;</span>                                                  <span style=\"color: #800000; text-decoration-color: #800000\">│</span>\n",
       "<span style=\"color: #800000; text-decoration-color: #800000\">│</span>                                                                                                  <span style=\"color: #800000; text-decoration-color: #800000\">│</span>\n",
       "<span style=\"color: #800000; text-decoration-color: #800000\">│</span> <span style=\"color: #800000; text-decoration-color: #800000; font-style: italic\">[Errno 2] No such file or directory: '/tmp/ipykernel_2637/3567845408.py'</span>                         <span style=\"color: #800000; text-decoration-color: #800000\">│</span>\n",
       "<span style=\"color: #800000; text-decoration-color: #800000\">╰──────────────────────────────────────────────────────────────────────────────────────────────────╯</span>\n",
       "<span style=\"color: #ff0000; text-decoration-color: #ff0000; font-weight: bold\">NameError: </span>name <span style=\"color: #008000; text-decoration-color: #008000\">'tlm_out'</span> is not defined\n",
       "</pre>\n"
      ],
      "text/plain": [
       "\u001b[31m╭─\u001b[0m\u001b[31m──────────────────────────────\u001b[0m\u001b[31m \u001b[0m\u001b[1;31mTraceback \u001b[0m\u001b[1;2;31m(most recent call last)\u001b[0m\u001b[31m \u001b[0m\u001b[31m───────────────────────────────\u001b[0m\u001b[31m─╮\u001b[0m\n",
       "\u001b[31m│\u001b[0m \u001b[2;33m/tmp/ipykernel_2637/\u001b[0m\u001b[1;33m3567845408.py\u001b[0m:\u001b[94m3\u001b[0m in \u001b[92m<module>\u001b[0m                                                  \u001b[31m│\u001b[0m\n",
       "\u001b[31m│\u001b[0m                                                                                                  \u001b[31m│\u001b[0m\n",
       "\u001b[31m│\u001b[0m \u001b[3;31m[Errno 2] No such file or directory: '/tmp/ipykernel_2637/3567845408.py'\u001b[0m                         \u001b[31m│\u001b[0m\n",
       "\u001b[31m╰──────────────────────────────────────────────────────────────────────────────────────────────────╯\u001b[0m\n",
       "\u001b[1;91mNameError: \u001b[0mname \u001b[32m'tlm_out'\u001b[0m is not defined\n"
      ]
     },
     "metadata": {},
     "output_type": "display_data"
    }
   ],
   "source": [
    "labels = torch.randint(0, 29, (3, 25))\n",
    "length = torch.tensor([6, 1, 25])\n",
    "tlm_out = tlm(labels, length, calc_loss=True, cache=tlm_out['cache'])"
   ]
  },
  {
   "cell_type": "code",
   "execution_count": 424,
   "metadata": {},
   "outputs": [
    {
     "data": {
      "text/plain": [
       "[tensor([[ 3,  4, 13, 15, 21, 10, 17, 25, 14, 20, 16,  3,  7, 19,  3,  8,  7, 13,\n",
       "          24,  6, 10, 25, 22,  4, 24],\n",
       "         [26,  2, 19,  6, 10,  9, 27, 21, 24,  3, 21, 23, 13, 27, 13, 19, 12,  4,\n",
       "          18, 16, 21, 25, 14, 25, 10],\n",
       "         [14,  1, 20, 15, 28, 26, 28, 23, 23, 28, 19,  7, 23,  9,  4, 10, 22, 24,\n",
       "          25, 21, 16, 22, 27, 28, 16]]),\n",
       " tensor([[137,  89,   0, 102, 152,  95, 145, 182, 146,  45, 174,  11, 164],\n",
       "         [119, 117, 100, 119,  95,   0, 169, 168, 106,  61,   0, 152, 174],\n",
       "         [  7, 104, 169, 152, 163,  56, 100,  89, 163,  22,   8, 134,  43]]),\n",
       " tensor([[448, 228,  96,  50, 139, 461, 391],\n",
       "         [156, 461, 448, 301, 156, 448, 390],\n",
       "         [156,  50, 466, 448, 138,  48, 391]]),\n",
       " tensor([[427, 309, 426, 494],\n",
       "         [494,  96, 426, 742],\n",
       "         [665, 328, 328, 494]])]"
      ]
     },
     "execution_count": 424,
     "metadata": {},
     "output_type": "execute_result"
    }
   ],
   "source": [
    "tlm_out['targets']"
   ]
  },
  {
   "cell_type": "code",
   "execution_count": 191,
   "metadata": {},
   "outputs": [
    {
     "data": {
      "text/plain": [
       "tensor([ 0.0000,  3.3361,  9.0943, 11.7116, 12.9673], grad_fn=<CatBackward0>)"
      ]
     },
     "execution_count": 191,
     "metadata": {},
     "output_type": "execute_result"
    }
   ],
   "source": [
    "torch.cat([torch.tensor([0.]),tlm_out['token_losses']])"
   ]
  },
  {
   "cell_type": "code",
   "execution_count": 132,
   "metadata": {},
   "outputs": [
    {
     "data": {
      "text/plain": [
       "torch.Size([3, 2, 29])"
      ]
     },
     "execution_count": 132,
     "metadata": {},
     "output_type": "execute_result"
    }
   ],
   "source": [
    "tlm_out['cache'][0]['layer_below_next_sentence_pred'].shape"
   ]
  },
  {
   "cell_type": "code",
   "execution_count": 138,
   "metadata": {},
   "outputs": [
    {
     "data": {
      "text/plain": [
       "[torch.Size([3, 10, 29]), torch.Size([3, 5, 186]), torch.Size([3, 3, 471])]"
      ]
     },
     "execution_count": 138,
     "metadata": {},
     "output_type": "execute_result"
    }
   ],
   "source": [
    "[el.shape for el in tlm_out['layer_below_predictions'] if el is not None]"
   ]
  },
  {
   "cell_type": "code",
   "execution_count": 99,
   "metadata": {},
   "outputs": [
    {
     "data": {
      "text/plain": [
       "tensor([[[ 0.5522,  0.7073, -0.4004, -1.7506, -0.3139, -0.3931, -0.5387,\n",
       "          -0.3880,  0.9586, -0.7569,  0.3536, -0.6996, -0.7060,  1.7352,\n",
       "          -1.5477,  1.5172,  1.1682,  0.7225,  0.0731,  2.8862, -0.4295,\n",
       "           0.3552,  0.9085, -0.1108, -0.2837, -0.1412,  0.2152, -0.3472,\n",
       "           3.5744]],\n",
       "\n",
       "        [[-0.8612, -0.3983,  0.2439, -0.0434, -0.0573,  0.2012,  0.0373,\n",
       "           0.5064, -1.8880, -1.3106, -0.3143, -0.5900, -1.3373, -0.6801,\n",
       "          -1.1815, -1.3725, -0.5302,  0.2932,  1.1263, -2.9227, -1.2165,\n",
       "          -0.3096,  0.0746,  2.1863, -0.7000, -2.6588,  0.9164,  0.5734,\n",
       "          -0.8377]],\n",
       "\n",
       "        [[-0.5840,  1.0222, -0.4094,  1.4468,  0.3316,  0.2704, -0.3063,\n",
       "           0.6731,  0.0478,  1.6772,  0.4766,  0.7292, -1.9728, -0.5385,\n",
       "           0.5501, -0.0900, -0.6048,  0.3224, -0.5616, -1.0638,  0.7505,\n",
       "          -0.3843,  0.1069,  0.4991,  1.2616,  0.1580, -0.1634,  0.4385,\n",
       "           1.0510]]], grad_fn=<SliceBackward0>)"
      ]
     },
     "execution_count": 99,
     "metadata": {},
     "output_type": "execute_result"
    }
   ],
   "source": []
  },
  {
   "cell_type": "code",
   "execution_count": 6,
   "metadata": {},
   "outputs": [],
   "source": [
    "import matplotlib.pyplot as plt"
   ]
  },
  {
   "cell_type": "code",
   "execution_count": 7,
   "metadata": {},
   "outputs": [],
   "source": [
    "idx = torch.stack([length-2,length-1], dim=1)[...,None].expand(-1,-1,29)"
   ]
  },
  {
   "cell_type": "code",
   "execution_count": 10,
   "metadata": {},
   "outputs": [
    {
     "name": "stdout",
     "output_type": "stream",
     "text": [
      "torch.Size([16, 256, 8])\n",
      "torch.Size([4096, 4096])\n"
     ]
    },
    {
     "data": {
      "text/plain": [
       "<matplotlib.image.AxesImage at 0x7f54bcb2f220>"
      ]
     },
     "execution_count": 10,
     "metadata": {},
     "output_type": "execute_result"
    },
    {
     "data": {
      "image/png": "[encoded data removed]",
      "text/plain": [
       "<Figure size 640x480 with 1 Axes>"
      ]
     },
     "metadata": {},
     "output_type": "display_data"
    }
   ],
   "source": [
    "codebook = tlm.layers.vqs[-1].codebook\n",
    "# l2 norm of codebook\n",
    "codebook_norm = codebook / codebook.norm(dim=-1, keepdim=True)\n",
    "# lets plot the similarity matrix\n",
    "print(codebook_norm.shape)\n",
    "#similarity = einsumops(codebook_norm, codebook_norm, 'h v d, h j d -> h v j')\n",
    "#similarity = rearrange(similarity, 'h v j -> (h v) j')\n",
    "codebook_norm = rearrange(codebook_norm, 'h v d -> (h v) d')\n",
    "similarity = (codebook_norm @ codebook_norm.T)\n",
    "print(similarity.shape)\n",
    "# lets plot the similarity matrix\n",
    "plt.imshow(similarity.detach().cpu().numpy())"
   ]
  }
 ],
 "metadata": {
  "kernelspec": {
   "display_name": "Python 3.8.13 ('k2_custom-nemo')",
   "language": "python",
   "name": "python3"
  },
  "language_info": {
   "codemirror_mode": {
    "name": "ipython",
    "version": 3
   },
   "file_extension": ".py",
   "mimetype": "text/x-python",
   "name": "python",
   "nbconvert_exporter": "python",
   "pygments_lexer": "ipython3",
   "version": "3.8.13"
  },
  "orig_nbformat": 4,
  "vscode": {
   "interpreter": {
    "hash": "c94c8ffa67fdebd9384b5746b8c4850bc2cec88ff489992126dcd0aca228c275"
   }
  }
 },
 "nbformat": 4,
 "nbformat_minor": 2
}
