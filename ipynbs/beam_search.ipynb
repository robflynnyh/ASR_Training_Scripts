{
 "cells": [
  {
   "cell_type": "code",
   "execution_count": 25,
   "metadata": {},
   "outputs": [
    {
     "name": "stderr",
     "output_type": "stream",
     "text": [
      "[NeMo W 2023-03-02 09:50:06 experimental:27] Module <class 'nemo.collections.nlp.data.language_modeling.megatron.megatron_batch_samplers.MegatronPretrainingRandomBatchSampler'> is experimental, not ready for production and is not fully supported. Use at your own risk.\n",
      "[NeMo W 2023-03-02 09:50:06 experimental:27] Module <class 'nemo.collections.nlp.models.text_normalization_as_tagging.thutmose_tagger.ThutmoseTaggerModel'> is experimental, not ready for production and is not fully supported. Use at your own risk.\n"
     ]
    }
   ],
   "source": [
    "import torch, numpy as np, pickle as pkl, speachy, os\n",
    "from typing import List, Dict, Tuple, Optional, Union\n",
    "from importlib import reload as rl\n",
    "from tqdm import tqdm\n",
    "from speachy.utils.helpers import exists\n",
    "from speachy.lm.models.qknorm_attention import transformer_lm\n",
    "import time, heapq\n",
    "from multiprocessing import Pool\n",
    "import math\n",
    "from functools import partial"
   ]
  },
  {
   "cell_type": "code",
   "execution_count": 35,
   "metadata": {},
   "outputs": [],
   "source": [
    "from einops import rearrange, repeat"
   ]
  },
  {
   "cell_type": "code",
   "execution_count": 36,
   "metadata": {},
   "outputs": [],
   "source": [
    "class argsclass():\n",
    "    def __init__(self, args:Dict): self.__dict__.update(args)"
   ]
  },
  {
   "cell_type": "code",
   "execution_count": 37,
   "metadata": {},
   "outputs": [
    {
     "name": "stdout",
     "output_type": "stream",
     "text": [
      "128subword_ami_opensub_802_78.pt  checkpoint_809_id_37.pt  old\tother\n"
     ]
    }
   ],
   "source": [
    "!ls ../checkpoints/open_sub_ft_ami/"
   ]
  },
  {
   "cell_type": "code",
   "execution_count": 38,
   "metadata": {},
   "outputs": [
    {
     "name": "stdout",
     "output_type": "stream",
     "text": [
      "../checkpoints/open_sub_ft_ami/128subword_ami_opensub_802_78.pt\n",
      "odict_keys(['sep_token', 'layers.temperature', 'layers.positional_bias.mlp.0.0.weight', 'layers.positional_bias.mlp.0.0.bias', 'layers.positional_bias.mlp.1.0.weight', 'layers.positional_bias.mlp.1.0.bias', 'layers.positional_bias.mlp.2.weight', 'layers.positional_bias.mlp.2.bias', 'layers.layers.0.0.norm.weight', 'layers.layers.0.0.norm.bias', 'layers.layers.0.0.fn.temperature', 'layers.layers.0.0.fn.q_proj.weight', 'layers.layers.0.0.fn.kv_proj.weight', 'layers.layers.0.0.fn.out_proj.weight', 'layers.layers.0.1.norm.weight', 'layers.layers.0.1.norm.bias', 'layers.layers.0.1.fn.0.proj.weight', 'layers.layers.0.1.fn.0.proj.bias', 'layers.layers.0.1.fn.2.weight', 'layers.layers.0.1.fn.2.bias', 'layers.layers.1.0.norm.weight', 'layers.layers.1.0.norm.bias', 'layers.layers.1.0.fn.temperature', 'layers.layers.1.0.fn.q_proj.weight', 'layers.layers.1.0.fn.kv_proj.weight', 'layers.layers.1.0.fn.out_proj.weight', 'layers.layers.1.1.norm.weight', 'layers.layers.1.1.norm.bias', 'layers.layers.1.1.fn.0.proj.weight', 'layers.layers.1.1.fn.0.proj.bias', 'layers.layers.1.1.fn.2.weight', 'layers.layers.1.1.fn.2.bias', 'layers.layers.2.0.norm.weight', 'layers.layers.2.0.norm.bias', 'layers.layers.2.0.fn.temperature', 'layers.layers.2.0.fn.q_proj.weight', 'layers.layers.2.0.fn.kv_proj.weight', 'layers.layers.2.0.fn.out_proj.weight', 'layers.layers.2.1.norm.weight', 'layers.layers.2.1.norm.bias', 'layers.layers.2.1.fn.0.proj.weight', 'layers.layers.2.1.fn.0.proj.bias', 'layers.layers.2.1.fn.2.weight', 'layers.layers.2.1.fn.2.bias', 'layers.layers.3.0.norm.weight', 'layers.layers.3.0.norm.bias', 'layers.layers.3.0.fn.temperature', 'layers.layers.3.0.fn.q_proj.weight', 'layers.layers.3.0.fn.kv_proj.weight', 'layers.layers.3.0.fn.out_proj.weight', 'layers.layers.3.1.norm.weight', 'layers.layers.3.1.norm.bias', 'layers.layers.3.1.fn.0.proj.weight', 'layers.layers.3.1.fn.0.proj.bias', 'layers.layers.3.1.fn.2.weight', 'layers.layers.3.1.fn.2.bias', 'layers.layers.4.0.norm.weight', 'layers.layers.4.0.norm.bias', 'layers.layers.4.0.fn.temperature', 'layers.layers.4.0.fn.q_proj.weight', 'layers.layers.4.0.fn.kv_proj.weight', 'layers.layers.4.0.fn.out_proj.weight', 'layers.layers.4.1.norm.weight', 'layers.layers.4.1.norm.bias', 'layers.layers.4.1.fn.0.proj.weight', 'layers.layers.4.1.fn.0.proj.bias', 'layers.layers.4.1.fn.2.weight', 'layers.layers.4.1.fn.2.bias', 'layers.layers.5.0.norm.weight', 'layers.layers.5.0.norm.bias', 'layers.layers.5.0.fn.temperature', 'layers.layers.5.0.fn.q_proj.weight', 'layers.layers.5.0.fn.kv_proj.weight', 'layers.layers.5.0.fn.out_proj.weight', 'layers.layers.5.1.norm.weight', 'layers.layers.5.1.norm.bias', 'layers.layers.5.1.fn.0.proj.weight', 'layers.layers.5.1.fn.0.proj.bias', 'layers.layers.5.1.fn.2.weight', 'layers.layers.5.1.fn.2.bias', 'layers.layers.6.0.norm.weight', 'layers.layers.6.0.norm.bias', 'layers.layers.6.0.fn.temperature', 'layers.layers.6.0.fn.q_proj.weight', 'layers.layers.6.0.fn.kv_proj.weight', 'layers.layers.6.0.fn.out_proj.weight', 'layers.layers.6.1.norm.weight', 'layers.layers.6.1.norm.bias', 'layers.layers.6.1.fn.0.proj.weight', 'layers.layers.6.1.fn.0.proj.bias', 'layers.layers.6.1.fn.2.weight', 'layers.layers.6.1.fn.2.bias', 'layers.layers.7.0.norm.weight', 'layers.layers.7.0.norm.bias', 'layers.layers.7.0.fn.temperature', 'layers.layers.7.0.fn.q_proj.weight', 'layers.layers.7.0.fn.kv_proj.weight', 'layers.layers.7.0.fn.out_proj.weight', 'layers.layers.7.1.norm.weight', 'layers.layers.7.1.norm.bias', 'layers.layers.7.1.fn.0.proj.weight', 'layers.layers.7.1.fn.0.proj.bias', 'layers.layers.7.1.fn.2.weight', 'layers.layers.7.1.fn.2.bias', 'layers.layers.8.0.norm.weight', 'layers.layers.8.0.norm.bias', 'layers.layers.8.0.fn.temperature', 'layers.layers.8.0.fn.q_proj.weight', 'layers.layers.8.0.fn.kv_proj.weight', 'layers.layers.8.0.fn.out_proj.weight', 'layers.layers.8.1.norm.weight', 'layers.layers.8.1.norm.bias', 'layers.layers.8.1.fn.0.proj.weight', 'layers.layers.8.1.fn.0.proj.bias', 'layers.layers.8.1.fn.2.weight', 'layers.layers.8.1.fn.2.bias', 'layers.layers.9.0.norm.weight', 'layers.layers.9.0.norm.bias', 'layers.layers.9.0.fn.temperature', 'layers.layers.9.0.fn.q_proj.weight', 'layers.layers.9.0.fn.kv_proj.weight', 'layers.layers.9.0.fn.out_proj.weight', 'layers.layers.9.1.norm.weight', 'layers.layers.9.1.norm.bias', 'layers.layers.9.1.fn.0.proj.weight', 'layers.layers.9.1.fn.0.proj.bias', 'layers.layers.9.1.fn.2.weight', 'layers.layers.9.1.fn.2.bias', 'layers.layers.10.0.norm.weight', 'layers.layers.10.0.norm.bias', 'layers.layers.10.0.fn.temperature', 'layers.layers.10.0.fn.q_proj.weight', 'layers.layers.10.0.fn.kv_proj.weight', 'layers.layers.10.0.fn.out_proj.weight', 'layers.layers.10.1.norm.weight', 'layers.layers.10.1.norm.bias', 'layers.layers.10.1.fn.0.proj.weight', 'layers.layers.10.1.fn.0.proj.bias', 'layers.layers.10.1.fn.2.weight', 'layers.layers.10.1.fn.2.bias', 'layers.layers.11.0.norm.weight', 'layers.layers.11.0.norm.bias', 'layers.layers.11.0.fn.temperature', 'layers.layers.11.0.fn.q_proj.weight', 'layers.layers.11.0.fn.kv_proj.weight', 'layers.layers.11.0.fn.out_proj.weight', 'layers.layers.11.1.norm.weight', 'layers.layers.11.1.norm.bias', 'layers.layers.11.1.fn.0.proj.weight', 'layers.layers.11.1.fn.0.proj.bias', 'layers.layers.11.1.fn.2.weight', 'layers.layers.11.1.fn.2.bias', 'embedding.weight', 'to_logits.weight', 'to_logits.bias', 'post_norm.weight', 'post_norm.bias', 'next_sentence_pred.gamma', 'next_sentence_pred.beta'])\n",
      "Loaded checkpoint from ../checkpoints/open_sub_ft_ami/128subword_ami_opensub_802_78.pt\n",
      "Epoch: 802, Validation loss: 1.7674239088589259\n"
     ]
    }
   ],
   "source": [
    "config = speachy.utils.general.load_config('../experiment_configs/lm/decoder_pg19_sep_token_ami.yaml')\n",
    "tokenizer_path = '.'+os.path.join(config['model']['tokenizer']['dir'], 'tokenizer.model')\n",
    "tokenizer = speachy.utils.general.load_tokenizer(tokenizer_path)\n",
    "lm_model = speachy.lm.tools.loading.autoload(config=config, tokenizer=tokenizer)\n",
    "_,_ = speachy.utils.general.load_checkpoint(\n",
    "    args = argsclass({'checkpoint':'../checkpoints/open_sub_ft_ami/128subword_ami_opensub_802_78.pt'}),\n",
    "    model = lm_model,\n",
    "    force_cpu = True\n",
    ")"
   ]
  },
  {
   "cell_type": "markdown",
   "metadata": {},
   "source": [
    "okay everybody finish place again yeah that's nice okay so this is a second meeting and uh still failing"
   ]
  },
  {
   "cell_type": "markdown",
   "metadata": {},
   "source": [
    "Decoded: okay everybody finish place again yeah that's nice so this is the second meeting and uh still failing\n",
    "\n",
    "Targets: okay everybody found his place again yeah that's nice okay so this is our second meeting and uh still failing\n"
   ]
  },
  {
   "cell_type": "code",
   "execution_count": 30,
   "metadata": {},
   "outputs": [
    {
     "name": "stdout",
     "output_type": "stream",
     "text": [
      "log_probs.pkl  lps.pkl\tlps_s.pkl\n"
     ]
    }
   ],
   "source": [
    "!ls *.pkl"
   ]
  },
  {
   "cell_type": "code",
   "execution_count": 39,
   "metadata": {},
   "outputs": [],
   "source": [
    "def load_pickle(path):\n",
    "    with open(path, 'rb') as f:\n",
    "        pkl_data = pkl.load(f)\n",
    "    return pkl_data['stage'], pkl_data['data']\n",
    "\n",
    "def load_pickle_normal(path):\n",
    "    with open(path, 'rb') as f:\n",
    "        pkl_data = pkl.load(f)\n",
    "    return pkl_data"
   ]
  },
  {
   "cell_type": "code",
   "execution_count": 40,
   "metadata": {},
   "outputs": [],
   "source": [
    "stage, data = load_pickle('../ami/tmp/dev_ami.pkl')"
   ]
  },
  {
   "cell_type": "code",
   "execution_count": 33,
   "metadata": {},
   "outputs": [],
   "source": [
    "data = load_pickle_normal('../ami/tmp/dev_ami.pkl')"
   ]
  },
  {
   "cell_type": "code",
   "execution_count": 34,
   "metadata": {},
   "outputs": [
    {
     "ename": "KeyError",
     "evalue": "3",
     "output_type": "error",
     "traceback": [
      "\u001b[0;31m---------------------------------------------------------------------------\u001b[0m",
      "\u001b[0;31mKeyError\u001b[0m                                  Traceback (most recent call last)",
      "Cell \u001b[0;32mIn [34], line 1\u001b[0m\n\u001b[0;32m----> 1\u001b[0m data[\u001b[38;5;241m3\u001b[39m]\n",
      "\u001b[0;31mKeyError\u001b[0m: 3"
     ]
    }
   ],
   "source": [
    "data[3]"
   ]
  },
  {
   "cell_type": "code",
   "execution_count": null,
   "metadata": {},
   "outputs": [
    {
     "name": "stdout",
     "output_type": "stream",
     "text": [
      "dev_ami_n_____.pkl  dev_ami.pkl  dev_tmp_ami_____.pkl\n"
     ]
    },
    {
     "name": "stderr",
     "output_type": "stream",
     "text": [
      "E0301 21:49:57.330847375   68662 fork_posix.cc:76]           Other threads are currently calling into gRPC, skipping fork() handlers\n"
     ]
    }
   ],
   "source": [
    "!ls ../ami/tmp/"
   ]
  },
  {
   "cell_type": "code",
   "execution_count": null,
   "metadata": {},
   "outputs": [],
   "source": [
    "data[0]['probs'].shape"
   ]
  },
  {
   "cell_type": "code",
   "execution_count": null,
   "metadata": {},
   "outputs": [
    {
     "name": "stdout",
     "output_type": "stream",
     "text": [
      "dev_  dev_ami_n_____.pkl  _devBEAM.pkl\tdev_tmp_ami_____.pkl\n"
     ]
    }
   ],
   "source": [
    "!ls ../ami/tmp"
   ]
  },
  {
   "cell_type": "code",
   "execution_count": null,
   "metadata": {},
   "outputs": [
    {
     "name": "stdout",
     "output_type": "stream",
     "text": [
      "torch.Size([1, 5, 410, 129])\n"
     ]
    }
   ],
   "source": [
    "with open('log_probs.pkl', 'rb') as f:\n",
    "    log_probs = pkl.load(f).to('cpu')[None]\n",
    "print(log_probs.shape)"
   ]
  },
  {
   "cell_type": "code",
   "execution_count": null,
   "metadata": {},
   "outputs": [
    {
     "data": {
      "text/plain": [
       "128"
      ]
     },
     "execution_count": 10,
     "metadata": {},
     "output_type": "execute_result"
    }
   ],
   "source": [
    "log_probs.shape[-1]-1\n"
   ]
  },
  {
   "cell_type": "code",
   "execution_count": null,
   "metadata": {},
   "outputs": [
    {
     "data": {
      "text/plain": [
       "torch.Size([1, 256])"
      ]
     },
     "execution_count": 11,
     "metadata": {},
     "output_type": "execute_result"
    }
   ],
   "source": [
    "lm_model.sep_token.shape"
   ]
  },
  {
   "cell_type": "code",
   "execution_count": 41,
   "metadata": {},
   "outputs": [],
   "source": [
    "class Beam():\n",
    "    def __init__(\n",
    "        self, \n",
    "        state,\n",
    "        am_sequence = [],\n",
    "        lm_sequence = [],\n",
    "        next_lm_token_lps = None,\n",
    "        score = 0,\n",
    "    ):\n",
    "        self.state = state #{k:v.clone() for k,v in state.items()}\n",
    "        self.score = score\n",
    "        self.am_sequence = am_sequence\n",
    "        self.lm_sequence = lm_sequence\n",
    "        self.next_lm_token_lps = next_lm_token_lps\n",
    "\n",
    "    def __str__(self):\n",
    "        return f\"{self.am_sequence}\"\n",
    "\n",
    "    def __repr__(self):\n",
    "        return self.__str__()\n"
   ]
  },
  {
   "cell_type": "code",
   "execution_count": 42,
   "metadata": {},
   "outputs": [],
   "source": [
    "class Beam():\n",
    "    def __init__(\n",
    "        self, \n",
    "        state,\n",
    "        am_sequence = [],\n",
    "        lm_sequence = [],\n",
    "        next_lm_token_lps = None,\n",
    "        past_scores = [],\n",
    "        score = 0,\n",
    "    ):\n",
    "        self.state = state \n",
    "        self.past_scores = past_scores\n",
    "        self.score = score\n",
    "        self.am_sequence = am_sequence\n",
    "        self.lm_sequence = lm_sequence\n",
    "        self.next_lm_token_lps = next_lm_token_lps\n",
    "\n",
    "    def __str__(self):\n",
    "        return f\"{self.am_sequence}\"\n",
    "\n",
    "    def __repr__(self):\n",
    "        return self.__str__()\n",
    "\n",
    "\n",
    "class LanguageModel():\n",
    "    def __init__(\n",
    "        self, \n",
    "        model:transformer_lm, \n",
    "        bos_id=0, \n",
    "        device='cpu', \n",
    "        temperature=1.0,\n",
    "        half_precision=False,\n",
    "        keep_states_on_device=True,\n",
    "    ):\n",
    "        self.model = model\n",
    "        self.model.eval()\n",
    "        self.bos_id = bos_id\n",
    "        self.device = torch.device(device)\n",
    "        self.model.to(self.device)\n",
    "        self.half = half_precision\n",
    "        if self.half:\n",
    "            self.model.half()\n",
    "        self.temperature = temperature\n",
    "        self.offload_device = self.device if keep_states_on_device else 'cpu'\n",
    "        assert self.bos_id == 0, \"written assuming bos_id is 0 ):\"\n",
    "    \n",
    "    def logits_to_lprobs(self,logits):\n",
    "        logits = logits[:,:,1:] / self.temperature if self.temperature != 1.0 else logits[:,:,1:] \n",
    "        return logits.log_softmax(dim=-1)\n",
    "\n",
    "    @torch.no_grad()\n",
    "    def get_initial_state(self):\n",
    "        x, length = torch.tensor([[self.bos_id]]).to(self.device), torch.LongTensor([1]).to(self.device)\n",
    "        logits, _, state = self.model(x=x, length=length)\n",
    "        return self.logits_to_lprobs(logits).squeeze().to('cpu'), {k:v.to(self.offload_device) for k,v in state.items()}\n",
    "\n",
    "    @staticmethod\n",
    "    def move_to_device(input_ids, input_lengths, states, device):\n",
    "        input_ids, input_lengths = input_ids.to(device), input_lengths.to(device)\n",
    "        states = {k:v.to(device) for k,v in states.items()} if exists(states) else None\n",
    "        return input_ids, input_lengths, states\n",
    "\n",
    "    @torch.no_grad()\n",
    "    def apply_sep_token(self, beams): # update all beams with a seperator (used in-between utterances)\n",
    "        L, KV, _, H, N, D = beams[0].state['cache'].shape\n",
    "        B = len(beams)\n",
    "        assert B > 0, \"no beams to apply sep token to ):\"\n",
    "        states, state_lens = [], []\n",
    "        for beam in beams: \n",
    "            states.append(rearrange(beam.state['cache'], 'l kv b h n d -> n (l kv b h) d')) # so we can use rnn.pad_sequence\n",
    "            state_lens.append(beam.state['cache_lengths'])\n",
    "        states = torch.nn.utils.rnn.pad_sequence(states, batch_first=True, padding_value=0)\n",
    "        states = rearrange(states, 'nb n (l kv b h) d -> l kv (b nb) h n d', l=L, kv=KV, h=H, d=D)\n",
    "        state_lens = torch.cat(state_lens, dim=0)\n",
    "        cache = {'cache': states, 'cache_lengths': state_lens}\n",
    "        cache = {k:v.to(self.device) for k,v in cache.items()}\n",
    "\n",
    "        assert hasattr(self.model, 'sep_token'), \"model does not have sep_token attribute\"\n",
    "        sep_token = self.model.sep_token\n",
    "        sep_token = repeat(sep_token, '() d -> b n d', b=B, n=1)\n",
    "\n",
    "        sep_token = sep_token.to(self.device)\n",
    "        length = repeat(torch.LongTensor([1]), '() -> b', b=B).to(self.device)\n",
    "        if self.half:\n",
    "            sep_token = sep_token.half()\n",
    "        _, _, cached_kvs = self.model.layers(x=sep_token, length=length, cache=cache)\n",
    "        cached_kvs = {k:v.to(self.offload_device) for k,v in cached_kvs.items()}\n",
    "        for i, beam in enumerate(beams):\n",
    "            beam.state = {\n",
    "                'cache': cached_kvs['cache'][:,:,i, None], \n",
    "                'cache_lengths': cached_kvs['cache_lengths'][i, None],\n",
    "                'next_sentence_pred': beam.state['next_sentence_pred']\n",
    "            }\n",
    "        return beams\n",
    "\n",
    "\n",
    "    @torch.no_grad()\n",
    "    def __call__(self, input_ids, input_lengths, states=None):\n",
    "        input_ids, input_lengths, states = self.move_to_device(input_ids, input_lengths, states, self.device)\n",
    "        logits, _, new_state = self.model(x=input_ids, length=input_lengths, cache=states)\n",
    "        return self.logits_to_lprobs(logits).to('cpu'), {k:v.to(self.offload_device) for k,v in new_state.items()}"
   ]
  },
  {
   "cell_type": "code",
   "execution_count": 43,
   "metadata": {},
   "outputs": [
    {
     "data": {
      "text/plain": [
       "tensor([0., 1., 0., 0., 0., 0., 0., 0., 0., 0.])"
      ]
     },
     "execution_count": 43,
     "metadata": {},
     "output_type": "execute_result"
    }
   ],
   "source": [
    "(torch.randn(10)/0.000001).softmax(-1)"
   ]
  },
  {
   "cell_type": "code",
   "execution_count": null,
   "metadata": {},
   "outputs": [
    {
     "ename": "AttributeError",
     "evalue": "'transformer_lm' object has no attribute 'next_sentence_pred'",
     "output_type": "error",
     "traceback": [
      "\u001b[0;31m---------------------------------------------------------------------------\u001b[0m",
      "\u001b[0;31mAttributeError\u001b[0m                            Traceback (most recent call last)",
      "Cell \u001b[0;32mIn [42], line 1\u001b[0m\n\u001b[0;32m----> 1\u001b[0m beam_search\u001b[38;5;241m.\u001b[39mlanguage_model\u001b[38;5;241m.\u001b[39mmodel\u001b[38;5;241m.\u001b[39mnext_sentence_pred\n",
      "File \u001b[0;32m/store/store1/software/bin/anaconda3/envs/k2_custom-nemo/lib/python3.8/site-packages/torch/nn/modules/module.py:1185\u001b[0m, in \u001b[0;36mModule.__getattr__\u001b[0;34m(self, name)\u001b[0m\n\u001b[1;32m   1183\u001b[0m     \u001b[39mif\u001b[39;00m name \u001b[39min\u001b[39;00m modules:\n\u001b[1;32m   1184\u001b[0m         \u001b[39mreturn\u001b[39;00m modules[name]\n\u001b[0;32m-> 1185\u001b[0m \u001b[39mraise\u001b[39;00m \u001b[39mAttributeError\u001b[39;00m(\u001b[39m\"\u001b[39m\u001b[39m'\u001b[39m\u001b[39m{}\u001b[39;00m\u001b[39m'\u001b[39m\u001b[39m object has no attribute \u001b[39m\u001b[39m'\u001b[39m\u001b[39m{}\u001b[39;00m\u001b[39m'\u001b[39m\u001b[39m\"\u001b[39m\u001b[39m.\u001b[39mformat(\n\u001b[1;32m   1186\u001b[0m     \u001b[39mtype\u001b[39m(\u001b[39mself\u001b[39m)\u001b[39m.\u001b[39m\u001b[39m__name__\u001b[39m, name))\n",
      "\u001b[0;31mAttributeError\u001b[0m: 'transformer_lm' object has no attribute 'next_sentence_pred'"
     ]
    }
   ],
   "source": [
    "beam_search.language_model.model.next_sentence_pred"
   ]
  },
  {
   "cell_type": "code",
   "execution_count": 52,
   "metadata": {},
   "outputs": [],
   "source": [
    "#TODO: vectorise adding scores X (not necessary for now)\n",
    "#TODO: (BIGGEST SLOW DOWN) remove list cloning and appending and only keep track of last character + string\n",
    "#TODO: cut off at cettain log p difference from best beam\n",
    "#TODO: cache all states at each timestep for beams in top k / threshold to avoid recomputing\n",
    "#TODO: convert LM to onnx or torchscript\n",
    "class BeamSearch(): \n",
    "    def __init__(\n",
    "            self, \n",
    "            tokenizer, \n",
    "            beam_width, \n",
    "            log_probs, \n",
    "            language_model: LanguageModel,\n",
    "            alpha=0.4, # score = am + lm*alpha + beta if not blank or repitition else am\n",
    "            beta=0.4, # beta offsets for lack of blank and repitition in lm probs\n",
    "            blank_id=128,\n",
    "            blank_penalty=0.0, # additional penalty for blank\n",
    "            repitition_penalty=0.0, # additional penalty for repitition\n",
    "            top_am_threshold=40, # top am scores to consider\n",
    "            max_cache_length = -1, # max length of cache to keep in memory\n",
    "            debug=False\n",
    "        ):\n",
    "        self.tokenizer = tokenizer\n",
    "        self.beam_width = beam_width\n",
    "        self.vocab_size = tokenizer.vocab_size\n",
    "        self.log_probs = log_probs\n",
    "        self.language_model = language_model\n",
    "        self.blank_id = blank_id\n",
    "        self.alpha = alpha\n",
    "        self.beta = beta\n",
    "        self.beams = []\n",
    "        self.position = 0 # position in sequence\n",
    "        self.blank_penalty = blank_penalty\n",
    "        self.max_cache_length = max_cache_length\n",
    "        self.repitition_penalty = repitition_penalty\n",
    "        self.top_am_threshold = top_am_threshold\n",
    "        self.debug = debug\n",
    "        self.total_in_windows = []\n",
    "\n",
    "    def initiate(self):\n",
    "        assert len(self.beams) == 0 and self.position == 0, 'initiate can only be called once | beams should be empty'\n",
    "        lm_logps, state = self.language_model.get_initial_state()\n",
    "        self.beams = [\n",
    "            Beam(\n",
    "                state = state,\n",
    "                am_sequence = [None], # no bos for am\n",
    "                lm_sequence = [self.language_model.bos_id], # bos for lm\n",
    "                next_lm_token_lps = lm_logps, # log probs of next token\n",
    "            )\n",
    "        ]\n",
    "\n",
    "\n",
    "    def return_text(self, idx):\n",
    "        if idx >= len(self.beams):\n",
    "            print('Beam index out of range')\n",
    "            return\n",
    "        beam = self.beams[idx]\n",
    "        return self.tokenizer.ids_to_text(beam.lm_sequence[1:])\n",
    "\n",
    "\n",
    "    def print_beams(self):\n",
    "        for i, beam in enumerate(self.beams):\n",
    "            print(f'{i}: {self.return_text(i)} | {beam.score}')\n",
    "\n",
    "    def prune(self, beams):\n",
    "        print(f'Num beams to sort: {len(beams)}') if self.debug else None\n",
    "        beams = heapq.nlargest(self.beam_width, beams, key=lambda beam: beam.score) # faster than sort\n",
    "        return beams\n",
    "\n",
    "    @staticmethod\n",
    "    def _sum_log_scores(s1:float, s2:float) -> float:\n",
    "        return s1+math.log(1+math.exp(s2-s1)) if s1>=s2 else s2+math.log(1+math.exp(s1-s2))\n",
    "\n",
    "    def merge(self, beams):\n",
    "        self.beam_dict = {}\n",
    "        for beam in beams:\n",
    "            beam_str = str(beam)\n",
    "            if beam_str in self.beam_dict:\n",
    "                self.beam_dict[beam_str].score = self._sum_log_scores(beam.score, self.beam_dict[beam_str].score)\n",
    "            else:\n",
    "                self.beam_dict[beam_str] = beam\n",
    "        return list(self.beam_dict.values())\n",
    "\n",
    "    def next_utterance(self, new_log_probs):\n",
    "        ''' update beams with new utterance (next utterance in a dialogue)'''\n",
    "        self.log_probs = new_log_probs\n",
    "        self.position = 0 # reset position\n",
    "     \n",
    "        for beam in self.beams:\n",
    "            beam.next_lm_token_lps = self.language_model.logits_to_lprobs(\n",
    "                beam.state['next_sentence_pred'].squeeze()[None,None,:]\n",
    "            ).squeeze()\n",
    "            #print(beam.next_lm_token_lps.shape)\n",
    "        self.language_model.apply_sep_token(beams=self.beams)\n",
    "\n",
    "\n",
    "            \n",
    "    @staticmethod\n",
    "    def trim_cache(state, new_length):\n",
    "        bos = state['cache'][:, :, :, :, 0, :].unsqueeze(-2).clone()\n",
    "        amount_to_trim = state['cache_lengths'][-1] - new_length\n",
    "        state['cache'] = state['cache'][:, :, :, :, amount_to_trim:, :]\n",
    "        state['cache'] = torch.cat([bos, state['cache']], dim=-2)\n",
    "        state['cache_lengths'] = state['cache_lengths'] - amount_to_trim + 1 # add bos\n",
    "        return state\n",
    "\n",
    "    def grab_state(self, state, indice):\n",
    "        ## TODO: trim cache to be equal to cache_lengths\n",
    "        cache_len = state['cache_lengths'][indice]\n",
    "        cache = {\n",
    "            'cache': state['cache'][:,:,indice, None], \n",
    "            'cache_lengths': state['cache_lengths'][indice, None],\n",
    "            'next_sentence_pred': state['next_sentence_pred'][indice],\n",
    "        }\n",
    "        if self.max_cache_length == -1 or cache_len <= self.max_cache_length:\n",
    "            return cache\n",
    "        else:\n",
    "            return self.trim_cache(cache, self.max_cache_length)\n",
    "\n",
    "    def run_search(self, use_tqdm=True):\n",
    "        search = True\n",
    "        pbar = tqdm(total=len(self.log_probs)) if use_tqdm else None\n",
    "        pbar.update(self.position) if use_tqdm else None\n",
    "        while search:\n",
    "            search = self.step()\n",
    "            pbar.update(1) if use_tqdm else None\n",
    "        pbar.close() if use_tqdm else None\n",
    "\n",
    "    def step(self):\n",
    "        if self.position == len(self.log_probs):\n",
    "            return False\n",
    "        if self.position == 0 and len(self.beams) == 0:\n",
    "            self.initiate()\n",
    "\n",
    "        # now create new beams\n",
    "        new_beams = []\n",
    "        stime = time.time()\n",
    "        cur_am_lgps = self.log_probs[self.position]\n",
    "        \n",
    "        # only look at top k am scores \n",
    "        #top_am_indices = torch.topk(cur_am_lgps, self.top_am_threshold, dim=0, sorted=False, largest=True).indices\n",
    "        top_am_indices = torch.arange(cur_am_lgps.shape[-1])[(cur_am_lgps > (cur_am_lgps[cur_am_lgps.argmax()] + self.top_am_threshold))]\n",
    "        \n",
    "        for beam in self.beams: # this is main bottleneck\n",
    "            beam_lm_probs = beam.next_lm_token_lps\n",
    "           \n",
    "                \n",
    "            #beam_lm_probs[top_am_indices-1] = torch.nn.functional.log_softmax(beam_lm_probs[top_am_indices-1], dim=-1)\n",
    "            beam_lm_probs = beam_lm_probs * self.alpha + self.beta\n",
    "            #joint_am_lm_probs = (beam_lm_probs + cur_am_lgps[1:-1]) # joint_am_lm_probs[i-1] + beam.score\n",
    "           \n",
    "            for i in range(1, self.vocab_size+1):\n",
    "                if i not in top_am_indices:\n",
    "                    continue\n",
    "\n",
    "                b_am_seq, b_lm_seq = beam.am_sequence, beam.lm_sequence\n",
    "                #stime = time.time()\n",
    "                if b_am_seq[-1] == i or i == self.blank_id: # won't need scoring from language model\n",
    "                    new_beam = Beam(\n",
    "                        state = beam.state,\n",
    "                        am_sequence = b_am_seq + [i] if i == self.blank_id and b_am_seq[-1] != self.blank_id else b_am_seq,\n",
    "                        lm_sequence = b_lm_seq,\n",
    "                        next_lm_token_lps = beam.next_lm_token_lps,\n",
    "                        past_scores= beam.past_scores,\n",
    "                        score = self.log_probs[self.position][i] + beam.score + (self.blank_penalty if i == self.blank_id else self.repitition_penalty)\n",
    "                    )\n",
    "                else:\n",
    "                    new_beam = Beam(\n",
    "                        state = beam.state,\n",
    "                        am_sequence = b_am_seq + [i] if b_am_seq[-1] != self.blank_id else b_am_seq[:-1] + [i], # remove blank if it is followed by a non blank\n",
    "                        lm_sequence = b_lm_seq + [i], \n",
    "                        next_lm_token_lps = None, # will be updated in next step\n",
    "                        past_scores= beam.past_scores + [beam_lm_probs[i-1]],\n",
    "                        score = self.log_probs[self.position][i] + beam_lm_probs[i-1] + beam.score\n",
    "                    )\n",
    "\n",
    "                   \n",
    "             \n",
    "                new_beams.append(new_beam)\n",
    "    \n",
    "           \n",
    "        etime = time.time()\n",
    "        print('beam time', etime - stime) if self.debug else None\n",
    "\n",
    "        \n",
    "        new_beams = self.merge(new_beams)\n",
    "        new_beams = self.prune(new_beams)\n",
    "\n",
    "        if self.position == len(self.log_probs) - 1: # exit if we are at the end 0:\n",
    "            self.beams = new_beams\n",
    "            return False\n",
    "        \n",
    "        states, state_lens, sequences, sequence_lens = [], [], [], []\n",
    "        \n",
    "        # Layer, Key+Value, Batch, Head, Sequence, Dimension\n",
    "     \n",
    "        for beam in new_beams: # already fast\n",
    "            if beam.next_lm_token_lps is None:\n",
    "                states.append(rearrange(beam.state['cache'], 'l kv b h n d -> n (l kv b h) d')) # so we can use rnn.pad_sequence\n",
    "                #print(states[-1].shape, beam.state['cache'].shape)\n",
    "                sequences.append(torch.tensor(beam.lm_sequence[-1]))\n",
    "                sequence_lens.append(1)\n",
    "                state_lens.append(beam.state['cache_lengths'])\n",
    "    \n",
    "\n",
    "        if len(sequences) != 0:\n",
    "            L, KV, _, H, N, D = new_beams[0].state['cache'].shape\n",
    "            stime = time.time()\n",
    "            states = torch.nn.utils.rnn.pad_sequence(states, batch_first=True, padding_value=0)\n",
    "            states = rearrange(states, 'nb n (l kv b h) d -> l kv (b nb) h n d', l=L, kv=KV, h=H, d=D)\n",
    "            sequences = torch.stack(sequences, dim=0)[:, None]\n",
    "            sequence_lens = torch.LongTensor(sequence_lens)\n",
    "            states = {'cache': states, 'cache_lengths': torch.cat(state_lens, dim=0)}\n",
    "\n",
    "            stime = time.time()\n",
    "            print(f'batch size: {sequences.shape[0]}') if self.debug else None\n",
    "            logps, states = self.language_model(input_ids=sequences, input_lengths=sequence_lens, states=states)\n",
    "            logp_idx = 0\n",
    "            for beam in new_beams:\n",
    "                if beam.next_lm_token_lps is None:\n",
    "                    beam.next_lm_token_lps = logps[logp_idx][-1]\n",
    "                    beam.state = self.grab_state(states, logp_idx)\n",
    "                    logp_idx += 1\n",
    "        \n",
    "            etime = time.time()\n",
    "            print('LM time: ', etime-stime) if self.debug else None\n",
    "\n",
    "        self.beams = new_beams\n",
    "        self.position += 1\n",
    "        return True"
   ]
  },
  {
   "cell_type": "code",
   "execution_count": null,
   "metadata": {},
   "outputs": [
    {
     "name": "stderr",
     "output_type": "stream",
     "text": [
      "2023-03-01 21:46:12,216\tINFO worker.py:1538 -- Started a local Ray instance.\n"
     ]
    },
    {
     "data": {
      "text/html": [
       "<div>\n",
       "    <div style=\"margin-left: 50px;display: flex;flex-direction: row;align-items: center\">\n",
       "        <h3 style=\"color: var(--jp-ui-font-color0)\">Ray</h3>\n",
       "        <svg version=\"1.1\" id=\"ray\" width=\"3em\" viewBox=\"0 0 144.5 144.6\" style=\"margin-left: 3em;margin-right: 3em\">\n",
       "            <g id=\"layer-1\">\n",
       "                <path fill=\"#00a2e9\" class=\"st0\" d=\"M97.3,77.2c-3.8-1.1-6.2,0.9-8.3,5.1c-3.5,6.8-9.9,9.9-17.4,9.6S58,88.1,54.8,81.2c-1.4-3-3-4-6.3-4.1\n",
       "                    c-5.6-0.1-9.9,0.1-13.1,6.4c-3.8,7.6-13.6,10.2-21.8,7.6C5.2,88.4-0.4,80.5,0,71.7c0.1-8.4,5.7-15.8,13.8-18.2\n",
       "                    c8.4-2.6,17.5,0.7,22.3,8c1.3,1.9,1.3,5.2,3.6,5.6c3.9,0.6,8,0.2,12,0.2c1.8,0,1.9-1.6,2.4-2.8c3.5-7.8,9.7-11.8,18-11.9\n",
       "                    c8.2-0.1,14.4,3.9,17.8,11.4c1.3,2.8,2.9,3.6,5.7,3.3c1-0.1,2,0.1,3,0c2.8-0.5,6.4,1.7,8.1-2.7s-2.3-5.5-4.1-7.5\n",
       "                    c-5.1-5.7-10.9-10.8-16.1-16.3C84,38,81.9,37.1,78,38.3C66.7,42,56.2,35.7,53,24.1C50.3,14,57.3,2.8,67.7,0.5\n",
       "                    C78.4-2,89,4.7,91.5,15.3c0.1,0.3,0.1,0.5,0.2,0.8c0.7,3.4,0.7,6.9-0.8,9.8c-1.7,3.2-0.8,5,1.5,7.2c6.7,6.5,13.3,13,19.8,19.7\n",
       "                    c1.8,1.8,3,2.1,5.5,1.2c9.1-3.4,17.9-0.6,23.4,7c4.8,6.9,4.6,16.1-0.4,22.9c-5.4,7.2-14.2,9.9-23.1,6.5c-2.3-0.9-3.5-0.6-5.1,1.1\n",
       "                    c-6.7,6.9-13.6,13.7-20.5,20.4c-1.8,1.8-2.5,3.2-1.4,5.9c3.5,8.7,0.3,18.6-7.7,23.6c-7.9,5-18.2,3.8-24.8-2.9\n",
       "                    c-6.4-6.4-7.4-16.2-2.5-24.3c4.9-7.8,14.5-11,23.1-7.8c3,1.1,4.7,0.5,6.9-1.7C91.7,98.4,98,92.3,104.2,86c1.6-1.6,4.1-2.7,2.6-6.2\n",
       "                    c-1.4-3.3-3.8-2.5-6.2-2.6C99.8,77.2,98.9,77.2,97.3,77.2z M72.1,29.7c5.5,0.1,9.9-4.3,10-9.8c0-0.1,0-0.2,0-0.3\n",
       "                    C81.8,14,77,9.8,71.5,10.2c-5,0.3-9,4.2-9.3,9.2c-0.2,5.5,4,10.1,9.5,10.3C71.8,29.7,72,29.7,72.1,29.7z M72.3,62.3\n",
       "                    c-5.4-0.1-9.9,4.2-10.1,9.7c0,0.2,0,0.3,0,0.5c0.2,5.4,4.5,9.7,9.9,10c5.1,0.1,9.9-4.7,10.1-9.8c0.2-5.5-4-10-9.5-10.3\n",
       "                    C72.6,62.3,72.4,62.3,72.3,62.3z M115,72.5c0.1,5.4,4.5,9.7,9.8,9.9c5.6-0.2,10-4.8,10-10.4c-0.2-5.4-4.6-9.7-10-9.7\n",
       "                    c-5.3-0.1-9.8,4.2-9.9,9.5C115,72.1,115,72.3,115,72.5z M19.5,62.3c-5.4,0.1-9.8,4.4-10,9.8c-0.1,5.1,5.2,10.4,10.2,10.3\n",
       "                    c5.6-0.2,10-4.9,9.8-10.5c-0.1-5.4-4.5-9.7-9.9-9.6C19.6,62.3,19.5,62.3,19.5,62.3z M71.8,134.6c5.9,0.2,10.3-3.9,10.4-9.6\n",
       "                    c0.5-5.5-3.6-10.4-9.1-10.8c-5.5-0.5-10.4,3.6-10.8,9.1c0,0.5,0,0.9,0,1.4c-0.2,5.3,4,9.8,9.3,10\n",
       "                    C71.6,134.6,71.7,134.6,71.8,134.6z\"/>\n",
       "            </g>\n",
       "        </svg>\n",
       "        <table>\n",
       "            <tr>\n",
       "                <td style=\"text-align: left\"><b>Python version:</b></td>\n",
       "                <td style=\"text-align: left\"><b>3.8.13</b></td>\n",
       "            </tr>\n",
       "            <tr>\n",
       "                <td style=\"text-align: left\"><b>Ray version:</b></td>\n",
       "                <td style=\"text-align: left\"><b> 2.2.0</b></td>\n",
       "            </tr>\n",
       "            \n",
       "        </table>\n",
       "    </div>\n",
       "</div>\n"
      ],
      "text/plain": [
       "RayContext(dashboard_url='', python_version='3.8.13', ray_version='2.2.0', ray_commit='b6af0887ee5f2e460202133791ad941a41f15beb', address_info={'node_ip_address': '143.167.8.81', 'raylet_ip_address': '143.167.8.81', 'redis_address': None, 'object_store_address': '/tmp/ray/session_2023-03-01_21-46-09_732183_68662/sockets/plasma_store', 'raylet_socket_name': '/tmp/ray/session_2023-03-01_21-46-09_732183_68662/sockets/raylet', 'webui_url': '', 'session_dir': '/tmp/ray/session_2023-03-01_21-46-09_732183_68662', 'metrics_export_port': 57374, 'gcs_address': '143.167.8.81:62817', 'address': '143.167.8.81:62817', 'dashboard_agent_listen_port': 52365, 'node_id': '311736d036a9ea55bbabe244ad247e2767e09d9aa2f39bb6431c208c'})"
      ]
     },
     "execution_count": 102,
     "metadata": {},
     "output_type": "execute_result"
    }
   ],
   "source": [
    "import ray\n",
    "ray.shutdown()\n",
    "ray.init(num_cpus=20, num_gpus=1)"
   ]
  },
  {
   "cell_type": "code",
   "execution_count": null,
   "metadata": {},
   "outputs": [],
   "source": [
    "@ray.remote(num_gpus=0.25, num_cpus=1)\n",
    "def run_search(beam_fn, logps):\n",
    "    search = beam_fn(log_probs=logps)\n",
    "    search.run_search(use_tqdm=False)\n",
    "    return search.return_text(0)"
   ]
  },
  {
   "cell_type": "code",
   "execution_count": null,
   "metadata": {},
   "outputs": [
    {
     "ename": "NameError",
     "evalue": "name 'ray' is not defined",
     "output_type": "error",
     "traceback": [
      "\u001b[0;31m---------------------------------------------------------------------------\u001b[0m",
      "\u001b[0;31mNameError\u001b[0m                                 Traceback (most recent call last)",
      "Cell \u001b[0;32mIn [49], line 14\u001b[0m\n\u001b[1;32m      1\u001b[0m beamsearch_fn \u001b[38;5;241m=\u001b[39m partial(\n\u001b[1;32m      2\u001b[0m     BeamSearch, \n\u001b[1;32m      3\u001b[0m     language_model\u001b[38;5;241m=\u001b[39mLanguageModel(model\u001b[38;5;241m=\u001b[39mlm_model, bos_id\u001b[38;5;241m=\u001b[39m\u001b[38;5;241m0\u001b[39m, device\u001b[38;5;241m=\u001b[39m\u001b[38;5;124m'\u001b[39m\u001b[38;5;124mcuda:0\u001b[39m\u001b[38;5;124m'\u001b[39m), \n\u001b[0;32m   (...)\u001b[0m\n\u001b[1;32m     12\u001b[0m     debug\u001b[38;5;241m=\u001b[39m\u001b[38;5;28;01mFalse\u001b[39;00m\n\u001b[1;32m     13\u001b[0m )\n\u001b[0;32m---> 14\u001b[0m beamsearch_fn \u001b[38;5;241m=\u001b[39m ray\u001b[38;5;241m.\u001b[39mput(beamsearch_fn)\n",
      "\u001b[0;31mNameError\u001b[0m: name 'ray' is not defined"
     ]
    }
   ],
   "source": [
    "beamsearch_fn = partial(\n",
    "    BeamSearch, \n",
    "    language_model=LanguageModel(model=lm_model, bos_id=0, device='cuda:0'), \n",
    "    tokenizer=tokenizer, \n",
    "    beam_width=10,\n",
    "    beta=0.5,\n",
    "    alpha=0.4,\n",
    "    blank_id=128,\n",
    "    blank_penalty=0.0,\n",
    "    repitition_penalty=0.0,\n",
    "    top_am_threshold=5,\n",
    "    debug=False\n",
    ")\n",
    "beamsearch_fn = ray.put(beamsearch_fn)"
   ]
  },
  {
   "cell_type": "code",
   "execution_count": null,
   "metadata": {},
   "outputs": [],
   "source": [
    "result_text = [run_search.remote(beamsearch_fn, log_probs[0][0]) for i in range(8)]\n",
    "output = ray.get(result_text)\n",
    "print(output)"
   ]
  },
  {
   "cell_type": "code",
   "execution_count": null,
   "metadata": {},
   "outputs": [
    {
     "name": "stdout",
     "output_type": "stream",
     "text": [
      "['', \"it's not saved yet\", 'okay', 'so', \"'\", 'or beautiful drawing', 'so just', \"so this is our agenda you you're going to show your prototype presentation after me\", 'oops', '', \"oh i didn't know he\", 'so these are the', 'oh okay yeah', \"so these are the last notes that are made if anything doesn't look right just say it to me and i don't have to put it in the report\", \"you know we're doing the speech recognition because we didn't have enough time to um design the inside as well\", \"okay but still possible uh uh financially so if you want to it's okay\", \"okay yeah but then then we're gonna put it in\", 'okay just', 'yeah just so we have to design the inside then but it should be a', \"or are we making a slide open like underneath or fall open i don't know\"]\n"
     ]
    }
   ],
   "source": [
    "result_text = [run_search.remote(beamsearch_fn, data[i]['probs']) for i in range(20)]\n",
    "output = ray.get(result_text)\n",
    "print(output)"
   ]
  },
  {
   "cell_type": "code",
   "execution_count": null,
   "metadata": {},
   "outputs": [
    {
     "data": {
      "text/plain": [
       "['',\n",
       " \"it's not saved yet\",\n",
       " 'okay',\n",
       " 'so',\n",
       " \"'\",\n",
       " 'or beautiful drawing',\n",
       " 'so just',\n",
       " \"so this is our agenda you you're going to show your prototype presentation after me\"]"
      ]
     },
     "execution_count": 240,
     "metadata": {},
     "output_type": "execute_result"
    }
   ],
   "source": [
    "output"
   ]
  },
  {
   "cell_type": "code",
   "execution_count": null,
   "metadata": {},
   "outputs": [
    {
     "data": {
      "text/plain": [
       "[1312]"
      ]
     },
     "execution_count": 589,
     "metadata": {},
     "output_type": "execute_result"
    }
   ],
   "source": [
    "[i for i, el in enumerate(data) if el['targets'][0]==\"if i can con we are pirette the two marianne and i are receivi and maggie and susan are receiving a lot of student so we\"]"
   ]
  },
  {
   "cell_type": "code",
   "execution_count": null,
   "metadata": {},
   "outputs": [],
   "source": [
    "el  =data[idx]['probs'].log()[10]"
   ]
  },
  {
   "cell_type": "code",
   "execution_count": null,
   "metadata": {},
   "outputs": [
    {
     "data": {
      "text/plain": [
       "tensor([ 20,  92, 105, 108, 122, 128])"
      ]
     },
     "execution_count": 568,
     "metadata": {},
     "output_type": "execute_result"
    }
   ],
   "source": [
    "torch.arange(el.shape[-1])[(el > (el[el.argmax()] - 7))]"
   ]
  },
  {
   "cell_type": "code",
   "execution_count": null,
   "metadata": {},
   "outputs": [
    {
     "data": {
      "text/plain": [
       "torch.Size([362, 129])"
      ]
     },
     "execution_count": 133,
     "metadata": {},
     "output_type": "execute_result"
    }
   ],
   "source": [
    "data[0]['probs'].shape"
   ]
  },
  {
   "cell_type": "code",
   "execution_count": 53,
   "metadata": {},
   "outputs": [],
   "source": [
    "idx = 0\n",
    "#data[idx]['probs']\n",
    "#data[0]['probs'].shape[-1]-1\n",
    "beam_search = BeamSearch(\n",
    "    tokenizer=tokenizer,\n",
    "    beam_width=25,\n",
    "    log_probs=data[idx]['probs'],\n",
    "    language_model=LanguageModel(model=lm_model, bos_id=0, device='cpu'),\n",
    "    alpha=0.4,\n",
    "    beta=0.5,\n",
    "    blank_id=data[0]['probs'].shape[-1]-1,\n",
    "    blank_penalty=0.0,\n",
    "    repitition_penalty=0.0,\n",
    "    top_am_threshold=-6, # limit search to top k AM scores\n",
    "    max_cache_length=-1,\n",
    "    debug=False\n",
    ")\n",
    "#print(data[idx]['targets'][0])"
   ]
  },
  {
   "cell_type": "markdown",
   "metadata": {},
   "source": [
    "but is it' the battery yeah there are some things that they didn't mentioned because recharges not on the list but okay so i think we are pretty much in the right direction because it's twelve point three euros so"
   ]
  },
  {
   "cell_type": "code",
   "execution_count": null,
   "metadata": {},
   "outputs": [],
   "source": [
    "beam_search.language_model.apply_sep_token(beams=beam_search.beams)"
   ]
  },
  {
   "cell_type": "code",
   "execution_count": null,
   "metadata": {},
   "outputs": [],
   "source": [
    "total_lst = []"
   ]
  },
  {
   "cell_type": "code",
   "execution_count": 89,
   "metadata": {},
   "outputs": [
    {
     "name": "stderr",
     "output_type": "stream",
     "text": [
      "100%|██████████| 279/279 [00:26<00:00, 10.53it/s]\n"
     ]
    }
   ],
   "source": [
    "beam_search.run_search()"
   ]
  },
  {
   "cell_type": "code",
   "execution_count": null,
   "metadata": {},
   "outputs": [],
   "source": [
    "beam_search.print_beams()"
   ]
  },
  {
   "cell_type": "code",
   "execution_count": null,
   "metadata": {},
   "outputs": [],
   "source": [
    "beam_search.beams[1].past_scores"
   ]
  },
  {
   "cell_type": "code",
   "execution_count": 56,
   "metadata": {},
   "outputs": [],
   "source": [
    "def EMA(a, alpha=0.99):\n",
    "    b = a.clone()\n",
    "    for i in range(1, len(a)):\n",
    "        b[i] = alpha * b[i-1] + (1-alpha) * a[i]\n",
    "    return b"
   ]
  },
  {
   "cell_type": "code",
   "execution_count": 88,
   "metadata": {},
   "outputs": [],
   "source": [
    "beam_search.next_utterance(new_log_probs=data[6]['probs'])"
   ]
  },
  {
   "cell_type": "code",
   "execution_count": 97,
   "metadata": {},
   "outputs": [
    {
     "data": {
      "text/plain": [
       "[<matplotlib.lines.Line2D at 0x7f0407f8dfa0>]"
      ]
     },
     "execution_count": 97,
     "metadata": {},
     "output_type": "execute_result"
    },
    {
     "data": {
      "image/png": "[encoded data removed]",
      "text/plain": [
       "<Figure size 640x480 with 1 Axes>"
      ]
     },
     "metadata": {},
     "output_type": "display_data"
    }
   ],
   "source": [
    "import matplotlib.pyplot as plt\n",
    "past_scores = beam_search.beams[0].past_scores\n",
    "past_scores = torch.stack(past_scores, dim=0)\n",
    "plt.plot(past_scores)\n",
    "plt.plot(EMA(past_scores,alpha=0.9))\n",
    "plt.plot(EMA(past_scores,alpha=0.99))"
   ]
  },
  {
   "cell_type": "markdown",
   "metadata": {},
   "source": [
    "0: okay yeah but then then we gonna put it in | 58.046207427978516"
   ]
  },
  {
   "cell_type": "code",
   "execution_count": null,
   "metadata": {},
   "outputs": [
    {
     "name": "stderr",
     "output_type": "stream",
     "text": [
      "100%|██████████| 325/325 [00:00<00:00, 582.00it/s]"
     ]
    },
    {
     "name": "stdout",
     "output_type": "stream",
     "text": [
      "0: so recept some pafle | -10.228267669677734\n"
     ]
    },
    {
     "name": "stderr",
     "output_type": "stream",
     "text": [
      "\n"
     ]
    }
   ],
   "source": [
    "beam_search = BeamSearch(\n",
    "    tokenizer=tokenizer,\n",
    "    beam_width=1,\n",
    "    log_probs=data[idx]['probs'].log(),\n",
    "    language_model=LanguageModel(model=lm_model, bos_id=0, device='cuda:0'),\n",
    "    alpha=0.0,\n",
    "    beta=0.0,\n",
    "    blank_id=data[0]['probs'].shape[-1]-1,\n",
    "    blank_penalty=0.0,\n",
    "    repitition_penalty=0.0,\n",
    "    num_workers=10,\n",
    "    top_am_threshold=128, # limit search to top k AM scores\n",
    "    debug=False\n",
    ")\n",
    "beam_search.run_search()\n",
    "beam_search.print_beams()"
   ]
  },
  {
   "cell_type": "code",
   "execution_count": null,
   "metadata": {},
   "outputs": [
    {
     "name": "stderr",
     "output_type": "stream",
     "text": [
      "100%|██████████| 134/134 [00:03<00:00, 35.77it/s]"
     ]
    },
    {
     "name": "stdout",
     "output_type": "stream",
     "text": [
      "0: okay but still possible to uh stop uh s financially so if you want to s it's okay i'm | 145.2178192138672\n",
      "1: okay but still possible to uh stop uh s financially so if you want to s it's okay i'll | 145.20993041992188\n",
      "2: okay but still possible to uh stop uh s financially so if you want to s it's okay i' | 144.73741149902344\n",
      "3: okay but still possible to uh stop uh s financially so if you want to s it's okay i'm | 144.21363830566406\n",
      "4: okay but still possible to uh stop uh s financially so if you want to s it's okay i'll | 144.20574951171875\n"
     ]
    },
    {
     "name": "stderr",
     "output_type": "stream",
     "text": [
      "\n"
     ]
    }
   ],
   "source": [
    "beam_search.run_search()\n",
    "beam_search.print_beams()"
   ]
  },
  {
   "cell_type": "code",
   "execution_count": null,
   "metadata": {},
   "outputs": [
    {
     "name": "stdout",
     "output_type": "stream",
     "text": [
      "0:  | 10.152697563171387\n",
      "1: no | 8.721010208129883\n",
      "2: he | 8.619531631469727\n",
      "3: i | 7.763772964477539\n",
      "4: oh | 7.741393566131592\n",
      "5: h | 7.505728721618652\n",
      "6: n | 7.36505126953125\n",
      "7: o | 6.318929672241211\n",
      "8: oh | 5.720912933349609\n",
      "9: nop | 2.261976718902588\n"
     ]
    }
   ],
   "source": [
    "beam_search.print_beams()"
   ]
  },
  {
   "cell_type": "code",
   "execution_count": null,
   "metadata": {},
   "outputs": [
    {
     "name": "stdout",
     "output_type": "stream",
     "text": [
      "0:  | 0.999812662601471\n",
      "1: i | -2.251192331314087\n",
      "2:  | -5.278331756591797\n",
      "3: uh | -7.186532497406006\n",
      "4: mm | -8.113367080688477\n"
     ]
    }
   ],
   "source": [
    "beam_search.step()\n",
    "beam_search.print_beams()\n",
    "        "
   ]
  },
  {
   "cell_type": "code",
   "execution_count": null,
   "metadata": {},
   "outputs": [],
   "source": [
    "import sys"
   ]
  },
  {
   "cell_type": "code",
   "execution_count": null,
   "metadata": {},
   "outputs": [
    {
     "name": "stdout",
     "output_type": "stream",
     "text": [
      "Size of the tensor: 0.7060546875 MB\n"
     ]
    }
   ],
   "source": [
    "el_size = beam_search.beams[3].state['cache'].contiguous().element_size()\n",
    "n_elements = beam_search.beams[3].state['cache'].contiguous().nelement() \n",
    "print(f\"Size of the tensor: {n_elements * el_size / 1024 / 1024} MB\")"
   ]
  },
  {
   "cell_type": "code",
   "execution_count": null,
   "metadata": {},
   "outputs": [
    {
     "data": {
      "text/plain": [
       "[None, 74, 75, 123, 23, 112, 119, 103, 114, 112, 27, 13, 68, 105, 34, 111, 104, 116, 101, 4, 117, 104, 13, 25, 128]"
      ]
     },
     "execution_count": 65,
     "metadata": {},
     "output_type": "execute_result"
    }
   ],
   "source": [
    "beam_search.beams[1]"
   ]
  },
  {
   "cell_type": "code",
   "execution_count": null,
   "metadata": {},
   "outputs": [
    {
     "name": "stdout",
     "output_type": "stream",
     "text": [
      "0: okay everybody finish place again | -46.99462890625\n",
      "1: okay everybody finish place again yeah | -47.771907806396484\n",
      "2: okay everybody finish place again n | -50.726444244384766\n",
      "3: okay everybody finish place again y | -54.025733947753906\n",
      "4: okay everybody finish placed again | -54.676918029785156\n",
      "5: okay everybody finish place again that | -54.79623031616211\n",
      "6: okay everybody fish place again | -55.57752990722656\n",
      "7: everybody finish place again | -55.94749450683594\n",
      "8: okay everybody fish place again yeah | -57.06871795654297\n",
      "9: okay everybody finish place again now | -57.804744720458984\n"
     ]
    }
   ],
   "source": [
    "beam_search.print_beams()"
   ]
  },
  {
   "cell_type": "code",
   "execution_count": null,
   "metadata": {},
   "outputs": [
    {
     "name": "stdout",
     "output_type": "stream",
     "text": [
      "okay everybody finish place again yeah that's nice okay so this is the second meeting and uh still failing yes yeah and now we're going into the functional design um important thing of this phase is that we're going to uh try to get a agreement about the user requirements technical function design and the working design so that we can move on to the second uh phase but first this phase um first announcement there's a little adaptation in the arconditioning system so -481.4631042480469\n",
      "okay everybody finish place again yeah that's nice okay so this is the second meeting and uh still failing yes yeah uh now we're going into the functional design um important thing of this phase is that we're going to uh try to get a agreement about the user requirements technical function design and the working design so that we can move on to the second uh phase but first this phase um first announcement there's a little adaptation in the arconditioning system so -481.6800231933594\n",
      "okay everybody finish place again yeah that's nice okay so this is the second meeting and uh still failing yes yeah and now we're going into the functional design um important thing of this phase is that we're going to uh try to get a agreement about the user requirements technical function design and the working design so that we can move on to the second uh phase but first this phase um first announcement there's a little adaptation in the arconditional system so -484.2576599121094\n",
      "okay everybody finish place again yeah that's nice okay so this is the second meeting and uh still failing yes yeah uh now we're going into the functional design um important thing of this phase is that we're going to uh try to get a agreement about the user requirements technical function design and the working design so that we can move on to the second uh phase but first this phase um first announcement there's a little adaptation in the arconditional system so -484.4789733886719\n",
      "okay everybody finish place again yeah that's nice okay so this is the second meeting and uh still failing yes yeah and now we're going into the functional design um important thing of this phase is that we're going to uh try to get a agreement about the user requirements technical function design and the working design so that we can move on to the second uh phase but first this phase um first announcement there's a little adaptation in the arconditioning system -490.32366943359375\n",
      "okay everybody finish place again yeah that's nice okay so this is the second meeting and uh still failing yes yeah uh now we're going into the functional design um important thing of this phase is that we're going to uh try to get a agreement about the user requirements technical function design and the working design so that we can move on to the second uh phase but first this phase um first announcement there's a little adaptation in the arconditioning system -490.56671142578125\n",
      "okay everybody finish place again yeah that's nice okay so this is the second meeting and uh still failing yes yeah and now we're going into the functional design um important thing of this phase is that we're going to uh try to get a agreement about the user requirements technical function design and the working design so that we can move on to the second uh phase but first this phase um first announcement there's a little adaptation in the arconditional system -493.1069641113281\n",
      "okay everybody finish place again yeah that's nice okay so this is the second meeting and uh still failing yes yeah uh now we're going into the functional design um important thing of this phase is that we're going to uh try to get a agreement about the user requirements technical function design and the working design so that we can move on to the second uh phase but first this phase um first announcement there's a little adaptation in the arconditional system -493.3533020019531\n",
      "okay everybody finish place again yeah that's nice okay so this is the second meeting and uh still failing yes yeah uh now we're going into the functional design um important thing of this phase is that we're going to uh try to get a agreement about the user requirements technical function design and the working design so that we can move on to the second uh phase but first this phase um first announcement there's a little adaptation in the arconditioning system so uh -496.86279296875\n",
      "okay everybody finish place again yeah that's nice okay so this is the second meeting and uh still failing yes yeah and now we're going into the functional design um important thing of this phase is that we're going to uh try to get a agreement about the user requirements technical function design and the working design so that we can move on to the second uh phase but first this phase um first announcement there's a little adaptation in the arconditioning system so uh -496.8726501464844\n"
     ]
    }
   ],
   "source": [
    "beam_search.print_beams()"
   ]
  },
  {
   "cell_type": "code",
   "execution_count": null,
   "metadata": {},
   "outputs": [
    {
     "name": "stdout",
     "output_type": "stream",
     "text": [
      "okay everybody finish place again yeah that's nice okay so this is the second meeting and uh still fairly yes yeah uh now we're going um into the functional design um important thing of this phase is that we're going to uh try to get a agreement about the user requirements technical functional design and the working design so that we can move on to the second uh phase but first this phase um first advancement there's a little adaptation in the ear conditioning system so 51.85634994506836\n",
      "okay everybody finish place again yeah that's nice okay so this is the second meeting and uh still fairly yes yeah uh now we're going um into the functional design um important thing of this phase is that we're going to uh try to get a agreement about the user requirements technical function design and the working design so that we can move on to the second uh phase but first this phase um first advancement there's a little adaptation in the ear conditioning system so 51.78715896606445\n",
      "okay everybody finish place again yeah that's nice okay so this is the second meeting and uh still fairly yes yeah uh now we're going um into the functional design um important thing of this phase is that we're going to uh try to get a agreement about the user requirements technical functional design and the working design so that we can move on to the second uh phase but first this phase um first advancement there's a little adaptation in the ear condition system so 45.07585525512695\n",
      "okay everybody finish place again yeah that's nice okay so this is the second meeting and uh still fairly yes yeah uh now we're going um into the functional design um important thing of this phase is that we're going to uh try to get a agreement about the user requirements technical function design and the working design so that we can move on to the second uh phase but first this phase um first advancement there's a little adaptation in the ear condition system so 44.992183685302734\n",
      "okay everybody finish place again yeah that's nice okay so this is the second meeting and uh still fairly yes yeah uh now we're going um into the functional design um important thing of this phase is that we're going to uh try to get a agreement about the user requirements technical function design and the working design so that we can move on to the second uh phase but first this phase um first advancement there's a little adaptation in the arconditioning system so 42.75068283081055\n",
      "okay everybody finish place again yeah that's nice okay so this is the second meeting and uh still fairly yes yeah uh now we're going um into the functional design um important thing of this phase is that we're going to uh try to get a agreement about the user requirements technical functional design and the working design so that we can move on to the second uh phase but first this phase um first advancement there's a little adaptation in the arconditioning system so 41.632713317871094\n",
      "okay everybody finish place again yeah that's nice okay so this is the second meeting and uh still fairly yes yeah uh now we're going um into the functional design um important thing of this phase is that we're going to uh try to get a agreement about the user requirements technical functional design and the working design so that we can move on to the second uh phase but first this phase um first advancement there's a little adaptation in the ear conditioning system so uh 40.23167037963867\n",
      "okay everybody finish place again yeah that's nice okay so this is the second meeting and uh still fairly yes yeah uh now we're going um into the functional design um important thing of this phase is that we're going to uh try to get a agreement about the user requirements technical functional design and the working design so that we can move on to the second uh phase but first this phase um first advancement there's a little adaptation in the ear conditioning system so i 39.996307373046875\n",
      "okay everybody finish place again yeah that's nice okay so this is the second meeting and uh still fairly yes yeah uh now we're going um into the functional design um important thing of this phase is that we're going to uh try to get a agreement about the user requirements technical function design and the working design so that we can move on to the second uh phase but first this phase um first advancement there's a little adaptation in the ear conditioning system so uh 39.94106674194336\n",
      "okay everybody finish place again yeah that's nice okay so this is the second meeting and uh still fairly yes yeah uh now we're going um into the functional design um important thing of this phase is that we're going to uh try to get a agreement about the user requirements technical functional design and the working design so that we can move on to the second uh phase but first this phase um first advancement there's a little adaptation in the ear conditioning system 39.71497344970703\n",
      "okay everybody finish place again yeah that's nice okay so this is the second meeting and uh still fairly yes yeah uh now we're going um into the functional design um important thing of this phase is that we're going to uh try to get a agreement about the user requirements technical function design and the working design so that we can move on to the second uh phase but first this phase um first advancement there's a little adaptation in the ear conditioning system 39.65251922607422\n",
      "okay everybody finish place again yeah that's nice okay so this is the second meeting and uh still fairly yes yeah uh now we're going um into the functional design um important thing of this phase is that we're going to uh try to get a agreement about the user requirements technical function design and the working design so that we can move on to the second uh phase but first this phase um first advancement there's a little adaptation in the ear conditioning system so i 39.63610076904297\n",
      "okay everybody finish place again yeah that's nice okay so this is the second meeting and uh still fairly yes yeah uh now we're going um into the functional design um important thing of this phase is that we're going to uh try to get a agreement about the user requirements technical functional design and the working design so that we can move on to the second uh phase but first this phase um first advancement there's a little adaptation in the ear conditioning system so uh 39.1115608215332\n",
      "okay everybody finish place again yeah that's nice okay so this is the second meeting and uh still fairly yes yeah uh now we're going um into the functional design um important thing of this phase is that we're going to uh try to get a agreement about the user requirements technical function design and the working design so that we can move on to the second uh phase but first this phase um first advancement there's a little adaptation in the ear conditioning system so uh 39.0447883605957\n",
      "okay everybody finish place again yeah that's nice okay so this is the second meeting and uh still fairly yes yeah uh now we're going um into the functional design um important thing of this phase is that we're going to uh try to get a agreement about the user requirements technical functional design and the working design so that we can move on to the second uh phase but first this phase um first advancement there's a little adaptation in the ear conditioning system so it 38.15896224975586\n"
     ]
    }
   ],
   "source": [
    "beam_search.print_beams()"
   ]
  },
  {
   "cell_type": "code",
   "execution_count": null,
   "metadata": {},
   "outputs": [
    {
     "name": "stdout",
     "output_type": "stream",
     "text": [
      "okay everybody finish place again yeah that's nice okay so this is the second meeting and uh still failing yes yeah uh now we're going into the functional design um important thing of this phase is that we're going to uh try to get a agreement about the user requirements technical functional design and the working design so that we can move on to the second uh phase but first this phase um first announcement there's a little adaptation in the ear conditioning system so -40.32543182373047\n",
      "okay everybody finish place again yeah that's nice okay so this is the second meeting and uh still failing yes yeah and now we're going into the functional design um important thing of this phase is that we're going to uh try to get a agreement about the user requirements technical functional design and the working design so that we can move on to the second uh phase but first this phase um first announcement there's a little adaptation in the ear conditioning system so -40.338409423828125\n",
      "okay everybody finish place again yeah that's nice okay so this is the second meeting and uh still failing yes yeah and now we're going into the functional design um important thing of this phase is that we're going to uh try to get a agreement about the user requirements technical functional design and the working design so that we can move on to the second uh phase but first this phase um first announcement there's a little adaptation in the arconditioning system so -47.10200500488281\n",
      "okay everybody finish place again yeah that's nice okay so this is the second meeting and uh still failing yes yeah uh now we're going into the functional design um important thing of this phase is that we're going to uh try to get a agreement about the user requirements technical functional design and the working design so that we can move on to the second uh phase but first this phase um first announcement there's a little adaptation in the arconditioning system so -47.10814666748047\n",
      "okay everybody finish place again yeah that's nice okay so this is the second meeting and uh still failing yes yeah uh now we're going into the functional design um important thing of this phase is that we're going to uh try to get a agreement about the user requirements technical functional design and the working design so that we can move on to the second uh phase but first this phase um first announcement there's a little adaptation in the ear condition system so -47.60261535644531\n",
      "okay everybody finish place again yeah that's nice okay so this is the second meeting and uh still failing yes yeah and now we're going into the functional design um important thing of this phase is that we're going to uh try to get a agreement about the user requirements technical functional design and the working design so that we can move on to the second uh phase but first this phase um first announcement there's a little adaptation in the ear condition system so -47.64032745361328\n",
      "okay everybody finish place again yeah that's nice okay so this is the second meeting and uh still failing yes yeah and now we're going into the functional design um important thing of this phase is that we're going to uh try to get a agreement about the user requirements technical function design and the working design so that we can move on to the second uh phase but first this phase um first announcement there's a little adaptation in the arconditioning system so -50.105709075927734\n",
      "okay everybody finish place again yeah that's nice okay so this is the second meeting and uh still failing yes yeah and now we're going into the functional design um important thing of this phase is that we're going to uh try to get a agreement about the user requirements technical functional design and the working design so that we can move on to the second uh phase but first this phase um first announcement there's a little adaptation in the ear conditioning system -51.01702880859375\n",
      "okay everybody finish place again yeah that's nice okay so this is the second meeting and uh still failing yes yeah uh now we're going into the functional design um important thing of this phase is that we're going to uh try to get a agreement about the user requirements technical functional design and the working design so that we can move on to the second uh phase but first this phase um first announcement there's a little adaptation in the ear conditioning system -51.0291748046875\n",
      "okay everybody finish place again yeah that's nice okay so this is the second meeting and uh still failing yes yeah and now we're going into the functional design um important thing of this phase is that we're going to uh try to get a agreement about the user requirements technical functional design and the working design so that we can move on to the second uh phase but first this phase um first announcement there's a little adaptation in the ear conditioning system to -53.32002258300781\n",
      "okay everybody finish place again yeah that's nice okay so this is the second meeting and uh still failing yes yeah uh now we're going into the functional design um important thing of this phase is that we're going to uh try to get a agreement about the user requirements technical functional design and the working design so that we can move on to the second uh phase but first this phase um first announcement there's a little adaptation in the ear conditioning system to -53.32251739501953\n",
      "okay everybody finish place again yeah that's nice okay so this is the second meeting and uh still failing yes yeah uh now we're going into the functional design um important thing of this phase is that we're going to uh try to get a agreement about the user requirements technical functional design and the working design so that we can move on to the second uh phase but first this phase um first announcement there's a little adaptation in the ear conditioning system so uh -53.720252990722656\n",
      "okay everybody finish place again yeah that's nice okay so this is the second meeting and uh still failing yes yeah and now we're going into the functional design um important thing of this phase is that we're going to uh try to get a agreement about the user requirements technical functional design and the working design so that we can move on to the second uh phase but first this phase um first announcement there's a little adaptation in the ear conditioning system so uh -53.954891204833984\n",
      "okay everybody finish place again yeah that's nice okay so this is the second meeting and uh still failing yes yeah uh now we're going into the functional design um important thing of this phase is that we're going to uh try to get a agreement about the user requirements technical functional design and the working design so that we can move on to the second uh phase but first this phase um first announcement there's a little adaptation in the ear conditioning system and so -54.03715133666992\n",
      "okay everybody finish place again yeah that's nice okay so this is the second meeting and uh still failing yes yeah and now we're going into the functional design um important thing of this phase is that we're going to uh try to get a agreement about the user requirements technical functional design and the working design so that we can move on to the second uh phase but first this phase um first announcement there's a little adaptation in the ear conditioning system and so -54.06034469604492\n"
     ]
    }
   ],
   "source": [
    "beam_search.print_beams()"
   ]
  },
  {
   "cell_type": "markdown",
   "metadata": {},
   "source": [
    "Decoded: yeah if we if we make a remote control just like with that idea in mind we could make does a money i think we don't have to focus on on on the on the design then but on functionality we just\n",
    "\n",
    "Targets: yeah if we if we make a remote control just l with that idea in mind we could make tons of money i think we don't have to focus on on on the on the design then but on functionality we just\n",
    "\n"
   ]
  },
  {
   "cell_type": "code",
   "execution_count": null,
   "metadata": {},
   "outputs": [],
   "source": [
    "beam_search.print_beams()"
   ]
  },
  {
   "cell_type": "code",
   "execution_count": null,
   "metadata": {},
   "outputs": [
    {
     "data": {
      "text/plain": [
       "552.978515625"
      ]
     },
     "execution_count": 2306,
     "metadata": {},
     "output_type": "execute_result"
    }
   ],
   "source": [
    "7.200241088867188e-05*256*100*300"
   ]
  },
  {
   "cell_type": "code",
   "execution_count": null,
   "metadata": {},
   "outputs": [
    {
     "data": {
      "text/plain": [
       "6.0"
      ]
     },
     "execution_count": 2353,
     "metadata": {},
     "output_type": "execute_result"
    }
   ],
   "source": [
    "0.02*300"
   ]
  },
  {
   "cell_type": "code",
   "execution_count": null,
   "metadata": {},
   "outputs": [],
   "source": []
  },
  {
   "cell_type": "code",
   "execution_count": null,
   "metadata": {},
   "outputs": [
    {
     "name": "stdout",
     "output_type": "stream",
     "text": [
      "torch.Size([9, 1])\n",
      "total time 0.05069112777709961\n",
      " -1.8000440832111053e-05\n",
      "o -14.444648742675781\n",
      "mm -14.656890869140625\n",
      "h -14.785577774047852\n",
      "uh -14.851725578308105\n",
      "yeah -14.855557441711426\n",
      "it -14.863266944885254\n",
      "we -14.904424667358398\n",
      "w -16.174285888671875\n",
      "m -16.28896713256836\n"
     ]
    }
   ],
   "source": [
    "stime = time.time()\n",
    "beam_search.step()\n",
    "etime = time.time()\n",
    "print('total time', etime - stime)\n",
    "beam_search.print_beams()"
   ]
  },
  {
   "cell_type": "code",
   "execution_count": null,
   "metadata": {},
   "outputs": [],
   "source": [
    "beam_search.beams[1].lm_sequence"
   ]
  },
  {
   "cell_type": "code",
   "execution_count": null,
   "metadata": {},
   "outputs": [
    {
     "data": {
      "text/plain": [
       "[]"
      ]
     },
     "execution_count": 1950,
     "metadata": {},
     "output_type": "execute_result"
    }
   ],
   "source": [
    "tokenizer.ids_to_tokens(beam_search.beams[0].lm_sequence[1:])[25:35]\n"
   ]
  },
  {
   "cell_type": "markdown",
   "metadata": {},
   "source": [
    "Targets: okay everybody found his place agDecoded: yeah if we if we make a remote control just like with that idea in mind we could make does a money i think we don't have to focus on on on the on the design then but on functionality we just\n",
    "\n",
    "Targets: yeah if we if we make a remote control just l with that idea in mind we could make tons of money i think we don't have to focus on on on the on the design then but on functionality we just\n",
    "ain yeah that's nice okay so this is our second meeting and uh still failing\n"
   ]
  },
  {
   "cell_type": "code",
   "execution_count": null,
   "metadata": {},
   "outputs": [
    {
     "name": "stdout",
     "output_type": "stream",
     "text": [
      "and nine thousand eight hundred and thirty four and nine thousand eight hundred and thi -7.542511463165283\n",
      "and nine thousand eight hundred and thirty four and nine thousand eight hundred and thir -7.542521953582764\n",
      "and nine thousand eight hundred and thirty four and nine thousand eight hundred and thirt -7.542531967163086\n",
      "and nine thousand eight hundred and thirty four and nine thousand eight hundred and thirty -7.542680263519287\n",
      "and nine thousand eight hundred and thirty four and nine thousand eight hundred and th -7.542855262756348\n",
      "and nine thousand eight hundred and thirty four and nine thousand eight hundred and thi -7.542935848236084\n",
      "and nine thousand eight hundred and thirty four and nine thousand eight hundred and thir -7.542946815490723\n",
      "and nine thousand eight hundred and thirty four and nine thousand eight hundred and thirt -7.54296350479126\n",
      "and nine thousand eight hundred and thirty four and nine thousand eight hundred and thirty -7.543112277984619\n",
      "and nine thousand eight hundred and thirty four and nine thousand eight hundred and thirty f -7.543203830718994\n",
      "and nine thousand eight hundred and thirty four and nine thousand eight hundred and thirty fou -7.543285369873047\n",
      "and nine thousand eight hundred and thirty four and nine thousand eight hundred and thirty four -7.543333053588867\n",
      "and nine thousand eight hundred and thirty four and nine thousand eight hundred and thirty f -7.543636798858643\n",
      "and nine thousand eight hundred and thirty four and nine thousand eight hundred and thirty fou -7.543718338012695\n",
      "and nine thousand eight hundred and thirty four and nine thousand eight hu -7.559066295623779\n",
      "and nine thousand eight hundred and thirty four and nine thousand eight h -7.559463977813721\n",
      "and nine thousand eight hundred and thirty four and nine thousand -7.600107669830322\n",
      "and nine thousand eight hundred and thirty four and nine thousa -7.600522994995117\n",
      "and nine thousand eight hundred and thirty four and nine thous -7.627673625946045\n",
      "and nine thousand eight hundred and thirty four and nine thou -7.628098487854004\n",
      "no no no no no no no no no no no no no n -8.1219482421875\n",
      "no no no no no no no no no no no no no no -8.125127792358398\n",
      "no no no no no no no no no no no no no no no no -8.127638816833496\n",
      "no no no no no no no no no no no no no no n -8.149853706359863\n",
      "no no no no no no no no no no no no no no no -8.152801513671875\n",
      "no no no no no no no no no no no no no no no -8.153177261352539\n",
      "no no no no no no no no no no no no no no no no no -8.175153732299805\n",
      "no no no no no no no no no no no no no no no no n -8.177692413330078\n",
      "no no no no no no no no no no no no no no no n -8.203827857971191\n",
      "no no no no no no no no no no no no no no no no no n -8.224857330322266\n",
      "and nine thousand eight hundred and thirty four i don't -10.864750862121582\n",
      "and nine thousand eight hundred and thirty four i'm a -11.549051284790039\n",
      "and nine thousand eight hundred and thirty four wait -11.62244701385498\n",
      "and nine thousand eight hundred and thirty four i'm g -11.645023345947266\n",
      "and nine thousand eight hundred and thirty four i'm n -11.645438194274902\n",
      "and nine thousand eight hundred and thirty four i'm not -11.756598472595215\n",
      "and nine thousand eight hundred and thirty four make -11.936241149902344\n",
      "and nine thousand eight hundred and thirty four i'm so -11.960289001464844\n",
      "and nine thousand eight hundred and thirty four i'm gon -12.071091651916504\n",
      "and nine thousand eight hundred and thirty four i'm gonn -12.084632873535156\n",
      "and nine thousand eight hundred and thirty four let's g -12.129670143127441\n",
      "and nine thousand eight hundred and thirty four there's n -12.135250091552734\n",
      "and nine thousand eight hundred and thirty four there's a -12.14028549194336\n",
      "and nine thousand eight hundred and thirty four i'm s -12.154386520385742\n",
      "and nine thousand eight hundred and thirty four i'm gon -12.230419158935547\n",
      "and nine thousand eight hundred and thirty four was -12.25125503540039\n",
      "and nine thousand eight hundred and thirty four i don't k -12.322916030883789\n",
      "and nine thousand eight hundred and thirty four she' -12.361964225769043\n",
      "and nine thousand eight hundred and thirty four you're a -12.399070739746094\n",
      "and nine thousand eight hundred and thirty four she's -12.435259819030762\n"
     ]
    }
   ],
   "source": [
    "beam_search.print_beams()"
   ]
  },
  {
   "cell_type": "code",
   "execution_count": null,
   "metadata": {},
   "outputs": [
    {
     "data": {
      "text/plain": [
       "torch.Size([12, 2, 1, 1, 362, 32])"
      ]
     },
     "execution_count": 171,
     "metadata": {},
     "output_type": "execute_result"
    },
    {
     "ename": "",
     "evalue": "",
     "output_type": "error",
     "traceback": [
      "\u001b[1;31mThe Kernel crashed while executing code in the the current cell or a previous cell. Please review the code in the cell(s) to identify a possible cause of the failure. Click <a href='https://aka.ms/vscodeJupyterKernelCrash'>here</a> for more info. View Jupyter <a href='command:jupyter.viewOutput'>log</a> for further details."
     ]
    }
   ],
   "source": [
    "beam_search.beams[0].state['cache'].shape"
   ]
  },
  {
   "cell_type": "code",
   "execution_count": null,
   "metadata": {},
   "outputs": [
    {
     "data": {
      "text/plain": [
       "[[83, 113, 83, 74, 122, 72, 42, 75, 123, 23, 112, 119, 103, 114, 112, 29, 27, 13, 114, 107, 68, 105, 120, 34, 111, 104, 116, 101, 89, 108, 113, 20, 4, 117, 104, 13, 83, 29, 113, 111, 113, 105, 29, 83, 25, 104, 66, 120, 10, 113, 99, 108, 25, 111, 25, 83, 29, 9, 32, 37, 122, 108, 40, 67, 101, 2, 29, 40, 113, 99, 101, 100, 115, 122, 10, 29, 115, 25, 42, 25, 29, 25, 29, 42, 83, 74, 100, 122, 72, 112, 108, 32, 104, 29, 5, 29, 7, 92, 64, 4, 6, 101, 116, 19, 114, 17, 101, 57, 33, 108, 113, 101, 99, 25, 9, 4, 25, 4, 25, 99, 25, 42, 99, 42, 29, 42, 7, 42, 29, 105, 100, 105, 111, 29, 111, 103, 105, 111, 113, 105, 3, 20, 122, 6, 102, 106, 31, 27, 104, 106, 111, 33, 20, 113, 105, 111, 102, 29, 83, 3, 25],\n",
       " [83, 113, 83, 74, 122, 72, 42, 75, 123, 23, 112, 119, 103, 114, 112, 29, 27, 13, 114, 107, 68, 105, 120, 34, 111, 104, 116, 101, 89, 108, 113, 20, 4, 117, 104, 13, 83, 29, 113, 111, 113, 105, 29, 83, 25, 104, 66, 120, 10, 113, 99, 108, 25, 111, 25, 83, 29, 9, 32, 37, 122, 108, 40, 67, 101, 2, 29, 40, 113, 99, 101, 100, 115, 122, 10, 29, 115, 25, 42, 25, 29, 25, 29, 42, 83, 74, 100, 122, 72, 112, 108, 32, 104, 29, 5, 29, 7, 92, 64, 4, 6, 101, 116, 19, 114, 17, 101, 57, 33, 108, 113, 101, 99, 25, 9, 4, 25, 4, 25, 99, 25, 42, 99, 42, 29, 42, 7, 42, 29, 105, 100, 105, 111, 29, 111, 103, 105, 111, 113, 105, 3, 20, 122, 6, 102, 106, 31, 27, 104, 106, 111, 33, 20, 113, 105, 111, 102, 29, 83, 3, 25, 29],\n",
       " [83, 113, 83, 74, 122, 72, 42, 75, 123, 23, 112, 119, 103, 114, 112, 29, 27, 13, 114, 107, 68, 105, 120, 34, 111, 104, 116, 101, 89, 108, 113, 20, 4, 117, 104, 13, 83, 29, 113, 111, 113, 105, 29, 83, 25, 104, 66, 120, 10, 113, 99, 108, 25, 111, 25, 83, 29, 9, 32, 37, 122, 108, 40, 67, 101, 2, 29, 40, 113, 99, 101, 100, 115, 122, 10, 29, 115, 25, 42, 25, 29, 25, 29, 42, 83, 74, 100, 122, 72, 112, 108, 32, 104, 29, 5, 29, 7, 92, 64, 4, 6, 101, 116, 19, 114, 17, 101, 57, 33, 108, 113, 101, 99, 25, 9, 4, 25, 4, 25, 99, 25, 42, 99, 42, 29, 42, 7, 42, 29, 105, 100, 105, 111, 29, 111, 103, 105, 111, 113, 105, 3, 20, 122, 6, 102, 106, 31, 27, 104, 106, 111, 33, 20, 113, 105, 111, 102, 83, 29, 3, 25],\n",
       " [83, 113, 83, 74, 122, 72, 42, 75, 123, 23, 112, 119, 103, 114, 112, 29, 27, 13, 114, 107, 68, 105, 120, 34, 111, 104, 116, 101, 89, 108, 113, 20, 4, 117, 104, 13, 83, 29, 113, 111, 113, 105, 29, 83, 25, 104, 66, 120, 10, 113, 99, 108, 25, 111, 25, 83, 29, 9, 32, 37, 122, 108, 40, 67, 101, 2, 29, 40, 113, 99, 101, 100, 115, 122, 10, 29, 115, 25, 42, 25, 29, 25, 29, 42, 83, 74, 100, 122, 72, 112, 108, 32, 104, 29, 5, 29, 7, 92, 64, 4, 6, 101, 116, 19, 114, 17, 101, 57, 33, 108, 113, 101, 99, 25, 9, 4, 25, 4, 25, 99, 25, 42, 99, 42, 29, 42, 7, 42, 29, 105, 100, 105, 111, 29, 111, 103, 105, 111, 113, 105, 3, 20, 122, 6, 102, 106, 31, 27, 104, 106, 111, 33, 20, 113, 105, 111, 102, 83, 29, 3, 25, 29],\n",
       " [83, 113, 83, 74, 122, 72, 42, 75, 123, 23, 112, 119, 103, 114, 112, 29, 27, 13, 114, 107, 68, 105, 120, 34, 111, 104, 116, 101, 89, 108, 113, 20, 4, 117, 104, 13, 83, 29, 113, 111, 113, 105, 29, 83, 25, 104, 66, 120, 10, 113, 99, 108, 25, 111, 25, 83, 29, 9, 32, 37, 122, 108, 40, 67, 101, 2, 29, 40, 113, 99, 101, 100, 115, 122, 10, 29, 115, 25, 42, 25, 29, 25, 29, 42, 83, 74, 100, 122, 72, 112, 108, 32, 104, 29, 5, 29, 7, 92, 64, 4, 6, 101, 116, 19, 114, 17, 101, 57, 33, 108, 113, 101, 99, 25, 9, 4, 25, 4, 25, 99, 25, 42, 99, 42, 29, 42, 7, 42, 29, 105, 100, 105, 111, 29, 111, 103, 105, 111, 113, 105, 3, 20, 122, 6, 102, 106, 31, 27, 104, 106, 111, 33, 20, 113, 105, 111, 102, 29, 83, 3, 29, 25]]"
      ]
     },
     "execution_count": 157,
     "metadata": {},
     "output_type": "execute_result"
    }
   ],
   "source": [
    "beam_search.step()\n",
    "beam_search.beams\n"
   ]
  },
  {
   "cell_type": "code",
   "execution_count": null,
   "metadata": {},
   "outputs": [
    {
     "data": {
      "text/plain": [
       "'okay ev'"
      ]
     },
     "execution_count": 116,
     "metadata": {},
     "output_type": "execute_result"
    }
   ],
   "source": [
    "tokenizer.ids_to_text([74,75,123])"
   ]
  },
  {
   "cell_type": "code",
   "execution_count": null,
   "metadata": {},
   "outputs": [
    {
     "name": "stdout",
     "output_type": "stream",
     "text": [
      "mm tensor(52.0821)\n"
     ]
    }
   ],
   "source": [
    "beam_search.print_beams()"
   ]
  },
  {
   "cell_type": "code",
   "execution_count": null,
   "metadata": {},
   "outputs": [
    {
     "ename": "IndexError",
     "evalue": "dimension specified as 0 but tensor has no dimensions",
     "output_type": "error",
     "traceback": [
      "\u001b[0;31m---------------------------------------------------------------------------\u001b[0m",
      "\u001b[0;31mIndexError\u001b[0m                                Traceback (most recent call last)",
      "Cell \u001b[0;32mIn [410], line 1\u001b[0m\n\u001b[0;32m----> 1\u001b[0m torch\u001b[38;5;241m.\u001b[39mnn\u001b[38;5;241m.\u001b[39mutils\u001b[38;5;241m.\u001b[39mrnn\u001b[38;5;241m.\u001b[39mpad_sequence(beam_search\u001b[38;5;241m.\u001b[39msequences, batch_first\u001b[38;5;241m=\u001b[39m\u001b[38;5;28;01mTrue\u001b[39;00m, padding_value\u001b[38;5;241m=\u001b[39m\u001b[38;5;241m0\u001b[39m)\u001b[38;5;241m.\u001b[39mshape\n",
      "File \u001b[0;32m/store/store1/software/bin/anaconda3/envs/k2_custom-nemo/lib/python3.8/site-packages/torch/nn/utils/rnn.py:378\u001b[0m, in \u001b[0;36mpad_sequence\u001b[0;34m(sequences, batch_first, padding_value)\u001b[0m\n\u001b[1;32m    374\u001b[0m         sequences \u001b[39m=\u001b[39m sequences\u001b[39m.\u001b[39munbind(\u001b[39m0\u001b[39m)\n\u001b[1;32m    376\u001b[0m \u001b[39m# assuming trailing dimensions and type of all the Tensors\u001b[39;00m\n\u001b[1;32m    377\u001b[0m \u001b[39m# in sequences are same and fetching those from sequences[0]\u001b[39;00m\n\u001b[0;32m--> 378\u001b[0m \u001b[39mreturn\u001b[39;00m torch\u001b[39m.\u001b[39;49m_C\u001b[39m.\u001b[39;49m_nn\u001b[39m.\u001b[39;49mpad_sequence(sequences, batch_first, padding_value)\n",
      "\u001b[0;31mIndexError\u001b[0m: dimension specified as 0 but tensor has no dimensions"
     ]
    }
   ],
   "source": [
    "torch.nn.utils.rnn.pad_sequence(beam_search.sequences, batch_first=True, padding_value=0).shape"
   ]
  },
  {
   "cell_type": "code",
   "execution_count": null,
   "metadata": {},
   "outputs": [
    {
     "data": {
      "text/plain": [
       "tensor([1, 1, 1, 1, 1, 1, 1, 1, 1, 1])"
      ]
     },
     "execution_count": 219,
     "metadata": {},
     "output_type": "execute_result"
    }
   ],
   "source": [
    "torch.cat(beam_search.state_lens)"
   ]
  },
  {
   "cell_type": "code",
   "execution_count": null,
   "metadata": {},
   "outputs": [],
   "source": [
    "st = rearrange(beam_search.states[0], 'l kv b h n d -> n (l kv b h) d')"
   ]
  },
  {
   "cell_type": "code",
   "execution_count": null,
   "metadata": {},
   "outputs": [
    {
     "data": {
      "text/plain": [
       "torch.Size([2, 24, 32])"
      ]
     },
     "execution_count": 189,
     "metadata": {},
     "output_type": "execute_result"
    }
   ],
   "source": [
    "st2 = repeat(st, 'n l d -> (n g) l d', g=2)\n",
    "st2.shape"
   ]
  },
  {
   "cell_type": "code",
   "execution_count": null,
   "metadata": {},
   "outputs": [],
   "source": [
    "a = torch.nn.utils.rnn.pad_sequence([st,st2],batch_first=True, padding_value=0)\n",
    "a = rearrange(a, 'nb n (l kv b h) d -> l kv (b nb) h n d', l=12, kv=2, b=1, h=1)"
   ]
  },
  {
   "cell_type": "code",
   "execution_count": null,
   "metadata": {},
   "outputs": [
    {
     "data": {
      "text/plain": [
       "torch.Size([12, 2, 2, 1, 2, 32])"
      ]
     },
     "execution_count": 199,
     "metadata": {},
     "output_type": "execute_result"
    }
   ],
   "source": [
    "a.shape"
   ]
  },
  {
   "cell_type": "code",
   "execution_count": null,
   "metadata": {},
   "outputs": [
    {
     "data": {
      "text/plain": [
       "tensor([[[-1.1296e+00,  3.5527e-02,  8.6013e-01,  ..., -8.0770e-02,\n",
       "          -9.7107e-01, -3.4215e-01],\n",
       "         [-3.1794e-01,  2.6583e-01,  1.7289e-01,  ..., -2.9353e-01,\n",
       "          -3.2939e-01, -2.7528e-01],\n",
       "         [ 3.5905e-01,  1.3651e-01,  4.1464e-01,  ..., -1.6560e-01,\n",
       "           7.1282e-01, -2.8392e-01],\n",
       "         ...,\n",
       "         [ 1.6620e-01, -1.8962e-03, -2.3980e-01,  ..., -3.4301e-01,\n",
       "           3.4452e-02, -5.8181e-02],\n",
       "         [-8.1805e-01, -1.3458e+00,  3.3389e+00,  ...,  1.1669e+00,\n",
       "           1.1700e+00, -1.4359e+00],\n",
       "         [-6.6434e-02,  1.8941e-01,  3.9193e-01,  ..., -2.2594e-01,\n",
       "           1.5088e-01,  1.5729e-01]],\n",
       "\n",
       "        [[-1.1296e+00,  3.5527e-02,  8.6013e-01,  ..., -8.0770e-02,\n",
       "          -9.7107e-01, -3.4215e-01],\n",
       "         [-3.1794e-01,  2.6583e-01,  1.7289e-01,  ..., -2.9353e-01,\n",
       "          -3.2939e-01, -2.7528e-01],\n",
       "         [ 3.5905e-01,  1.3651e-01,  4.1464e-01,  ..., -1.6560e-01,\n",
       "           7.1282e-01, -2.8392e-01],\n",
       "         ...,\n",
       "         [ 1.6620e-01, -1.8962e-03, -2.3980e-01,  ..., -3.4301e-01,\n",
       "           3.4452e-02, -5.8181e-02],\n",
       "         [-8.1805e-01, -1.3458e+00,  3.3389e+00,  ...,  1.1669e+00,\n",
       "           1.1700e+00, -1.4359e+00],\n",
       "         [-6.6434e-02,  1.8941e-01,  3.9193e-01,  ..., -2.2594e-01,\n",
       "           1.5088e-01,  1.5729e-01]]])"
      ]
     },
     "execution_count": 196,
     "metadata": {},
     "output_type": "execute_result"
    }
   ],
   "source": [
    "a[1]"
   ]
  },
  {
   "cell_type": "code",
   "execution_count": null,
   "metadata": {},
   "outputs": [],
   "source": [
    "class TEST:\n",
    "    def __init__(self) -> None:\n",
    "        self.data = np.arange(1000)\n",
    "\n",
    "    def __len__(self):\n",
    "        return len(self.data)\n",
    "\n",
    "    def __getitem__(self, idx):\n",
    "        return self.data[idx]"
   ]
  },
  {
   "cell_type": "code",
   "execution_count": null,
   "metadata": {},
   "outputs": [],
   "source": [
    "a = TEST()"
   ]
  },
  {
   "cell_type": "code",
   "execution_count": null,
   "metadata": {},
   "outputs": [
    {
     "data": {
      "text/plain": [
       "array([  0,   1,   2,   3,   4,   5,   6,   7,   8,   9,  10,  11,  12,\n",
       "        13,  14,  15,  16,  17,  18,  19,  20,  21,  22,  23,  24,  25,\n",
       "        26,  27,  28,  29,  30,  31,  32,  33,  34,  35,  36,  37,  38,\n",
       "        39,  40,  41,  42,  43,  44,  45,  46,  47,  48,  49,  50,  51,\n",
       "        52,  53,  54,  55,  56,  57,  58,  59,  60,  61,  62,  63,  64,\n",
       "        65,  66,  67,  68,  69,  70,  71,  72,  73,  74,  75,  76,  77,\n",
       "        78,  79,  80,  81,  82,  83,  84,  85,  86,  87,  88,  89,  90,\n",
       "        91,  92,  93,  94,  95,  96,  97,  98,  99, 100, 101, 102, 103,\n",
       "       104, 105, 106, 107, 108, 109, 110, 111, 112, 113, 114, 115, 116,\n",
       "       117, 118, 119, 120, 121, 122, 123, 124, 125, 126, 127, 128, 129,\n",
       "       130, 131, 132, 133, 134, 135, 136, 137, 138, 139, 140, 141, 142,\n",
       "       143, 144, 145, 146, 147, 148, 149, 150, 151, 152, 153, 154, 155,\n",
       "       156, 157, 158, 159, 160, 161, 162, 163, 164, 165, 166, 167, 168,\n",
       "       169, 170, 171, 172, 173, 174, 175, 176, 177, 178, 179, 180, 181,\n",
       "       182, 183, 184, 185, 186, 187, 188, 189, 190, 191, 192, 193, 194,\n",
       "       195, 196, 197, 198, 199, 200, 201, 202, 203, 204, 205, 206, 207,\n",
       "       208, 209, 210, 211, 212, 213, 214, 215, 216, 217, 218, 219, 220,\n",
       "       221, 222, 223, 224, 225, 226, 227, 228, 229, 230, 231, 232, 233,\n",
       "       234, 235, 236, 237, 238, 239, 240, 241, 242, 243, 244, 245, 246,\n",
       "       247, 248, 249, 250, 251, 252, 253, 254, 255, 256, 257, 258, 259,\n",
       "       260, 261, 262, 263, 264, 265, 266, 267, 268, 269, 270, 271, 272,\n",
       "       273, 274, 275, 276, 277, 278, 279, 280, 281, 282, 283, 284, 285,\n",
       "       286, 287, 288, 289, 290, 291, 292, 293, 294, 295, 296, 297, 298,\n",
       "       299, 300, 301, 302, 303, 304, 305, 306, 307, 308, 309, 310, 311,\n",
       "       312, 313, 314, 315, 316, 317, 318, 319, 320, 321, 322, 323, 324,\n",
       "       325, 326, 327, 328, 329, 330, 331, 332, 333, 334, 335, 336, 337,\n",
       "       338, 339, 340, 341, 342, 343, 344, 345, 346, 347, 348, 349, 350,\n",
       "       351, 352, 353, 354, 355, 356, 357, 358, 359, 360, 361, 362, 363,\n",
       "       364, 365, 366, 367, 368, 369, 370, 371, 372, 373, 374, 375, 376,\n",
       "       377, 378, 379, 380, 381, 382, 383, 384, 385, 386, 387, 388, 389,\n",
       "       390, 391, 392, 393, 394, 395, 396, 397, 398, 399, 400, 401, 402,\n",
       "       403, 404, 405, 406, 407, 408, 409, 410, 411, 412, 413, 414, 415,\n",
       "       416, 417, 418, 419, 420, 421, 422, 423, 424, 425, 426, 427, 428,\n",
       "       429, 430, 431, 432, 433, 434, 435, 436, 437, 438, 439, 440, 441,\n",
       "       442, 443, 444, 445, 446, 447, 448, 449, 450, 451, 452, 453, 454,\n",
       "       455, 456, 457, 458, 459, 460, 461, 462, 463, 464, 465, 466, 467,\n",
       "       468, 469, 470, 471, 472, 473, 474, 475, 476, 477, 478, 479, 480,\n",
       "       481, 482, 483, 484, 485, 486, 487, 488, 489, 490, 491, 492, 493,\n",
       "       494, 495, 496, 497, 498, 499, 500, 501, 502, 503, 504, 505, 506,\n",
       "       507, 508, 509, 510, 511, 512, 513, 514, 515, 516, 517, 518, 519,\n",
       "       520, 521, 522, 523, 524, 525, 526, 527, 528, 529, 530, 531, 532,\n",
       "       533, 534, 535, 536, 537, 538, 539, 540, 541, 542, 543, 544, 545,\n",
       "       546, 547, 548, 549, 550, 551, 552, 553, 554, 555, 556, 557, 558,\n",
       "       559, 560, 561, 562, 563, 564, 565, 566, 567, 568, 569, 570, 571,\n",
       "       572, 573, 574, 575, 576, 577, 578, 579, 580, 581, 582, 583, 584,\n",
       "       585, 586, 587, 588, 589, 590, 591, 592, 593, 594, 595, 596, 597,\n",
       "       598, 599, 600, 601, 602, 603, 604, 605, 606, 607, 608, 609, 610,\n",
       "       611, 612, 613, 614, 615, 616, 617, 618, 619, 620, 621, 622, 623,\n",
       "       624, 625, 626, 627, 628, 629, 630, 631, 632, 633, 634, 635, 636,\n",
       "       637, 638, 639, 640, 641, 642, 643, 644, 645, 646, 647, 648, 649,\n",
       "       650, 651, 652, 653, 654, 655, 656, 657, 658, 659, 660, 661, 662,\n",
       "       663, 664, 665, 666, 667, 668, 669, 670, 671, 672, 673, 674, 675,\n",
       "       676, 677, 678, 679, 680, 681, 682, 683, 684, 685, 686, 687, 688,\n",
       "       689, 690, 691, 692, 693, 694, 695, 696, 697, 698, 699, 700, 701,\n",
       "       702, 703, 704, 705, 706, 707, 708, 709, 710, 711, 712, 713, 714,\n",
       "       715, 716, 717, 718, 719, 720, 721, 722, 723, 724, 725, 726, 727,\n",
       "       728, 729, 730, 731, 732, 733, 734, 735, 736, 737, 738, 739, 740,\n",
       "       741, 742, 743, 744, 745, 746, 747, 748, 749, 750, 751, 752, 753,\n",
       "       754, 755, 756, 757, 758, 759, 760, 761, 762, 763, 764, 765, 766,\n",
       "       767, 768, 769, 770, 771, 772, 773, 774, 775, 776, 777, 778, 779,\n",
       "       780, 781, 782, 783, 784, 785, 786, 787, 788, 789, 790, 791, 792,\n",
       "       793, 794, 795, 796, 797, 798, 799, 800, 801, 802, 803, 804, 805,\n",
       "       806, 807, 808, 809, 810, 811, 812, 813, 814, 815, 816, 817, 818,\n",
       "       819, 820, 821, 822, 823, 824, 825, 826, 827, 828, 829, 830, 831,\n",
       "       832, 833, 834, 835, 836, 837, 838, 839, 840, 841, 842, 843, 844,\n",
       "       845, 846, 847, 848, 849, 850, 851, 852, 853, 854, 855, 856, 857,\n",
       "       858, 859, 860, 861, 862, 863, 864, 865, 866, 867, 868, 869, 870,\n",
       "       871, 872, 873, 874, 875, 876, 877, 878, 879, 880, 881, 882, 883,\n",
       "       884, 885, 886, 887, 888, 889, 890, 891, 892, 893, 894, 895, 896,\n",
       "       897, 898, 899, 900, 901, 902, 903, 904, 905, 906, 907, 908, 909,\n",
       "       910, 911, 912, 913, 914, 915, 916, 917, 918, 919, 920, 921, 922,\n",
       "       923, 924, 925, 926, 927, 928, 929, 930, 931, 932, 933, 934, 935,\n",
       "       936, 937, 938, 939, 940, 941, 942, 943, 944, 945, 946, 947, 948,\n",
       "       949, 950, 951, 952, 953, 954, 955, 956, 957, 958, 959, 960, 961,\n",
       "       962, 963, 964, 965, 966, 967, 968, 969, 970, 971, 972, 973, 974,\n",
       "       975, 976, 977, 978, 979, 980, 981, 982, 983, 984, 985, 986, 987,\n",
       "       988, 989, 990, 991, 992, 993, 994, 995, 996, 997, 998, 999])"
      ]
     },
     "execution_count": 142,
     "metadata": {},
     "output_type": "execute_result"
    }
   ],
   "source": [
    "np.asarray(a)"
   ]
  },
  {
   "cell_type": "code",
   "execution_count": null,
   "metadata": {},
   "outputs": [],
   "source": [
    "#TODO: vectorise adding scores\n",
    "#TODO: cut off at cettain log p difference from best beam\n",
    "#TODO: cache all states at each timestep for beams in top k / threshold to avoid recomputing\n",
    "#TODO: convert LM to onnx or torchscript\n",
    "class BeamSearch(): \n",
    "    def __init__(\n",
    "            self, \n",
    "            tokenizer, \n",
    "            beam_width, \n",
    "            log_probs, \n",
    "            language_model: LanguageModel,\n",
    "            alpha=0.4, # score = am + lm*alpha + beta if not blank or repitition else am\n",
    "            beta=0.4, # beta offsets for lack of blank and repitition in lm probs\n",
    "            blank_id=128,\n",
    "            blank_penalty=0.0, # additional penalty for blank\n",
    "            repitition_penalty=0.0, # additional penalty for repitition\n",
    "            top_am_threshold=40, # top am scores to consider\n",
    "            num_workers=10, # not used\n",
    "            debug=False\n",
    "        ):\n",
    "        self.tokenizer = tokenizer\n",
    "        self.beam_width = beam_width\n",
    "        self.vocab_size = tokenizer.vocab_size\n",
    "        self.log_probs = log_probs\n",
    "        self.language_model = language_model\n",
    "        self.blank_id = blank_id\n",
    "        self.alpha = alpha\n",
    "        self.beta = beta\n",
    "        self.beams = []\n",
    "        self.position = 0 # position in sequence\n",
    "        self.blank_penalty = blank_penalty\n",
    "        self.repitition_penalty = repitition_penalty\n",
    "        self.top_am_threshold = top_am_threshold\n",
    "        self.debug = debug  \n",
    "\n",
    "\n",
    "    def initiate(self):\n",
    "        assert len(self.beams) == 0 and self.position == 0, 'initiate can only be called once | beams should be empty'\n",
    "        lm_logps, state = self.language_model.get_initial_state()\n",
    "        self.beams = [\n",
    "            Beam(\n",
    "                state = state,\n",
    "                am_sequence = [None], # no bos for am\n",
    "                lm_sequence = [self.language_model.bos_id], # bos for lm\n",
    "                next_lm_token_lps = lm_logps, # log probs of next token\n",
    "            )\n",
    "        ]\n",
    "\n",
    "    def print_beams(self):\n",
    "        for beam in self.beams:\n",
    "            print(self.tokenizer.ids_to_text(beam.lm_sequence[1:]), beam.score.item()) # [1:] bcos bos\n",
    "\n",
    "    def prune(self, beams):\n",
    "        print(f'Num beams to sort: {len(beams)}') if self.debug else None\n",
    "        beams = heapq.nlargest(self.beam_width, beams, key=lambda beam: beam.score) # faster than sort\n",
    "        return beams\n",
    "\n",
    "    @staticmethod\n",
    "    def _sum_log_scores(s1:float, s2:float) -> float:\n",
    "        return s1+math.log(1+math.exp(s2-s1)) if s1>=s2 else s2+math.log(1+math.exp(s1-s2))\n",
    "\n",
    "    def merge(self, beams):\n",
    "        self.beam_dict = {}\n",
    "        for beam in beams:\n",
    "            beam_str = str(beam)\n",
    "            if beam_str in self.beam_dict:\n",
    "                self.beam_dict[beam_str].score = self._sum_log_scores(beam.score, self.beam_dict[beam_str].score)\n",
    "            else:\n",
    "                self.beam_dict[beam_str] = beam\n",
    "        return list(self.beam_dict.values())\n",
    "\n",
    "\n",
    "    @staticmethod\n",
    "    def grab_state(state, indice):\n",
    "        ## TODO: trim cache to be equal to cache_lengths\n",
    "        \n",
    "        cache = {\n",
    "            'cache': state['cache'][:,:,indice, None], \n",
    "            'cache_lengths': state['cache_lengths'][indice, None]\n",
    "        }\n",
    "        #print(cache['cache'].shape, cache['cache_lengths'].shape, cache['cache_lengths'])\n",
    "        return cache\n",
    "\n",
    "    def run_search(self):\n",
    "        search = True\n",
    "        pbar = tqdm(total=len(self.log_probs))\n",
    "        pbar.update(self.position)\n",
    "        while search:\n",
    "            search = self.step()\n",
    "            pbar.update(1)\n",
    "        pbar.close()\n",
    "\n",
    "    def step(self):\n",
    "        if self.position == 0:\n",
    "            self.initiate()\n",
    "        if self.position == len(self.log_probs):\n",
    "            return False\n",
    "        # now create new beams\n",
    "        new_beams = []\n",
    "        stime = time.time()\n",
    "        cur_am_lgps = self.log_probs[self.position]\n",
    "        \n",
    "        # only look at top k am scores \n",
    "        top_am_indices = torch.topk(cur_am_lgps, self.top_am_threshold, dim=0, sorted=False, largest=True).indices\n",
    "\n",
    "        for beam in self.beams: # this is main bottleneck vectorize this pls\n",
    "            beam_lm_probs = beam.next_lm_token_lps\n",
    "            beam_lm_probs = beam_lm_probs * self.alpha + self.beta\n",
    "            #joint_am_lm_probs = (beam_lm_probs + cur_am_lgps[1:-1]) # joint_am_lm_probs[i-1] + beam.score\n",
    "           \n",
    "            for i in range(1, self.vocab_size+1):\n",
    "                if i not in top_am_indices:\n",
    "                    continue\n",
    "\n",
    "                b_am_seq, b_lm_seq = beam.am_sequence, beam.lm_sequence\n",
    "                #stime = time.time()\n",
    "                if b_am_seq[-1] == i or i == self.blank_id: # won't need scoring from language model\n",
    "                    new_beam = Beam(\n",
    "                        state = beam.state,\n",
    "                        am_sequence = b_am_seq,\n",
    "                        lm_sequence = b_lm_seq,\n",
    "                        next_lm_token_lps = beam.next_lm_token_lps,\n",
    "                        score = self.log_probs[self.position][i] + beam.score + (self.blank_penalty if i == self.blank_id else self.repitition_penalty)\n",
    "                    )\n",
    "                    if i == self.blank_id and b_am_seq[-1] != self.blank_id:\n",
    "                        new_beam.am_sequence.append(i)\n",
    "                else:\n",
    "                    new_beam = Beam(\n",
    "                        state = beam.state,\n",
    "                        am_sequence = b_am_seq + [i] if b_am_seq[-1] != self.blank_id else b_am_seq[:-1] + [i], # remove blank if it is followed by a non blank\n",
    "                        lm_sequence = b_lm_seq + [i], \n",
    "                        next_lm_token_lps = None,\n",
    "                        score = self.log_probs[self.position][i] + beam_lm_probs[i-1] + beam.score\n",
    "                    )\n",
    "             \n",
    "                new_beams.append(new_beam)\n",
    "          \n",
    "        etime = time.time()\n",
    "        print('beam time', etime - stime) if self.debug else None\n",
    "\n",
    "        stime = time.time()\n",
    "        new_beams = self.merge(new_beams)\n",
    "        etime = time.time()\n",
    "        print('merge time', etime - stime) if self.debug else None\n",
    "\n",
    "        \n",
    "        stime = time.time()\n",
    "        new_beams = self.prune(new_beams)\n",
    "        etime = time.time()\n",
    "        print('prune time', etime - stime) if self.debug else None\n",
    "        if self.position == len(self.log_probs) - 1:\n",
    "            self.beams = new_beams\n",
    "            return False\n",
    "        \n",
    "        states, state_lens, sequences, sequence_lens = [], [], [], []\n",
    "        L, KV, B, H, N, D = new_beams[0].state['cache'].shape\n",
    "        # Layer, Key+Value, Batch, Head, Sequence, Dimension\n",
    "     \n",
    "        for beam in new_beams: # already fast\n",
    "            if beam.next_lm_token_lps is None:\n",
    "                states.append(rearrange(beam.state['cache'], 'l kv b h n d -> n (l kv b h) d')) # so we can use rnn.pad_sequence\n",
    "                #print(states[-1].shape, beam.state['cache'].shape)\n",
    "                sequences.append(torch.tensor(beam.lm_sequence[-1]))\n",
    "                sequence_lens.append(1)\n",
    "                state_lens.append(beam.state['cache_lengths'])\n",
    "    \n",
    "\n",
    "        if len(sequences) != 0:\n",
    "            stime = time.time()\n",
    "            states = torch.nn.utils.rnn.pad_sequence(states, batch_first=True, padding_value=0)\n",
    "            states = rearrange(states, 'nb n (l kv b h) d -> l kv (b nb) h n d', l=L, kv=KV, b=B, h=H, d=D)\n",
    "            sequences = torch.stack(sequences, dim=0)[:, None]\n",
    "            sequence_lens = torch.LongTensor(sequence_lens)\n",
    "            states = {'cache': states, 'cache_lengths': torch.cat(state_lens, dim=0)}\n",
    "\n",
    "            stime = time.time()\n",
    "            logps, states = self.language_model(input_ids=sequences, input_lengths=sequence_lens, states=states)\n",
    "            logp_idx = 0\n",
    "            for beam in new_beams:\n",
    "                if beam.next_lm_token_lps is None:\n",
    "                    beam.next_lm_token_lps = logps[logp_idx][-1]\n",
    "                    beam.state = self.grab_state(states, logp_idx)\n",
    "                    logp_idx += 1\n",
    "            etime = time.time()\n",
    "            print('LM time: ', etime-stime) if self.debug else None\n",
    "\n",
    "        self.beams = new_beams\n",
    "        self.position += 1\n",
    "        return True"
   ]
  },
  {
   "cell_type": "code",
   "execution_count": null,
   "metadata": {},
   "outputs": [],
   "source": [
    "import matplotlib.pyplot as plt, numpy as np\n",
    "from brokenaxes import brokenaxes\n",
    "import matplotlib"
   ]
  },
  {
   "cell_type": "code",
   "execution_count": null,
   "metadata": {},
   "outputs": [],
   "source": [
    "a = matplotlib.scale.ScaleBase(axis='y')"
   ]
  },
  {
   "cell_type": "code",
   "execution_count": null,
   "metadata": {},
   "outputs": [
    {
     "ename": "NotImplementedError",
     "evalue": "",
     "output_type": "error",
     "traceback": [
      "\u001b[0;31m---------------------------------------------------------------------------\u001b[0m",
      "\u001b[0;31mNotImplementedError\u001b[0m                       Traceback (most recent call last)",
      "Cell \u001b[0;32mIn [21], line 1\u001b[0m\n\u001b[0;32m----> 1\u001b[0m a\u001b[38;5;241m.\u001b[39mget_transform()\n",
      "File \u001b[0;32m/store/store1/software/bin/anaconda3/envs/k2_custom-nemo/lib/python3.8/site-packages/matplotlib/scale.py:70\u001b[0m, in \u001b[0;36mScaleBase.get_transform\u001b[0;34m(self)\u001b[0m\n\u001b[1;32m     66\u001b[0m \u001b[39mdef\u001b[39;00m \u001b[39mget_transform\u001b[39m(\u001b[39mself\u001b[39m):\n\u001b[1;32m     67\u001b[0m     \u001b[39m\"\"\"\u001b[39;00m\n\u001b[1;32m     68\u001b[0m \u001b[39m    Return the `.Transform` object associated with this scale.\u001b[39;00m\n\u001b[1;32m     69\u001b[0m \u001b[39m    \"\"\"\u001b[39;00m\n\u001b[0;32m---> 70\u001b[0m     \u001b[39mraise\u001b[39;00m \u001b[39mNotImplementedError\u001b[39;00m()\n",
      "\u001b[0;31mNotImplementedError\u001b[0m: "
     ]
    }
   ],
   "source": [
    "a.get_transform()"
   ]
  },
  {
   "cell_type": "code",
   "execution_count": null,
   "metadata": {},
   "outputs": [
    {
     "data": {
      "image/png": "[encoded data removed]",
      "text/plain": [
       "<Figure size 800x800 with 3 Axes>"
      ]
     },
     "metadata": {},
     "output_type": "display_data"
    }
   ],
   "source": [
    "#0 = 162.26\n",
    "def sublinear(x):\n",
    "    return np.log10(x+1)\n",
    "\n",
    "\n",
    "\n",
    "fig = plt.figure(figsize=(8, 8))\n",
    "ax = brokenaxes(ylims=((60,76), (101, 165)), hspace=.1)\n",
    "# change scale to sub linear\n",
    "\n",
    "#ax.set_xscale('function', functions=(sublinear, sublinear))\n",
    "\n",
    "\n",
    "cache_length_p = [0,100, 200, 300, 400, 500, 600, 700, 800, 900, 1000, 1100, 1200, 1300, 1400, 1500, 1600, 1700, 1800, 1900, 2000, 3000]\n",
    "perplexity_p = [162,121.43, 114.46, 111.17, 109.07, 107.57, 106.45, 105.73, 105.05, 104.69, 104.39, 103.96, 103.63, 103.40, 103.32, 103.12, 103.08, 102.91, 102.76, 102.68, 102.68, 102.88]\n",
    "cache_length_p = np.array(cache_length_p)\n",
    "#cache_length_p = sublinear(cache_length_p)\n",
    "\n",
    "perplexity_p = np.array(perplexity_p)\n",
    "perplexity_p_second_moment =  (perplexity_p)\n",
    "#perplexity_p = sublinear(perplexity_p)\n",
    "\n",
    "\n",
    "ax.plot(cache_length_p, perplexity_p_second_moment, 'o-', label='Pretrained')\n",
    "\n",
    "# log scale\n",
    "#plt.xscale('log')\n",
    "#plt.yscale('log')\n",
    "#plt.savefig('perplexity_pretrained_ami.svg')\n",
    "#plt.show()\n",
    "#0 = 74.75\n",
    "cache_length_f = [0, 100, 200, 300, 400, 500, 600, 700, 800, 900, 1000,1100, 1200, 1300, 1400, 1500, 1600, 1700, 1800, 1900, 2000, 3000]\n",
    "cache_length_f = np.array(cache_length_f)\n",
    "#cache_length_f = sublinear(cache_length_f)\n",
    "\n",
    "perplexity_f = [74.75, 65.71, 64.22, 63.61,  63.34, 63.18, 62.96, 62.8, 62.67, 62.61, 62.54, 62.46, 62.41, 62.4, 62.39, 62.37, 62.40, 62.38, 62.39, 62.42, 62.48, 63.01]\n",
    "perplexity_f = np.array(perplexity_f)\n",
    "perplexity_f_second_moment = (perplexity_f)\n",
    "#print(perplexity_f_diff)\n",
    "#perplexity_f = sublinear(perplexity_f)\n",
    "\n",
    "\n",
    "ax.plot(cache_length_f, perplexity_f_second_moment, 'o-', label='Finetuned')\n",
    "ax.legend()\n",
    "#fig.autofmt_xdate()\n",
    "#plt.xlabel('Maximun Cache Length (tokens)')\n",
    "#plt.ylabel('Word Level Perplexity')\n",
    "#plt.savefig('perplexity_finetuned_ami.svg')\n",
    "\n",
    "# axis labels\n",
    "ax.set_xlabel('Maximun Cache Length (tokens)')\n",
    "ax.set_ylabel('Word Level Perplexity')\n",
    "\n",
    "plt.savefig('perplexity_ami.svg')\n",
    "plt.show()\n"
   ]
  },
  {
   "cell_type": "code",
   "execution_count": null,
   "metadata": {},
   "outputs": [
    {
     "data": {
      "text/plain": [
       "(22,)"
      ]
     },
     "execution_count": 98,
     "metadata": {},
     "output_type": "execute_result"
    }
   ],
   "source": [
    "perplexity_f_second_moment.shape"
   ]
  },
  {
   "cell_type": "code",
   "execution_count": null,
   "metadata": {},
   "outputs": [
    {
     "name": "stderr",
     "output_type": "stream",
     "text": [
      "[NeMo W 2023-02-23 13:05:09 experimental:27] Module <class 'nemo.collections.nlp.data.language_modeling.megatron.megatron_batch_samplers.MegatronPretrainingRandomBatchSampler'> is experimental, not ready for production and is not fully supported. Use at your own risk.\n",
      "[NeMo W 2023-02-23 13:05:09 experimental:27] Module <class 'nemo.collections.nlp.models.text_normalization_as_tagging.thutmose_tagger.ThutmoseTaggerModel'> is experimental, not ready for production and is not fully supported. Use at your own risk.\n"
     ]
    }
   ],
   "source": [
    "import tools"
   ]
  },
  {
   "cell_type": "code",
   "execution_count": null,
   "metadata": {},
   "outputs": [
    {
     "name": "stdout",
     "output_type": "stream",
     "text": [
      "beam_search.ipynb\t\t   myopicdropout.ipynb\n",
      "caching_test.ipynb\t\t   nsp.ipynb\n",
      "contrastive_rescoring.ipynb\t   perplexity_finetuned_ami.svg\n",
      "cross_attention_dynamic_pos.ipynb  perplexity_pretrained_ami.svg\n",
      "frequency_attention.ipynb\t   __pycache__\n",
      "lm_utils.py\t\t\t   qknorm_attention.py\n",
      "log_probs.pkl\t\t\t   Untitled-1.ipynb\n",
      "lps.pkl\t\t\t\t   Untitled-1__.ipynb\n",
      "lps_s.pkl\n"
     ]
    }
   ],
   "source": [
    "!ls"
   ]
  },
  {
   "cell_type": "code",
   "execution_count": null,
   "metadata": {},
   "outputs": [],
   "source": [
    "def get_words_and_time(sample):\n",
    "    s,e = sample.supervisions[0].custom.values()\n",
    "    duration = e - s\n",
    "    text = sample.supervisions[0].text\n",
    "    words = text.split()\n",
    "    id = sample.supervisions[0].recording_id\n",
    "    return len(words), duration, id"
   ]
  },
  {
   "cell_type": "code",
   "execution_count": null,
   "metadata": {},
   "outputs": [],
   "source": [
    "from tqdm import tqdm\n",
    "from tools import request_env"
   ]
  },
  {
   "cell_type": "code",
   "execution_count": null,
   "metadata": {},
   "outputs": [],
   "source": [
    "AMI = tools.load_corpus(target_folder=request_env('AMI_PATH'), prefix_path=request_env('AMI_BASE'), file_name=request_env('AMI_NAME'))\n",
    "\n"
   ]
  },
  {
   "cell_type": "code",
   "execution_count": null,
   "metadata": {},
   "outputs": [
    {
     "name": "stderr",
     "output_type": "stream",
     "text": [
      "100%|██████████| 85832/85832 [00:10<00:00, 8312.03it/s]"
     ]
    },
    {
     "name": "stdout",
     "output_type": "stream",
     "text": [
      "Words: 764088, Duration: 80.07895416666665 hours, meetings: 132\n"
     ]
    },
    {
     "name": "stderr",
     "output_type": "stream",
     "text": [
      "\n"
     ]
    }
   ],
   "source": [
    "ids = {}\n",
    "for sample in tqdm(AMI['train']):\n",
    "    words, duration, id = get_words_and_time(sample)\n",
    "    if id in ids:\n",
    "        ids[id]['duration'] += duration\n",
    "        ids[id]['words'] += words\n",
    "    else:\n",
    "        ids[id] = {'duration': duration, 'words': words}\n",
    "\n",
    "total_words = 0\n",
    "total_duration = 0\n",
    "for id in ids:\n",
    "    words, duration = ids[id]['words'], ids[id]['duration']\n",
    "    total_words += words\n",
    "    total_duration += duration\n",
    "print(f'Words: {total_words}, Duration: {total_duration/60/60} hours, meetings: {len(ids)}')\n"
   ]
  },
  {
   "cell_type": "code",
   "execution_count": null,
   "metadata": {},
   "outputs": [],
   "source": [
    "ids.keys()"
   ]
  },
  {
   "cell_type": "code",
   "execution_count": null,
   "metadata": {},
   "outputs": [
    {
     "data": {
      "text/plain": [
       "MonoCut(id='0f0b20c9-8713-4d26-a28a-e3c2c5c59ae8', start=0, duration=2.29, channel=0, supervisions=[SupervisionSegment(id='StevenStrogatz_2004R-0', recording_id='StevenStrogatz_2004R', start=0.0, duration=2.29, channel=0, text='just sideways about how much was it moving', language='English', speaker='StevenStrogatz_2004R', gender=None, custom={'segment_start': 1001.66, 'segment_end': 1003.95}, alignment=None)], features=None, recording=Recording(id='0f0b20c9-8713-4d26-a28a-e3c2c5c59ae8', sources=[AudioSource(type='file', channels=[0], source='/store/store1/data/TEDLIUM_release1/tedlium/wavs/train/0f0/0f0b20c9-8713-4d26-a28a-e3c2c5c59ae8.wav')], sampling_rate=16000, num_samples=36640, duration=2.29, transforms=None), custom=None)"
      ]
     },
     "execution_count": 71,
     "metadata": {},
     "output_type": "execute_result"
    }
   ],
   "source": [
    "ted['train'][0]"
   ]
  },
  {
   "cell_type": "code",
   "execution_count": null,
   "metadata": {},
   "outputs": [
    {
     "name": "stderr",
     "output_type": "stream",
     "text": [
      "100%|██████████| 10886/10886 [00:00<00:00, 352776.78it/s]\n"
     ]
    }
   ],
   "source": [
    "predictions,targets = [],[]\n",
    "for item in tqdm(data):\n",
    "    predictions.append(item['prediction'])\n",
    "    targets.append(item['targets'][0])"
   ]
  },
  {
   "cell_type": "code",
   "execution_count": null,
   "metadata": {},
   "outputs": [],
   "source": [
    "from nemo.collections.asr.metrics.wer import word_error_rate"
   ]
  },
  {
   "cell_type": "code",
   "execution_count": null,
   "metadata": {},
   "outputs": [
    {
     "data": {
      "text/plain": [
       "0.23168788139325183"
      ]
     },
     "execution_count": 233,
     "metadata": {},
     "output_type": "execute_result"
    }
   ],
   "source": [
    "word_error_rate(hypotheses=predictions, references=targets)"
   ]
  },
  {
   "cell_type": "code",
   "execution_count": null,
   "metadata": {},
   "outputs": [
    {
     "data": {
      "text/plain": [
       "['',\n",
       " \"it's not saved yet\",\n",
       " 'okay',\n",
       " 'so',\n",
       " \"'\",\n",
       " 'or beautiful drawing',\n",
       " 'so just',\n",
       " \"so this is our agenda you you're going to show your prototype presentation after me\",\n",
       " 'oops',\n",
       " '',\n",
       " \"oh i didn't know he\",\n",
       " 'so these are the',\n",
       " 'oh okay yeah',\n",
       " \"so these are the last notes that are made if anything doesn't look right just say it to me and i don't have to put it in the report\",\n",
       " \"you know we're doing the speech recognition because we didn't have enough time to um design the inside as well\",\n",
       " \"okay but still possible uh uh financially so if you want to it's okay\",\n",
       " \"okay yeah but then then we're gonna put it in\",\n",
       " 'okay just',\n",
       " 'yeah just so we have to design the inside then but it should be a',\n",
       " \"or are we making a slide open like underneath or fall open i don't know\",\n",
       " 'slide open is quite useful for remote control',\n",
       " \"it's probably better\",\n",
       " 'yes like underneath you can slide it open you can under functions',\n",
       " 'maybe maybe a bit stronger as well',\n",
       " \"maybe that's prob\",\n",
       " 'yeah',\n",
       " \"yeah that's that's a very point\",\n",
       " \"okay so well you have a lot of room inside so you can make it very easy to use 'cause you can write a lot of comments size\",\n",
       " \"i think it's better\",\n",
       " '',\n",
       " \"okay so this is okay i'll cool\",\n",
       " \"no we're gonna use the advanced chip then\",\n",
       " \"okay so that's just have a look how much sets but um okay for the okay now you have a different chip for speech recognition so\",\n",
       " 'the',\n",
       " 'advanced chips for a speaker',\n",
       " \"yeah i i think so i don't know\",\n",
       " 'okay',\n",
       " 'okay',\n",
       " \"so i already calculated that it's still in the budget so it's okay\",\n",
       " 'good',\n",
       " 'so you can show your prototype if you want to',\n",
       " 'yeah',\n",
       " 'together',\n",
       " \"yeah let's do it together okay\",\n",
       " \"i'll give comments\",\n",
       " 'yeah we just made a word file',\n",
       " 'with the basic',\n",
       " 'elements',\n",
       " 'uh the look and feel model uh well the form the case um',\n",
       " 'as drawn there simply a square with the round corners so',\n",
       " \"that's basically good uh the material should be hard plastic\",\n",
       " 'mm hmm',\n",
       " 'uh colour changeable and also transparent and colour and transparent or just transparent i dunno um then the elements',\n",
       " 'we have',\n",
       " \"the functions are just basic like uh i've pointed in mr mute function on off function text functions this is the switch channel and this is the\",\n",
       " 'okay cool',\n",
       " 'the number pad and the logo is over here in the mi',\n",
       " 'okay',\n",
       " 'and the scroll wheel you operate that with your pointing finger so you hold it like this in your right hand and',\n",
       " 'means',\n",
       " '',\n",
       " 'so how many functions do you need for for the microphone',\n",
       " '',\n",
       " 'speech recognition',\n",
       " \"yeah speech recognition is only one button to say it's on or off\",\n",
       " \"um i didn't have a specification of that but um i can imagine that you have to impict your voice or something um so i've\",\n",
       " \"i don't know\",\n",
       " 'yeah maybe maybe you have to configure it',\n",
       " \"yes you need options to configure it and after that you don't need them anymore\",\n",
       " 'so you can put it on the back as well if you want to',\n",
       " \"yeah you can put'em all on the back that's for sure\",\n",
       " \"there are or on the slide function i don't know well we haven't had time to design that the slide pad\",\n",
       " 'okay',\n",
       " 'okay',\n",
       " \"that's a\",\n",
       " \"we also don't know how many buttons are required or what kind of buttons but\",\n",
       " 'you have a lot of room if you can slide it open',\n",
       " 'yeah you can put a sec',\n",
       " \"you know i can imagine you need at least four buttons or something so it's enough room\",\n",
       " 'n',\n",
       " 'um the position yeah you write uh you wrote this so',\n",
       " 'oh well name the main zap buttons are most central',\n",
       " 'yeah',\n",
       " 'that was the most important thing so uh best replace best reach place and on off buttons tuck buttons mute buttons are together and that the place they use lear easy to find',\n",
       " \"um the on off button is a bit bigger um so it stands out the way you don't have to make it right because it's\",\n",
       " \"we'll uh we'll stop\",\n",
       " \"uh scroll wheels on the left side it's basically the standard place for scroll wheel as far as i know\",\n",
       " \"yeah but it's not uh impossible to use it if you're left handed so because you can use your thumb then\",\n",
       " 'yeah',\n",
       " \"just one thing now um you need to have more uh one two th you've got one two three four five six seven eight nine that you missed now uh zero and uh the two stripes\",\n",
       " 'okay yeah',\n",
       " 'yeah',\n",
       " \"yeah okay that's that's slow then with the twelve buttons\",\n",
       " 'yeah okay',\n",
       " \"i'm sorry get that\",\n",
       " 'okay but',\n",
       " \"it's rather important\",\n",
       " 'yeah',\n",
       " 'yeah okay we just missed that but um well just uh',\n",
       " \"i'll get back to later form well you've taken it from the ipod other popular technical device so um should be popular\",\n",
       " '',\n",
       " 'with uh the buttons creating uh if you',\n",
       " 'that are all round shapes not a round corners',\n",
       " 'okay',\n",
       " 'so that now you get a bit wrong feeling',\n",
       " 'um well use hard plastic since that allows us to use the buttons uh no rubber buttons',\n",
       " \"colour changeable well and um the backlight thing the thing that lights up we have decided in the the channel buttons there's a middle colour around it\",\n",
       " 'okay',\n",
       " 'and also in the numera there was also colour light behind it',\n",
       " 'and do you still can do you still can choose what colour kind of colour you want how do you want to implement that just on the maybe on the second level as well',\n",
       " 'so when you put',\n",
       " 'yeah',\n",
       " \"we're going to yeah just a little\",\n",
       " '',\n",
       " 'yeah these are just basic functions so all the non basic are in',\n",
       " 'okay just draw draw the second level because we need it as well',\n",
       " 'yeah',\n",
       " 'okay',\n",
       " 'uh',\n",
       " \"okay there's one uh function i use uh dealy and it's not on the basic functions it's uh to switch to your scart playstation or uh d v d player that function must be\",\n",
       " 'okay maybe we use this button for the',\n",
       " 'yeah maybe or you can uh uh let uh beneath in the uh other uh functions',\n",
       " 'yeah to your video device',\n",
       " 'yeah as well just make it make a maybe just just draw a second level one and say all the options that are still left or something',\n",
       " 'yeah',\n",
       " 'a second level like a new blank one or or just here okay',\n",
       " 'yeah',\n",
       " 'yeah',\n",
       " 'no no just up down there',\n",
       " 'okay',\n",
       " 'yeah',\n",
       " 'and how does the second level of command slides along',\n",
       " 'just if you s',\n",
       " \"um slides i think it's\",\n",
       " 'yeah maybe yeah',\n",
       " 'from from you need',\n",
       " 'on the bottom',\n",
       " \"you can do that the claps open but i think that's not solid enough if that breaks your screen\",\n",
       " 'no you get the slide it',\n",
       " \"yeah that's right\",\n",
       " \"so it does doesn't even have to slide all by open um\",\n",
       " 'so what do we need',\n",
       " 'the speech functions buttons',\n",
       " 'yeah just',\n",
       " 'menu',\n",
       " 'menu button',\n",
       " 'with uh maybe uh arrows',\n",
       " 'so you can uh',\n",
       " '',\n",
       " 'scroll in the navigate the menu',\n",
       " '',\n",
       " 'go there',\n",
       " 'start',\n",
       " 'i think we can even put uh we have one for zero and one for the',\n",
       " 'yeah',\n",
       " 'for the more digit uh channels so we have one left for the right video',\n",
       " 'keep keep one one left',\n",
       " 'so this is the',\n",
       " \"channel playstation etcetera that's used pretty often\",\n",
       " \"yeah it's a basic uh\",\n",
       " '',\n",
       " 'if you have play station you use it every day',\n",
       " 'yeah',\n",
       " 'extern or something',\n",
       " '',\n",
       " 'you want to save that file as well',\n",
       " 'drawing',\n",
       " '',\n",
       " \"so here are multiple speech buttons i don't know how many\",\n",
       " '',\n",
       " \"doesn't really matter just just a\",\n",
       " \"i don't know the functions okay what else\",\n",
       " \"it doesn't matter that's yeah well we don't have any uh hmm what else uh menu buttons with arrows\",\n",
       " 'what else',\n",
       " 'menu',\n",
       " 'yeah to navigate',\n",
       " 'with arrows',\n",
       " \"it's just like i think it's best if we do\",\n",
       " 'what do we have',\n",
       " 'there',\n",
       " 'like a normal um',\n",
       " 'like on the normal like this',\n",
       " 'yeah within the middle of a menu button okay',\n",
       " 'the menu button yes',\n",
       " '',\n",
       " '',\n",
       " \"well we don't have any anything on how many buttons speech requires so we can't really design that\",\n",
       " 'okay',\n",
       " 'no',\n",
       " 'maybe one button to switch the colour of your uh led',\n",
       " 'yeah',\n",
       " 'yep',\n",
       " 'and and you can hold it you can hold it and then the colour switch or multiple multiple buttons',\n",
       " 'or',\n",
       " 'yeah',\n",
       " 'just press it once the colours with the switch press again the colour switch again maybe',\n",
       " 'oh okay',\n",
       " 'oh just make it three buttons all the colours on it just red yellow red green and',\n",
       " 'okay if we have enough place and then we can do that',\n",
       " 'no okay',\n",
       " \"that's that's very yeah\",\n",
       " 'we can put it here',\n",
       " 'colour buttons and then we choose green and blue and red okay',\n",
       " 'yeah',\n",
       " 'no',\n",
       " 'okay',\n",
       " \"okay that's uh um\",\n",
       " 'so did we miss anything',\n",
       " 'yeah maybe some some text next to the scroll wheel that it is volume',\n",
       " 'yeah',\n",
       " 'some text buttons',\n",
       " 'okay',\n",
       " 'yeah',\n",
       " 'yeah but',\n",
       " 'i just have the volume logo',\n",
       " 'no on the on the',\n",
       " \"there's one there's one text button i\",\n",
       " 'oh one here',\n",
       " 'yeah',\n",
       " \"yeah that's right\",\n",
       " 'okay',\n",
       " 'just make it',\n",
       " \"there's one text button i prefer that's the one uh that you use if you search for a page like seven hundred\",\n",
       " 'yeah or or the',\n",
       " \"uh and it's counting from one hundred to two hundred you will switch to your television and back to text\",\n",
       " 'yeah we have the the text button',\n",
       " 'yeah',\n",
       " 'do you do you did you think of that',\n",
       " 'yeah',\n",
       " 'yeah but then you can switch back to normal teletex teletext you just switch it off and then',\n",
       " 'why not',\n",
       " 'yeah just put it on the extra extra function as well',\n",
       " 'no',\n",
       " 'no one',\n",
       " 'well we thought of a text button and if you press it again you get the the',\n",
       " 'i think yeah three sa',\n",
       " 'to stay the sa',\n",
       " \"oh just three stages yeah that's okay\",\n",
       " \"true view yeah but but but if you're in the second stage the third stage is switch teletext off so you can switch back from second to the first\",\n",
       " 'yeah',\n",
       " \"no it doesn't have to turn it off\",\n",
       " \"just don't know\",\n",
       " \"no just remember where it was it doesn't uh clear the the page\",\n",
       " 'yeah',\n",
       " 'if you if you turn teletext on you you set the seven numbers and you turn it off then',\n",
       " 'yeah just remember',\n",
       " \"the next time you turn it on it still stays on seven hundred but maybe it's not the way\",\n",
       " 'okay okay',\n",
       " \"yeah but that's that's true\",\n",
       " \"i don't know if\",\n",
       " \"that's a functionality for the television\",\n",
       " 'yeah i think as well but oh yeah',\n",
       " \"that's maybe one thing we can discuss about\",\n",
       " 'yeah i mean no no if the remote can send like the the code for seven hundred page seven hundred to the television if you switch it on',\n",
       " 'yeah the remote control in the',\n",
       " 'okay',\n",
       " \"yeah but you have to search every time again that's what what's happening if you do it like that but it's still the television it has to do\",\n",
       " 'the',\n",
       " 'the chip',\n",
       " \"yeah that's true\",\n",
       " 'yeah i dunno okay',\n",
       " 'so yeah do we need to fix better',\n",
       " 'those new t v s do uh collect all the pages',\n",
       " \"no that's for the television\",\n",
       " 'yeah those memory functions',\n",
       " 'but not not every every television',\n",
       " 'was this logo for volume okay',\n",
       " \"okay it's cool\",\n",
       " \"yeah that's fine\",\n",
       " \"so that's it\",\n",
       " 'this is pretty pretty much yeah',\n",
       " 'yeah i i thought about one thing uh the buttons uh from my material are they now',\n",
       " 'yeah just hard plastic so',\n",
       " 'just like your telephone hard plastic',\n",
       " 'okay because um if you use it a couple of years some uh sometimes',\n",
       " \"it's too expensive to make it from a different material anyway\",\n",
       " 'the numbers on the on the buttons are slide away are uh and maybe we can',\n",
       " 'right the numbers below or above or shall we just turn it on the buttons',\n",
       " 'i think just on the buttons if you do it above above or below it takes more space',\n",
       " 'no i think just on',\n",
       " \"that's too much place\",\n",
       " 'okay just leave it just leave it',\n",
       " 'yeah but',\n",
       " \"i don't think the space is worth\",\n",
       " 'yeah',\n",
       " 'i think uh you have a problem more often with rubber buttons',\n",
       " 'the most time',\n",
       " 'yeah with the rubber buttons yeah',\n",
       " 'fine',\n",
       " 'yeah okay cool',\n",
       " '',\n",
       " \"yeah i don't know what this means but i think we just if we evaluate this one\",\n",
       " \"yeah i made some criteria so we can uh v evaluate our model didn't i don't think if it's right then she'll show it\",\n",
       " 'okay you made some good okay cool',\n",
       " 'okay',\n",
       " 'some usability criteria or okay',\n",
       " 'mm hmm uh no uh all the criterias we just are about uh',\n",
       " '',\n",
       " 'in the bottom',\n",
       " 'h',\n",
       " 'look and feel',\n",
       " 'evaluation c',\n",
       " 'no evaluation is',\n",
       " 'yeah your presentation',\n",
       " \"it's not here\",\n",
       " \"it doesn't matter it's only had two pages or something\",\n",
       " 'um well i looked in the report uh from the',\n",
       " 'marketing strategy are uh of uh the the the the the new needs and',\n",
       " 'the market the attellance uh how they think about it and',\n",
       " 'the research uh about uh the comp uh the users',\n",
       " 'and that kind of stuff and i made some criteria and we have to test the criteria from one',\n",
       " 'two zero we we we we can give it a number and then we can give ourself an average',\n",
       " 'for our',\n",
       " 'okay',\n",
       " 'um model and these are all i i i found or i wrote down and um we have to discuss about if we give it one or seven',\n",
       " 'okay',\n",
       " 'no i think if you have a kind of ipod idea quite beautiful it',\n",
       " 'yes yeah the difference between a beautiful and fancy uh look and feel is uh the',\n",
       " '',\n",
       " 'we are actually we are the',\n",
       " 'the outside beautiful like the ipod or something and fancies more like the uh',\n",
       " 'flashy',\n",
       " 'the flashy lights and the colours and that kind of stuff the leds',\n",
       " \"okay well i think if it's really uh you can if you can get the ipod look then it's beautiful i think\",\n",
       " \"yes and what what kind of what kind of basic colours will you of the basic colours are black or green or yellow or you haven't thought about\",\n",
       " 'but no',\n",
       " \"yeah beautiful it's also a matter of taste\",\n",
       " 'hmm',\n",
       " \"basic colours um yeah well we didn't decide maybe um company colours\",\n",
       " 'how how do we make a',\n",
       " 'just black',\n",
       " 'black',\n",
       " 'black and yellow and',\n",
       " 'a bit of bit of yellow',\n",
       " \"yeah yellow light do you have yellow light no not really but it's possible it's\",\n",
       " 'not not not yellow but just a bit of yellow',\n",
       " 'black white maybe',\n",
       " 'black white also or always nice',\n",
       " 'and what colours should the buttons be',\n",
       " '',\n",
       " 'because um',\n",
       " 'different colours this is',\n",
       " 'just um',\n",
       " 'well the same as the the the cover but also the light behind it',\n",
       " 'can you change those two with the switch',\n",
       " 'yes',\n",
       " 'no no make them no just make them black or grey or something',\n",
       " 'yeah grey just dark grey i think',\n",
       " 'okay',\n",
       " '',\n",
       " 'okay so what the number do we give a beautiful beautiful is a really subjective uh because it has to do a lot with the colours',\n",
       " 'well we have changeable fronts so',\n",
       " 'changeable fronts for everyone for everyone is something beautiful',\n",
       " 'so',\n",
       " \"yeah just give it a one it's okay it's perfect i think it's just what you want or not\",\n",
       " 'yeah',\n",
       " \"it's hard to decide for us but yeah\",\n",
       " 'yeah so subjective',\n",
       " \"it's at least it's a lot better than a current remote controls\",\n",
       " 'yeah',\n",
       " 'okay just give it a two',\n",
       " 'two okay',\n",
       " \"the fancy look and feel that's about our uh flashing lights and the background uh lights uh from the form from the buttons okay and we can change the colour so that's a really fancy i think so\",\n",
       " 'yeah',\n",
       " 'yeah',\n",
       " 'one more thing are are we changing uh or are they their backlights on the slide panel two or no backlight h',\n",
       " 'slide',\n",
       " 'not ne',\n",
       " \"no no it's only on the number behind the numbers and the\",\n",
       " 'not needed i think',\n",
       " 'and and the switch channel is uh there is a backlight',\n",
       " 'oh you mean this here',\n",
       " \"that's all yeah\",\n",
       " '',\n",
       " 'yeah',\n",
       " \"yeah but that's not necessary\",\n",
       " \"i don't think it's notary necessary\",\n",
       " \"it's pretty cool if you slide it open it lights up that's that's really fancy but i don't know if it's reachable\",\n",
       " '',\n",
       " 'of course it reachable',\n",
       " \"it doesn't make\",\n",
       " 'then we do it',\n",
       " '',\n",
       " \"okay maybe just the light to light it all up you can see what's really there not just not on the buttons or something just the green light of blue light\",\n",
       " 'no',\n",
       " 'but',\n",
       " 'to that a',\n",
       " 'but yeah yeah okay',\n",
       " 'yeah just back light not not the buttons and and the the normal back lights are also not the buttons but behind the buttons so the buttons are just great',\n",
       " 'yeah',\n",
       " 'okay',\n",
       " 'well suddenly transparent',\n",
       " \"yeah just only yeah that's why\",\n",
       " 'okay',\n",
       " \"okay fine so i think it's very fancy so i'll give it a\",\n",
       " 'so',\n",
       " \"yeah that's h\",\n",
       " \"yeah we've done a lot of detail in light so\",\n",
       " 'yeah you can also choose in light so',\n",
       " '',\n",
       " \"yeah this one it's okay it's cool\",\n",
       " '',\n",
       " \"i think it's one\",\n",
       " 'okay next learn easy to use',\n",
       " \"this is a difficult one because we we don't yeah we don't know about the\",\n",
       " 'yeah we should test it but uh',\n",
       " \"it's it's very easy to use but the second layer is not easy to use that's that's\",\n",
       " 'y',\n",
       " \"no but you don't have to use that and your home don't have to pay attention to that second later that's that's the main thing that's good about it\",\n",
       " 'yeah',\n",
       " 'no',\n",
       " \"so i think it's easy to use but learnable is a bit\",\n",
       " \"nearnable it's not not as fast as a usual uh remote control because because\",\n",
       " 'well i think it is',\n",
       " 'well you',\n",
       " \"i think i like the scroll wheel it's very handy but the first time you get this thing in your hands\",\n",
       " 'is not to use the scroll wheel i think uh you must see it and up or down or',\n",
       " '',\n",
       " \"but the rest of it is very easy because there's so\",\n",
       " \"yeah i think it's very clear that\",\n",
       " 'so so few information that you can easily decide what buttons for what function',\n",
       " 'yeah',\n",
       " 'yeah',\n",
       " 'okay',\n",
       " \"but the second part's like speech will be hard to learn\",\n",
       " \"so it is learnable and in the first place it's very easy to use and i think it's scroll wheels easy to use as well if you have ever used a different kind of of a device\",\n",
       " 'okay',\n",
       " 'but',\n",
       " \"yeah it's\",\n",
       " \"yeah but we we've got uh two s two uh two or three new things and maybe we\",\n",
       " 'device',\n",
       " 'uh maybe learnable is in a compare of old fashion uh remote controls',\n",
       " 'so we uh we have speech uh the scroll wheel and um the',\n",
       " 'the slide you must slide it',\n",
       " \"and that's not normal at the normal remote control i think learnable is a less than um easy to use because easy to use comes after learnable i think a three or something\",\n",
       " 'but yeah',\n",
       " 'okay',\n",
       " 'okay this easy to use is very cool so just give it a two',\n",
       " 'maybe three then learnables',\n",
       " 'no but definitely better much better than uh than uh than every average',\n",
       " 'no',\n",
       " \"the normal the one you show is just all buttons and you don't know\",\n",
       " 'yeah okay yeah',\n",
       " 'yeah true',\n",
       " 'then a two',\n",
       " 'oh okay new features techno technological innovative',\n",
       " '',\n",
       " 'okay',\n",
       " 'the speech function and the colour colour',\n",
       " 'the speech function is new the scroll wheel and the slide i think the slide is pretty new',\n",
       " 'and the scroll wheel black lights slide',\n",
       " 'slide is not it is it is not new no i ready have a',\n",
       " 'i only saw it on the telephone not in a remote control',\n",
       " \"well i already have a v c r and it's about from ninety eighty eight and the slide in it so it's something yeah\",\n",
       " 'okay',\n",
       " 'but also slide that buttons come out as well okay',\n",
       " '',\n",
       " 'okay and then the lightning is new the lightning is new scroll wheel speech',\n",
       " \"that's cool yeah for a for\",\n",
       " \"it's pretty new i think\",\n",
       " 'yes',\n",
       " 'speech is new',\n",
       " 'different colours',\n",
       " \"yeah different fronts for a remote control i think that's new too\",\n",
       " '',\n",
       " '',\n",
       " 'so we have a pretty new uh',\n",
       " \"there are no games on it that's that's that's not a one it's a two again but\",\n",
       " \"well we didn't uh\",\n",
       " \"it's it's it's it's not not l c d or something\",\n",
       " 'but then we also have the home station we are forgetting about that now but',\n",
       " 'if you',\n",
       " \"yeah oh yeah that's why the rechargeable\",\n",
       " '',\n",
       " 'station',\n",
       " \"we don't recharge\",\n",
       " \"no we didn't draw that too\",\n",
       " \"but that's more like\",\n",
       " 'i just draw it afterwards when we',\n",
       " \"yeah that's just a normal simple thing\",\n",
       " \"i don't know\",\n",
       " 'if you can you save it on the same in the same map as the other ones in the the project map',\n",
       " '',\n",
       " 'just save save it',\n",
       " 'yeah mm hmm',\n",
       " \"save us now that's not\",\n",
       " '',\n",
       " '',\n",
       " \"well it's already in the folder like number seven\",\n",
       " 'oh yeah okay smartboard yeah but this one',\n",
       " 'yeah',\n",
       " 'okay',\n",
       " 'this one is not yet in the',\n",
       " 'i think it is',\n",
       " 'he',\n",
       " 'click',\n",
       " '',\n",
       " 'yeah',\n",
       " 'no i think it is',\n",
       " \"doesn't matter\",\n",
       " 'sorry',\n",
       " 'okay',\n",
       " 'all the seven all the seven',\n",
       " 'but you still have to draw the residu okay a new feature so we give it a two or also again and one no i think you if you have games on it then then you give you have a one but not a',\n",
       " 'no we are not extra ordinary new or something that',\n",
       " \"no so it's still a two\",\n",
       " 'two i think',\n",
       " '',\n",
       " 'targeted audience and we are the targeted audience do we like it',\n",
       " 'no we we research for uh um a young group audience beneath forty yes',\n",
       " 'yeah but younger than a forty so we we are exactly the de group',\n",
       " \"yeah but did we reach um with our uh uh style the targeted audience that that's my question\",\n",
       " 'i think so yeah you got the fancy things for younger people you got the aesthetic things for older people already want',\n",
       " 'yeah',\n",
       " \"we've got a one for fancy look and feel and that's what attracts the young audience so\",\n",
       " 'yeah',\n",
       " \"yeah um the only point is that we don't uh have a uh that's already that's not that's this question\",\n",
       " \"i think that's two or one\",\n",
       " \"yeah but it's basically not not handy and i don't think i don't see\",\n",
       " 'yeah so we targeted it',\n",
       " '',\n",
       " \"but we didn't follow the latest tr\",\n",
       " 'yeah',\n",
       " 'no',\n",
       " 'yeah you could make a front',\n",
       " 'i think you followed the latest trends',\n",
       " \"a front that's that's like a like a banana or something\",\n",
       " 'these are the only latest trends i uh got on my computer',\n",
       " 'alright well uh fruit and vegetables you can different front',\n",
       " 'yeah you got different colours',\n",
       " 'so we had we have a fruit uh',\n",
       " 'so',\n",
       " 'like a banana kind of front',\n",
       " 'yeah but spongy will never be',\n",
       " 'no',\n",
       " 'so we give yourself a free or something',\n",
       " 'yeah',\n",
       " 'thanks',\n",
       " '',\n",
       " 'okay',\n",
       " \"so that's eleven\",\n",
       " \"that's uh\",\n",
       " \"what's average\",\n",
       " \"it's yeah that's one point eight three\",\n",
       " 'eleven divided by six',\n",
       " \"a perfect score no i don't know\",\n",
       " \"we're not too hard on ourselves\",\n",
       " '',\n",
       " \"this is a power indicator so you can see how far it's charged up\",\n",
       " 'okay',\n",
       " 'and you need no a button to call it to let it beep',\n",
       " 'okay',\n",
       " 'took all um',\n",
       " \"oh yeah that's still\",\n",
       " '',\n",
       " 'yeah but we have to make a speaker then too if you want to make a beep',\n",
       " 'yeah maybe you have to skip that one',\n",
       " 'okay',\n",
       " \"it's yeah but it\",\n",
       " 'no no i wanted',\n",
       " 'but we can we can do it uh underneath the logo',\n",
       " \"no we need that that's usable that's really useful\",\n",
       " 'if you do a',\n",
       " 'okay',\n",
       " 'the speaker is very small as well',\n",
       " 'yeah okay',\n",
       " \"it's\",\n",
       " 'so i just got a financial um',\n",
       " 'yes',\n",
       " '',\n",
       " 'you saved it or',\n",
       " 'yeah',\n",
       " 'i did save it',\n",
       " 'no',\n",
       " \"okay let's have a look at this one here at the production cost of it if i forgot anything to me\",\n",
       " \"it's the battery yeah there are some things that they didn't mention because recharges not on the list but okay so i think we are pretty much in the right direction because it's twelve point three euros\",\n",
       " 'okay',\n",
       " \"that's fine\",\n",
       " 'what is it a',\n",
       " 'so this is a regular chip in and a sample speaker',\n",
       " 'okay',\n",
       " \"so that's both\",\n",
       " \"no that's perfect uh twelve point three point three\",\n",
       " 'yeah and single curved curved',\n",
       " 'but but is it in does it include a home station or',\n",
       " \"no that's not on the list but it shouldn't be that\",\n",
       " 'can we make that for uh twenty cents',\n",
       " '',\n",
       " 'yeah we can',\n",
       " \"probably i just the the button supplements i didn't i i was wondering if this special colour maybe it was i'm not sure\",\n",
       " \"um there's different fronts but standard fronts won't be a\",\n",
       " \"i think it's okay like this\",\n",
       " 'special form yeah',\n",
       " \"it's hard to say but maybe we have to um yeah okay special colour you can skip this one because it's all quite normal a different ones at all\",\n",
       " 'yeah',\n",
       " 'so you can put a recharge in but this is expensive the sample speaker',\n",
       " '',\n",
       " 'yeah',\n",
       " 'yes',\n",
       " 'yeah',\n",
       " \"yeah it's four\",\n",
       " \"four it's four euros\",\n",
       " 'oh now is that uh included in a twelve euro or okay then we need to use it',\n",
       " 'so we are',\n",
       " \"yeah that's a clue\",\n",
       " \"it's kind of weird that we we get this information now afterwards because\",\n",
       " \"yeah no okay so this is uh pretty much it that's my\",\n",
       " 'yeah',\n",
       " '',\n",
       " '',\n",
       " 'the solar cells expensive',\n",
       " \"so what's this i just want to yeah we just made it so we can do the project eval evaluation now for a\",\n",
       " 'what do you think together',\n",
       " 'okay',\n",
       " 'okay',\n",
       " 'we can do some discussion about this was the room for creativity',\n",
       " 'sure',\n",
       " 'yes',\n",
       " 'okay',\n",
       " 'was the room for create creativity',\n",
       " 'beautiful',\n",
       " '',\n",
       " 'yeah i think so i think everyone shared earli',\n",
       " 'yeah if we got a high mark for um',\n",
       " 'uh innovativeness or innovativity',\n",
       " 'yeah',\n",
       " 'well different style',\n",
       " 'then we probably have been creative',\n",
       " 'i think we discussed a lot of things about it so',\n",
       " '',\n",
       " 'yeah',\n",
       " \"we could make a lot of different uh remote controls so it's creativity\",\n",
       " 'yeah',\n",
       " '',\n",
       " 'okay so the leadership',\n",
       " 'was the real leadership',\n",
       " 'of course there was',\n",
       " '',\n",
       " 'okay',\n",
       " 'what do you have to say about that',\n",
       " 'no i think yeah',\n",
       " 'who was the leader',\n",
       " \"i don't know\",\n",
       " 'just normal discussion i think not',\n",
       " 'yeah',\n",
       " 'one leader or something',\n",
       " 'one leader two',\n",
       " \"check the time that's\",\n",
       " '',\n",
       " 'yeah and make notes',\n",
       " 'yeah i know',\n",
       " 'so more like a secretary',\n",
       " 'yeah',\n",
       " 'okay next one uh teamwork um the the third meeting i think that one was pretty',\n",
       " \"hard you're not all we're not um agree with ever not agree with a\",\n",
       " \"yeah we're not finished\",\n",
       " 'no we had so much information that we get through email and just',\n",
       " \"we're not finished\",\n",
       " '',\n",
       " 'i think we got the wrong information at the wrong time i think that was the biggest problem like uh the prices if you knew that before we could have uh a discussion really really quick',\n",
       " '',\n",
       " 'yeah',\n",
       " \"yeah that's weird\",\n",
       " 'because',\n",
       " 'the price is uh could be twenty euros or something and then',\n",
       " 'yeah and if you had fifteen euros then we would discuss the',\n",
       " 'yeah',\n",
       " 'yeah',\n",
       " 'yeah finance',\n",
       " \"so we're bad basically just lucky to get the price right\",\n",
       " 'yeah',\n",
       " 'but the teamwork was okay',\n",
       " 'yeah everybody could speak their uh opinion and uh',\n",
       " 'i think everyone listen to each others like marketing set things and then we had to include them in the design',\n",
       " 'no',\n",
       " 'yeah',\n",
       " \"'\",\n",
       " \"what i have to say about the means the smartboard is okay digital pen is worrable i don't know if you use it but if you want to download it to your computer it doesn't work no\",\n",
       " 'yeah',\n",
       " \"it just doesn't work smart board would be very uh nice to work with if it worked really well just now works to slow yeah more accurate\",\n",
       " 'digital pen',\n",
       " \"that's true n\",\n",
       " 'yeah if it would be faster it would be great',\n",
       " 'yeah the drawings are are hard to make i think',\n",
       " 'yeah it should be more accurate',\n",
       " 'precise',\n",
       " '',\n",
       " \"and uh i think it would be great if you could add it from just with a mouse from where you're sitting\",\n",
       " 'yeah',\n",
       " 'not just pointing out wh',\n",
       " \"it's the same for the presentation for the presentation you can do from here that's much standing there and\",\n",
       " 'yeah',\n",
       " \"yeah i'm just point with a mouse\",\n",
       " \"no use to draw on the board itself it's just slowing down\",\n",
       " '',\n",
       " 'yeah',\n",
       " 'yes',\n",
       " 'just old fashioned kinda blackboard style but you might as well do it a normal computer style',\n",
       " 'yeah',\n",
       " 'yeah',\n",
       " 'yeah even harder to draw like that than backboard style',\n",
       " 'yeah yeah',\n",
       " 'and and far to slow this way',\n",
       " 'yeah',\n",
       " 'okay',\n",
       " \"you could could draw on it but it's not a main function\",\n",
       " 'no',\n",
       " 'i just i think yeah okay',\n",
       " 'digital pen',\n",
       " 'so we made it in time we made a remote control',\n",
       " '',\n",
       " '',\n",
       " '',\n",
       " 'we did it',\n",
       " '',\n",
       " '',\n",
       " 'in the budget yeah',\n",
       " 'new ideas found',\n",
       " 'new ideas',\n",
       " \"what's\",\n",
       " '',\n",
       " 'four four four',\n",
       " \"i don't know what you mean\",\n",
       " 'i just think if we',\n",
       " '',\n",
       " 'to goer or to a',\n",
       " 'work together our new ideas for',\n",
       " \"you're\",\n",
       " 'for a remote control probably not for the project',\n",
       " '',\n",
       " 'for remote control a favourite for your text',\n",
       " '',\n",
       " '',\n",
       " 'now for the prototype new ideas',\n",
       " \"yeah but still you couldn't make a fancy you can make a prototype out of this because we don't have any sizes and\",\n",
       " \"no but it's for the next time you don't have to do that\",\n",
       " 'yeah but you can possibly do that in such a short time i think',\n",
       " 'not for',\n",
       " 'yeah i di',\n",
       " 'yeah just brainstorming basically',\n",
       " 'yeah',\n",
       " 'details',\n",
       " '',\n",
       " '',\n",
       " '',\n",
       " 'so are we finished',\n",
       " '',\n",
       " 'yes i think just i just write the final report',\n",
       " 'okay yeah',\n",
       " 'quite early',\n",
       " 'now we have only',\n",
       " \"four minutes left it's okay\",\n",
       " 'okay',\n",
       " 'oh what do we have to do then we',\n",
       " \"but we were done at four o'clock\",\n",
       " \"it's now quarter best three so\",\n",
       " '',\n",
       " 'i should take some pictures uh',\n",
       " 'okay',\n",
       " 'we can do it afterwards',\n",
       " 'yes',\n",
       " '',\n",
       " '',\n",
       " \"let's play mine weeper\",\n",
       " 'yeah i found it as well',\n",
       " '',\n",
       " '',\n",
       " '',\n",
       " '',\n",
       " 'one two three',\n",
       " 'four five six seven cameras',\n",
       " '',\n",
       " 'not bad',\n",
       " '',\n",
       " '',\n",
       " '',\n",
       " 'so that was it',\n",
       " 'yeah now we can look at this',\n",
       " 'this is',\n",
       " \"we're probably not supposed to look at this\",\n",
       " 'the old version',\n",
       " 'yeah from the previous group',\n",
       " '',\n",
       " 'they went for a',\n",
       " 'for a universal device yeah but also different devices',\n",
       " 'the touch screen',\n",
       " 'yeah',\n",
       " 'then an l c d would be handy',\n",
       " 'hmm',\n",
       " 'here are the',\n",
       " 'basic functions in here is selecting the devices',\n",
       " 'yeah and touch screens for all the stuff i do agree with that',\n",
       " 'h',\n",
       " '',\n",
       " 'this is not so hard by the way',\n",
       " 'no',\n",
       " \"i'm breaking a roll record here\",\n",
       " 'well later',\n",
       " 'oh sheet',\n",
       " 'project manager',\n",
       " 'we got a program',\n",
       " 'you do you have to make a choice',\n",
       " 'yes',\n",
       " \"no it's your choice\",\n",
       " \"well that's pretty quick\",\n",
       " 'd',\n",
       " '',\n",
       " 'just big one',\n",
       " 'ta',\n",
       " \"it's the low one\",\n",
       " 'what a bomb this bom',\n",
       " 'no no over one is the balls yes',\n",
       " 'n',\n",
       " '',\n",
       " 'shit i know it',\n",
       " 'i knew it',\n",
       " 'four in a row',\n",
       " \"no that's too much work\",\n",
       " '',\n",
       " '',\n",
       " 'is the previous work',\n",
       " 'yeah this one',\n",
       " 'i challenge you',\n",
       " '',\n",
       " '',\n",
       " \"oh that's so stupid\",\n",
       " \"that doesn't work\",\n",
       " 'no you gotta use the medic pen',\n",
       " '',\n",
       " 'what is',\n",
       " 'i put one',\n",
       " '',\n",
       " \"that's stupid\",\n",
       " \"we'll see\",\n",
       " 'okay',\n",
       " \"i don't agree\",\n",
       " '',\n",
       " 'sorr',\n",
       " 'you had two choices',\n",
       " \"that's gonna be draw\",\n",
       " 'or not',\n",
       " 'yeah',\n",
       " 'too bad',\n",
       " \"i'll put it here you are going to put it there then\",\n",
       " 'yeah then i put it there no one wins',\n",
       " \"it's a difficult choice either here or there\",\n",
       " 'this is a very interesting design',\n",
       " '',\n",
       " 'me',\n",
       " \"it's just the same as normal\",\n",
       " 'but it has a l c d i think',\n",
       " 'they done it the pen',\n",
       " 'yeah',\n",
       " 'okay',\n",
       " 'then do it correctly',\n",
       " 'stupid design stupid',\n",
       " 'what else',\n",
       " \"it's cheap the l c d screen\",\n",
       " \"okay i'm going to draw something\",\n",
       " '',\n",
       " 'what',\n",
       " \"'kay i'm going to get what your drawing\",\n",
       " 'okay blank',\n",
       " 'no not a new one',\n",
       " 'oh no',\n",
       " \"or did you just don't save it\",\n",
       " 'and',\n",
       " 'i know what',\n",
       " 'a house',\n",
       " 'you have to use the pen',\n",
       " 'you have to save everything you know what i think',\n",
       " '',\n",
       " 'no not everything',\n",
       " 'oh',\n",
       " 'yeah everything',\n",
       " 'pen select select pen',\n",
       " 'pen',\n",
       " 'they want to know what we do in our spare time',\n",
       " 'okay',\n",
       " 'it was',\n",
       " 'a plant',\n",
       " \"no it's only you can do it\",\n",
       " 'oh yeah i can know it',\n",
       " '',\n",
       " \"it's very hard to draw\",\n",
       " 'okay that makes it easier',\n",
       " 'i think i know no ro',\n",
       " '',\n",
       " \"i think i know what you're trying to do but it's wrong already\",\n",
       " \"it's very\",\n",
       " 'yeah you missed the right side',\n",
       " '',\n",
       " '',\n",
       " '',\n",
       " 'a little bit maybe',\n",
       " '',\n",
       " '',\n",
       " \"see where you're wrong now\",\n",
       " 'the entrance',\n",
       " 'yeah',\n",
       " 'warning finish meeting now',\n",
       " 'alright',\n",
       " 'okay the interance is uh more to the left',\n",
       " 'morning morning',\n",
       " \"you're correct\",\n",
       " 'okay but i think this par',\n",
       " '',\n",
       " 'yeah but i think i made another mistake',\n",
       " '',\n",
       " 'oh yeah there are a lot of mistakes because the walls are thick like this',\n",
       " \"no okay not that one but there's a big hole here as well and there's a\",\n",
       " \"oh that's true here they're walking behind towards\",\n",
       " \"that's a kind of big mistake\",\n",
       " 'warning finish meeting now',\n",
       " 'i think we have to finish the meeting',\n",
       " 'okay',\n",
       " \"'kay this is a hard one\",\n",
       " '',\n",
       " 'bring',\n",
       " 'what does it say',\n",
       " 'fill in the questionnaire',\n",
       " 'what now',\n",
       " 'come on',\n",
       " '',\n",
       " 'okay',\n",
       " '',\n",
       " 'yep',\n",
       " 'okay',\n",
       " 'no more cheap ch',\n",
       " 'oh you gotta finish',\n",
       " '',\n",
       " \"over there in your own room i'm gonna die longly\",\n",
       " 'yeah',\n",
       " '',\n",
       " '',\n",
       " \"i'll green that up later\",\n",
       " '',\n",
       " \"this is that's my interface\",\n",
       " \"what's that\",\n",
       " 'i added my',\n",
       " '',\n",
       " 'oh',\n",
       " \"okay so now we won't have a better time to think about does anyone have any proposals or do you want to\",\n",
       " 'people',\n",
       " \"i don't think\",\n",
       " '',\n",
       " 'yeah',\n",
       " '',\n",
       " \"it's kind of you maybe find me stuff i don't know choose one per\",\n",
       " '',\n",
       " \"the first part stuff we know the processor was for long time we don't know for the other\",\n",
       " 'yeah',\n",
       " '',\n",
       " '',\n",
       " 'maybe that would be prett',\n",
       " '',\n",
       " '',\n",
       " 'we have a discussion about these',\n",
       " '',\n",
       " '',\n",
       " '',\n",
       " '',\n",
       " 'yeah yeah so for example',\n",
       " 'so we can choose',\n",
       " '',\n",
       " 'three',\n",
       " 'my',\n",
       " '',\n",
       " '',\n",
       " 'the engineersearch',\n",
       " 'maybe',\n",
       " '',\n",
       " '',\n",
       " '',\n",
       " '',\n",
       " '',\n",
       " 'so what are you doing for',\n",
       " 'so ninety for example for',\n",
       " 'person',\n",
       " 'the first',\n",
       " 'no idea',\n",
       " '',\n",
       " '',\n",
       " '',\n",
       " '',\n",
       " '',\n",
       " '',\n",
       " '',\n",
       " '',\n",
       " 'yeah',\n",
       " '',\n",
       " 'i mean they they can switch later they can switch later',\n",
       " '',\n",
       " 'which is',\n",
       " '',\n",
       " '',\n",
       " '',\n",
       " '',\n",
       " '',\n",
       " '',\n",
       " ...]"
      ]
     },
     "execution_count": 231,
     "metadata": {},
     "output_type": "execute_result"
    }
   ],
   "source": [
    "predictions"
   ]
  },
  {
   "cell_type": "code",
   "execution_count": null,
   "metadata": {},
   "outputs": [],
   "source": [
    "import time\n",
    "from tqdm import tqdm"
   ]
  },
  {
   "cell_type": "code",
   "execution_count": null,
   "metadata": {},
   "outputs": [
    {
     "name": "stderr",
     "output_type": "stream",
     "text": [
      "100%|██████████| 10000000/10000000 [00:13<00:00, 743159.17it/s]\n"
     ]
    }
   ],
   "source": [
    "a = []\n",
    "times = []\n",
    "cur_total = 0\n",
    "for i in tqdm(range(10000000)):\n",
    "    t1 = time.time()\n",
    "    a += [i] + [i]\n",
    "    t2 = time.time()\n",
    "    cur_total += t2-t1\n",
    "    if i % 10000 == 0:\n",
    "        times.append(cur_total)\n",
    "        cur_total = 0"
   ]
  },
  {
   "cell_type": "code",
   "execution_count": null,
   "metadata": {},
   "outputs": [
    {
     "data": {
      "text/plain": [
       "[<matplotlib.lines.Line2D at 0x7f51450a2be0>]"
      ]
     },
     "execution_count": 178,
     "metadata": {},
     "output_type": "execute_result"
    },
    {
     "data": {
      "image/png": "[encoded data removed]",
      "text/plain": [
       "<Figure size 640x480 with 1 Axes>"
      ]
     },
     "metadata": {},
     "output_type": "display_data"
    }
   ],
   "source": [
    "\n",
    "times = np.array(times)\n",
    "\n",
    "plt.plot(times)"
   ]
  },
  {
   "cell_type": "code",
   "execution_count": null,
   "metadata": {},
   "outputs": [],
   "source": [
    "import torch"
   ]
  },
  {
   "cell_type": "code",
   "execution_count": null,
   "metadata": {},
   "outputs": [],
   "source": [
    "a = torch.randn(1000)*10"
   ]
  },
  {
   "cell_type": "code",
   "execution_count": 18,
   "metadata": {},
   "outputs": [],
   "source": [
    "def EMA(a, alpha=0.99):\n",
    "    b = a.clone()\n",
    "    for i in range(1, len(a)):\n",
    "        b[i] = alpha * b[i-1] + (1-alpha) * a[i]\n",
    "    return b\n",
    "    "
   ]
  },
  {
   "cell_type": "code",
   "execution_count": 19,
   "metadata": {},
   "outputs": [],
   "source": [
    "b = EMA(a)"
   ]
  },
  {
   "cell_type": "code",
   "execution_count": 20,
   "metadata": {},
   "outputs": [],
   "source": [
    "import matplotlib.pyplot as plt"
   ]
  },
  {
   "cell_type": "code",
   "execution_count": 21,
   "metadata": {},
   "outputs": [
    {
     "data": {
      "text/plain": [
       "[<matplotlib.lines.Line2D at 0x7f04ac2bf8b0>]"
      ]
     },
     "execution_count": 21,
     "metadata": {},
     "output_type": "execute_result"
    },
    {
     "data": {
      "image/png": "[encoded data removed]",
      "text/plain": [
       "<Figure size 640x480 with 1 Axes>"
      ]
     },
     "metadata": {},
     "output_type": "display_data"
    }
   ],
   "source": [
    "plt.plot(a)\n",
    "plt.plot(b)\n"
   ]
  },
  {
   "cell_type": "code",
   "execution_count": 1,
   "metadata": {},
   "outputs": [
    {
     "name": "stdout",
     "output_type": "stream",
     "text": [
      "beam_search.ipynb\t\t   myopicdropout.ipynb\n",
      "caching_test.ipynb\t\t   nsp.ipynb\n",
      "contrastive_rescoring.ipynb\t   perplexity_ami.svg\n",
      "cross_attention_dynamic_pos.ipynb  perplexity_finetuned_ami.svg\n",
      "frequency_attention.ipynb\t   perplexity_pretrained_ami.svg\n",
      "lm_utils.py\t\t\t   __pycache__\n",
      "log_probs.pkl\t\t\t   qknorm_attention.py\n",
      "lps.pkl\t\t\t\t   Untitled-1.ipynb\n",
      "lps_s.pkl\t\t\t   Untitled-1__.ipynb\n"
     ]
    }
   ],
   "source": [
    "!ls"
   ]
  },
  {
   "cell_type": "code",
   "execution_count": 3,
   "metadata": {},
   "outputs": [
    {
     "name": "stdout",
     "output_type": "stream",
     "text": [
      "/exp/exp1/acp21rjf/deliberation/speachy/tedlium\n"
     ]
    }
   ],
   "source": [
    "%cd tedlium"
   ]
  },
  {
   "cell_type": "code",
   "execution_count": 166,
   "metadata": {},
   "outputs": [
    {
     "name": "stdout",
     "output_type": "stream",
     "text": [
      "logprobs.pkl  WadeDavis_2003_1000_tkns.pkl  WadeDavis_2003.pkl\n",
      "pred_tst.pkl  WadeDavis_2003_50.pkl\n"
     ]
    }
   ],
   "source": [
    "!ls *.pkl"
   ]
  },
  {
   "cell_type": "code",
   "execution_count": 5,
   "metadata": {},
   "outputs": [],
   "source": [
    "import pickle as pkl"
   ]
  },
  {
   "cell_type": "code",
   "execution_count": 167,
   "metadata": {},
   "outputs": [],
   "source": [
    "with open('WadeDavis_2003.pkl', 'rb') as f:\n",
    "    data_0 = pkl.load(f)"
   ]
  },
  {
   "cell_type": "code",
   "execution_count": 22,
   "metadata": {},
   "outputs": [],
   "source": [
    "import torch"
   ]
  },
  {
   "cell_type": "code",
   "execution_count": 168,
   "metadata": {},
   "outputs": [],
   "source": [
    "idx = 0\n",
    "past_lm_scores_0 = data_0['beams'][idx].past_lm_scores\n",
    "past_lm_scores_0 = torch.stack([el.cpu() for el in past_lm_scores_0])\n",
    "past_lm_scores_0 = past_lm_scores_0.to(torch.float64)"
   ]
  },
  {
   "cell_type": "code",
   "execution_count": 136,
   "metadata": {},
   "outputs": [],
   "source": [
    "idx = 0\n",
    "past_lm_scores_50 = data_50['beams'][idx].past_lm_scores\n",
    "past_lm_scores_50 = torch.stack([el.cpu() for el in past_lm_scores_50])\n",
    "past_lm_scores_50 = past_lm_scores_50.to(torch.float64)"
   ]
  },
  {
   "cell_type": "code",
   "execution_count": 137,
   "metadata": {},
   "outputs": [],
   "source": [
    "idx = 0\n",
    "past_lm_scores = data['beams'][idx].past_lm_scores\n",
    "past_lm_scores = torch.stack([el.cpu() for el in past_lm_scores])\n",
    "past_lm_scores = past_lm_scores.to(torch.float64)"
   ]
  },
  {
   "cell_type": "code",
   "execution_count": 91,
   "metadata": {},
   "outputs": [
    {
     "data": {
      "text/plain": [
       "torch.float64"
      ]
     },
     "execution_count": 91,
     "metadata": {},
     "output_type": "execute_result"
    }
   ],
   "source": [
    "torch.float64"
   ]
  },
  {
   "cell_type": "code",
   "execution_count": 93,
   "metadata": {},
   "outputs": [],
   "source": [
    "import matplotlib.pyplot as plt"
   ]
  },
  {
   "cell_type": "code",
   "execution_count": 223,
   "metadata": {},
   "outputs": [],
   "source": [
    "def EMAscore(a, alpha=0.9):\n",
    "    b = a.clone()\n",
    "    for i in range(1, len(a)):\n",
    "        b[i] = alpha * b[i-1] + (1-alpha) * a[i]\n",
    "    return b"
   ]
  },
  {
   "cell_type": "code",
   "execution_count": null,
   "metadata": {},
   "outputs": [],
   "source": [
    "def moving_average(a, n=3):\n",
    "    ret = np.cumsum(a, dtype=float)\n",
    "    ret[n:] = ret[n:] - ret[:-n]\n",
    "    return ret[n - 1:] / n"
   ]
  },
  {
   "cell_type": "code",
   "execution_count": 260,
   "metadata": {},
   "outputs": [],
   "source": [
    "def moving_statistics(a, window=100):\n",
    "    '''standardises a based on the mean and std of the previous window elements'''\n",
    "    b = a.clone()\n",
    "    for i in range(1, len(a)):\n",
    "        b[i] = (a[i] - a[max(0,i-window):i].mean()) / a[max(0,i-window):i].std()\n",
    "    return b\n",
    "    \n"
   ]
  },
  {
   "cell_type": "code",
   "execution_count": 180,
   "metadata": {},
   "outputs": [],
   "source": [
    "import numpy as np"
   ]
  },
  {
   "cell_type": "code",
   "execution_count": null,
   "metadata": {},
   "outputs": [],
   "source": [
    "plt.plo"
   ]
  },
  {
   "cell_type": "code",
   "execution_count": 280,
   "metadata": {},
   "outputs": [
    {
     "data": {
      "text/plain": [
       "tensor([-2.5195,     nan,  2.0098,  ...,  0.6972,  0.5663,  0.4829],\n",
       "       dtype=torch.float64)"
      ]
     },
     "execution_count": 280,
     "metadata": {},
     "output_type": "execute_result"
    }
   ],
   "source": [
    "moving_statistics(past_lm_scores, 10)"
   ]
  },
  {
   "cell_type": "code",
   "execution_count": 259,
   "metadata": {},
   "outputs": [
    {
     "data": {
      "text/plain": [
       "torch.Size([12206])"
      ]
     },
     "execution_count": 259,
     "metadata": {},
     "output_type": "execute_result"
    }
   ],
   "source": [
    "past_lm_scores.shape"
   ]
  },
  {
   "cell_type": "code",
   "execution_count": 227,
   "metadata": {},
   "outputs": [
    {
     "data": {
      "text/plain": [
       "tensor(-1.3048, dtype=torch.float64)"
      ]
     },
     "execution_count": 227,
     "metadata": {},
     "output_type": "execute_result"
    }
   ],
   "source": [
    "past_lm_scores_0.mean()"
   ]
  },
  {
   "cell_type": "code",
   "execution_count": 255,
   "metadata": {},
   "outputs": [
    {
     "ename": "RuntimeError",
     "evalue": "The size of tensor a (12202) must match the size of tensor b (12004) at non-singleton dimension 0",
     "output_type": "error",
     "traceback": [
      "\u001b[0;31m---------------------------------------------------------------------------\u001b[0m",
      "\u001b[0;31mRuntimeError\u001b[0m                              Traceback (most recent call last)",
      "Cell \u001b[0;32mIn [255], line 6\u001b[0m\n\u001b[1;32m      3\u001b[0m moving_average_0 \u001b[38;5;241m=\u001b[39m moving_average(past_lm_scores_0, n\u001b[38;5;241m=\u001b[39m\u001b[38;5;241m100\u001b[39m)\n\u001b[1;32m      4\u001b[0m moving_average_1000 \u001b[38;5;241m=\u001b[39m moving_average(past_lm_scores, n\u001b[38;5;241m=\u001b[39m\u001b[38;5;241m100\u001b[39m)\n\u001b[0;32m----> 6\u001b[0m moving_standardised_0 \u001b[38;5;241m=\u001b[39m (past_lm_scores_0 \u001b[38;5;241m/\u001b[39m moving_std_0) \u001b[38;5;241m-\u001b[39m moving_average_0\n\u001b[1;32m      7\u001b[0m plt\u001b[38;5;241m.\u001b[39mshow()\n",
      "\u001b[0;31mRuntimeError\u001b[0m: The size of tensor a (12202) must match the size of tensor b (12004) at non-singleton dimension 0"
     ]
    }
   ],
   "source": [
    "moving_std_0 = moving_std(past_lm_scores_0, n=100)\n",
    "moving_std_1000 = moving_std(past_lm_scores, n=100)\n",
    "moving_average_0 = moving_average(past_lm_scores_0, n=100)\n",
    "moving_average_1000 = moving_average(past_lm_scores, n=100)\n",
    "\n",
    "moving_standardised_0 = (past_lm_scores_0 / moving_std_0) - moving_average_0\n",
    "plt.show()"
   ]
  },
  {
   "cell_type": "code",
   "execution_count": 277,
   "metadata": {},
   "outputs": [
    {
     "data": {
      "image/png": "[encoded data removed]",
      "text/plain": [
       "<Figure size 640x480 with 1 Axes>"
      ]
     },
     "metadata": {},
     "output_type": "display_data"
    }
   ],
   "source": [
    "until = 1000\n",
    "#plt.plot(past_lm_scores[:until])\n",
    "'''plt.plot(EMAscore(past_lm_scores)[:until], label='1000')\n",
    "#plt.plot(EMAscore(past_lm_scores_50)[:until], label='50')\n",
    "plt.plot(EMAscore(past_lm_scores_0)[:until], label='0')'''\n",
    "plt.plot(past_lm_scores[:until], label='1000 (normal)')\n",
    "#plt.plot(past_lm_scores_0[:until], label='50 (normal)')\n",
    "\n",
    "plt.plot(moving_statistics(past_lm_scores[:until], window=50), label='1000')\n",
    "#plt.plot(moving_statistics(past_lm_scores_0[:until]), label='50')\n",
    "\n",
    "plt.legend()\n",
    "plt.xlabel('Time (frames)')\n",
    "plt.ylabel('EMA of log probabilities')\n",
    "plt.show()"
   ]
  },
  {
   "cell_type": "code",
   "execution_count": 247,
   "metadata": {},
   "outputs": [
    {
     "data": {
      "text/plain": [
       "<matplotlib.legend.Legend at 0x7f60a67a9dc0>"
      ]
     },
     "execution_count": 247,
     "metadata": {},
     "output_type": "execute_result"
    },
    {
     "data": {
      "image/png": "[encoded data removed]",
      "text/plain": [
       "<Figure size 640x480 with 1 Axes>"
      ]
     },
     "metadata": {},
     "output_type": "display_data"
    }
   ],
   "source": [
    "a = torch.randn(10000)\n",
    "b=  EMAscore(a, 0.999)\n",
    "c = moving_average(a, n=100)\n",
    "d = moving_std(a, n=100)\n",
    "plt.plot(a, label='a')\n",
    "plt.plot(b, label='b')\n",
    "plt.plot(c, label='c')\n",
    "plt.plot(d, label='d')\n",
    "plt.legend()"
   ]
  }
 ],
 "metadata": {
  "kernelspec": {
   "display_name": "Python 3.8.13 ('k2_custom-nemo')",
   "language": "python",
   "name": "python3"
  },
  "language_info": {
   "codemirror_mode": {
    "name": "ipython",
    "version": 3
   },
   "file_extension": ".py",
   "mimetype": "text/x-python",
   "name": "python",
   "nbconvert_exporter": "python",
   "pygments_lexer": "ipython3",
   "version": "3.8.13"
  },
  "orig_nbformat": 4,
  "vscode": {
   "interpreter": {
    "hash": "c94c8ffa67fdebd9384b5746b8c4850bc2cec88ff489992126dcd0aca228c275"
   }
  }
 },
 "nbformat": 4,
 "nbformat_minor": 2
}
