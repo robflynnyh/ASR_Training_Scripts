{
 "cells": [
  {
   "cell_type": "code",
   "execution_count": 1,
   "metadata": {},
   "outputs": [
    {
     "name": "stderr",
     "output_type": "stream",
     "text": [
      "[NeMo W 2022-11-15 11:43:26 optimizers:55] Apex was not found. Using the lamb or fused_adam optimizer will error out.\n",
      "[NeMo W 2022-11-15 11:43:28 experimental:27] Module <class 'nemo.collections.nlp.data.language_modeling.megatron.megatron_batch_samplers.MegatronPretrainingRandomBatchSampler'> is experimental, not ready for production and is not fully supported. Use at your own risk.\n",
      "[NeMo W 2022-11-15 11:43:28 experimental:27] Module <class 'nemo.collections.nlp.models.text_normalization_as_tagging.thutmose_tagger.ThutmoseTaggerModel'> is experimental, not ready for production and is not fully supported. Use at your own risk.\n",
      "[NeMo W 2022-11-15 11:43:28 nemo_logging:349] /exp/exp1/acp21rjf/lhotse/lhotse/lazy.py:388: UserWarning: A lambda was passed to LazyMapper: it may prevent you from forking this process. If you experience issues with num_workers > 0 in torch.utils.data.DataLoader, try passing a regular function instead.\n",
      "      warnings.warn(\n",
      "    \n"
     ]
    }
   ],
   "source": [
    "import tools\n",
    "corpus = tools.load_corpus()\n",
    "import pickle as pkl\n",
    "from importlib import reload as rl\n",
    "import non_iid_dataloader as niiddl, lhotse\n",
    "from tqdm import tqdm\n",
    "from torch.nn import TransformerDecoder, TransformerDecoderLayer, Transformer\n",
    "import torch\n",
    "from omegaconf.omegaconf import OmegaConf\n",
    "import matplotlib.pyplot as plt\n",
    "import numpy as np\n",
    "import einops\n",
    "from torch import einsum\n"
   ]
  },
  {
   "cell_type": "code",
   "execution_count": 2,
   "metadata": {},
   "outputs": [],
   "source": [
    "import model_utils"
   ]
  },
  {
   "cell_type": "code",
   "execution_count": 3,
   "metadata": {},
   "outputs": [
    {
     "name": "stdout",
     "output_type": "stream",
     "text": [
      "checkpoint_qknorm_60s_inter_50do_128  model_utils.py\n",
      "checkpoint_qknorm_ctx_temp\t      ngrams\n",
      "checkpoint_qknorm_hierarchy_do50      non_iid_dataloader.py\n",
      "create_tokenizer\t\t      plain_text\n",
      "eval_ctc_h_init.py\t\t      __pycache__\n",
      "eval_ctc_reuse.py\t\t      tokenizers\n",
      "eval_perplexity_pretrained.py\t      tools.py\n",
      "eval_perplexity.py\t\t      train_H.py\n",
      "generate_multi_hypothesis.py\t      train_LM.py\n",
      "hypothesis.pkl\t\t\t      train_lm.sh\n",
      "lm\t\t\t\t      train_long_context.sh\n",
      "lm_exps\t\t\t\t      train_roberta.sh\n",
      "lm_utils.py\t\t\t      Untitled-1.ipynb\n",
      "log_probs_0.pkl\t\t\t      wandb\n",
      "log.txt\n"
     ]
    }
   ],
   "source": [
    "!ls"
   ]
  },
  {
   "cell_type": "code",
   "execution_count": 5,
   "metadata": {},
   "outputs": [],
   "source": [
    "with open('log_probs_0.pkl', 'rb') as f:\n",
    "    log_probs = pkl.load(f)"
   ]
  },
  {
   "cell_type": "code",
   "execution_count": 6,
   "metadata": {},
   "outputs": [],
   "source": [
    "tk = tools.load_tokenizer('./tokenizers/tokenizer_spe_bpe_v128/tokenizer.model')"
   ]
  },
  {
   "cell_type": "code",
   "execution_count": 7,
   "metadata": {},
   "outputs": [],
   "source": [
    "from importlib import reload as rl\n",
    "rl(model_utils)\n",
    "rl(niiddl)\n",
    "import non_iid_dataloader as niiddl"
   ]
  },
  {
   "cell_type": "code",
   "execution_count": 8,
   "metadata": {},
   "outputs": [],
   "source": [
    "from pyctcdecode import build_ctcdecoder\n",
    "\n",
    "def kenlm_decoder(arpa_, vocab, alpha=0.5, beta=0.8):  \n",
    "    arpa = arpa_ if arpa_ != '' else None\n",
    "    alpha = alpha if arpa_ != '' else None\n",
    "    beta = beta if arpa_ != '' else None\n",
    "    decoder = build_ctcdecoder(vocab, kenlm_model_path=arpa, alpha=alpha, beta=beta)\n",
    "    print(f'Loaded KenLM model from {arpa} with alpha={alpha} and beta={beta}')\n",
    "    return decoder"
   ]
  },
  {
   "cell_type": "code",
   "execution_count": 9,
   "metadata": {},
   "outputs": [
    {
     "name": "stderr",
     "output_type": "stream",
     "text": [
      "Loading the LM will be faster if you build a binary file.\n",
      "Reading /exp/exp1/acp21rjf/deliberation/speachy/tedlium/ngrams/cantab_interp_tedlium.arpa\n",
      "----5---10---15---20---25---30---35---40---45---50---55---60---65---70---75---80---85---90---95--100\n",
      "****************************************************************************************************\n",
      "Unigrams and labels don't seem to agree.\n"
     ]
    },
    {
     "name": "stdout",
     "output_type": "stream",
     "text": [
      "Loaded KenLM model from ./ngrams/cantab_interp_tedlium.arpa with alpha=0.5 and beta=0.8\n"
     ]
    }
   ],
   "source": [
    "lm = kenlm_decoder('./ngrams/cantab_interp_tedlium.arpa', tk.vocab)"
   ]
  },
  {
   "cell_type": "code",
   "execution_count": 10,
   "metadata": {},
   "outputs": [
    {
     "data": {
      "text/plain": [
       "dict_keys(['log_probs', 'decoder', 'encoded_len'])"
      ]
     },
     "execution_count": 10,
     "metadata": {},
     "output_type": "execute_result"
    }
   ],
   "source": [
    "log_probs.keys()"
   ]
  },
  {
   "cell_type": "code",
   "execution_count": 11,
   "metadata": {},
   "outputs": [
    {
     "data": {
      "text/plain": [
       "[275]"
      ]
     },
     "execution_count": 11,
     "metadata": {},
     "output_type": "execute_result"
    }
   ],
   "source": [
    "log_probs['encoded_len'].tolist()"
   ]
  },
  {
   "cell_type": "code",
   "execution_count": 140,
   "metadata": {},
   "outputs": [],
   "source": [
    "dbeams = model_utils.decode_beams_lm(logits_list=log_probs['log_probs'], decoder=lm, encoded_lengths=log_probs['encoded_len'].tolist(), beam_width=20000)"
   ]
  },
  {
   "cell_type": "code",
   "execution_count": 12,
   "metadata": {},
   "outputs": [],
   "source": [
    "dl = niiddl.get_eval_dataloader(corpus['test'], max_duration=3.0, return_speaker=True, return_meta_data=True)"
   ]
  },
  {
   "cell_type": "code",
   "execution_count": 171,
   "metadata": {},
   "outputs": [],
   "source": [
    "for z in dl:\n",
    "    a = z\n",
    "    break"
   ]
  },
  {
   "cell_type": "code",
   "execution_count": 178,
   "metadata": {},
   "outputs": [
    {
     "data": {
      "text/plain": [
       "{'unique_id': 'b70d8c68-24de-4b34-94d9-5f47a968816c',\n",
       " 'timings': {'segment_start': 17.82, 'segment_end': 28.81},\n",
       " 'recording_id': 'AimeeMullins_2009P',\n",
       " 'utterance_id': 'AimeeMullins_2009P-1',\n",
       " 'speaker': 'AimeeMullins_2009P'}"
      ]
     },
     "execution_count": 178,
     "metadata": {},
     "output_type": "execute_result"
    }
   ],
   "source": [
    "a['metadata'][0][0]"
   ]
  },
  {
   "cell_type": "code",
   "execution_count": 34,
   "metadata": {},
   "outputs": [],
   "source": [
    "from nemo.collections.asr.metrics import wer_bpe"
   ]
  },
  {
   "cell_type": "code",
   "execution_count": 4,
   "metadata": {},
   "outputs": [],
   "source": [
    "with open('hypothesis.pkl', 'rb') as f:\n",
    "    hypothesis = pkl.load(f)"
   ]
  },
  {
   "cell_type": "code",
   "execution_count": 26,
   "metadata": {},
   "outputs": [],
   "source": [
    "def sort_hypothesis_by_recording(hyps):\n",
    "    recordings = {}\n",
    "    for hyp in hyps:\n",
    "        rec = hyp['meta_data']['recording_id']\n",
    "        if rec not in recordings:\n",
    "            recordings[rec] = []\n",
    "        recordings[rec].append(hyp)\n",
    "    return recordings\n",
    "\n",
    "def order_recordings_by_start_time(hypothesis):\n",
    "    for key in hypothesis.keys():\n",
    "        hypothesis[key] = sorted(hypothesis[key], key=lambda x: x['meta_data']['timings']['segment_start'])\n",
    "    return hypothesis\n",
    "\n",
    "def get_oracle_wer(hypothesis)"
   ]
  },
  {
   "cell_type": "code",
   "execution_count": 27,
   "metadata": {},
   "outputs": [],
   "source": [
    "a = sort_hypothesis_by_recording(hypothesis)"
   ]
  },
  {
   "cell_type": "code",
   "execution_count": 28,
   "metadata": {},
   "outputs": [],
   "source": [
    "a = order_recordings_by_start_time(a)"
   ]
  },
  {
   "cell_type": "code",
   "execution_count": 32,
   "metadata": {},
   "outputs": [
    {
     "data": {
      "text/plain": [
       "1.0"
      ]
     },
     "execution_count": 32,
     "metadata": {},
     "output_type": "execute_result"
    }
   ],
   "source": [
    "word_error_rate(['hello'],['bye'],)"
   ]
  },
  {
   "cell_type": "code",
   "execution_count": 41,
   "metadata": {},
   "outputs": [
    {
     "data": {
      "text/plain": [
       "{'beams': [{0: {'text': \"i'd like to share with you a discovery that i made a few months ago while writing an article for the italian wired i always keep my the sars hand never'm writing anything but\",\n",
       "    'score': -5.665437203736285},\n",
       "   1: {'text': \"i'd like to share with you a discovery that i made a few months ago while writing an article for the italian wired i always keep my the sars handy never'm writing anything but\",\n",
       "    'score': -5.7092124544882354},\n",
       "   2: {'text': \"i'd like to share with you a discovery that i made a few months ago while writing an article for the italian wired i always keep my the saars hand never'm writing anything but\",\n",
       "    'score': -5.766280471759843},\n",
       "   3: {'text': \"i'd like to share with you a discovery that i made a few months ago while writing an article for the italian wired i always keep my the saars handy never'm writing anything but\",\n",
       "    'score': -5.810055722511794},\n",
       "   4: {'text': \"i'd like to share with you a discovery that i made a few months ago while writing an article for the italian wired i always keep mit the sars hand never'm writing anything but\",\n",
       "    'score': -5.902505939084624},\n",
       "   5: {'text': \"i'd like to share with you a discovery that i made a few months ago while writing an article for the italian wired i always keep mit the sars handy never'm writing anything but\",\n",
       "    'score': -5.946281189836575},\n",
       "   6: {'text': \"i'd like to share with you a discovery that i made a few months ago while writing an article for the italian wired i always keep my the sars handi never'm writing anything but\",\n",
       "    'score': -5.9469456637882},\n",
       "   7: {'text': \"i'd like to share with you a discovery that i made a few months ago while writing an article for the italian wired i always keep mit the saars hand never'm writing anything but\",\n",
       "    'score': -6.003349207108184},\n",
       "   8: {'text': \"i'd like to share with you a discovery that i made a few months ago while writing an article for the italian wired i always keep mit the saars handy never'm writing anything but\",\n",
       "    'score': -6.047124457860135},\n",
       "   9: {'text': \"i'd like to share with you a discovery that i made a few months ago while writing an article for the italian wired i always keep my the saars handi never'm writing anything but\",\n",
       "    'score': -6.04778893181176},\n",
       "   10: {'text': \"i'd like to share with you a discovery that i made a few months ago while writing an article for the italian wired i always keep mit the sars handi never'm writing anything but\",\n",
       "    'score': -6.200242798168569},\n",
       "   11: {'text': \"i'd like to share with you a discovery that i made a few months ago while writing an article for the italian wired i always keep mit the saars handi never'm writing anything but\",\n",
       "    'score': -6.301086066192126},\n",
       "   12: {'text': \"i'd like to share with you a discovery that i made a few months ago while writing an article for the italian wired i always keep my the sars hand never i'm writing anything but\",\n",
       "    'score': -6.576690040405478},\n",
       "   13: {'text': \"i'd like to share with you a discovery that i made a few months ago while writing an article for the italian wired i always keep my the sars handy never i'm writing anything but\",\n",
       "    'score': -6.620465291157429},\n",
       "   14: {'text': \"i'd like to share with you a discovery that i made a few months ago while writing an article for the italian wired i always keep my the saars hand never i'm writing anything but\",\n",
       "    'score': -6.6775333084290365},\n",
       "   15: {'text': \"i'd like to share with you a discovery that i made a few months ago while writing an article for the italian wired i always keep my the saars handy never i'm writing anything but\",\n",
       "    'score': -6.721308559180987},\n",
       "   16: {'text': \"i'd like to share with you a discovery that i made a few months ago while writing an article for the italian wired i always keep mit the sars hand never i'm writing anything but\",\n",
       "    'score': -6.813758775753818},\n",
       "   17: {'text': \"i'd like to share with you a discovery that i made a few months ago while writing an article for the italian wired i always keep myke the sars hand never'm writing anything but\",\n",
       "    'score': -6.814413534143887},\n",
       "   18: {'text': \"i'd like to share with you a discovery that i made a few months ago while writing an article for the italian wired i always keep mit the sars handy never i'm writing anything but\",\n",
       "    'score': -6.8575340265057685},\n",
       "   19: {'text': \"i'd like to share with you a discovery that i made a few months ago while writing an article for the italian wired i always keep myke the sars handy never'm writing anything but\",\n",
       "    'score': -6.85818878489584},\n",
       "   20: {'text': \"i'd like to share with you a discovery that i made a few months ago while writing an article for the italian wired i always keep my the sars handi never i'm writing anything but\",\n",
       "    'score': -6.8581985004573935},\n",
       "   21: {'text': \"i'd like to share with you a discovery that i made a few months ago while writing an article for the italian wired i always keep mit the saars hand never i'm writing anything but\",\n",
       "    'score': -6.914602043777378},\n",
       "   22: {'text': \"i'd like to share with you a discovery that i made a few months ago while writing an article for the italian wired i always keep myke the saars hand never'm writing anything but\",\n",
       "    'score': -6.915256802167447},\n",
       "   23: {'text': \"i'd like to share with you a discovery that i made a few months ago while writing an article for the italian wired i always keep mit the saars handy never i'm writing anything but\",\n",
       "    'score': -6.9583772945293285},\n",
       "   24: {'text': \"i'd like to share with you a discovery that i made a few months ago while writing an article for the italian wired i always keep myke the saars handy never'm writing anything but\",\n",
       "    'score': -6.959032052919399},\n",
       "   25: {'text': \"i'd like to share with you a discovery that i made a few months ago while writing an article for the italian wired i always keep my the saars handi never i'm writing anything but\",\n",
       "    'score': -6.959041768480954},\n",
       "   26: {'text': \"i'd like to share with you a discovery that i made a few months ago while writing an article for the italian wired i always keep mitke the sars hand never'm writing anything but\",\n",
       "    'score': -7.078051949605217},\n",
       "   27: {'text': \"i'd like to share with you a discovery that i made a few months ago while writing an article for the italian wired i always keep mit the sars handi never i'm writing anything but\",\n",
       "    'score': -7.095267235805735},\n",
       "   28: {'text': \"i'd like to share with you a discovery that i made a few months ago while writing an article for the italian wired i always keep myke the sars handi never'm writing anything but\",\n",
       "    'score': -7.164471136072598},\n",
       "   29: {'text': \"i'd like to share with you a discovery that i made a few months ago while writing an article for the italian wired i always keep mitke the saars hand never'm writing anything but\",\n",
       "    'score': -7.170624975289853},\n",
       "   30: {'text': \"i'd like to share with you a discovery that i made a few months ago while writing an article for the italian wired i always keep mitke the sars handy never'm writing anything but\",\n",
       "    'score': -7.191407586201897},\n",
       "   31: {'text': \"i'd like to share with you a discovery that i made a few months ago while writing an article for the italian wired i always keep mit the saars handi never i'm writing anything but\",\n",
       "    'score': -7.196110503829293},\n",
       "   32: {'text': \"i'd like to share with you a discovery that i made a few months ago while writing an article for the italian wired i always keep myke the saars handi never'm writing anything but\",\n",
       "    'score': -7.265314404096158},\n",
       "   33: {'text': \"i'd like to share with you a discovery that i made a few months ago while writing an article for the italian wired i always keep mitke the saars handy never'm writing anything but\",\n",
       "    'score': -7.283980611886533},\n",
       "   34: {'text': \"i'd like to share with you a discovery that i made a few months ago while writing an article for the italian wired i always keep m a the sars hand never'm writing anything but\",\n",
       "    'score': -7.346299702986946},\n",
       "   35: {'text': \"i'd like to share with you a discovery that i made a few months ago while writing an article for the italian wired i always keep myh the sars hand never'm writing anything but\",\n",
       "    'score': -7.402977781295546},\n",
       "   36: {'text': \"i'd like to share with you a discovery that i made a few months ago while writing an article for italian wired i always keep my the sars hand never'm writing anything but\",\n",
       "    'score': -7.420645609737795},\n",
       "   37: {'text': \"i'd like to share with you a discovery that i made a few months ago while writing an article for the italian wired i always keep mitke the sars handi never'm writing anything but\",\n",
       "    'score': -7.428109551533928},\n",
       "   38: {'text': \"i'd like to share with you a discovery that i made a few months ago while writing an article for the italian wired i always keep m a the sars handy never'm writing anything but\",\n",
       "    'score': -7.459655339583626},\n",
       "   39: {'text': \"i'd like to share with you a discovery that i made a few months ago while writing an article for the italian wired i always keep my the sarz hand never'm writing anything but\",\n",
       "    'score': -7.45977295112194},\n",
       "   40: {'text': \"i'd like to share with you a discovery that i made a few months ago while writing an article for the italian wired i always keep m a the saars hand never'm writing anything but\",\n",
       "    'score': -7.463126921755515},\n",
       "   41: {'text': \"i'd like to share with you a discovery that i made a few months ago while writing an article for the italian wired i always keep myh the saars hand never'm writing anything but\",\n",
       "    'score': -7.495550806980183},\n",
       "   42: {'text': \"i'd like to share with you a discovery that i made a few months ago while writing an article for italian wired i always keep my the saars hand never'm writing anything but\",\n",
       "    'score': -7.513218635422431},\n",
       "   43: {'text': \"i'd like to share with you a discovery that i made a few months ago while writing an article for the italian wired i always keep myh the sars handy never'm writing anything but\",\n",
       "    'score': -7.58609234184702},\n",
       "   44: {'text': \"i'd like to share with you a discovery that i made a few months ago while writing an article for the italian wired i always keep mitke the saars handi never'm writing anything but\",\n",
       "    'score': -7.590441501173358},\n",
       "   45: {'text': \"i'd like to share with you a discovery that i made a few months ago while writing an article for italian wired i always keep my the sars handy never'm writing anything but\",\n",
       "    'score': -7.603760170289267},\n",
       "   46: {'text': \"i'd like to share with you a discovery that i made a few months ago while writing an article for the italian wired i always keep mke the sars hand never'm writing anything but\",\n",
       "    'score': -7.611266189189606},\n",
       "   47: {'text': \"i'd like to share with you a discovery that i made a few months ago while writing an article for the italian wired i always keep my the saarz hand never'm writing anything but\",\n",
       "    'score': -7.630375143100294},\n",
       "   48: {'text': \"i'd like to share with you a discovery that i made a few months ago while writing an article for the italian wired i always keep my the sarz handy never'm writing anything but\",\n",
       "    'score': -7.642887511673414},\n",
       "   49: {'text': \"i'd like to share with you a discovery that i made a few months ago while writing an article for the italian wired i always keep m a the saars handy never'm writing anything but\",\n",
       "    'score': -7.646241482306988},\n",
       "   50: {'text': \"i'd like to share with you a discovery that i made a few months ago while writing an article for the italian wired i always keep my the sarres hand never'm writing anything but\",\n",
       "    'score': -7.647895157401929},\n",
       "   51: {'text': \"i'd like to share with you a discovery that i made a few months ago while writing an article for the italian wired i always keep myh the saars handy never'm writing anything but\",\n",
       "    'score': -7.678665367531656},\n",
       "   52: {'text': \"i'd like to share with you a discovery that i made a few months ago while writing an article for italian wired i always keep my the saars handy never'm writing anything but\",\n",
       "    'score': -7.696333195973902},\n",
       "   53: {'text': \"i'd like to share with you a discovery that i made a few months ago while writing an article for the italian wired i always keep mke the saars hand never'm writing anything but\",\n",
       "    'score': -7.759284837941499},\n",
       "   54: {'text': \"i'd like to share with you a discovery that i made a few months ago while writing an article for the italian wired i always keep mke the sars handy never'm writing anything but\",\n",
       "    'score': -7.780067448853543},\n",
       "   55: {'text': \"i'd like to share with you a discovery that i made a few months ago while writing an article for the italian wired i always keep mith the sars hand never'm writing anything but\",\n",
       "    'score': -7.78274034712227},\n",
       "   56: {'text': \"i'd like to share with you a discovery that i made a few months ago while writing an article for italian wired i always keep mit the sars hand never'm writing anything but\",\n",
       "    'score': -7.782918892108184},\n",
       "   57: {'text': \"i'd like to share with you a discovery that i made a few months ago while writing an article for the italian wired i always keep my the saarz handy never'm writing anything but\",\n",
       "    'score': -7.799176402764231},\n",
       "   58: {'text': \"i'd like to share with you a discovery that i made a few months ago while writing an article for the italian wired i always keep my the saarres hand never'm writing anything but\",\n",
       "    'score': -7.804184048492746},\n",
       "   59: {'text': \"i'd like to share with you a discovery that i made a few months ago while writing an article for the italian wired i always keep my the sarres handy never'm writing anything but\",\n",
       "    'score': -7.816696417065866},\n",
       "   60: {'text': \"i'd like to share with you a discovery that i made a few months ago while writing an article for the italian wired i always keep m a the sars handi never'm writing anything but\",\n",
       "    'score': -7.821561851937708},\n",
       "   61: {'text': \"i'd like to share with you a discovery that i made a few months ago while writing an article for the italian wired i always keep mit the sarz hand never'm writing anything but\",\n",
       "    'score': -7.822046233492332},\n",
       "   62: {'text': \"i'd like to share with you a discovery that i made a few months ago while writing an article for the italian wired i always keep myke the sars hand never i'm writing anything but\",\n",
       "    'score': -7.834642518803103},\n",
       "   63: {'text': \"i'd like to share with you a discovery that i made a few months ago while writing an article for the italian wired i always keep myke the sars handy never i'm writing anything but\",\n",
       "    'score': -7.878417769555054},\n",
       "   64: {'text': \"i'd like to share with you a discovery that i made a few months ago while writing an article for the italian wired i always keep mke the saars handy never'm writing anything but\",\n",
       "    'score': -7.898427623783152},\n",
       "   65: {'text': \"i'd like to share with you a discovery that i made a few months ago while writing an article for the italian wired i always keep mith the saars hand never'm writing anything but\",\n",
       "    'score': -7.9011005220518795},\n",
       "   66: {'text': \"i'd like to share with you a discovery that i made a few months ago while writing an article for italian wired i always keep mit the saars hand never'm writing anything but\",\n",
       "    'score': -7.901279067037794},\n",
       "   67: {'text': \"i'd like to share with you a discovery that i made a few months ago while writing an article for the italian wired i always keep myh the sars handi never'm writing anything but\",\n",
       "    'score': -7.904027079491281},\n",
       "   68: {'text': \"i'd like to share with you a discovery that i made a few months ago while writing an article for the italian wired i always keep my the sars hand never' writing anything but\",\n",
       "    'score': -7.915303537065539},\n",
       "   69: {'text': \"i'd like to share with you a discovery that i made a few months ago while writing an article for the italian wired i always keep myke the saars hand never i'm writing anything but\",\n",
       "    'score': -7.935485786826663},\n",
       "   70: {'text': \"i'd like to share with you a discovery that i made a few months ago while writing an article for italian wired i always keep my the sars handi never'm writing anything but\",\n",
       "    'score': -7.949449926581589},\n",
       "   71: {'text': \"i'd like to share with you a discovery that i made a few months ago while writing an article for the italian wired i always keep mith the sars handy never'm writing anything but\",\n",
       "    'score': -7.9496381516119845},\n",
       "   72: {'text': \"i'd like to share with you a discovery that i made a few months ago while writing an article for italian wired i always keep mit the sars handy never'm writing anything but\",\n",
       "    'score': -7.949816696597899},\n",
       "   73: {'text': \"i'd like to share with you a discovery that i made a few months ago while writing an article for the italian wired i always keep my the sars handy never' writing anything but\",\n",
       "    'score': -7.959078787817492},\n",
       "   74: {'text': \"i'd like to share with you a discovery that i made a few months ago while writing an article for the italian wired i always keep my the saarres handy never'm writing anything but\",\n",
       "    'score': -7.9710818529824605},\n",
       "   75: {'text': \"i'd like to share with you a discovery that i made a few months ago while writing an article for the italian wired i always keep myke the saars handy never i'm writing anything but\",\n",
       "    'score': -7.979261037578612},\n",
       "   76: {'text': \"i'd like to share with you a discovery that i made a few months ago while writing an article for the italian wired i always keep mit the saarz hand never'm writing anything but\",\n",
       "    'score': -8.00626838269542},\n",
       "   77: {'text': \"i'd like to share with you a discovery that i made a few months ago while writing an article for the italian wired i always keep my the saars hand never' writing anything but\",\n",
       "    'score': -8.0161468050891},\n",
       "   78: {'text': \"i'd like to share with you a discovery that i made a few months ago while writing an article for the italian wired i always keep my the sarz handi never'm writing anything but\",\n",
       "    'score': -8.01841398125223},\n",
       "   79: {'text': \"i'd like to share with you a discovery that i made a few months ago while writing an article for the italian wired i always keep mit the sarz handy never'm writing anything but\",\n",
       "    'score': -8.01878075126854},\n",
       "   80: {'text': \"i'd like to share with you a discovery that i made a few months ago while writing an article for the italian wired i always keep m a the saars handi never'm writing anything but\",\n",
       "    'score': -8.021767951885806},\n",
       "   81: {'text': \"i'd like to share with you a discovery that i made a few months ago while writing an article for the italian wired i always keep mit the sarres hand never'm writing anything but\",\n",
       "    'score': -8.023788396997055},\n",
       "   82: {'text': \"i'd like to share with you a discovery that i made a few months ago while writing an article for the italian wired i always keep mye the sars hand never'm writing anything but\",\n",
       "    'score': -8.024355321108168},\n",
       "   83: {'text': \"i'd like to share with you a discovery that i made a few months ago while writing an article for the italian wired i always keep my the sars handle never'm writing anything but\",\n",
       "    'score': -8.03489407924496},\n",
       "   84: {'text': \"i'd like to share with you a discovery that i made a few months ago while writing an article for the italian wired i always keep myh the saars handi never'm writing anything but\",\n",
       "    'score': -8.054191837110473},\n",
       "   85: {'text': \"i'd like to share with you a discovery that i made a few months ago while writing an article for the italian wired i always keep my the saars handy never' writing anything but\",\n",
       "    'score': -8.059922055841053},\n",
       "   86: {'text': \"i'd like to share with you a discovery that i made a few months ago while writing an article for italian wired i always keep my the saars handi never'm writing anything but\",\n",
       "    'score': -8.071859665552722},\n",
       "   87: {'text': \"i'd like to share with you a discovery that i made a few months ago while writing an article for the italian wired i always keep mith the saars handy never'm writing anything but\",\n",
       "    'score': -8.072047890583114},\n",
       "   88: {'text': \"i'd like to share with you a discovery that i made a few months ago while writing an article for italian wired i always keep mit the saars handy never'm writing anything but\",\n",
       "    'score': -8.072226435569029},\n",
       "   89: {'text': \"i'd like to share with you a discovery that i made a few months ago while writing an article for the italian wired i always keep myt the sars hand never'm writing anything but\",\n",
       "    'score': -8.081524473163881},\n",
       "   90: {'text': \"i'd like to share with you a discovery that i made a few months ago while writing an article for the italian wired i always keep mitke the sars hand never i'm writing anything but\",\n",
       "    'score': -8.098280934264434},\n",
       "   91: {'text': \"i'd like to share with you a discovery that i made a few months ago while writing an article for the italian wired i always keep mke the sars handi never'm writing anything but\",\n",
       "    'score': -8.100148295365102},\n",
       "   92: {'text': \"i'd like to share with you a discovery that i made a few months ago while writing an article for the italian wired i always keep mye the saars hand never'm writing anything but\",\n",
       "    'score': -8.116928346792804},\n",
       "   93: {'text': \"i'd like to share with you a discovery that i made a few months ago while writing an article for the italian wired i always keep my the saarz handi never'm writing anything but\",\n",
       "    'score': -8.11925724927579},\n",
       "   94: {'text': \"i'd like to share with you a discovery that i made a few months ago while writing an article for the italian wired i always keep mit the saarz handy never'm writing anything but\",\n",
       "    'score': -8.1196240192921},\n",
       "   95: {'text': \"i'd like to share with you a discovery that i made a few months ago while writing an article for the italian wired i always keep mit the saarres hand never'm writing anything but\",\n",
       "    'score': -8.124631665020615},\n",
       "   96: {'text': \"i'd like to share with you a discovery that i made a few months ago while writing an article for the italian wired i always keep my the saars handle never'm writing anything but\",\n",
       "    'score': -8.135737347268517},\n",
       "   97: {'text': \"i'd like to share with you a discovery that i made a few months ago while writing an article for the italian wired i always keep my the sarres handi never'm writing anything but\",\n",
       "    'score': -8.136777263577425},\n",
       "   98: {'text': \"i'd like to share with you a discovery that i made a few months ago while writing an article for the italian wired i always keep mit the sarres handy never'm writing anything but\",\n",
       "    'score': -8.137144033593735},\n",
       "   99: {'text': \"i'd like to share with you a discovery that i made a few months ago while writing an article for the italian wired i always keep mye the sars handy never'm writing anything but\",\n",
       "    'score': -8.137710957704847},\n",
       "   100: {'text': \"i'd like to share with you a discovery that i made a few months ago while writing an article for the italian wired i always keep mit the sars hand never' writing anything but\",\n",
       "    'score': -8.152372272413881},\n",
       "   101: {'text': \"i'd like to share with you a discovery that i made a few months ago while writing an article for the italian wired i always keep myt the saars hand never'm writing anything but\",\n",
       "    'score': -8.174097498848518},\n",
       "   102: {'text': \"i'd like to share with you a discovery that i made a few months ago while writing an article for the italian wired i always keep my theisars hand never'm writing anything but\",\n",
       "    'score': -8.180867685853308},\n",
       "   103: {'text': \"i'd like to share with you a discovery that i made a few months ago while writing an article for the italian wired i always keep myke the sars handi never i'm writing anything but\",\n",
       "    'score': -8.184700120731815},\n",
       "   104: {'text': \"i'd like to share with you a discovery that i made a few months ago while writing an article for the italian wired i always keep mitke the saars hand never i'm writing anything but\",\n",
       "    'score': -8.19085395994907},\n",
       "   105: {'text': \"i'd like to share with you a discovery that i made a few months ago while writing an article for the italian wired i always keep mke the saars handi never'm writing anything but\",\n",
       "    'score': -8.192721321049738},\n",
       "   106: {'text': \"i'd like to share with you a discovery that i made a few months ago while writing an article for the italian wired i always keep myt the sars handy never'm writing anything but\",\n",
       "    'score': -8.194880109760561},\n",
       "   107: {'text': \"i'd like to share with you a discovery that i made a few months ago while writing an article for the italian wired i always keep mit the sars handy never' writing anything but\",\n",
       "    'score': -8.196147523165832},\n",
       "   108: {'text': \"i'd like to share with you a discovery that i made a few months ago while writing an article for the italian wired i always keep my the sars handi never' writing anything but\",\n",
       "    'score': -8.196811997117457},\n",
       "   109: {'text': \"i'd like to share with you a discovery that i made a few months ago while writing an article for the italian wired i always keep mitke the sars handy never i'm writing anything but\",\n",
       "    'score': -8.211636570861113},\n",
       "   110: {'text': \"i'd like to share with you a discovery that i made a few months ago while writing an article for the italian wired i always keep mith the sars handi never'm writing anything but\",\n",
       "    'score': -8.21617683023051},\n",
       "   111: {'text': \"i'd like to share with you a discovery that i made a few months ago while writing an article for italian wired i always keep mit the sars handi never'm writing anything but\",\n",
       "    'score': -8.216355375216423},\n",
       "   112: {'text': \"i'd like to share with you a discovery that i made a few months ago while writing an article for the italian wired i always keep mye the saars handy never'm writing anything but\",\n",
       "    'score': -8.230283983389484},\n",
       "   113: {'text': \"i'd like to share with you a discovery that i made a few months ago while writing an article for the italian wired i always keep my the saarres handi never'm writing anything but\",\n",
       "    'score': -8.237620531600985},\n",
       "   114: {'text': \"i'd like to share with you a discovery that i made a few months ago while writing an article for the italian wired i always keep mit the saarres handy never'm writing anything but\",\n",
       "    'score': -8.237987301617295},\n",
       "   115: {'text': \"i'd like to share with you a discovery that i made a few months ago while writing an article for the italian wired i always keep mit the saars hand never' writing anything but\",\n",
       "    'score': -8.253215540437441},\n",
       "   116: {'text': \"i'd like to share with you a discovery that i made a few months ago while writing an article for the italian wired i always keep myke the saars handi never i'm writing anything but\",\n",
       "    'score': -8.285543388755375},\n",
       "   117: {'text': \"i'd like to share with you a discovery that i made a few months ago while writing an article for the italian wired i always keep mit the saars handy never' writing anything but\",\n",
       "    'score': -8.296990791189392},\n",
       "   118: {'text': \"i'd like to share with you a discovery that i made a few months ago while writing an article for the italian wired i always keep my the saars handi never' writing anything but\",\n",
       "    'score': -8.297655265141017},\n",
       "   119: {'text': \"i'd like to share with you a discovery that i made a few months ago while writing an article for the italian wired i always keep mitke the saars handy never i'm writing anything but\",\n",
       "    'score': -8.30420959654575},\n",
       "   120: {'text': \"i'd like to share with you a discovery that i made a few months ago while writing an article for the italian wired i always keep m a the sars hand never i'm writing anything but\",\n",
       "    'score': -8.366528687646163},\n",
       "   121: {'text': \"i'd like to share with you a discovery that i made a few months ago while writing an article for the italian wired i always keep mit the sarz handi never'm writing anything but\",\n",
       "    'score': -8.405103207004341},\n",
       "   122: {'text': \"i'd like to share with you a discovery that i made a few months ago while writing an article for the italian wired i always keep mite the sars hand never'm writing anything but\",\n",
       "    'score': -8.417674242935835},\n",
       "   123: {'text': \"i'd like to share with you a discovery that i made a few months ago while writing an article for the italian wired i always keep mit the sars handle never'm writing anything but\",\n",
       "    'score': -8.421583304997071},\n",
       "   124: {'text': \"i'd like to share with you a discovery that i made a few months ago while writing an article for the italian wired i always keep my theisaars hand never'm writing anything but\",\n",
       "    'score': -8.423061201941714},\n",
       "   125: {'text': \"i'd like to share with you a discovery that i made a few months ago while writing an article for the italian wired i always keep myh the sars hand never i'm writing anything but\",\n",
       "    'score': -8.423206765954763},\n",
       "   126: {'text': \"i'd like to share with you a discovery that i made a few months ago while writing an article for the italian wired i always keep mit the sars handi never' writing anything but\",\n",
       "    'score': -8.433880732465799},\n",
       "   127: {'text': \"i'd like to share with you a discovery that i made a few months ago while writing an article for the italian wired i always keep myt the saars handy never'm writing anything but\",\n",
       "    'score': -8.43707362584897},\n",
       "   128: {'text': \"i'd like to share with you a discovery that i made a few months ago while writing an article for italian wired i always keep my the sars hand never i'm writing anything but\",\n",
       "    'score': -8.440874594397009},\n",
       "   129: {'text': \"i'd like to share with you a discovery that i made a few months ago while writing an article for the italian wired i always keep my theisars handy never'm writing anything but\",\n",
       "    'score': -8.443843812853757},\n",
       "   130: {'text': \"i'd like to share with you a discovery that i made a few months ago while writing an article for the italian wired i always keep mitke the sars handi never i'm writing anything but\",\n",
       "    'score': -8.448338536193145},\n",
       "   131: {'text': \"i'd like to share with you a discovery that i made a few months ago while writing an article for the italian wired i always keep mith the saars handi never'm writing anything but\",\n",
       "    'score': -8.458370346318919},\n",
       "   132: {'text': \"i'd like to share with you a discovery that i made a few months ago while writing an article for italian wired i always keep mit the saars handi never'm writing anything but\",\n",
       "    'score': -8.458548891304833},\n",
       "   133: {'text': \"i'd like to share with you a discovery that i made a few months ago while writing an article for the italian wired i always keep mitt the sars hand never'm writing anything but\",\n",
       "    'score': -8.476875125829384},\n",
       "   134: {'text': \"i'd like to share with you a discovery that i made a few months ago while writing an article for the italian wired i always keep m a the sars handy never i'm writing anything but\",\n",
       "    'score': -8.479884324242843},\n",
       "   135: {'text': \"i'd like to share with you a discovery that i made a few months ago while writing an article for the italian wired i always keep my the sarz hand never i'm writing anything but\",\n",
       "    'score': -8.480001935781157},\n",
       "   136: {'text': \"i'd like to share with you a discovery that i made a few months ago while writing an article for the italian wired i always keep my the sarrs hand never'm writing anything but\",\n",
       "    'score': -8.481457502753202},\n",
       "   137: {'text': \"i'd like to share with you a discovery that i made a few months ago while writing an article for the italian wired i always keep m a the saars hand never i'm writing anything but\",\n",
       "    'score': -8.48335590641473},\n",
       "   138: {'text': \"i'd like to share with you a discovery that i made a few months ago while writing an article for the italian wired i always keep mit the saarz handi never'm writing anything but\",\n",
       "    'score': -8.505946475027901},\n",
       "   139: {'text': \"i'd like to share with you a discovery that i made a few months ago while writing an article for the italian wired i always keep mite the saars hand never'm writing anything but\",\n",
       "    'score': -8.510247268620471},\n",
       "   140: {'text': \"i'd like to share with you a discovery that i made a few months ago while writing an article for the italian wired i always keep myh the saars hand never i'm writing anything but\",\n",
       "    'score': -8.5157797916394},\n",
       "   141: {'text': \"i'd like to share with you a discovery that i made a few months ago while writing an article for the italian wired i always keep mit the saars handle never'm writing anything but\",\n",
       "    'score': -8.522426573020628},\n",
       "   142: {'text': \"i'd like to share with you a discovery that i made a few months ago while writing an article for the italian wired i always keep mit the sarres handi never'm writing anything but\",\n",
       "    'score': -8.523466489329536},\n",
       "   143: {'text': \"i'd like to share with you a discovery that i made a few months ago while writing an article for the italian wired i always keep mye the sars handi never'm writing anything but\",\n",
       "    'score': -8.524033413440648},\n",
       "   144: {'text': \"i'd like to share with you a discovery that i made a few months ago while writing an article for the italian wired i always keep mite the sars handy never'm writing anything but\",\n",
       "    'score': -8.531029879532515},\n",
       "   145: {'text': \"i'd like to share with you a discovery that i made a few months ago while writing an article for italian wired i always keep my the saars hand never i'm writing anything but\",\n",
       "    'score': -8.533447620081645},\n",
       "   146: {'text': \"i'd like to share with you a discovery that i made a few months ago while writing an article for the italian wired i always keep mit the saars handi never' writing anything but\",\n",
       "    'score': -8.534724000489357},\n",
       "   147: {'text': \"i'd like to share with you a discovery that i made a few months ago while writing an article for the italian wired i always keep my theisaars handy never'm writing anything but\",\n",
       "    'score': -8.536416838538393},\n",
       "   148: {'text': \"i'd like to share with you a discovery that i made a few months ago while writing an article for the italian wired i always keep myh the sars handy never i'm writing anything but\",\n",
       "    'score': -8.536562402551443},\n",
       "   149: {'text': \"i'd like to share with you a discovery that i made a few months ago while writing an article for the italian wired i always keep mitke the saars handi never i'm writing anything but\",\n",
       "    'score': -8.540911561877781},\n",
       "   150: {'text': \"i'd like to share with you a discovery that i made a few months ago while writing an article for italian wired i always keep my the sars handy never i'm writing anything but\",\n",
       "    'score': -8.554230230993689},\n",
       "   151: {'text': \"i'd like to share with you a discovery that i made a few months ago while writing an article for the italian wired i always keep mke the sars hand never i'm writing anything but\",\n",
       "    'score': -8.561736249894029},\n",
       "   152: {'text': \"i'd like to share with you a discovery that i made a few months ago while writing an article for the italian wired i always keep mit theisars hand never'm writing anything but\",\n",
       "    'score': -8.567556911605418},\n",
       "   153: {'text': \"i'd like to share with you a discovery that i made a few months ago while writing an article for the italian wired i always keep mitt the saars hand never'm writing anything but\",\n",
       "    'score': -8.56944815151402},\n",
       "   154: {'text': \"i'd like to share with you a discovery that i made a few months ago while writing an article for the italian wired i always keep my the saarrs hand never'm writing anything but\",\n",
       "    'score': -8.574030528437838},\n",
       "   155: {'text': \"i'd like to share with you a discovery that i made a few months ago while writing an article for the italian wired i always keep my the sors hand never'm writing anything but\",\n",
       "    'score': -8.578782932073537},\n",
       "   156: {'text': \"i'd like to share with you a discovery that i made a few months ago while writing an article for the italian wired i always keep my the saarz hand never i'm writing anything but\",\n",
       "    'score': -8.580845203804717},\n",
       "   157: {'text': \"i'd like to share with you a discovery that i made a few months ago while writing an article for the italian wired i always keep myt the sars handi never'm writing anything but\",\n",
       "    'score': -8.581202565496362},\n",
       "   158: {'text': \"i'd like to share with you a discovery that i made a few months ago while writing an article for the italian wired i always keep mitt the sars handy never'm writing anything but\",\n",
       "    'score': -8.590230762426064},\n",
       "   159: {'text': \"i'd like to share with you a discovery that i made a few months ago while writing an article for the italian wired i always keep my the sarz handy never i'm writing anything but\",\n",
       "    'score': -8.904923999501023},\n",
       "   160: {'text': \"i'd like to share with you a discovery that i made a few months ago while writing an article for the italian wired i always keep my the sarrs handy never'm writing anything but\",\n",
       "    'score': -8.906379566473067},\n",
       "   161: {'text': \"i'd like to share with you a discovery that i made a few months ago while writing an article for the italian wired i always keep m a the saars handy never i'm writing anything but\",\n",
       "    'score': -8.908277970134595},\n",
       "   162: {'text': \"i'd like to share with you a discovery that i made a few months ago while writing an article for the italian wired i always keep my the sarres hand never i'm writing anything but\",\n",
       "    'score': -8.909931645229538},\n",
       "   163: {'text': \"i'd like to share with you a discovery that i made a few months ago while writing an article for the italian wired i always keep mye the saars handi never'm writing anything but\",\n",
       "    'score': -8.92817286624847},\n",
       "   164: {'text': \"i'd like to share with you a discovery that i made a few months ago while writing an article for the italian wired i always keep mite the saars handy never'm writing anything but\",\n",
       "    'score': -8.935169332340337},\n",
       "   165: {'text': \"i'd like to share with you a discovery that i made a few months ago while writing an article for the italian wired i always keep mit the saarres handi never'm writing anything but\",\n",
       "    'score': -8.935876184476282},\n",
       "   166: {'text': \"i'd like to share with you a discovery that i made a few months ago while writing an article for the italian wired i always keep myh the saars handy never i'm writing anything but\",\n",
       "    'score': -8.940701855359265},\n",
       "   167: {'text': \"i'd like to share with you a discovery that i made a few months ago while writing an article for italian wired i always keep my the saars handy never i'm writing anything but\",\n",
       "    'score': -8.95836968380151},\n",
       "   168: {'text': \"i'd like to share with you a discovery that i made a few months ago while writing an article for the italian wired i always keep my the sars hand i never'm writing anything but\",\n",
       "    'score': -8.962341461981918},\n",
       "   169: {'text': \"i'd like to share with you a discovery that i made a few months ago while writing an article for the italian wired i always keep mke the saars hand never i'm writing anything but\",\n",
       "    'score': -8.965875702701851},\n",
       "   170: {'text': \"i'd like to share with you a discovery that i made a few months ago while writing an article for the italian wired i always keep mit theisaars hand never'm writing anything but\",\n",
       "    'score': -8.97169636441324},\n",
       "   171: {'text': \"i'd like to share with you a discovery that i made a few months ago while writing an article for the italian wired i always keep my the saors hand never'm writing anything but\",\n",
       "    'score': -8.982922384881359},\n",
       "   172: {'text': \"i'd like to share with you a discovery that i made a few months ago while writing an article for the italian wired i always keep myt the saars handi never'm writing anything but\",\n",
       "    'score': -8.985342018304184},\n",
       "   173: {'text': \"i'd like to share with you a discovery that i made a few months ago while writing an article for the italian wired i always keep mke the sars handy never i'm writing anything but\",\n",
       "    'score': -8.986658313613894},\n",
       "   174: {'text': \"i'd like to share with you a discovery that i made a few months ago while writing an article for the italian wired i always keep mith the sars hand never i'm writing anything but\",\n",
       "    'score': -8.989331211882622},\n",
       "   175: {'text': \"i'd like to share with you a discovery that i made a few months ago while writing an article for italian wired i always keep mit the sars hand never i'm writing anything but\",\n",
       "    'score': -8.989509756868536},\n",
       "   176: {'text': \"i'd like to share with you a discovery that i made a few months ago while writing an article for the italian wired i always keep my theisars handi never'm writing anything but\",\n",
       "    'score': -8.992112205308974},\n",
       "   177: {'text': \"i'd like to share with you a discovery that i made a few months ago while writing an article for the italian wired i always keep mit theisars handy never'm writing anything but\",\n",
       "    'score': -8.992478975325284},\n",
       "   178: {'text': \"i'd like to share with you a discovery that i made a few months ago while writing an article for the italian wired i always keep mitt the saars handy never'm writing anything but\",\n",
       "    'score': -8.994370215233886},\n",
       "   179: {'text': \"i'd like to share with you a discovery that i made a few months ago while writing an article for the italian wired i always keep my the saarrs handy never'm writing anything but\",\n",
       "    'score': -8.998952592157703},\n",
       "   180: {'text': \"i'd like to share with you a discovery that i made a few months ago while writing an article for the italian wired i always keep my the sors handy never'm writing anything but\",\n",
       "    'score': -9.003704995793402},\n",
       "   181: {'text': \"i'd like to share with you a discovery that i made a few months ago while writing an article for the italian wired i always keep my the saarz handy never i'm writing anything but\",\n",
       "    'score': -9.005767267524583},\n",
       "   182: {'text': \"i'd like to share with you a discovery that i made a few months ago while writing an article for the italian wired i always keep my the saarres hand never i'm writing anything but\",\n",
       "    'score': -9.010774913253098},\n",
       "   183: {'text': \"i'd like to share with you a discovery that i made a few months ago while writing an article for the italian wired i always keep my the sars hand nmever'm writing anything but\",\n",
       "    'score': -9.021942415381623},\n",
       "   184: {'text': \"i'd like to share with you a discovery that i made a few months ago while writing an article for the italian wired i always keep my the sarres handy never i'm writing anything but\",\n",
       "    'score': -9.023287281826217},\n",
       "   185: {'text': \"i'd like to share with you a discovery that i made a few months ago while writing an article for the italian wired i always keep m a the sars handi never i'm writing anything but\",\n",
       "    'score': -9.02815271669806},\n",
       "   186: {'text': \"i'd like to share with you a discovery that i made a few months ago while writing an article for the italian wired i always keep mit the sarz hand never i'm writing anything but\",\n",
       "    'score': -9.028637098252684},\n",
       "   187: {'text': \"i'd like to share with you a discovery that i made a few months ago while writing an article for the italian wired i always keep my the sars handy nmever'm writing anything but\",\n",
       "    'score': -9.065717666133576},\n",
       "   188: {'text': \"i'd like to share with you a discovery that i made a few months ago while writing an article for the italian wired i always keep mke the saars handy never i'm writing anything but\",\n",
       "    'score': -9.105018488543505},\n",
       "   189: {'text': \"i'd like to share with you a discovery that i made a few months ago while writing an article for the italian wired i always keep mith the saars hand never i'm writing anything but\",\n",
       "    'score': -9.107691386812233},\n",
       "   190: {'text': \"i'd like to share with you a discovery that i made a few months ago while writing an article for italian wired i always keep mit the saars hand never i'm writing anything but\",\n",
       "    'score': -9.107869931798147},\n",
       "   191: {'text': \"i'd like to share with you a discovery that i made a few months ago while writing an article for the italian wired i always keep myh the sars handi never i'm writing anything but\",\n",
       "    'score': -9.110617944251635},\n",
       "   192: {'text': \"i'd like to share with you a discovery that i made a few months ago while writing an article for the italian wired i always keep my the saars hand nmever'm writing anything but\",\n",
       "    'score': -9.122785683405183},\n",
       "   193: {'text': \"i'd like to share with you a discovery that i made a few months ago while writing an article for the italian wired i always keep my the sars hand never im writing anything but\",\n",
       "    'score': -9.136404884050389},\n",
       "   194: {'text': \"i'd like to share with you a discovery that i made a few months ago while writing an article for italian wired i always keep my the sars handi never i'm writing anything but\",\n",
       "    'score': -9.156040791341942},\n",
       "   195: {'text': \"i'd like to share with you a discovery that i made a few months ago while writing an article for the italian wired i always keep mith the sars handy never i'm writing anything but\",\n",
       "    'score': -9.156229016372336},\n",
       "   196: {'text': \"i'd like to share with you a discovery that i made a few months ago while writing an article for italian wired i always keep mit the sars handy never i'm writing anything but\",\n",
       "    'score': -9.15640756135825},\n",
       "   197: {'text': \"i'd like to share with you a discovery that i made a few months ago while writing an article for the italian wired i always keep my the saars handy nmever'm writing anything but\",\n",
       "    'score': -9.166560934157136},\n",
       "   198: {'text': \"i'd like to share with you a discovery that i made a few months ago while writing an article for the italian wired i always keep my the saarres handy never i'm writing anything but\",\n",
       "    'score': -9.177672717742812},\n",
       "   199: {'text': \"i'd like to share with you a discovery that i made a few months ago while writing an article for the italian wired i always keep my the sars handy never im writing anything but\",\n",
       "    'score': -9.180180134802338},\n",
       "   200: {'text': \"i'd like to share with you a discovery that i made a few months ago while writing an article for the italian wired i always keep mit the saarz hand never i'm writing anything but\",\n",
       "    'score': -9.212859247455771},\n",
       "   201: {'text': \"i'd like to share with you a discovery that i made a few months ago while writing an article for the italian wired i always keep my the sarz handi never i'm writing anything but\",\n",
       "    'score': -9.225004846012583},\n",
       "   202: {'text': \"i'd like to share with you a discovery that i made a few months ago while writing an article for the italian wired i always keep mit the sarz handy never i'm writing anything but\",\n",
       "    'score': -9.225371616028893},\n",
       "   203: {'text': \"i'd like to share with you a discovery that i made a few months ago while writing an article for the italian wired i always keep m a the saars handi never i'm writing anything but\",\n",
       "    'score': -9.228358816646157},\n",
       "   204: {'text': \"i'd like to share with you a discovery that i made a few months ago while writing an article for the italian wired i always keep mit the sarres hand never i'm writing anything but\",\n",
       "    'score': -9.230379261757408},\n",
       "   205: {'text': \"i'd like to share with you a discovery that i made a few months ago while writing an article for the italian wired i always keep mye the sars hand never i'm writing anything but\",\n",
       "    'score': -9.23094618586852},\n",
       "   206: {'text': \"i'd like to share with you a discovery that i made a few months ago while writing an article for the italian wired i always keep my the saars hand never im writing anything but\",\n",
       "    'score': -9.237248152073946},\n",
       "   207: {'text': \"i'd like to share with you a discovery that i made a few months ago while writing an article for the italian wired i always keep my the sars handever'm writing anything but\",\n",
       "    'score': -9.239412584449006},\n",
       "   208: {'text': \"i'd like to share with you a discovery that i made a few months ago while writing an article for the italian wired i always keep my the sars handle never i'm writing anything but\",\n",
       "    'score': -9.241484944005311},\n",
       "   209: {'text': \"i'd like to share with you a discovery that i made a few months ago while writing an article for the italian wired i always keep my the sars hand never i' writing anything but\",\n",
       "    'score': -9.256365645649161},\n",
       "   210: {'text': \"i'd like to share with you a discovery that i made a few months ago while writing an article for the italian wired i always keep mit the sars hand nmever'm writing anything but\",\n",
       "    'score': -9.259011150729965},\n",
       "   211: {'text': \"i'd like to share with you a discovery that i made a few months ago while writing an article for the italian wired i always keep myh the saars handi never i'm writing anything but\",\n",
       "    'score': -9.260782701870825},\n",
       "   212: {'text': \"i'd like to share with you a discovery that i made a few months ago while writing an article for italian wired i always keep my the saars handi never i'm writing anything but\",\n",
       "    'score': -9.278450530313073},\n",
       "   213: {'text': \"i'd like to share with you a discovery that i made a few months ago while writing an article for the italian wired i always keep mith the saars handy never i'm writing anything but\",\n",
       "    'score': -9.278638755343467},\n",
       "   214: {'text': \"i'd like to share with you a discovery that i made a few months ago while writing an article for italian wired i always keep mit the saars handy never i'm writing anything but\",\n",
       "    'score': -9.278817300329381},\n",
       "   215: {'text': \"i'd like to share with you a discovery that i made a few months ago while writing an article for the italian wired i always keep my the saars handy never im writing anything but\",\n",
       "    'score': -9.281023402825898},\n",
       "   216: {'text': \"i'd like to share with you a discovery that i made a few months ago while writing an article for the italian wired i always keep my the sars handyever'm writing anything but\",\n",
       "    'score': -9.283187835200959},\n",
       "   217: {'text': \"i'd like to share with you a discovery that i made a few months ago while writing an article for the italian wired i always keep myt the sars hand never i'm writing anything but\",\n",
       "    'score': -9.288115337924234},\n",
       "   218: {'text': \"i'd like to share with you a discovery that i made a few months ago while writing an article for the italian wired i always keep my the sars handy never i' writing anything but\",\n",
       "    'score': -9.30014089640111},\n",
       "   219: {'text': \"i'd like to share with you a discovery that i made a few months ago while writing an article for the italian wired i always keep mit the sars handy nmever'm writing anything but\",\n",
       "    'score': -9.302786401481917},\n",
       "   220: {'text': \"i'd like to share with you a discovery that i made a few months ago while writing an article for the italian wired i always keep my the sars handy i never'm writing anything but\",\n",
       "    'score': -9.302988560010647},\n",
       "   221: {'text': \"i'd like to share with you a discovery that i made a few months ago while writing an article for the italian wired i always keep my the sars handi nmever'm writing anything but\",\n",
       "    'score': -9.30345087543354},\n",
       "   222: {'text': \"i'd like to share with you a discovery that i made a few months ago while writing an article for the italian wired i always keep mke the sars handi never i'm writing anything but\",\n",
       "    'score': -9.306739160125455},\n",
       "   223: {'text': \"i'd like to share with you a discovery that i made a few months ago while writing an article for the italian wired i always keep mye the saars hand never i'm writing anything but\",\n",
       "    'score': -9.323519211553156},\n",
       "   224: {'text': \"i'd like to share with you a discovery that i made a few months ago while writing an article for the italian wired i always keep my the saarz handi never i'm writing anything but\",\n",
       "    'score': -9.325848114036143},\n",
       "   225: {'text': \"i'd like to share with you a discovery that i made a few months ago while writing an article for the italian wired i always keep mit the saarz handy never i'm writing anything but\",\n",
       "    'score': -9.326214884052451},\n",
       "   226: {'text': \"i'd like to share with you a discovery that i made a few months ago while writing an article for the italian wired i always keep mit the sarrs hand never'm writing anything but\",\n",
       "    'score': -9.326964512501505},\n",
       "   227: {'text': \"i'd like to share with you a discovery that i made a few months ago while writing an article for the italian wired i always keep mit the saarres hand never i'm writing anything but\",\n",
       "    'score': -9.331222529780966},\n",
       "   228: {'text': \"i'd like to share with you a discovery that i made a few months ago while writing an article for the italian wired i always keep my the saars handever'm writing anything but\",\n",
       "    'score': -9.340255852472566},\n",
       "   229: {'text': \"i'd like to share with you a discovery that i made a few months ago while writing an article for the italian wired i always keep my the saars handle never i'm writing anything but\",\n",
       "    'score': -9.34232821202887},\n",
       "   230: {'text': \"i'd like to share with you a discovery that i made a few months ago while writing an article for the italian wired i always keep my the sarres handi never i'm writing anything but\",\n",
       "    'score': -9.343368128337778},\n",
       "   231: {'text': \"i'd like to share with you a discovery that i made a few months ago while writing an article for the italian wired i always keep mit the sarres handy never i'm writing anything but\",\n",
       "    'score': -9.343734898354088},\n",
       "   232: {'text': \"i'd like to share with you a discovery that i made a few months ago while writing an article for the italian wired i always keep mye the sars handy never i'm writing anything but\",\n",
       "    'score': -9.3443018224652},\n",
       "   233: {'text': \"i'd like to share with you a discovery that i made a few months ago while writing an article for the italian wired i always keep my the saars hand never i' writing anything but\",\n",
       "    'score': -9.357208913672718},\n",
       "   234: {'text': \"i'd like to share with you a discovery that i made a few months ago while writing an article for the italian wired i always keep mit the saars hand nmever'm writing anything but\",\n",
       "    'score': -9.359854418753525},\n",
       "   235: {'text': \"i'd like to share with you a discovery that i made a few months ago while writing an article for the italian wired i always keep my the saars hand i never'm writing anything but\",\n",
       "    'score': -9.360056577282254},\n",
       "   236: {'text': \"i'd like to share with you a discovery that i made a few months ago while writing an article for the italian wired i always keep mit the sars hand never im writing anything but\",\n",
       "    'score': -9.373473619398727},\n",
       "   237: {'text': \"i'd like to share with you a discovery that i made a few months ago while writing an article for the italian wired i always keep mite the sars handi never'm writing anything but\",\n",
       "    'score': -9.376170119264511},\n",
       "   238: {'text': \"i'd like to share with you a discovery that i made a few months ago while writing an article for the italian wired i always keep myt the saars hand never i'm writing anything but\",\n",
       "    'score': -9.38068836360887},\n",
       "   239: {'text': \"i'd like to share with you a discovery that i made a few months ago while writing an article for the italian wired i always keep my theisaars handi never'm writing anything but\",\n",
       "    'score': -9.38155707827039},\n",
       "   240: {'text': \"i'd like to share with you a discovery that i made a few months ago while writing an article for the italian wired i always keep mit theisaars handy never'm writing anything but\",\n",
       "    'score': -9.381923848286696},\n",
       "   241: {'text': \"i'd like to share with you a discovery that i made a few months ago while writing an article for the italian wired i always keep my the saars handyever'm writing anything but\",\n",
       "    'score': -9.384031103224519},\n",
       "   242: {'text': \"i'd like to share with you a discovery that i made a few months ago while writing an article for the italian wired i always keep met the sars hand never'm writing anything but\",\n",
       "    'score': -9.384082533167987},\n",
       "   243: {'text': \"i'd like to share with you a discovery that i made a few months ago while writing an article for the italian wired i always keep my theisars hand never i'm writing anything but\",\n",
       "    'score': -9.38745855061366},\n",
       "   244: {'text': \"i'd like to share with you a discovery that i made a few months ago while writing an article for the italian wired i always keep my the saors handy never'm writing anything but\",\n",
       "    'score': -9.393149868754818},\n",
       "   245: {'text': \"i'd like to share with you a discovery that i made a few months ago while writing an article for the italian wired i always keep mke the saars handi never i'm writing anything but\",\n",
       "    'score': -9.399312185810091},\n",
       "   246: {'text': \"i'd like to share with you a discovery that i made a few months ago while writing an article for the italian wired i always keep my the saars handy never i' writing anything but\",\n",
       "    'score': -9.40098416442467},\n",
       "   247: {'text': \"i'd like to share with you a discovery that i made a few months ago while writing an article for the italian wired i always keep myt the sars handy never i'm writing anything but\",\n",
       "    'score': -9.401470974520914},\n",
       "   248: {'text': \"i'd like to share with you a discovery that i made a few months ago while writing an article for the italian wired i always keep mit the saars handy nmever'm writing anything but\",\n",
       "    'score': -9.403629669505474},\n",
       "   249: {'text': \"i'd like to share with you a discovery that i made a few months ago while writing an article for the italian wired i always keep my the saars handy i never'm writing anything but\",\n",
       "    'score': -9.403831828034207},\n",
       "   250: {'text': \"i'd like to share with you a discovery that i made a few months ago while writing an article for the italian wired i always keep my the saars handi nmever'm writing anything but\",\n",
       "    'score': -9.4042941434571},\n",
       "   251: {'text': \"i'd like to share with you a discovery that i made a few months ago while writing an article for the italian wired i always keep mit the sars handy never im writing anything but\",\n",
       "    'score': -9.41724887015068},\n",
       "   252: {'text': \"i'd like to share with you a discovery that i made a few months ago while writing an article for the italian wired i always keep my the sars handi never im writing anything but\",\n",
       "    'score': -9.417913344102303},\n",
       "   253: {'text': \"i'd like to share with you a discovery that i made a few months ago while writing an article for the italian wired i always keep mit the saarrs hand never'm writing anything but\",\n",
       "    'score': -9.419537538186141},\n",
       "   254: {'text': \"i'd like to share with you a discovery that i made a few months ago while writing an article for the italian wired i always keep mith the sars handi never i'm writing anything but\",\n",
       "    'score': -9.422767694990862},\n",
       "   255: {'text': \"i'd like to share with you a discovery that i made a few months ago while writing an article for italian wired i always keep mit the sars handi never i'm writing anything but\",\n",
       "    'score': -9.422946239976776},\n",
       "   256: {'text': \"i'd like to share with you a discovery that i made a few months ago while writing an article for the italian wired i always keep my the sars hand wh never'm writing anything but\",\n",
       "    'score': -9.423187204743577},\n",
       "   257: {'text': \"i'd like to share with you a discovery that i made a few months ago while writing an article for the italian wired i always keep mit the sors hand never'm writing anything but\",\n",
       "    'score': -9.42428994182184},\n",
       "   258: {'text': \"i'd like to share with you a discovery that i made a few months ago while writing an article for the italian wired i always keep mitt the sars handi never'm writing anything but\",\n",
       "    'score': -9.43537100215806},\n",
       "   259: {'text': \"i'd like to share with you a discovery that i made a few months ago while writing an article for the italian wired i always keep mye the saars handy never i'm writing anything but\",\n",
       "    'score': -9.436874848149836},\n",
       "   260: {'text': \"i'd like to share with you a discovery that i made a few months ago while writing an article for the italian wired i always keep my the sarrs handi never'm writing anything but\",\n",
       "    'score': -9.439953379081878},\n",
       "   261: {'text': \"i'd like to share with you a discovery that i made a few months ago while writing an article for the italian wired i always keep mit the sarrs handy never'm writing anything but\",\n",
       "    'score': -9.440320149098184},\n",
       "   262: {'text': \"i'd like to share with you a discovery that i made a few months ago while writing an article for the italian wired i always keep my the saarres handi never i'm writing anything but\",\n",
       "    'score': -9.444211396361338},\n",
       "   263: {'text': \"i'd like to share with you a discovery that i made a few months ago while writing an article for the italian wired i always keep mit the saarres handy never i'm writing anything but\",\n",
       "    'score': -9.444578166377646},\n",
       "   264: {'text': \"i'd like to share with you a discovery that i made a few months ago while writing an article for the italian wired i always keep my the sars handy wh never'm writing anything but\",\n",
       "    'score': -9.46696245549553},\n",
       "   265: {'text': \"i'd like to share with you a discovery that i made a few months ago while writing an article for the italian wired i always keep m ake the sars hand never'm writing anything but\",\n",
       "    'score': -9.468227095650821},\n",
       "   266: {'text': \"i'd like to share with you a discovery that i made a few months ago while writing an article for the italian wired i always keep mite the saars handi never'm writing anything but\",\n",
       "    'score': -9.468743144949148},\n",
       "   267: {'text': \"i'd like to share with you a discovery that i made a few months ago while writing an article for the italian wired i always keep mit the saars hand never im writing anything but\",\n",
       "    'score': -9.474316887422287},\n",
       "   268: {'text': \"i'd like to share with you a discovery that i made a few months ago while writing an article for the italian wired i always keep mit the sars handever'm writing anything but\",\n",
       "    'score': -9.476481319797347},\n",
       "   269: {'text': \"i'd like to share with you a discovery that i made a few months ago while writing an article for the italian wired i always keep met the saars hand never'm writing anything but\",\n",
       "    'score': -9.476655558852624},\n",
       "   270: {'text': \"i'd like to share with you a discovery that i made a few months ago while writing an article for the italian wired i always keep mit the sars hand never i' writing anything but\",\n",
       "    'score': -9.493434380997499},\n",
       "   271: {'text': \"i'd like to share with you a discovery that i made a few months ago while writing an article for the italian wired i always keep mit the sars hand i never'm writing anything but\",\n",
       "    'score': -9.496282044607035},\n",
       "   272: {'text': \"i'd like to share with you a discovery that i made a few months ago while writing an article for the italian wired i always keep met the sars handy never'm writing anything but\",\n",
       "    'score': -9.497438169764667},\n",
       "   273: {'text': \"i'd like to share with you a discovery that i made a few months ago while writing an article for the italian wired i always keep mit the saors hand never'm writing anything but\",\n",
       "    'score': -9.516862967506476},\n",
       "   274: {'text': \"i'd like to share with you a discovery that i made a few months ago while writing an article for the italian wired i always keep mit the saars handy never im writing anything but\",\n",
       "    'score': -9.51809213817424},\n",
       "   275: {'text': \"i'd like to share with you a discovery that i made a few months ago while writing an article for italian wired i always keep myke the sars hand never'm writing anything but\",\n",
       "    'score': -9.518318809317737},\n",
       "   276: {'text': \"i'd like to share with you a discovery that i made a few months ago while writing an article for the italian wired i always keep my the saars handi never im writing anything but\",\n",
       "    'score': -9.518756612125863},\n",
       "   277: {'text': \"i'd like to share with you a discovery that i made a few months ago while writing an article for the italian wired i always keep mit the sars handyever'm writing anything but\",\n",
       "    'score': -9.5202565705493},\n",
       "   278: {'text': \"i'd like to share with you a discovery that i made a few months ago while writing an article for the italian wired i always keep my the sars handiever'm writing anything but\",\n",
       "    'score': -9.520921044500923},\n",
       "   279: {'text': \"i'd like to share with you a discovery that i made a few months ago while writing an article for the italian wired i always keep my the saars hand wh never'm writing anything but\",\n",
       "    'score': -9.524030472767137},\n",
       "   280: {'text': \"i'd like to share with you a discovery that i made a few months ago while writing an article for the italian wired i always keep mit theisars handi never'm writing anything but\",\n",
       "    'score': -9.526052787934091},\n",
       "   281: {'text': \"i'd like to share with you a discovery that i made a few months ago while writing an article for the italian wired i always keep mitt the saars handi never'm writing anything but\",\n",
       "    'score': -9.527944027842697},\n",
       "   282: {'text': \"i'd like to share with you a discovery that i made a few months ago while writing an article for the italian wired i always keep my the saarrs handi never'm writing anything but\",\n",
       "    'score': -9.532526404766514},\n",
       "   283: {'text': \"i'd like to share with you a discovery that i made a few months ago while writing an article for the italian wired i always keep mit the saarrs handy never'm writing anything but\",\n",
       "    'score': -9.53289317478282},\n",
       "   284: {'text': \"i'd like to share with you a discovery that i made a few months ago while writing an article for the italian wired i always keep mit the sars handy never i' writing anything but\",\n",
       "    'score': -9.537209631749452},\n",
       "   285: {'text': \"i'd like to share with you a discovery that i made a few months ago while writing an article for the italian wired i always keep my the sars handi never i' writing anything but\",\n",
       "    'score': -9.537874105701075},\n",
       "   286: {'text': \"i'd like to share with you a discovery that i made a few months ago while writing an article for the italian wired i always keep my the sars hand neverm writing anything but\",\n",
       "    'score': -9.570614420419119},\n",
       "   287: {'text': \"i'd like to share with you a discovery that i made a few months ago while writing an article for the italian wired i always keep myke the sars hand never' writing anything but\",\n",
       "    'score': -9.587816524460264},\n",
       "   288: {'text': \"i'd like to share with you a discovery that i made a few months ago while writing an article for the italian wired i always keep mit the saars hand never i' writing anything but\",\n",
       "    'score': -9.594277649021059},\n",
       "   289: {'text': \"i'd like to share with you a discovery that i made a few months ago while writing an article for the italian wired i always keep mit the sarz handi never i'm writing anything but\",\n",
       "    'score': -9.611694071764694},\n",
       "   290: {'text': \"i'd like to share with you a discovery that i made a few months ago while writing an article for the italian wired i always keep my the sars handy neverm writing anything but\",\n",
       "    'score': -9.614389671171068},\n",
       "   291: {'text': \"i'd like to share with you a discovery that i made a few months ago while writing an article for the italian wired i always keep mite the sars hand never i'm writing anything but\",\n",
       "    'score': -9.624265107696187},\n",
       "   292: {'text': \"i'd like to share with you a discovery that i made a few months ago while writing an article for the italian wired i always keep mit the sars handle never i'm writing anything but\",\n",
       "    'score': -9.628174169757422},\n",
       "   293: {'text': \"i'd like to share with you a discovery that i made a few months ago while writing an article for the italian wired i always keep my theisaars hand never i'm writing anything but\",\n",
       "    'score': -9.629652066702064},\n",
       "   294: {'text': \"i'd like to share with you a discovery that i made a few months ago while writing an article for the italian wired i always keep myke the sars handy never' writing anything but\",\n",
       "    'score': -9.631591775212215},\n",
       "   295: {'text': \"i'd like to share with you a discovery that i made a few months ago while writing an article for the italian wired i always keep mit the saars handy never i' writing anything but\",\n",
       "    'score': -9.638052899773012},\n",
       "   296: {'text': \"i'd like to share with you a discovery that i made a few months ago while writing an article for the italian wired i always keep my the saars handi never i' writing anything but\",\n",
       "    'score': -9.638717373724635},\n",
       "   297: {'text': \"i'd like to share with you a discovery that i made a few months ago while writing an article for the italian wired i always keep myt the saars handy never i'm writing anything but\",\n",
       "    'score': -9.643664490609321},\n",
       "   298: {'text': \"i'd like to share with you a discovery that i made a few months ago while writing an article for the italian wired i always keep my theisars handy never i'm writing anything but\",\n",
       "    'score': -9.650434677614108},\n",
       "   299: {'text': \"i'd like to share with you a discovery that i made a few months ago while writing an article for the italian wired i always keep mit the sars handi never im writing anything but\",\n",
       "    'score': -9.654982079450644},\n",
       "   300: {'text': \"i'd like to share with you a discovery that i made a few months ago while writing an article for the italian wired i always keep mith the saars handi never i'm writing anything but\",\n",
       "    'score': -9.66496121107927},\n",
       "   301: {'text': \"i'd like to share with you a discovery that i made a few months ago while writing an article for italian wired i always keep mit the saars handi never i'm writing anything but\",\n",
       "    'score': -9.665139756065184},\n",
       "   302: {'text': \"i'd like to share with you a discovery that i made a few months ago while writing an article for the italian wired i always keep my the saars hand neverm writing anything but\",\n",
       "    'score': -9.671457688442676},\n",
       "   303: {'text': \"i'd like to share with you a discovery that i made a few months ago while writing an article for the italian wired i always keep mitt the sars hand never i'm writing anything but\",\n",
       "    'score': -9.683465990589736},\n",
       "   304: {'text': \"i'd like to share with you a discovery that i made a few months ago while writing an article for the italian wired i always keep my the sarrs hand never i'm writing anything but\",\n",
       "    'score': -9.688048367513552},\n",
       "   305: {'text': \"i'd like to share with you a discovery that i made a few months ago while writing an article for the italian wired i always keep myke the saars hand never' writing anything but\",\n",
       "    'score': -9.688659792483824},\n",
       "   306: {'text': \"i'd like to share with you a discovery that i made a few months ago while writing an article for the italian wired i always keep mit the saarz handi never i'm writing anything but\",\n",
       "    'score': -9.712537339788252},\n",
       "   307: {'text': \"i'd like to share with you a discovery that i made a few months ago while writing an article for the italian wired i always keep my the saars handy neverm writing anything but\",\n",
       "    'score': -9.715232939194628},\n",
       "   308: {'text': \"i'd like to share with you a discovery that i made a few months ago while writing an article for the italian wired i always keep mite the saars hand never i'm writing anything but\",\n",
       "    'score': -9.716838133380824},\n",
       "   309: {'text': \"i'd like to share with you a discovery that i made a few months ago while writing an article for the italian wired i always keep mit the saars handle never i'm writing anything but\",\n",
       "    'score': -9.72901743778098},\n",
       "   310: {'text': \"i'd like to share with you a discovery that i made a few months ago while writing an article for the italian wired i always keep mit the sarres handi never i'm writing anything but\",\n",
       "    'score': -9.730057354089888},\n",
       "   311: {'text': \"i'd like to share with you a discovery that i made a few months ago while writing an article for the italian wired i always keep mye the sars handi never i'm writing anything but\",\n",
       "    'score': -9.730624278200999},\n",
       "   312: {'text': \"i'd like to share with you a discovery that i made a few months ago while writing an article for the italian wired i always keep myke the saars handy never' writing anything but\",\n",
       "    'score': -9.732435043235775},\n",
       "   313: {'text': \"i'd like to share with you a discovery that i made a few months ago while writing an article for the italian wired i always keep mite the sars handy never i'm writing anything but\",\n",
       "    'score': -9.737620744292867},\n",
       "   314: {'text': \"i'd like to share with you a discovery that i made a few months ago while writing an article for the italian wired i always keep my theisaars handy never i'm writing anything but\",\n",
       "    'score': -9.743007703298744},\n",
       "   315: {'text': \"i'd like to share with you a discovery that i made a few months ago while writing an article for the italian wired i always keep mit theisars hand never i'm writing anything but\",\n",
       "    'score': -9.77414777636577},\n",
       "   316: {'text': \"i'd like to share with you a discovery that i made a few months ago while writing an article for the italian wired i always keep mit the sars handi never i' writing anything but\",\n",
       "    'score': -9.774942841049416},\n",
       "   317: {'text': \"i'd like to share with you a discovery that i made a few months ago while writing an article for the italian wired i always keep mitt the saars hand never i'm writing anything but\",\n",
       "    'score': -9.776039016274373},\n",
       "   318: {'text': \"i'd like to share with you a discovery that i made a few months ago while writing an article for the italian wired i always keep my the saarrs hand never i'm writing anything but\",\n",
       "    'score': -9.78062139319819},\n",
       "   319: {'text': \"i'd like to share with you a discovery that i made a few months ago while writing an article for the italian wired i always keep my the sors hand never i'm writing anything but\",\n",
       "    'score': -9.78537379683389},\n",
       "   320: {'text': \"i'd like to share with you a discovery that i made a few months ago while writing an article for the italian wired i always keep myt the sars handi never i'm writing anything but\",\n",
       "    'score': -9.787793430256714},\n",
       "   321: {'text': \"i'd like to share with you a discovery that i made a few months ago while writing an article for the italian wired i always keep mitt the sars handy never i'm writing anything but\",\n",
       "    'score': -9.796821627186416},\n",
       "   322: {'text': \"i'd like to share with you a discovery that i made a few months ago while writing an article for the italian wired i always keep my the sarrs handy never i'm writing anything but\",\n",
       "    'score': -9.801404004110234},\n",
       "   323: {'text': \"i'd like to share with you a discovery that i made a few months ago while writing an article for the italian wired i always keep mit the sars hand neverm writing anything but\",\n",
       "    'score': -9.807683155767457},\n",
       "   324: {'text': \"i'd like to share with you a discovery that i made a few months ago while writing an article for the italian wired i always keep mye the saars handi never i'm writing anything but\",\n",
       "    'score': -9.823197303885637},\n",
       "   325: {'text': \"i'd like to share with you a discovery that i made a few months ago while writing an article for the italian wired i always keep mite the saars handy never i'm writing anything but\",\n",
       "    'score': -9.830193769977503},\n",
       "   326: {'text': \"i'd like to share with you a discovery that i made a few months ago while writing an article for the italian wired i always keep mit the saarres handi never i'm writing anything but\",\n",
       "    'score': -9.830900622113447},\n",
       "   327: {'text': \"i'd like to share with you a discovery that i made a few months ago while writing an article for the italian wired i always keep mitke the sars hand never' writing anything but\",\n",
       "    'score': -9.851454939921593},\n",
       "   328: {'text': \"i'd like to share with you a discovery that i made a few months ago while writing an article for the italian wired i always keep mit the sars handy neverm writing anything but\",\n",
       "    'score': -9.85145840651941},\n",
       "   329: {'text': \"i'd like to share with you a discovery that i made a few months ago while writing an article for the italian wired i always keep my the sars handi neverm writing anything but\",\n",
       "    'score': -9.852122880471033},\n",
       "   330: {'text': \"i'd like to share with you a discovery that i made a few months ago while writing an article for the italian wired i always keep my the sars hand i never i'm writing anything but\",\n",
       "    'score': -9.857365899619085},\n",
       "   331: {'text': \"i'd like to share with you a discovery that i made a few months ago while writing an article for the italian wired i always keep mit theisaars hand never i'm writing anything but\",\n",
       "    'score': -9.866720802050406},\n",
       "   332: {'text': \"i'd like to share with you a discovery that i made a few months ago while writing an article for the italian wired i always keep my the saors hand never i'm writing anything but\",\n",
       "    'score': -9.877946822518526},\n",
       "   333: {'text': \"i'd like to share with you a discovery that i made a few months ago while writing an article for the italian wired i always keep myt the saars handi never i'm writing anything but\",\n",
       "    'score': -9.88036645594135},\n",
       "   334: {'text': \"i'd like to share with you a discovery that i made a few months ago while writing an article for the italian wired i always keep my theisars handi never i'm writing anything but\",\n",
       "    'score': -9.88713664294614},\n",
       "   335: {'text': \"i'd like to share with you a discovery that i made a few months ago while writing an article for the italian wired i always keep mit theisars handy never i'm writing anything but\",\n",
       "    'score': -9.887503412962449},\n",
       "   336: {'text': \"i'd like to share with you a discovery that i made a few months ago while writing an article for the italian wired i always keep mitt the saars handy never i'm writing anything but\",\n",
       "    'score': -9.889394652871053},\n",
       "   337: {'text': \"i'd like to share with you a discovery that i made a few months ago while writing an article for the italian wired i always keep mit the saars handi never i' writing anything but\",\n",
       "    'score': -9.893357251701355},\n",
       "   338: {'text': \"i'd like to share with you a discovery that i made a few months ago while writing an article for the italian wired i always keep my the saarrs handy never i'm writing anything but\",\n",
       "    'score': -9.89397702979487},\n",
       "   339: {'text': \"i'd like to share with you a discovery that i made a few months ago while writing an article for the italian wired i always keep my the sors handy never i'm writing anything but\",\n",
       "    'score': -9.898729433430569},\n",
       "   340: {'text': \"i'd like to share with you a discovery that i made a few months ago while writing an article for the italian wired i always keep mit the saars hand neverm writing anything but\",\n",
       "    'score': -9.908526423791017}}],\n",
       " 'meta_data': {'unique_id': 'b70d8c68-24de-4b34-94d9-5f47a968816c',\n",
       "  'timings': {'segment_start': 17.82, 'segment_end': 28.81},\n",
       "  'recording_id': 'AimeeMullins_2009P',\n",
       "  'utterance_id': 'AimeeMullins_2009P-1',\n",
       "  'speaker': 'AimeeMullins_2009P'},\n",
       " 'speaker_ids': ['AimeeMullins_2009P'],\n",
       " 'targets': [\"i'd like to share with you a discovery that i made a few months ago while writing an article for italian wired i always keep my thesaurus handy whenever i'm writing anything but\"],\n",
       " 'batch_num': 0}"
      ]
     },
     "execution_count": 41,
     "metadata": {},
     "output_type": "execute_result"
    }
   ],
   "source": [
    "a['AimeeMullins_2009P'][0]"
   ]
  },
  {
   "cell_type": "code",
   "execution_count": 4,
   "metadata": {},
   "outputs": [],
   "source": [
    "meetings = niiddl.prepare_partition(corpus['train'])"
   ]
  },
  {
   "cell_type": "code",
   "execution_count": 5,
   "metadata": {},
   "outputs": [],
   "source": [
    "import lhotse\n",
    "import non_iid_dataloader as niiddl\n",
    "rl(niiddl),rl(lhotse)\n",
    "from lhotse.dataset.collation import collate_audio\n",
    "from lhotse.dataset.cut_transforms import plain_concat, individual_speaker_concat\n",
    "niiddl.plain_concat = plain_concat\n",
    "niiddl.individual_speaker_concat = individual_speaker_concat\n",
    "\n",
    "samples = niiddl.prepare_samples(meetings, max_allowed_utterance_gap=8.0, max_duration=0)\n"
   ]
  },
  {
   "cell_type": "code",
   "execution_count": 6,
   "metadata": {},
   "outputs": [],
   "source": [
    "rl(lm_utils)\n",
    "model = lm_utils.load_model(lm_utils.load_config('./lm/decoder_test.yaml'), tools.load_tokenizer(), max_len=1862)"
   ]
  },
  {
   "cell_type": "code",
   "execution_count": 23,
   "metadata": {},
   "outputs": [
    {
     "data": {
      "text/plain": [
       "transformer_lm(\n",
       "  (layers): transformer(\n",
       "    (positional_bias): DynamicPositionBias(\n",
       "      (mlp): ModuleList(\n",
       "        (0): Sequential(\n",
       "          (0): Linear(in_features=1, out_features=64, bias=True)\n",
       "          (1): Identity()\n",
       "          (2): ReLU()\n",
       "        )\n",
       "        (1): Sequential(\n",
       "          (0): Linear(in_features=64, out_features=64, bias=True)\n",
       "          (1): Identity()\n",
       "          (2): ReLU()\n",
       "        )\n",
       "        (2): Linear(in_features=64, out_features=8, bias=True)\n",
       "      )\n",
       "    )\n",
       "    (layers): ModuleList(\n",
       "      (0): ModuleList(\n",
       "        (0): PreNorm(\n",
       "          (norm): LayerNorm((256,), eps=1e-05, elementwise_affine=True)\n",
       "          (fn): MyopicAttention(\n",
       "            (qkv_proj): Linear(in_features=256, out_features=768, bias=False)\n",
       "            (out_proj): Linear(in_features=256, out_features=256, bias=False)\n",
       "          )\n",
       "        )\n",
       "        (1): PreNorm(\n",
       "          (norm): LayerNorm((256,), eps=1e-05, elementwise_affine=True)\n",
       "          (fn): Sequential(\n",
       "            (0): GLU(\n",
       "              (act): SiLU()\n",
       "              (proj): Linear(in_features=256, out_features=2048, bias=True)\n",
       "            )\n",
       "            (1): Dropout(p=0.1, inplace=False)\n",
       "            (2): Linear(in_features=1024, out_features=256, bias=True)\n",
       "          )\n",
       "        )\n",
       "      )\n",
       "      (1): ModuleList(\n",
       "        (0): PreNorm(\n",
       "          (norm): LayerNorm((256,), eps=1e-05, elementwise_affine=True)\n",
       "          (fn): MyopicAttention(\n",
       "            (qkv_proj): Linear(in_features=256, out_features=768, bias=False)\n",
       "            (out_proj): Linear(in_features=256, out_features=256, bias=False)\n",
       "          )\n",
       "        )\n",
       "        (1): PreNorm(\n",
       "          (norm): LayerNorm((256,), eps=1e-05, elementwise_affine=True)\n",
       "          (fn): Sequential(\n",
       "            (0): GLU(\n",
       "              (act): SiLU()\n",
       "              (proj): Linear(in_features=256, out_features=2048, bias=True)\n",
       "            )\n",
       "            (1): Dropout(p=0.1, inplace=False)\n",
       "            (2): Linear(in_features=1024, out_features=256, bias=True)\n",
       "          )\n",
       "        )\n",
       "      )\n",
       "      (2): ModuleList(\n",
       "        (0): PreNorm(\n",
       "          (norm): LayerNorm((256,), eps=1e-05, elementwise_affine=True)\n",
       "          (fn): MyopicAttention(\n",
       "            (qkv_proj): Linear(in_features=256, out_features=768, bias=False)\n",
       "            (out_proj): Linear(in_features=256, out_features=256, bias=False)\n",
       "          )\n",
       "        )\n",
       "        (1): PreNorm(\n",
       "          (norm): LayerNorm((256,), eps=1e-05, elementwise_affine=True)\n",
       "          (fn): Sequential(\n",
       "            (0): GLU(\n",
       "              (act): SiLU()\n",
       "              (proj): Linear(in_features=256, out_features=2048, bias=True)\n",
       "            )\n",
       "            (1): Dropout(p=0.1, inplace=False)\n",
       "            (2): Linear(in_features=1024, out_features=256, bias=True)\n",
       "          )\n",
       "        )\n",
       "      )\n",
       "      (3): ModuleList(\n",
       "        (0): PreNorm(\n",
       "          (norm): LayerNorm((256,), eps=1e-05, elementwise_affine=True)\n",
       "          (fn): MyopicAttention(\n",
       "            (qkv_proj): Linear(in_features=256, out_features=768, bias=False)\n",
       "            (out_proj): Linear(in_features=256, out_features=256, bias=False)\n",
       "          )\n",
       "        )\n",
       "        (1): PreNorm(\n",
       "          (norm): LayerNorm((256,), eps=1e-05, elementwise_affine=True)\n",
       "          (fn): Sequential(\n",
       "            (0): GLU(\n",
       "              (act): SiLU()\n",
       "              (proj): Linear(in_features=256, out_features=2048, bias=True)\n",
       "            )\n",
       "            (1): Dropout(p=0.1, inplace=False)\n",
       "            (2): Linear(in_features=1024, out_features=256, bias=True)\n",
       "          )\n",
       "        )\n",
       "      )\n",
       "      (4): ModuleList(\n",
       "        (0): PreNorm(\n",
       "          (norm): LayerNorm((256,), eps=1e-05, elementwise_affine=True)\n",
       "          (fn): MyopicAttention(\n",
       "            (qkv_proj): Linear(in_features=256, out_features=768, bias=False)\n",
       "            (out_proj): Linear(in_features=256, out_features=256, bias=False)\n",
       "          )\n",
       "        )\n",
       "        (1): PreNorm(\n",
       "          (norm): LayerNorm((256,), eps=1e-05, elementwise_affine=True)\n",
       "          (fn): Sequential(\n",
       "            (0): GLU(\n",
       "              (act): SiLU()\n",
       "              (proj): Linear(in_features=256, out_features=2048, bias=True)\n",
       "            )\n",
       "            (1): Dropout(p=0.1, inplace=False)\n",
       "            (2): Linear(in_features=1024, out_features=256, bias=True)\n",
       "          )\n",
       "        )\n",
       "      )\n",
       "      (5): ModuleList(\n",
       "        (0): PreNorm(\n",
       "          (norm): LayerNorm((256,), eps=1e-05, elementwise_affine=True)\n",
       "          (fn): MyopicAttention(\n",
       "            (qkv_proj): Linear(in_features=256, out_features=768, bias=False)\n",
       "            (out_proj): Linear(in_features=256, out_features=256, bias=False)\n",
       "          )\n",
       "        )\n",
       "        (1): PreNorm(\n",
       "          (norm): LayerNorm((256,), eps=1e-05, elementwise_affine=True)\n",
       "          (fn): Sequential(\n",
       "            (0): GLU(\n",
       "              (act): SiLU()\n",
       "              (proj): Linear(in_features=256, out_features=2048, bias=True)\n",
       "            )\n",
       "            (1): Dropout(p=0.1, inplace=False)\n",
       "            (2): Linear(in_features=1024, out_features=256, bias=True)\n",
       "          )\n",
       "        )\n",
       "      )\n",
       "      (6): ModuleList(\n",
       "        (0): PreNorm(\n",
       "          (norm): LayerNorm((256,), eps=1e-05, elementwise_affine=True)\n",
       "          (fn): MyopicAttention(\n",
       "            (qkv_proj): Linear(in_features=256, out_features=768, bias=False)\n",
       "            (out_proj): Linear(in_features=256, out_features=256, bias=False)\n",
       "          )\n",
       "        )\n",
       "        (1): PreNorm(\n",
       "          (norm): LayerNorm((256,), eps=1e-05, elementwise_affine=True)\n",
       "          (fn): Sequential(\n",
       "            (0): GLU(\n",
       "              (act): SiLU()\n",
       "              (proj): Linear(in_features=256, out_features=2048, bias=True)\n",
       "            )\n",
       "            (1): Dropout(p=0.1, inplace=False)\n",
       "            (2): Linear(in_features=1024, out_features=256, bias=True)\n",
       "          )\n",
       "        )\n",
       "      )\n",
       "      (7): ModuleList(\n",
       "        (0): PreNorm(\n",
       "          (norm): LayerNorm((256,), eps=1e-05, elementwise_affine=True)\n",
       "          (fn): MyopicAttention(\n",
       "            (qkv_proj): Linear(in_features=256, out_features=768, bias=False)\n",
       "            (out_proj): Linear(in_features=256, out_features=256, bias=False)\n",
       "          )\n",
       "        )\n",
       "        (1): PreNorm(\n",
       "          (norm): LayerNorm((256,), eps=1e-05, elementwise_affine=True)\n",
       "          (fn): Sequential(\n",
       "            (0): GLU(\n",
       "              (act): SiLU()\n",
       "              (proj): Linear(in_features=256, out_features=2048, bias=True)\n",
       "            )\n",
       "            (1): Dropout(p=0.1, inplace=False)\n",
       "            (2): Linear(in_features=1024, out_features=256, bias=True)\n",
       "          )\n",
       "        )\n",
       "      )\n",
       "      (8): ModuleList(\n",
       "        (0): PreNorm(\n",
       "          (norm): LayerNorm((256,), eps=1e-05, elementwise_affine=True)\n",
       "          (fn): MyopicAttention(\n",
       "            (qkv_proj): Linear(in_features=256, out_features=768, bias=False)\n",
       "            (out_proj): Linear(in_features=256, out_features=256, bias=False)\n",
       "          )\n",
       "        )\n",
       "        (1): PreNorm(\n",
       "          (norm): LayerNorm((256,), eps=1e-05, elementwise_affine=True)\n",
       "          (fn): Sequential(\n",
       "            (0): GLU(\n",
       "              (act): SiLU()\n",
       "              (proj): Linear(in_features=256, out_features=2048, bias=True)\n",
       "            )\n",
       "            (1): Dropout(p=0.1, inplace=False)\n",
       "            (2): Linear(in_features=1024, out_features=256, bias=True)\n",
       "          )\n",
       "        )\n",
       "      )\n",
       "      (9): ModuleList(\n",
       "        (0): PreNorm(\n",
       "          (norm): LayerNorm((256,), eps=1e-05, elementwise_affine=True)\n",
       "          (fn): MyopicAttention(\n",
       "            (qkv_proj): Linear(in_features=256, out_features=768, bias=False)\n",
       "            (out_proj): Linear(in_features=256, out_features=256, bias=False)\n",
       "          )\n",
       "        )\n",
       "        (1): PreNorm(\n",
       "          (norm): LayerNorm((256,), eps=1e-05, elementwise_affine=True)\n",
       "          (fn): Sequential(\n",
       "            (0): GLU(\n",
       "              (act): SiLU()\n",
       "              (proj): Linear(in_features=256, out_features=2048, bias=True)\n",
       "            )\n",
       "            (1): Dropout(p=0.1, inplace=False)\n",
       "            (2): Linear(in_features=1024, out_features=256, bias=True)\n",
       "          )\n",
       "        )\n",
       "      )\n",
       "      (10): ModuleList(\n",
       "        (0): PreNorm(\n",
       "          (norm): LayerNorm((256,), eps=1e-05, elementwise_affine=True)\n",
       "          (fn): MyopicAttention(\n",
       "            (qkv_proj): Linear(in_features=256, out_features=768, bias=False)\n",
       "            (out_proj): Linear(in_features=256, out_features=256, bias=False)\n",
       "          )\n",
       "        )\n",
       "        (1): PreNorm(\n",
       "          (norm): LayerNorm((256,), eps=1e-05, elementwise_affine=True)\n",
       "          (fn): Sequential(\n",
       "            (0): GLU(\n",
       "              (act): SiLU()\n",
       "              (proj): Linear(in_features=256, out_features=2048, bias=True)\n",
       "            )\n",
       "            (1): Dropout(p=0.1, inplace=False)\n",
       "            (2): Linear(in_features=1024, out_features=256, bias=True)\n",
       "          )\n",
       "        )\n",
       "      )\n",
       "      (11): ModuleList(\n",
       "        (0): PreNorm(\n",
       "          (norm): LayerNorm((256,), eps=1e-05, elementwise_affine=True)\n",
       "          (fn): MyopicAttention(\n",
       "            (qkv_proj): Linear(in_features=256, out_features=768, bias=False)\n",
       "            (out_proj): Linear(in_features=256, out_features=256, bias=False)\n",
       "          )\n",
       "        )\n",
       "        (1): PreNorm(\n",
       "          (norm): LayerNorm((256,), eps=1e-05, elementwise_affine=True)\n",
       "          (fn): Sequential(\n",
       "            (0): GLU(\n",
       "              (act): SiLU()\n",
       "              (proj): Linear(in_features=256, out_features=2048, bias=True)\n",
       "            )\n",
       "            (1): Dropout(p=0.1, inplace=False)\n",
       "            (2): Linear(in_features=1024, out_features=256, bias=True)\n",
       "          )\n",
       "        )\n",
       "      )\n",
       "    )\n",
       "  )\n",
       "  (to_logits): Linear(in_features=256, out_features=128, bias=True)\n",
       "  (embedding): Embedding(128, 256)\n",
       "  (post_norm): LayerNorm((256,), eps=1e-05, elementwise_affine=True)\n",
       ")"
      ]
     },
     "execution_count": 23,
     "metadata": {},
     "output_type": "execute_result"
    }
   ],
   "source": [
    "model.to('cpu')"
   ]
  },
  {
   "cell_type": "code",
   "execution_count": 7,
   "metadata": {},
   "outputs": [
    {
     "name": "stdout",
     "output_type": "stream",
     "text": [
      "ls: cannot access 'checkpoints_LM3': No such file or directory\n"
     ]
    }
   ],
   "source": [
    "!ls checkpoints_LM3"
   ]
  },
  {
   "cell_type": "code",
   "execution_count": 8,
   "metadata": {},
   "outputs": [
    {
     "data": {
      "text/plain": [
       "(<module 'lm_utils' from '/exp/exp1/acp21rjf/deliberation/speachy/tedlium/lm_utils.py'>,\n",
       " <module 'model_utils' from '/exp/exp1/acp21rjf/deliberation/speachy/tedlium/model_utils.py'>)"
      ]
     },
     "execution_count": 8,
     "metadata": {},
     "output_type": "execute_result"
    }
   ],
   "source": [
    "rl(lm_utils), rl(model_utils)"
   ]
  },
  {
   "cell_type": "code",
   "execution_count": 9,
   "metadata": {},
   "outputs": [
    {
     "name": "stdout",
     "output_type": "stream",
     "text": [
      "./checkpoint_myopic_test/checkpoint_11_id_18.pt\n",
      "odict_keys(['layers.positional_bias.mlp.0.0.weight', 'layers.positional_bias.mlp.0.0.bias', 'layers.positional_bias.mlp.1.0.weight', 'layers.positional_bias.mlp.1.0.bias', 'layers.positional_bias.mlp.2.weight', 'layers.positional_bias.mlp.2.bias', 'layers.layers.0.0.norm.weight', 'layers.layers.0.0.norm.bias', 'layers.layers.0.0.fn.qkv_proj.weight', 'layers.layers.0.0.fn.out_proj.weight', 'layers.layers.0.1.norm.weight', 'layers.layers.0.1.norm.bias', 'layers.layers.0.1.fn.0.proj.weight', 'layers.layers.0.1.fn.0.proj.bias', 'layers.layers.0.1.fn.2.weight', 'layers.layers.0.1.fn.2.bias', 'layers.layers.1.0.norm.weight', 'layers.layers.1.0.norm.bias', 'layers.layers.1.0.fn.qkv_proj.weight', 'layers.layers.1.0.fn.out_proj.weight', 'layers.layers.1.1.norm.weight', 'layers.layers.1.1.norm.bias', 'layers.layers.1.1.fn.0.proj.weight', 'layers.layers.1.1.fn.0.proj.bias', 'layers.layers.1.1.fn.2.weight', 'layers.layers.1.1.fn.2.bias', 'layers.layers.2.0.norm.weight', 'layers.layers.2.0.norm.bias', 'layers.layers.2.0.fn.qkv_proj.weight', 'layers.layers.2.0.fn.out_proj.weight', 'layers.layers.2.1.norm.weight', 'layers.layers.2.1.norm.bias', 'layers.layers.2.1.fn.0.proj.weight', 'layers.layers.2.1.fn.0.proj.bias', 'layers.layers.2.1.fn.2.weight', 'layers.layers.2.1.fn.2.bias', 'layers.layers.3.0.norm.weight', 'layers.layers.3.0.norm.bias', 'layers.layers.3.0.fn.qkv_proj.weight', 'layers.layers.3.0.fn.out_proj.weight', 'layers.layers.3.1.norm.weight', 'layers.layers.3.1.norm.bias', 'layers.layers.3.1.fn.0.proj.weight', 'layers.layers.3.1.fn.0.proj.bias', 'layers.layers.3.1.fn.2.weight', 'layers.layers.3.1.fn.2.bias', 'layers.layers.4.0.norm.weight', 'layers.layers.4.0.norm.bias', 'layers.layers.4.0.fn.qkv_proj.weight', 'layers.layers.4.0.fn.out_proj.weight', 'layers.layers.4.1.norm.weight', 'layers.layers.4.1.norm.bias', 'layers.layers.4.1.fn.0.proj.weight', 'layers.layers.4.1.fn.0.proj.bias', 'layers.layers.4.1.fn.2.weight', 'layers.layers.4.1.fn.2.bias', 'layers.layers.5.0.norm.weight', 'layers.layers.5.0.norm.bias', 'layers.layers.5.0.fn.qkv_proj.weight', 'layers.layers.5.0.fn.out_proj.weight', 'layers.layers.5.1.norm.weight', 'layers.layers.5.1.norm.bias', 'layers.layers.5.1.fn.0.proj.weight', 'layers.layers.5.1.fn.0.proj.bias', 'layers.layers.5.1.fn.2.weight', 'layers.layers.5.1.fn.2.bias', 'layers.layers.6.0.norm.weight', 'layers.layers.6.0.norm.bias', 'layers.layers.6.0.fn.qkv_proj.weight', 'layers.layers.6.0.fn.out_proj.weight', 'layers.layers.6.1.norm.weight', 'layers.layers.6.1.norm.bias', 'layers.layers.6.1.fn.0.proj.weight', 'layers.layers.6.1.fn.0.proj.bias', 'layers.layers.6.1.fn.2.weight', 'layers.layers.6.1.fn.2.bias', 'layers.layers.7.0.norm.weight', 'layers.layers.7.0.norm.bias', 'layers.layers.7.0.fn.qkv_proj.weight', 'layers.layers.7.0.fn.out_proj.weight', 'layers.layers.7.1.norm.weight', 'layers.layers.7.1.norm.bias', 'layers.layers.7.1.fn.0.proj.weight', 'layers.layers.7.1.fn.0.proj.bias', 'layers.layers.7.1.fn.2.weight', 'layers.layers.7.1.fn.2.bias', 'layers.layers.8.0.norm.weight', 'layers.layers.8.0.norm.bias', 'layers.layers.8.0.fn.qkv_proj.weight', 'layers.layers.8.0.fn.out_proj.weight', 'layers.layers.8.1.norm.weight', 'layers.layers.8.1.norm.bias', 'layers.layers.8.1.fn.0.proj.weight', 'layers.layers.8.1.fn.0.proj.bias', 'layers.layers.8.1.fn.2.weight', 'layers.layers.8.1.fn.2.bias', 'layers.layers.9.0.norm.weight', 'layers.layers.9.0.norm.bias', 'layers.layers.9.0.fn.qkv_proj.weight', 'layers.layers.9.0.fn.out_proj.weight', 'layers.layers.9.1.norm.weight', 'layers.layers.9.1.norm.bias', 'layers.layers.9.1.fn.0.proj.weight', 'layers.layers.9.1.fn.0.proj.bias', 'layers.layers.9.1.fn.2.weight', 'layers.layers.9.1.fn.2.bias', 'layers.layers.10.0.norm.weight', 'layers.layers.10.0.norm.bias', 'layers.layers.10.0.fn.qkv_proj.weight', 'layers.layers.10.0.fn.out_proj.weight', 'layers.layers.10.1.norm.weight', 'layers.layers.10.1.norm.bias', 'layers.layers.10.1.fn.0.proj.weight', 'layers.layers.10.1.fn.0.proj.bias', 'layers.layers.10.1.fn.2.weight', 'layers.layers.10.1.fn.2.bias', 'layers.layers.11.0.norm.weight', 'layers.layers.11.0.norm.bias', 'layers.layers.11.0.fn.qkv_proj.weight', 'layers.layers.11.0.fn.out_proj.weight', 'layers.layers.11.1.norm.weight', 'layers.layers.11.1.norm.bias', 'layers.layers.11.1.fn.0.proj.weight', 'layers.layers.11.1.fn.0.proj.bias', 'layers.layers.11.1.fn.2.weight', 'layers.layers.11.1.fn.2.bias', 'to_logits.weight', 'to_logits.bias', 'embedding.weight', 'post_norm.weight', 'post_norm.bias'])\n",
      "Loaded checkpoint from ./checkpoint_myopic_test/checkpoint_11_id_18.pt\n",
      "Epoch: 11, Validation loss: 1.9986681275897555\n"
     ]
    }
   ],
   "source": [
    "epoch, val_loss  = model_utils.load_checkpoint(args=argsclass(**{'checkpoint': './checkpoint_myopic_test/checkpoint_11_id_18.pt'}), model=model, force_cpu=True)"
   ]
  },
  {
   "cell_type": "code",
   "execution_count": 10,
   "metadata": {},
   "outputs": [
    {
     "data": {
      "text/plain": [
       "True"
      ]
     },
     "execution_count": 10,
     "metadata": {},
     "output_type": "execute_result"
    }
   ],
   "source": [
    "torch.cuda.is_available()"
   ]
  },
  {
   "cell_type": "code",
   "execution_count": 16,
   "metadata": {},
   "outputs": [
    {
     "data": {
      "text/plain": [
       "'⁇  so i was speaking to bill gave it each one of the most people and applied to it and then they were still a city looking up the streaming camp this was the high deposit thought that the particular reg'"
      ]
     },
     "execution_count": 16,
     "metadata": {},
     "output_type": "execute_result"
    }
   ],
   "source": [
    "lm_utils.greedy_generate(\n",
    "    model=model,\n",
    "    tokenizer=tokenizer,\n",
    "    input_txt='So I was speaking to Bill Ga',\n",
    "    max_len=100,\n",
    "    force_cpu=True,\n",
    "    temperature=0.5\n",
    ")"
   ]
  },
  {
   "cell_type": "code",
   "execution_count": 27,
   "metadata": {},
   "outputs": [
    {
     "ename": "NotImplementedError",
     "evalue": "",
     "output_type": "error",
     "traceback": [
      "\u001b[0;31m---------------------------------------------------------------------------\u001b[0m",
      "\u001b[0;31mNotImplementedError\u001b[0m                       Traceback (most recent call last)",
      "Cell \u001b[0;32mIn [27], line 1\u001b[0m\n\u001b[0;32m----> 1\u001b[0m model\u001b[38;5;241m.\u001b[39mgreedy_generate(\u001b[38;5;124m'\u001b[39m\u001b[38;5;124mA prominent limitation of \u001b[39m\u001b[38;5;124m'\u001b[39m, tokenizer\u001b[38;5;241m=\u001b[39mtokenizer, temperature\u001b[38;5;241m=\u001b[39m\u001b[38;5;241m1.0\u001b[39m)\n",
      "File \u001b[0;32m/exp/exp1/acp21rjf/deliberation/speachy/tedlium/lm_utils.py:217\u001b[0m, in \u001b[0;36mS4adapter.greedy_generate\u001b[0;34m(self, text, tokenizer, num_steps, device, temperature)\u001b[0m\n\u001b[1;32m    216\u001b[0m \u001b[39mdef\u001b[39;00m \u001b[39mgreedy_generate\u001b[39m(\u001b[39mself\u001b[39m, text, tokenizer, num_steps\u001b[39m=\u001b[39m\u001b[39m10\u001b[39m, device\u001b[39m=\u001b[39m\u001b[39m'\u001b[39m\u001b[39mcpu\u001b[39m\u001b[39m'\u001b[39m, temperature\u001b[39m=\u001b[39m\u001b[39m0.0\u001b[39m):\n\u001b[0;32m--> 217\u001b[0m     \u001b[39mraise\u001b[39;00m \u001b[39mNotImplementedError\u001b[39;00m\n\u001b[1;32m    218\u001b[0m     \u001b[39mself\u001b[39m\u001b[39m.\u001b[39mto(device)\n\u001b[1;32m    219\u001b[0m     \u001b[39mself\u001b[39m\u001b[39m.\u001b[39meval()\n",
      "\u001b[0;31mNotImplementedError\u001b[0m: "
     ]
    }
   ],
   "source": [
    "model.greedy_generate('A prominent limitation of ', tokenizer=tokenizer, temperature=1.0)"
   ]
  },
  {
   "cell_type": "code",
   "execution_count": 24,
   "metadata": {},
   "outputs": [
    {
     "data": {
      "text/plain": [
       "<module 'lm_utils' from '/exp/exp1/acp21rjf/deliberation/speachy/tedlium/lm_utils.py'>"
      ]
     },
     "execution_count": 24,
     "metadata": {},
     "output_type": "execute_result"
    }
   ],
   "source": [
    "import non_iid_dataloader as niiddl\n",
    "import lm_utils\n",
    "rl(niiddl)\n",
    "rl(lm_utils)"
   ]
  },
  {
   "cell_type": "code",
   "execution_count": 25,
   "metadata": {},
   "outputs": [
    {
     "name": "stderr",
     "output_type": "stream",
     "text": [
      "loss: 0.70: 100%|██████████| 12/12 [00:19<00:00,  1.59s/it]\n"
     ]
    },
    {
     "name": "stdout",
     "output_type": "stream",
     "text": [
      "Duration: 0.0, PPL: 2.19421648979187, Avg Len: 67.19134521484375\n"
     ]
    },
    {
     "name": "stderr",
     "output_type": "stream",
     "text": [
      "loss: 0.72:  22%|██▏       | 2/9 [00:03<00:13,  1.90s/it]\n"
     ]
    },
    {
     "ename": "KeyboardInterrupt",
     "evalue": "",
     "output_type": "error",
     "traceback": [
      "\u001b[0;31m---------------------------------------------------------------------------\u001b[0m",
      "\u001b[0;31mKeyboardInterrupt\u001b[0m                         Traceback (most recent call last)",
      "Cell \u001b[0;32mIn [25], line 28\u001b[0m\n\u001b[1;32m     19\u001b[0m \u001b[38;5;28;01mfor\u001b[39;00m duration \u001b[38;5;129;01min\u001b[39;00m durations:\n\u001b[1;32m     20\u001b[0m     dl \u001b[38;5;241m=\u001b[39m niiddl\u001b[38;5;241m.\u001b[39mget_data_loader(\n\u001b[1;32m     21\u001b[0m         corpus[\u001b[38;5;124m'\u001b[39m\u001b[38;5;124mtest\u001b[39m\u001b[38;5;124m'\u001b[39m], \n\u001b[1;32m     22\u001b[0m         tokenizer\u001b[38;5;241m=\u001b[39mtokenizer, \n\u001b[0;32m   (...)\u001b[0m\n\u001b[1;32m     26\u001b[0m         text_only\u001b[38;5;241m=\u001b[39m\u001b[38;5;28;01mTrue\u001b[39;00m,\n\u001b[1;32m     27\u001b[0m     )\n\u001b[0;32m---> 28\u001b[0m     ppl, avg_len \u001b[38;5;241m=\u001b[39m lm_utils\u001b[38;5;241m.\u001b[39meval_corpus_perplexity(model, dl, device\u001b[38;5;241m=\u001b[39m\u001b[38;5;124m'\u001b[39m\u001b[38;5;124mcpu\u001b[39m\u001b[38;5;124m'\u001b[39m)\n\u001b[1;32m     29\u001b[0m     \u001b[38;5;28mprint\u001b[39m(\u001b[38;5;124mf\u001b[39m\u001b[38;5;124m\"\u001b[39m\u001b[38;5;124mDuration: \u001b[39m\u001b[38;5;132;01m{\u001b[39;00mduration\u001b[38;5;132;01m}\u001b[39;00m\u001b[38;5;124m, PPL: \u001b[39m\u001b[38;5;132;01m{\u001b[39;00mppl\u001b[38;5;132;01m}\u001b[39;00m\u001b[38;5;124m, Avg Len: \u001b[39m\u001b[38;5;132;01m{\u001b[39;00mavg_len\u001b[38;5;132;01m}\u001b[39;00m\u001b[38;5;124m\"\u001b[39m)\n",
      "File \u001b[0;32m/store/store1/software/bin/anaconda3/envs/k2_custom-nemo/lib/python3.8/site-packages/torch/autograd/grad_mode.py:27\u001b[0m, in \u001b[0;36m_DecoratorContextManager.__call__.<locals>.decorate_context\u001b[0;34m(*args, **kwargs)\u001b[0m\n\u001b[1;32m     24\u001b[0m \u001b[39m@functools\u001b[39m\u001b[39m.\u001b[39mwraps(func)\n\u001b[1;32m     25\u001b[0m \u001b[39mdef\u001b[39;00m \u001b[39mdecorate_context\u001b[39m(\u001b[39m*\u001b[39margs, \u001b[39m*\u001b[39m\u001b[39m*\u001b[39mkwargs):\n\u001b[1;32m     26\u001b[0m     \u001b[39mwith\u001b[39;00m \u001b[39mself\u001b[39m\u001b[39m.\u001b[39mclone():\n\u001b[0;32m---> 27\u001b[0m         \u001b[39mreturn\u001b[39;00m func(\u001b[39m*\u001b[39;49margs, \u001b[39m*\u001b[39;49m\u001b[39m*\u001b[39;49mkwargs)\n",
      "File \u001b[0;32m/exp/exp1/acp21rjf/deliberation/speachy/tedlium/lm_utils.py:90\u001b[0m, in \u001b[0;36meval_corpus_perplexity\u001b[0;34m(model, dataloader, device)\u001b[0m\n\u001b[1;32m     88\u001b[0m \u001b[39mfor\u001b[39;00m batch \u001b[39min\u001b[39;00m pbar:\n\u001b[1;32m     89\u001b[0m     tokens, token_lens \u001b[39m=\u001b[39m batch_to_device(batch, device)\n\u001b[0;32m---> 90\u001b[0m     cur_loss \u001b[39m=\u001b[39m eval_perplexity(model, tokens, token_lens, return_ppl\u001b[39m=\u001b[39;49m\u001b[39mFalse\u001b[39;49;00m)\n\u001b[1;32m     91\u001b[0m     losses\u001b[39m.\u001b[39mappend(cur_loss)\n\u001b[1;32m     92\u001b[0m     all_token_lens\u001b[39m.\u001b[39mappend(token_lens)\n",
      "File \u001b[0;32m/store/store1/software/bin/anaconda3/envs/k2_custom-nemo/lib/python3.8/site-packages/torch/autograd/grad_mode.py:27\u001b[0m, in \u001b[0;36m_DecoratorContextManager.__call__.<locals>.decorate_context\u001b[0;34m(*args, **kwargs)\u001b[0m\n\u001b[1;32m     24\u001b[0m \u001b[39m@functools\u001b[39m\u001b[39m.\u001b[39mwraps(func)\n\u001b[1;32m     25\u001b[0m \u001b[39mdef\u001b[39;00m \u001b[39mdecorate_context\u001b[39m(\u001b[39m*\u001b[39margs, \u001b[39m*\u001b[39m\u001b[39m*\u001b[39mkwargs):\n\u001b[1;32m     26\u001b[0m     \u001b[39mwith\u001b[39;00m \u001b[39mself\u001b[39m\u001b[39m.\u001b[39mclone():\n\u001b[0;32m---> 27\u001b[0m         \u001b[39mreturn\u001b[39;00m func(\u001b[39m*\u001b[39;49margs, \u001b[39m*\u001b[39;49m\u001b[39m*\u001b[39;49mkwargs)\n",
      "File \u001b[0;32m/exp/exp1/acp21rjf/deliberation/speachy/tedlium/lm_utils.py:76\u001b[0m, in \u001b[0;36meval_perplexity\u001b[0;34m(model, tokens, token_lens, return_ppl)\u001b[0m\n\u001b[1;32m     71\u001b[0m targets \u001b[39m=\u001b[39m mark_padding(targets, mask, pad_id\u001b[39m=\u001b[39m\u001b[39m-\u001b[39m\u001b[39m100\u001b[39m)\n\u001b[1;32m     73\u001b[0m model_args \u001b[39m=\u001b[39m {\u001b[39m'\u001b[39m\u001b[39mx\u001b[39m\u001b[39m'\u001b[39m: tokens, \u001b[39m'\u001b[39m\u001b[39mmask\u001b[39m\u001b[39m'\u001b[39m: mask} \u001b[39mif\u001b[39;00m isfalse(callable(\u001b[39mgetattr\u001b[39m(model, \u001b[39m'\u001b[39m\u001b[39mget_args\u001b[39m\u001b[39m'\u001b[39m, \u001b[39mFalse\u001b[39;00m))) \\\n\u001b[1;32m     74\u001b[0m     \u001b[39melse\u001b[39;00m model\u001b[39m.\u001b[39mget_args(tokens\u001b[39m=\u001b[39mtokens, mask\u001b[39m=\u001b[39mmask, lengths\u001b[39m=\u001b[39mtoken_lens)\n\u001b[0;32m---> 76\u001b[0m logits \u001b[39m=\u001b[39m model(\u001b[39m*\u001b[39;49m\u001b[39m*\u001b[39;49mmodel_args)\n\u001b[1;32m     77\u001b[0m loss \u001b[39m=\u001b[39m torch\u001b[39m.\u001b[39mnn\u001b[39m.\u001b[39mfunctional\u001b[39m.\u001b[39mcross_entropy(rearrange(logits, \u001b[39m'\u001b[39m\u001b[39mb n c -> b c n\u001b[39m\u001b[39m'\u001b[39m), targets, ignore_index\u001b[39m=\u001b[39m\u001b[39m-\u001b[39m\u001b[39m100\u001b[39m, reduction\u001b[39m=\u001b[39m\u001b[39m'\u001b[39m\u001b[39mnone\u001b[39m\u001b[39m'\u001b[39m)\n\u001b[1;32m     78\u001b[0m loss \u001b[39m=\u001b[39m loss\u001b[39m.\u001b[39msum(dim\u001b[39m=\u001b[39m\u001b[39m1\u001b[39m) \u001b[39m/\u001b[39m token_lens\n",
      "File \u001b[0;32m/store/store1/software/bin/anaconda3/envs/k2_custom-nemo/lib/python3.8/site-packages/torch/nn/modules/module.py:1110\u001b[0m, in \u001b[0;36mModule._call_impl\u001b[0;34m(self, *input, **kwargs)\u001b[0m\n\u001b[1;32m   1106\u001b[0m \u001b[39m# If we don't have any hooks, we want to skip the rest of the logic in\u001b[39;00m\n\u001b[1;32m   1107\u001b[0m \u001b[39m# this function, and just call forward.\u001b[39;00m\n\u001b[1;32m   1108\u001b[0m \u001b[39mif\u001b[39;00m \u001b[39mnot\u001b[39;00m (\u001b[39mself\u001b[39m\u001b[39m.\u001b[39m_backward_hooks \u001b[39mor\u001b[39;00m \u001b[39mself\u001b[39m\u001b[39m.\u001b[39m_forward_hooks \u001b[39mor\u001b[39;00m \u001b[39mself\u001b[39m\u001b[39m.\u001b[39m_forward_pre_hooks \u001b[39mor\u001b[39;00m _global_backward_hooks\n\u001b[1;32m   1109\u001b[0m         \u001b[39mor\u001b[39;00m _global_forward_hooks \u001b[39mor\u001b[39;00m _global_forward_pre_hooks):\n\u001b[0;32m-> 1110\u001b[0m     \u001b[39mreturn\u001b[39;00m forward_call(\u001b[39m*\u001b[39;49m\u001b[39minput\u001b[39;49m, \u001b[39m*\u001b[39;49m\u001b[39m*\u001b[39;49mkwargs)\n\u001b[1;32m   1111\u001b[0m \u001b[39m# Do not call functions when jit is used\u001b[39;00m\n\u001b[1;32m   1112\u001b[0m full_backward_hooks, non_full_backward_hooks \u001b[39m=\u001b[39m [], []\n",
      "File \u001b[0;32m/exp/exp1/acp21rjf/deliberation/speachy/tedlium/lm_utils.py:290\u001b[0m, in \u001b[0;36mS4adapter.forward\u001b[0;34m(self, tokens, mask, lengths)\u001b[0m\n\u001b[1;32m    288\u001b[0m x \u001b[39m=\u001b[39m \u001b[39mself\u001b[39m\u001b[39m.\u001b[39membedding(tokens)\n\u001b[1;32m    289\u001b[0m x \u001b[39m=\u001b[39m x\u001b[39m.\u001b[39mmasked_fill(\u001b[39m~\u001b[39mmask\u001b[39m.\u001b[39munsqueeze(\u001b[39m-\u001b[39m\u001b[39m1\u001b[39m), \u001b[39m0\u001b[39m) \u001b[39mif\u001b[39;00m exists(mask) \u001b[39melse\u001b[39;00m x\n\u001b[0;32m--> 290\u001b[0m logits \u001b[39m=\u001b[39m \u001b[39mself\u001b[39;49m\u001b[39m.\u001b[39;49m_forward(x, lengths, return_states\u001b[39m=\u001b[39;49m\u001b[39mFalse\u001b[39;49;00m)\n\u001b[1;32m    291\u001b[0m \u001b[39mreturn\u001b[39;00m logits\n",
      "File \u001b[0;32m/exp/exp1/acp21rjf/deliberation/speachy/tedlium/lm_utils.py:277\u001b[0m, in \u001b[0;36mS4adapter._forward\u001b[0;34m(self, u, lengths, return_states, states)\u001b[0m\n\u001b[1;32m    275\u001b[0m x \u001b[39m=\u001b[39m x \u001b[39m-\u001b[39m latent\n\u001b[1;32m    276\u001b[0m state \u001b[39m=\u001b[39m \u001b[39mNone\u001b[39;00m \u001b[39mif\u001b[39;00m states \u001b[39mis\u001b[39;00m \u001b[39mNone\u001b[39;00m \u001b[39melse\u001b[39;00m states[i]\n\u001b[0;32m--> 277\u001b[0m x_out, state \u001b[39m=\u001b[39m s4(u\u001b[39m=\u001b[39;49mx, lengths\u001b[39m=\u001b[39;49mlengths, state\u001b[39m=\u001b[39;49mstate)\n\u001b[1;32m    278\u001b[0m x \u001b[39m=\u001b[39m x_out \u001b[39m+\u001b[39m x \u001b[39m*\u001b[39m \u001b[39m0.5\u001b[39m\n\u001b[1;32m    279\u001b[0m model_states_dict[i] \u001b[39m=\u001b[39m state\u001b[39m.\u001b[39mdetach() \u001b[39mif\u001b[39;00m return_states \u001b[39melse\u001b[39;00m \u001b[39mNone\u001b[39;00m\n",
      "File \u001b[0;32m/store/store1/software/bin/anaconda3/envs/k2_custom-nemo/lib/python3.8/site-packages/torch/nn/modules/module.py:1110\u001b[0m, in \u001b[0;36mModule._call_impl\u001b[0;34m(self, *input, **kwargs)\u001b[0m\n\u001b[1;32m   1106\u001b[0m \u001b[39m# If we don't have any hooks, we want to skip the rest of the logic in\u001b[39;00m\n\u001b[1;32m   1107\u001b[0m \u001b[39m# this function, and just call forward.\u001b[39;00m\n\u001b[1;32m   1108\u001b[0m \u001b[39mif\u001b[39;00m \u001b[39mnot\u001b[39;00m (\u001b[39mself\u001b[39m\u001b[39m.\u001b[39m_backward_hooks \u001b[39mor\u001b[39;00m \u001b[39mself\u001b[39m\u001b[39m.\u001b[39m_forward_hooks \u001b[39mor\u001b[39;00m \u001b[39mself\u001b[39m\u001b[39m.\u001b[39m_forward_pre_hooks \u001b[39mor\u001b[39;00m _global_backward_hooks\n\u001b[1;32m   1109\u001b[0m         \u001b[39mor\u001b[39;00m _global_forward_hooks \u001b[39mor\u001b[39;00m _global_forward_pre_hooks):\n\u001b[0;32m-> 1110\u001b[0m     \u001b[39mreturn\u001b[39;00m forward_call(\u001b[39m*\u001b[39;49m\u001b[39minput\u001b[39;49m, \u001b[39m*\u001b[39;49m\u001b[39m*\u001b[39;49mkwargs)\n\u001b[1;32m   1111\u001b[0m \u001b[39m# Do not call functions when jit is used\u001b[39;00m\n\u001b[1;32m   1112\u001b[0m full_backward_hooks, non_full_backward_hooks \u001b[39m=\u001b[39m [], []\n",
      "File \u001b[0;32m/exp/exp1/acp21rjf/deliberation/speachy/tedlium/lm/s4.py:1533\u001b[0m, in \u001b[0;36mS4.forward\u001b[0;34m(self, u, state, rate, lengths, **kwargs)\u001b[0m\n\u001b[1;32m   1529\u001b[0m y \u001b[39m=\u001b[39m \u001b[39mself\u001b[39m\u001b[39m.\u001b[39mdropout(\u001b[39mself\u001b[39m\u001b[39m.\u001b[39mactivation(y))\n\u001b[1;32m   1531\u001b[0m \u001b[39mif\u001b[39;00m \u001b[39mnot\u001b[39;00m \u001b[39mself\u001b[39m\u001b[39m.\u001b[39mtransposed: y \u001b[39m=\u001b[39m y\u001b[39m.\u001b[39mtranspose(\u001b[39m-\u001b[39m\u001b[39m1\u001b[39m, \u001b[39m-\u001b[39m\u001b[39m2\u001b[39m)\n\u001b[0;32m-> 1533\u001b[0m y \u001b[39m=\u001b[39m \u001b[39mself\u001b[39;49m\u001b[39m.\u001b[39;49moutput_linear(y)\n\u001b[1;32m   1535\u001b[0m \u001b[39mif\u001b[39;00m \u001b[39mself\u001b[39m\u001b[39m.\u001b[39mgate \u001b[39mis\u001b[39;00m \u001b[39mnot\u001b[39;00m \u001b[39mNone\u001b[39;00m:\n\u001b[1;32m   1536\u001b[0m     y \u001b[39m=\u001b[39m \u001b[39mself\u001b[39m\u001b[39m.\u001b[39moutput_gate(y \u001b[39m*\u001b[39m v)\n",
      "File \u001b[0;32m/store/store1/software/bin/anaconda3/envs/k2_custom-nemo/lib/python3.8/site-packages/torch/nn/modules/module.py:1110\u001b[0m, in \u001b[0;36mModule._call_impl\u001b[0;34m(self, *input, **kwargs)\u001b[0m\n\u001b[1;32m   1106\u001b[0m \u001b[39m# If we don't have any hooks, we want to skip the rest of the logic in\u001b[39;00m\n\u001b[1;32m   1107\u001b[0m \u001b[39m# this function, and just call forward.\u001b[39;00m\n\u001b[1;32m   1108\u001b[0m \u001b[39mif\u001b[39;00m \u001b[39mnot\u001b[39;00m (\u001b[39mself\u001b[39m\u001b[39m.\u001b[39m_backward_hooks \u001b[39mor\u001b[39;00m \u001b[39mself\u001b[39m\u001b[39m.\u001b[39m_forward_hooks \u001b[39mor\u001b[39;00m \u001b[39mself\u001b[39m\u001b[39m.\u001b[39m_forward_pre_hooks \u001b[39mor\u001b[39;00m _global_backward_hooks\n\u001b[1;32m   1109\u001b[0m         \u001b[39mor\u001b[39;00m _global_forward_hooks \u001b[39mor\u001b[39;00m _global_forward_pre_hooks):\n\u001b[0;32m-> 1110\u001b[0m     \u001b[39mreturn\u001b[39;00m forward_call(\u001b[39m*\u001b[39;49m\u001b[39minput\u001b[39;49m, \u001b[39m*\u001b[39;49m\u001b[39m*\u001b[39;49mkwargs)\n\u001b[1;32m   1111\u001b[0m \u001b[39m# Do not call functions when jit is used\u001b[39;00m\n\u001b[1;32m   1112\u001b[0m full_backward_hooks, non_full_backward_hooks \u001b[39m=\u001b[39m [], []\n",
      "File \u001b[0;32m/store/store1/software/bin/anaconda3/envs/k2_custom-nemo/lib/python3.8/site-packages/torch/nn/modules/container.py:141\u001b[0m, in \u001b[0;36mSequential.forward\u001b[0;34m(self, input)\u001b[0m\n\u001b[1;32m    139\u001b[0m \u001b[39mdef\u001b[39;00m \u001b[39mforward\u001b[39m(\u001b[39mself\u001b[39m, \u001b[39minput\u001b[39m):\n\u001b[1;32m    140\u001b[0m     \u001b[39mfor\u001b[39;00m module \u001b[39min\u001b[39;00m \u001b[39mself\u001b[39m:\n\u001b[0;32m--> 141\u001b[0m         \u001b[39minput\u001b[39m \u001b[39m=\u001b[39m module(\u001b[39minput\u001b[39;49m)\n\u001b[1;32m    142\u001b[0m     \u001b[39mreturn\u001b[39;00m \u001b[39minput\u001b[39m\n",
      "File \u001b[0;32m/store/store1/software/bin/anaconda3/envs/k2_custom-nemo/lib/python3.8/site-packages/torch/nn/modules/module.py:1110\u001b[0m, in \u001b[0;36mModule._call_impl\u001b[0;34m(self, *input, **kwargs)\u001b[0m\n\u001b[1;32m   1106\u001b[0m \u001b[39m# If we don't have any hooks, we want to skip the rest of the logic in\u001b[39;00m\n\u001b[1;32m   1107\u001b[0m \u001b[39m# this function, and just call forward.\u001b[39;00m\n\u001b[1;32m   1108\u001b[0m \u001b[39mif\u001b[39;00m \u001b[39mnot\u001b[39;00m (\u001b[39mself\u001b[39m\u001b[39m.\u001b[39m_backward_hooks \u001b[39mor\u001b[39;00m \u001b[39mself\u001b[39m\u001b[39m.\u001b[39m_forward_hooks \u001b[39mor\u001b[39;00m \u001b[39mself\u001b[39m\u001b[39m.\u001b[39m_forward_pre_hooks \u001b[39mor\u001b[39;00m _global_backward_hooks\n\u001b[1;32m   1109\u001b[0m         \u001b[39mor\u001b[39;00m _global_forward_hooks \u001b[39mor\u001b[39;00m _global_forward_pre_hooks):\n\u001b[0;32m-> 1110\u001b[0m     \u001b[39mreturn\u001b[39;00m forward_call(\u001b[39m*\u001b[39;49m\u001b[39minput\u001b[39;49m, \u001b[39m*\u001b[39;49m\u001b[39m*\u001b[39;49mkwargs)\n\u001b[1;32m   1111\u001b[0m \u001b[39m# Do not call functions when jit is used\u001b[39;00m\n\u001b[1;32m   1112\u001b[0m full_backward_hooks, non_full_backward_hooks \u001b[39m=\u001b[39m [], []\n",
      "File \u001b[0;32m/store/store1/software/bin/anaconda3/envs/k2_custom-nemo/lib/python3.8/site-packages/torch/nn/modules/linear.py:103\u001b[0m, in \u001b[0;36mLinear.forward\u001b[0;34m(self, input)\u001b[0m\n\u001b[1;32m    102\u001b[0m \u001b[39mdef\u001b[39;00m \u001b[39mforward\u001b[39m(\u001b[39mself\u001b[39m, \u001b[39minput\u001b[39m: Tensor) \u001b[39m-\u001b[39m\u001b[39m>\u001b[39m Tensor:\n\u001b[0;32m--> 103\u001b[0m     \u001b[39mreturn\u001b[39;00m F\u001b[39m.\u001b[39;49mlinear(\u001b[39minput\u001b[39;49m, \u001b[39mself\u001b[39;49m\u001b[39m.\u001b[39;49mweight, \u001b[39mself\u001b[39;49m\u001b[39m.\u001b[39;49mbias)\n",
      "\u001b[0;31mKeyboardInterrupt\u001b[0m: "
     ]
    }
   ],
   "source": [
    "durations = [\n",
    "    0.0,\n",
    "    15.0,\n",
    "    30.0,\n",
    "    45.0,\n",
    "    60.0,\n",
    "    75.0,\n",
    "    90.0,\n",
    "    100.0,\n",
    "    120.0,\n",
    "    140.0,\n",
    "    180.0,\n",
    "    200.0,\n",
    "    250.0,\n",
    "    300.0,\n",
    "    400.0,\n",
    "    500.0,\n",
    "]\n",
    "for duration in durations:\n",
    "    dl = niiddl.get_data_loader(\n",
    "        corpus['test'], \n",
    "        tokenizer=tokenizer, \n",
    "        batch_size=100, \n",
    "        shuffle=False,\n",
    "        max_duration=duration,\n",
    "        text_only=True,\n",
    "    )\n",
    "    ppl, avg_len = lm_utils.eval_corpus_perplexity(model, dl, device='cpu')\n",
    "    print(f\"Duration: {duration}, PPL: {ppl}, Avg Len: {avg_len}\")"
   ]
  },
  {
   "cell_type": "code",
   "execution_count": 8,
   "metadata": {},
   "outputs": [],
   "source": [
    "dl = niiddl.get_data_loader(\n",
    "    corpus['train'], \n",
    "    tokenizer=tokenizer, \n",
    "    batch_size=20, \n",
    "    shuffle=True,\n",
    "    max_duration=100,\n",
    "    text_only=True,\n",
    ")"
   ]
  },
  {
   "cell_type": "code",
   "execution_count": 9,
   "metadata": {},
   "outputs": [],
   "source": [
    "for batch in dl:\n",
    "    z = batch\n",
    "    break"
   ]
  },
  {
   "cell_type": "code",
   "execution_count": null,
   "metadata": {},
   "outputs": [],
   "source": [
    "x = lm_utils.eval_corpus_perplexity(model, dl, device='cpu')\n",
    "x"
   ]
  },
  {
   "cell_type": "code",
   "execution_count": 436,
   "metadata": {},
   "outputs": [
    {
     "name": "stderr",
     "output_type": "stream",
     "text": [
      "perplexity: 417.11: 100%|██████████| 26/26 [01:22<00:00,  3.17s/it] "
     ]
    },
    {
     "name": "stdout",
     "output_type": "stream",
     "text": [
      "479.1307067871094 1441.75\n"
     ]
    },
    {
     "name": "stderr",
     "output_type": "stream",
     "text": [
      "\n"
     ]
    }
   ],
   "source": [
    "#ppl, avg_len = lm_utils.eval_corpus_perplexity(model, dl, device='cpu')\n",
    "#print(ppl, avg_len)"
   ]
  },
  {
   "cell_type": "code",
   "execution_count": 339,
   "metadata": {},
   "outputs": [
    {
     "name": "stderr",
     "output_type": "stream",
     "text": [
      "perplexity: 459.58: 100%|██████████| 124/124 [00:18<00:00,  6.71it/s] \n"
     ]
    },
    {
     "data": {
      "text/plain": [
       "167.10165405273438"
      ]
     },
     "execution_count": 339,
     "metadata": {},
     "output_type": "execute_result"
    }
   ],
   "source": [
    "lm_utils.eval_corpus_perplexity(model, dl, device='cpu')"
   ]
  },
  {
   "cell_type": "code",
   "execution_count": 158,
   "metadata": {},
   "outputs": [
    {
     "name": "stdout",
     "output_type": "stream",
     "text": [
      "[0, 17, 54, 97, 3, 107, 3, 107, 3, 107]\n"
     ]
    },
    {
     "data": {
      "text/plain": [
       "'⁇  how are as as as'"
      ]
     },
     "execution_count": 158,
     "metadata": {},
     "output_type": "execute_result"
    }
   ],
   "source": [
    "lm_utils.greedy_generate(model, tokenizer, 'how are', 10, force_cpu=True, temperature=0)"
   ]
  },
  {
   "cell_type": "code",
   "execution_count": null,
   "metadata": {},
   "outputs": [],
   "source": [
    "model"
   ]
  },
  {
   "cell_type": "code",
   "execution_count": 159,
   "metadata": {},
   "outputs": [
    {
     "data": {
      "text/plain": [
       "<module 'lm_utils' from '/exp/exp1/acp21rjf/deliberation/speachy/tedlium/lm_utils.py'>"
      ]
     },
     "execution_count": 159,
     "metadata": {},
     "output_type": "execute_result"
    }
   ],
   "source": [
    "rl(lm_utils)"
   ]
  },
  {
   "cell_type": "code",
   "execution_count": 68,
   "metadata": {},
   "outputs": [
    {
     "data": {
      "text/plain": [
       "[78, 30, 104, 6, 8]"
      ]
     },
     "execution_count": 68,
     "metadata": {},
     "output_type": "execute_result"
    }
   ],
   "source": [
    "tokenizer.text_to_ids('hello there')"
   ]
  },
  {
   "cell_type": "code",
   "execution_count": 75,
   "metadata": {},
   "outputs": [],
   "source": [
    "tokenizer.add_special_tokens(['<sos>', '<eos>'])"
   ]
  },
  {
   "cell_type": "code",
   "execution_count": null,
   "metadata": {},
   "outputs": [],
   "source": [
    "tokenizer.additional_special_tokens_ids()"
   ]
  },
  {
   "cell_type": "code",
   "execution_count": 74,
   "metadata": {},
   "outputs": [
    {
     "data": {
      "text/plain": [
       "'en'"
      ]
     },
     "execution_count": 74,
     "metadata": {},
     "output_type": "execute_result"
    }
   ],
   "source": [
    "tokenizer.ids_to_text(out[0)"
   ]
  },
  {
   "cell_type": "code",
   "execution_count": 5,
   "metadata": {},
   "outputs": [
    {
     "ename": "NameError",
     "evalue": "name 'torch' is not defined",
     "output_type": "error",
     "traceback": [
      "\u001b[0;31m---------------------------------------------------------------------------\u001b[0m",
      "\u001b[0;31mNameError\u001b[0m                                 Traceback (most recent call last)",
      "Cell \u001b[0;32mIn [5], line 1\u001b[0m\n\u001b[0;32m----> 1\u001b[0m tokens \u001b[38;5;241m=\u001b[39m torch\u001b[38;5;241m.\u001b[39mrandn(\u001b[38;5;241m2\u001b[39m,\u001b[38;5;241m3\u001b[39m)\n\u001b[1;32m      2\u001b[0m token_lens \u001b[38;5;241m=\u001b[39m torch\u001b[38;5;241m.\u001b[39mtensor([\u001b[38;5;241m2\u001b[39m, \u001b[38;5;241m3\u001b[39m])\n",
      "\u001b[0;31mNameError\u001b[0m: name 'torch' is not defined"
     ]
    }
   ],
   "source": [
    "tokens = torch.randn(2,3)\n",
    "token_lens = torch.tensor([2, 3])"
   ]
  },
  {
   "cell_type": "code",
   "execution_count": 177,
   "metadata": {},
   "outputs": [
    {
     "data": {
      "text/plain": [
       "tensor([2, 3])"
      ]
     },
     "execution_count": 177,
     "metadata": {},
     "output_type": "execute_result"
    }
   ],
   "source": [
    "def add_eos(tkn, tkn_len, eos_id = 30):\n",
    "    tkn = tkn.clone() \n",
    "    tkn[torch.arange(tkn.shape[0], device=tkn_len.device, dtype=torch.int32), (tkn_len-1.0).to(torch.int32)] = eos_id\n",
    "    return tkn\n",
    "\n",
    "token_lens.to(torch.int64)"
   ]
  },
  {
   "cell_type": "code",
   "execution_count": 181,
   "metadata": {},
   "outputs": [
    {
     "data": {
      "text/plain": [
       "[0, 78, 30, 104]"
      ]
     },
     "execution_count": 181,
     "metadata": {},
     "output_type": "execute_result"
    }
   ],
   "source": [
    "[0] + tokenizer.text_to_ids('hello')"
   ]
  },
  {
   "cell_type": "code",
   "execution_count": 178,
   "metadata": {},
   "outputs": [
    {
     "ename": "IndexError",
     "evalue": "tensors used as indices must be long, byte or bool tensors",
     "output_type": "error",
     "traceback": [
      "\u001b[0;31m---------------------------------------------------------------------------\u001b[0m",
      "\u001b[0;31mIndexError\u001b[0m                                Traceback (most recent call last)",
      "Cell \u001b[0;32mIn [178], line 1\u001b[0m\n\u001b[0;32m----> 1\u001b[0m add_eos(tokens, token_lens)\n",
      "Cell \u001b[0;32mIn [177], line 3\u001b[0m, in \u001b[0;36madd_eos\u001b[0;34m(tkn, tkn_len, eos_id)\u001b[0m\n\u001b[1;32m      1\u001b[0m \u001b[38;5;28;01mdef\u001b[39;00m \u001b[38;5;21madd_eos\u001b[39m(tkn, tkn_len, eos_id \u001b[38;5;241m=\u001b[39m \u001b[38;5;241m30\u001b[39m):\n\u001b[1;32m      2\u001b[0m     tkn \u001b[38;5;241m=\u001b[39m tkn\u001b[38;5;241m.\u001b[39mclone() \n\u001b[0;32m----> 3\u001b[0m     \u001b[43mtkn\u001b[49m\u001b[43m[\u001b[49m\u001b[43mtorch\u001b[49m\u001b[38;5;241;43m.\u001b[39;49m\u001b[43marange\u001b[49m\u001b[43m(\u001b[49m\u001b[43mtkn\u001b[49m\u001b[38;5;241;43m.\u001b[39;49m\u001b[43mshape\u001b[49m\u001b[43m[\u001b[49m\u001b[38;5;241;43m0\u001b[39;49m\u001b[43m]\u001b[49m\u001b[43m,\u001b[49m\u001b[43m \u001b[49m\u001b[43mdevice\u001b[49m\u001b[38;5;241;43m=\u001b[39;49m\u001b[43mtkn_len\u001b[49m\u001b[38;5;241;43m.\u001b[39;49m\u001b[43mdevice\u001b[49m\u001b[43m,\u001b[49m\u001b[43m \u001b[49m\u001b[43mdtype\u001b[49m\u001b[38;5;241;43m=\u001b[39;49m\u001b[43mtorch\u001b[49m\u001b[38;5;241;43m.\u001b[39;49m\u001b[43mint32\u001b[49m\u001b[43m)\u001b[49m\u001b[43m,\u001b[49m\u001b[43m \u001b[49m\u001b[43m(\u001b[49m\u001b[43mtkn_len\u001b[49m\u001b[38;5;241;43m-\u001b[39;49m\u001b[38;5;241;43m1.0\u001b[39;49m\u001b[43m)\u001b[49m\u001b[38;5;241;43m.\u001b[39;49m\u001b[43mto\u001b[49m\u001b[43m(\u001b[49m\u001b[43mtorch\u001b[49m\u001b[38;5;241;43m.\u001b[39;49m\u001b[43mint32\u001b[49m\u001b[43m)\u001b[49m\u001b[43m]\u001b[49m \u001b[38;5;241m=\u001b[39m eos_id\n\u001b[1;32m      4\u001b[0m     \u001b[38;5;28;01mreturn\u001b[39;00m tkn\n",
      "\u001b[0;31mIndexError\u001b[0m: tensors used as indices must be long, byte or bool tensors"
     ]
    }
   ],
   "source": [
    "add_eos(tokens, token_lens)"
   ]
  },
  {
   "cell_type": "code",
   "execution_count": 145,
   "metadata": {},
   "outputs": [],
   "source": [
    "bt = torch.tensor(\n",
    "    [[0,0,0],\n",
    "    [0,0,0]]\n",
    ", dtype=torch.bool)"
   ]
  },
  {
   "cell_type": "code",
   "execution_count": 146,
   "metadata": {},
   "outputs": [
    {
     "data": {
      "text/plain": [
       "tensor([ 0.3837,  0.5211, -1.2230,  0.5048, -0.1723, -2.0018])"
      ]
     },
     "execution_count": 146,
     "metadata": {},
     "output_type": "execute_result"
    }
   ],
   "source": [
    "tokens[~bt]"
   ]
  },
  {
   "cell_type": "code",
   "execution_count": 39,
   "metadata": {},
   "outputs": [],
   "source": [
    "from lm.s4 import S4"
   ]
  },
  {
   "cell_type": "code",
   "execution_count": 43,
   "metadata": {},
   "outputs": [],
   "source": [
    "model  =S4(d_model=256)"
   ]
  },
  {
   "cell_type": "code",
   "execution_count": 54,
   "metadata": {},
   "outputs": [],
   "source": [
    "emb = torch.nn.Embedding(100, 256)"
   ]
  },
  {
   "cell_type": "code",
   "execution_count": 58,
   "metadata": {},
   "outputs": [
    {
     "data": {
      "text/plain": [
       "torch.Size([2, 3, 256])"
      ]
     },
     "execution_count": 58,
     "metadata": {},
     "output_type": "execute_result"
    }
   ],
   "source": [
    "emb(torch.randint(0, 100, (2,3))).shape"
   ]
  },
  {
   "cell_type": "code",
   "execution_count": 61,
   "metadata": {},
   "outputs": [],
   "source": [
    "from einops import rearrange\n",
    "\n"
   ]
  },
  {
   "cell_type": "code",
   "execution_count": 143,
   "metadata": {},
   "outputs": [],
   "source": [
    "rl(lm_utils)\n",
    "from lm_utils import S4adapter"
   ]
  },
  {
   "cell_type": "code",
   "execution_count": 301,
   "metadata": {},
   "outputs": [
    {
     "data": {
      "text/plain": [
       "1.381408"
      ]
     },
     "execution_count": 301,
     "metadata": {},
     "output_type": "execute_result"
    }
   ],
   "source": [
    "get_num_params(\n",
    "    S4adapter(S4(d_model=712, measure='legs', mode='nplr', transposed=False, d_state=64), vocab_size=128)\n",
    ") / 1e6 "
   ]
  },
  {
   "cell_type": "code",
   "execution_count": 139,
   "metadata": {},
   "outputs": [],
   "source": [
    "model = S4adapter(S4(d_model=2048, measure='legs', mode='nplr', transposed=False, d_state=512), vocab_size=128)"
   ]
  },
  {
   "cell_type": "code",
   "execution_count": 140,
   "metadata": {},
   "outputs": [
    {
     "data": {
      "text/plain": [
       "S4adapter(\n",
       "  (model): S4(\n",
       "    (kernel): SSKernel(\n",
       "      (kernel): SSKernelNPLR()\n",
       "    )\n",
       "    (activation): GELU()\n",
       "    (dropout): Identity()\n",
       "    (output_linear): Sequential(\n",
       "      (0): Linear(in_features=2048, out_features=4096, bias=True)\n",
       "      (1): GLU(dim=-1)\n",
       "    )\n",
       "  )\n",
       "  (embedding): Embedding(128, 2048)\n",
       "  (predict): Linear(in_features=2048, out_features=128, bias=True)\n",
       "  (softmax): Softmax(dim=-1)\n",
       ")"
      ]
     },
     "execution_count": 140,
     "metadata": {},
     "output_type": "execute_result"
    }
   ],
   "source": [
    "model"
   ]
  },
  {
   "cell_type": "code",
   "execution_count": 134,
   "metadata": {},
   "outputs": [
    {
     "name": "stdout",
     "output_type": "stream",
     "text": [
      "torch.Size([2, 3, 2048]) emb\n",
      "torch.Size([2, 3, 2048]) s4\n",
      "torch.Size([2, 3, 128]) logits\n"
     ]
    },
    {
     "data": {
      "text/plain": [
       "torch.Size([2, 3, 128])"
      ]
     },
     "execution_count": 134,
     "metadata": {},
     "output_type": "execute_result"
    }
   ],
   "source": [
    "\n",
    "model(torch.randint(0, 100, (2,3))).shape"
   ]
  },
  {
   "cell_type": "code",
   "execution_count": 12,
   "metadata": {},
   "outputs": [],
   "source": [
    "import torch, torch.nn as nn"
   ]
  },
  {
   "cell_type": "code",
   "execution_count": 45,
   "metadata": {},
   "outputs": [],
   "source": [
    "class GumbelSigmoid(nn.Module):\n",
    "    \"\"\"\n",
    "    adapted : https://github.com/yandexdataschool/gumbel_lstm/blob/master/gumbel_sigmoid.py\n",
    "\n",
    "    A gumbel-sigmoid nonlinearity with gumbel(0,1) noize\n",
    "    In short, it's a function that mimics #[a>0] indicator where a is the logit\n",
    "    \n",
    "    Explaination and motivation: https://arxiv.org/abs/1611.01144\n",
    "    \n",
    "    Math:\n",
    "    Sigmoid is a softmax of two logits: a and 0\n",
    "    e^a / (e^a + e^0) = 1 / (1 + e^(0 - a)) = sigm(a)\n",
    "    \n",
    "    Gumbel-sigmoid is a gumbel-softmax for same logits:\n",
    "    gumbel_sigm(a) = e^([a+gumbel1]/t) / [ e^([a+gumbel1]/t) + e^(gumbel2/t)]\n",
    "    where t is temperature, gumbel1 and gumbel2 are two samples from gumbel noize: -log(-log(uniform(0,1)))\n",
    "    gumbel_sigm(a) = 1 / ( 1 +  e^(gumbel2/t - [a+gumbel1]/t) = 1 / ( 1+ e^(-[a + gumbel1 - gumbel2]/t)\n",
    "    gumbel_sigm(a) = sigm([a+gumbel1-gumbel2]/t)\n",
    "    \n",
    "    For computation reasons:\n",
    "    gumbel1-gumbel2 = -log(-log(uniform1(0,1)) +log(-log(uniform2(0,1)) = -log( log(uniform2(0,1)) / log(uniform1(0,1)) )\n",
    "    gumbel_sigm(a) = sigm([a-log(log(uniform2(0,1))/log(uniform1(0,1))]/t)\n",
    "    \n",
    "    \n",
    "    :param t: temperature of sampling. Lower means more spike-like sampling. Can be symbolic.\n",
    "    :param eps: a small number used for numerical stability\n",
    "    :returns: a callable that can (and should) be used as a nonlinearity\n",
    "    \n",
    "    \"\"\"\n",
    "    def __init__(\n",
    "            self, \n",
    "            init_temperature=1.0,\n",
    "            final_temperature=0.1,\n",
    "            total_steps=10000, \n",
    "            eps=1e-20,\n",
    "            \n",
    "        ):\n",
    "        super().__init__()\n",
    "        self.temperature=init_temperature\n",
    "        self.final_temperature=final_temperature\n",
    "        self.total_steps=total_steps\n",
    "        self.decay = (final_temperature/init_temperature)**(1/total_steps)\n",
    "        self.eps=eps\n",
    "\n",
    "    def step(self):\n",
    "        if self.temperature > self.final_temperature:\n",
    "            self.temperature *= self.decay\n",
    "         \n",
    "    def __call__(self,logits):\n",
    "        \"\"\"computes a gumbel sigmoid sample\"\"\"\n",
    "        temperature = self.temperature if self.training else self.final_temperature\n",
    "        \n",
    "        #sample from Gumbel(0, 1)\n",
    "        uniform1 = torch.rand_like(logits)\n",
    "        uniform2 = torch.rand_like(logits)\n",
    "        \n",
    "        noise = -torch.log(torch.log(uniform2 + self.eps)/torch.log(uniform1 + self.eps) +self.eps)\n",
    "        #draw a sample from the Gumbel-Sigmoid distribution\n",
    "        gumbel = ((logits + noise) / temperature).sigmoid()\n",
    "        if self.training:\n",
    "            self.step()\n",
    "        return gumbel"
   ]
  },
  {
   "cell_type": "code",
   "execution_count": 231,
   "metadata": {},
   "outputs": [
    {
     "data": {
      "text/plain": [
       "GumbelSigmoid()"
      ]
     },
     "execution_count": 231,
     "metadata": {},
     "output_type": "execute_result"
    }
   ],
   "source": [
    "gb = GumbelSigmoid(final_temperature=0.6)\n",
    "gb.eval()"
   ]
  },
  {
   "cell_type": "code",
   "execution_count": 251,
   "metadata": {},
   "outputs": [
    {
     "data": {
      "text/plain": [
       "tensor(6.5119)"
      ]
     },
     "execution_count": 251,
     "metadata": {},
     "output_type": "execute_result"
    }
   ],
   "source": [
    "rnd = torch.distributions.exponential.Exponential(0.1).sample(torch.Size([100]))\n",
    "rnd = rnd / rnd.sum()\n",
    "\n",
    "(gb(rnd).norm())"
   ]
  }
 ],
 "metadata": {
  "kernelspec": {
   "display_name": "Python 3.8.13 ('k2_custom-nemo')",
   "language": "python",
   "name": "python3"
  },
  "language_info": {
   "codemirror_mode": {
    "name": "ipython",
    "version": 3
   },
   "file_extension": ".py",
   "mimetype": "text/x-python",
   "name": "python",
   "nbconvert_exporter": "python",
   "pygments_lexer": "ipython3",
   "version": "3.8.13"
  },
  "orig_nbformat": 4,
  "vscode": {
   "interpreter": {
    "hash": "c94c8ffa67fdebd9384b5746b8c4850bc2cec88ff489992126dcd0aca228c275"
   }
  }
 },
 "nbformat": 4,
 "nbformat_minor": 2
}
