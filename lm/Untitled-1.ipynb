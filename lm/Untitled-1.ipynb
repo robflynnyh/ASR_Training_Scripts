{
 "cells": [
  {
   "cell_type": "code",
   "execution_count": 30,
   "metadata": {},
   "outputs": [],
   "source": [
    "import torch, torch.nn as nn, torch.nn.functional as F\n",
    "from einops import rearrange, repeat\n",
    "from torch import einsum\n"
   ]
  },
  {
   "cell_type": "code",
   "execution_count": 31,
   "metadata": {},
   "outputs": [],
   "source": [
    "class DynamicPositionBias(nn.Module):\n",
    "    '''taken From Phil Wang's x-transformers library'''\n",
    "    def __init__(self, dim, *, heads, depth, log_distance = False, norm = False, activation=nn.SiLU):\n",
    "        super().__init__()\n",
    "        assert depth >= 1, 'depth for dynamic position bias MLP must be greater or equal to 1'\n",
    "        self.log_distance = log_distance\n",
    "\n",
    "        self.mlp = nn.ModuleList([])\n",
    "\n",
    "        self.mlp.append(nn.Sequential(\n",
    "            nn.Linear(1, dim),\n",
    "            nn.LayerNorm(dim) if norm else nn.Identity(),\n",
    "            activation()\n",
    "        ))\n",
    "\n",
    "        for _ in range(depth - 1):\n",
    "            self.mlp.append(nn.Sequential(\n",
    "                nn.Linear(dim, dim),\n",
    "                nn.LayerNorm(dim) if norm else nn.Identity(),\n",
    "                activation()\n",
    "            ))\n",
    "\n",
    "        self.mlp.append(nn.Linear(dim, heads))\n",
    "\n",
    "    @staticmethod\n",
    "    def fetch_module_kwargs(kwargs):\n",
    "        return {\n",
    "            'dim': kwargs.get('dpos_dim', 64),\n",
    "            'depth': kwargs.get('dpos_depth', 2),\n",
    "            'log_distance': kwargs.get('dpos_log_distance', False),\n",
    "            'norm': kwargs.get('dpos_norm', False)\n",
    "        }\n",
    "\n",
    "\n",
    "    def forward(self, i, j, device, dtype):\n",
    "        # get the (i x j) matrix of distances\n",
    "        assert i >= 1 and j >= 1 and i <= j, 'I should be in the range [1, j] and j >= 1'\n",
    "        seq_arange = torch.arange(i, device = device)\n",
    "        context_arange = torch.arange(j, device = device)\n",
    "        indices = rearrange(seq_arange, 'i -> i 1') - rearrange(context_arange, 'j -> 1 j')\n",
    "        indices += (j-1)\n",
    "        \n",
    "        # input to continuous positions MLP\n",
    "        pos = torch.arange(-i + 1, (j+i), device = device, dtype = dtype)\n",
    "        pos = rearrange(pos, '... -> ... 1')\n",
    "     \n",
    "        if self.log_distance:\n",
    "            pos = torch.sign(pos) * torch.log(pos.abs() + 1)  # log of distance is sign(rel_pos) * log(abs(rel_pos) + 1)\n",
    "\n",
    "        for layer in self.mlp:\n",
    "            pos = layer(pos) \n",
    "\n",
    "        # get position biases        \n",
    "        bias = pos[indices]\n",
    "        bias = rearrange(bias, 'i j h -> h i j')\n",
    "        return bias"
   ]
  },
  {
   "cell_type": "code",
   "execution_count": 35,
   "metadata": {},
   "outputs": [],
   "source": [
    "class DynamicPositionBias(nn.Module):\n",
    "    def __init__(self, dim, *, heads, depth, log_distance = False, norm = False, activation=nn.SiLU):\n",
    "        super().__init__()\n",
    "        assert depth >= 1, 'depth for dynamic position bias MLP must be greater or equal to 1'\n",
    "        self.log_distance = log_distance\n",
    "\n",
    "        self.mlp = nn.ModuleList([])\n",
    "\n",
    "        self.mlp.append(nn.Sequential(\n",
    "            nn.Linear(1, dim),\n",
    "            nn.LayerNorm(dim) if norm else nn.Identity(),\n",
    "            activation()\n",
    "        ))\n",
    "\n",
    "        for _ in range(depth - 1):\n",
    "            self.mlp.append(nn.Sequential(\n",
    "                nn.Linear(dim, dim),\n",
    "                nn.LayerNorm(dim) if norm else nn.Identity(),\n",
    "                activation()\n",
    "            ))\n",
    "\n",
    "        self.mlp.append(nn.Linear(dim, heads))\n",
    "\n",
    "    def forward(self, n, device, dtype):\n",
    "\n",
    "        # get the (n x n) matrix of distances\n",
    "        seq_arange = torch.arange(n, device = device)\n",
    "        context_arange = torch.arange(n, device = device)\n",
    "        indices = rearrange(seq_arange, 'i -> i 1') - rearrange(context_arange, 'j -> 1 j')\n",
    "        indices += (n - 1)\n",
    "        \n",
    "        # input to continuous positions MLP\n",
    "        pos = torch.arange(-n + 1, n, device = device, dtype = dtype)\n",
    "        pos = rearrange(pos, '... -> ... 1')\n",
    "        return pos[indices]\n",
    "        if self.log_distance:\n",
    "            pos = torch.sign(pos) * torch.log(pos.abs() + 1)  # log of distance is sign(rel_pos) * log(abs(rel_pos) + 1)\n",
    "\n",
    "        for layer in self.mlp:\n",
    "            pos = layer(pos)\n",
    "\n",
    "        # get position biases        \n",
    "        bias = pos[indices]\n",
    "        bias = rearrange(bias, 'i j h -> h i j')\n",
    "        return bias"
   ]
  },
  {
   "cell_type": "code",
   "execution_count": 43,
   "metadata": {},
   "outputs": [
    {
     "name": "stdout",
     "output_type": "stream",
     "text": [
      "tensor([ 10.,   9.,   8.,   7.,   6.,   5.,   4.,   3.,   2.,   1.,   0.,  -1.,\n",
      "         -2.,  -3.,  -4.,  -5.,  -6.,  -7.,  -8.,  -9., -10., -11., -12., -13.,\n",
      "        -14., -15., -16., -17., -18., -19., -20., -21., -22., -23., -24., -25.,\n",
      "        -26., -27., -28., -29., -30., -31., -32., -33., -34., -35., -36., -37.,\n",
      "        -38., -39.])\n"
     ]
    }
   ],
   "source": [
    "pos = DynamicPositionBias(64, heads = 8, depth = 2, log_distance = False)\n",
    "pos = pos(50, device = 'cpu', dtype = torch.float32).squeeze(-1)\n",
    "print(pos[10])\n",
    "#'pos.squeeze(-1)\n",
    "#plt.plot(pos[:,10].T.detach().numpy())"
   ]
  },
  {
   "cell_type": "code",
   "execution_count": 133,
   "metadata": {},
   "outputs": [],
   "source": [
    "class ReLUSquared(nn.Module):\n",
    "    def forward(self, x):\n",
    "        return torch.pow(F.relu(x), 2)\n",
    "\n",
    "def l2norm(t, groups = 1, dim = -1):\n",
    "    if groups == 1:\n",
    "        return F.normalize(t, p = 2, dim = dim)\n",
    "    t = rearrange(t, '... (g d) -> ... g d', g = groups)\n",
    "    t = F.normalize(t, p = 2, dim = dim)\n",
    "    return rearrange(t, '... g d -> ... (g d)')\n",
    "\n",
    "\n",
    "class CosineAttention(nn.Module):\n",
    "    def __init__(\n",
    "        self,\n",
    "        n_feats,\n",
    "        head_dim,\n",
    "        n_heads,\n",
    "        dropout=0.1,\n",
    "        bias=False,\n",
    "        temperature=15.5,\n",
    "        return_attention=False,\n",
    "        causal=False,\n",
    "        activation='softmax',\n",
    "        **kwargs\n",
    "    ):\n",
    "        super().__init__()\n",
    "        assert activation in ['relusq', 'softmax']\n",
    "        self.shared_kv = kwargs.get('shared_kv', False)\n",
    "        self.talking_heads = kwargs.get('talking_heads', False)\n",
    "        self.cache_kv = kwargs.get('cache_kv', False) # whether prev key and values are used \n",
    "        \n",
    "\n",
    "        self.n_feats, self.head_dim, self.n_heads = n_feats, head_dim, n_heads\n",
    "        self.dropout = nn.Dropout(dropout)\n",
    "        self.bias = bias\n",
    "        self.return_attention = return_attention\n",
    "        self.causal = causal\n",
    "\n",
    "        if self.talking_heads:\n",
    "            self._head_proj = nn.Conv2d(n_heads, n_heads, (1, 1))\n",
    "\n",
    "        self.temperature = torch.nn.Parameter(torch.tensor(temperature), requires_grad=True) if isinstance(temperature, float) else temperature\n",
    "\n",
    "        self.activation = ReLUSquared() if activation == 'relusq' else nn.Softmax(dim=-1)\n",
    "\n",
    "        if not self.shared_kv:\n",
    "            self.qkv_proj = nn.Linear(n_feats, 3 * n_heads * head_dim, bias=bias)\n",
    "            self.qkv = lambda x: rearrange(self.qkv_proj(x), \"b n (h d qkv) -> qkv b h n d\", qkv=3, h=n_heads, d=head_dim)\n",
    "        else:\n",
    "            self.q_proj, self.kv_proj = [nn.Linear(n_feats, el, bias=bias) for el in [n_heads * head_dim, 2 * head_dim]]\n",
    "            map_q, map_kv = lambda q: rearrange(q, 'b n (h d) -> b h n d', h=n_heads), lambda kv: rearrange(kv, 'b n (kv d) -> kv b () n d', kv=2, d=head_dim)\n",
    "            self.qkv = lambda x: (map_q(self.q_proj(x)), *map_kv(self.kv_proj(x)))\n",
    "\n",
    "        self.out_proj = nn.Linear(n_heads * head_dim, n_feats, bias=bias)\n",
    "\n",
    "        if self.cache_kv:\n",
    "            cache_heads = n_heads if not self.shared_kv else 1\n",
    "            self.cache_vector = torch.nn.Parameter(torch.zeros(1, cache_heads, 1, head_dim), requires_grad=True)\n",
    "            print(self.cache_vector.shape)\n",
    "    \n",
    "    def head_proj(self, dots):\n",
    "        if not self.talking_heads:\n",
    "            return dots\n",
    "        dots = self._head_proj(dots)\n",
    "        return dots      \n",
    "\n",
    "    def attend(self, query, key, value, mask, k_mask, pos_fn):\n",
    "        dots = einsum('bhid,bhjd->bhij', query, key) * self.temperature\n",
    "        dots = self.head_proj(dots)\n",
    "\n",
    "        dots += pos_fn(i=dots.shape[-2], j=dots.shape[-1], device=dots.device, dtype=dots.dtype)\n",
    "        qmask, kmask = ~mask, ~k_mask\n",
    "        attn_mask = ~(rearrange(qmask, \"b n -> b () n ()\") * rearrange(kmask, \"b n -> b () () n\"))\n",
    "    \n",
    "        if self.causal: # create a regular causal mask\n",
    "            causal_mask = torch.ones(dots.shape[-2], dots.shape[-1], device=dots.device).triu(1).bool()\n",
    "            attn_mask = torch.logical_or(attn_mask, causal_mask)\n",
    "        \n",
    "        dots.masked_fill_(attn_mask, -torch.finfo(dots.dtype).max)\n",
    "    \n",
    "        attn = self.activation(dots)\n",
    "     \n",
    "        attn = self.dropout(attn)\n",
    "        return einsum(\"bhij,bhjd->bhid\", attn, value)\n",
    "\n",
    "    def lengths_from_mask(self, x, mask):\n",
    "        if mask is None:\n",
    "            return x.shape[-2]\n",
    "        return (~mask).sum(dim=-1)\n",
    "\n",
    "    def attach_cache(self, k, v, mask, cache_kv, cache_mask):\n",
    "        if cache_kv is None:\n",
    "            return k, v, mask\n",
    "        \n",
    "        cache_k, cache_v = cache_kv\n",
    "        \n",
    "        cache_k, cache_v = cache_k.to(k.device), cache_v.to(k.device)\n",
    "        cache_vector = self.cache_vector.to(k.device)\n",
    "        cache_k, cache_v = cache_k + cache_vector, cache_v + cache_vector\n",
    "        cache_lens = self.lengths_from_mask(cache_k, cache_mask)\n",
    "        max_cache_len = cache_lens.max()    \n",
    "        x_lens = self.lengths_from_mask(k, mask)\n",
    "        new_lens = x_lens + cache_lens\n",
    "        max_new_len = new_lens.max()\n",
    "        # so we want to remove excess padding and only have padding at the end of the sequence\n",
    "        # otherwise things get weird with the position encoding\n",
    "        # lets used gather to do this (not sure if there is a faster way)\n",
    "        # fk ill use a for loop to get the indices\n",
    "        indices = []\n",
    "        new_k, new_v = torch.cat([cache_k, k], dim=-2), torch.cat([cache_v, v], dim=-2)\n",
    "   \n",
    "        # add zero to last dimension to use to fetch the padding\n",
    "        B,H,N,D= new_k.shape\n",
    "        zero_vector = torch.zeros((B,H,1,D), device=new_k.device)\n",
    "        new_k,new_v = torch.cat([new_k, zero_vector], dim=-2), torch.cat([new_v, zero_vector], dim=-2)\n",
    "    \n",
    "\n",
    "        for i in range(new_k.shape[0]):\n",
    "            cache_indices = torch.arange(cache_lens[i], device='cpu')\n",
    "            total_length = cache_lens[i] + x_lens[i]\n",
    "            diff_from_max_len = max_new_len - total_length\n",
    "            x_indices = torch.arange(x_lens[i]+diff_from_max_len, device='cpu') + cache_k.shape[-2]\n",
    "            if diff_from_max_len > 0:\n",
    "                x_indices[-diff_from_max_len:] = new_k.shape[-2] - 1\n",
    "            new_indices = torch.cat([cache_indices, x_indices])\n",
    "            indices.append(new_indices)\n",
    "\n",
    "        indices = torch.stack(indices, dim=0)\n",
    "        # NOW LETS GATHER\n",
    "        indices = rearrange(indices, 'b n -> () b () n ()').expand(2,B,H,N,D)\n",
    "        new_kv = torch.stack([new_k, new_v], dim=0) # avoid double gather\n",
    "        new_k, new_v = torch.gather(new_kv, dim=-2, index=indices)\n",
    "       \n",
    "        # just create the new mask\n",
    "        new_mask = torch.arange(max_new_len, device=mask.device) >= new_lens[:, None]\n",
    "        return new_k, new_v, new_mask\n",
    "       \n",
    "    \n",
    "        \n",
    "        \n",
    "\n",
    "    def forward(self, x, pos_fn, mask=None, cached_kv=None, cached_mask=None):\n",
    "        assert pos_fn is not None, 'pls provide a position function'\n",
    "        B, N, C, H, D = *x.shape, self.n_heads, self.head_dim\n",
    "        #print(x.shape, mask.shape)\n",
    "\n",
    "        if mask is None:\n",
    "            mask = torch.zeros(B, N, device=x.device, dtype=torch.bool)\n",
    "\n",
    "        q, k, v = self.qkv(x)\n",
    "        q, k = map(l2norm, (q, k))\n",
    "\n",
    "        if self.cache_kv:\n",
    "            k, v, k_mask = self.attach_cache(k, v, mask, cached_kv, cached_mask)\n",
    "     \n",
    "        out = self.attend(q, k, v, mask, k_mask, pos_fn)\n",
    "\n",
    "        out = rearrange(out, \"b h n d -> b n (h d)\")\n",
    "        out = self.out_proj(out)\n",
    "        return out if not self.cache_kv else (out, k, v)"
   ]
  },
  {
   "cell_type": "code",
   "execution_count": 134,
   "metadata": {},
   "outputs": [
    {
     "data": {
      "text/plain": [
       "1"
      ]
     },
     "execution_count": 134,
     "metadata": {},
     "output_type": "execute_result"
    }
   ],
   "source": [
    "z = torch.randn(2, 1, 8, 256)\n",
    "v = torch.randn(2, 1, 1, 256)\n",
    "(v.expand_as(z) + 0).shape\n",
    "a = nn.Identity(d=2)\n",
    "a(1)"
   ]
  },
  {
   "cell_type": "code",
   "execution_count": 135,
   "metadata": {},
   "outputs": [
    {
     "name": "stdout",
     "output_type": "stream",
     "text": [
      "torch.Size([1, 1, 1, 32])\n",
      "torch.Size([2, 3, 1, 92, 32])\n",
      "torch.Size([2, 3, 1, 92, 32]) torch.Size([3, 92])\n"
     ]
    }
   ],
   "source": [
    "pos_fn = DynamicPositionBias(dim = 64, heads = 8, log_distance = False, depth = 2)\n",
    "cAttn = CosineAttention(n_feats=256, head_dim=32, n_heads=8, temperature=15.5, cache_kv=True, shared_kv=True, talking_heads=True)\n",
    "x = torch.randn(3, 128, 256)\n",
    "cached_kv = torch.randn(1,3,1,92,32).repeat(2,1,1,1,1)\n",
    "print(cached_kv.shape)\n",
    "cached_mask = torch.zeros(3, 92, dtype=torch.bool)\n",
    "cached_mask[0, -3:] = True\n",
    "print(cached_kv.shape, cached_mask.shape)\n",
    "cached_kv.masked_fill_(rearrange(cached_mask, 'b n -> () b () n ()'), 0)\n",
    "mask = torch.zeros(3, 128, dtype=torch.bool)\n",
    "\n",
    "out = cAttn(x, pos_fn, mask, cached_kv, cached_mask)"
   ]
  },
  {
   "cell_type": "code",
   "execution_count": 136,
   "metadata": {},
   "outputs": [
    {
     "data": {
      "text/plain": [
       "tensor(0.)"
      ]
     },
     "execution_count": 136,
     "metadata": {},
     "output_type": "execute_result"
    }
   ],
   "source": [
    "cached_kv[0,0,0,:,0][89]"
   ]
  },
  {
   "cell_type": "code",
   "execution_count": 137,
   "metadata": {},
   "outputs": [
    {
     "ename": "IndexError",
     "evalue": "too many indices for tensor of dimension 3",
     "output_type": "error",
     "traceback": [
      "\u001b[0;31m---------------------------------------------------------------------------\u001b[0m",
      "\u001b[0;31mIndexError\u001b[0m                                Traceback (most recent call last)",
      "Cell \u001b[0;32mIn [137], line 1\u001b[0m\n\u001b[0;32m----> 1\u001b[0m out[\u001b[38;5;241m0\u001b[39m][\u001b[38;5;241m0\u001b[39m,\u001b[38;5;241m0\u001b[39m,:,\u001b[38;5;241m0\u001b[39m][\u001b[38;5;241m89\u001b[39m]\n",
      "\u001b[0;31mIndexError\u001b[0m: too many indices for tensor of dimension 3"
     ]
    }
   ],
   "source": [
    "\n",
    "\n",
    "\n",
    "\n",
    "\n",
    "\n",
    "out[0][0,0,:,0][89]"
   ]
  },
  {
   "cell_type": "code",
   "execution_count": 138,
   "metadata": {},
   "outputs": [
    {
     "data": {
      "text/plain": [
       "tensor([ 0.9646, -0.8306, -1.2400, -1.5384,  2.7643, -1.3104, -0.4722,  0.5150,\n",
       "         0.1264, -0.1845,  0.4148,  0.2924, -0.9017,  1.1656,  0.7209,  0.5571,\n",
       "         1.4452, -0.2368,  0.2942,  1.0476, -0.8054,  0.8218,  1.2688,  0.4040,\n",
       "         0.1071,  0.2646,  1.8732, -1.4170,  1.6558,  0.3742,  0.6107,  0.3937,\n",
       "         0.0830,  1.0749, -2.3265,  1.5841, -0.2620, -1.3947,  0.2483,  0.9108,\n",
       "        -2.1976,  0.1355,  0.5316, -0.1624,  0.2896,  2.0930,  0.3875, -0.0879,\n",
       "         0.5617, -1.1790,  0.1430, -1.2001, -0.2224,  1.1863,  0.6218,  0.5775,\n",
       "        -0.2739,  1.1090,  0.6676,  1.5608, -1.2222,  0.0070, -0.5213, -0.3303,\n",
       "         0.8829,  0.9428, -0.2519, -0.3580,  0.3996, -0.7413, -0.6927, -1.7417,\n",
       "         0.8633, -0.0571, -0.9795, -0.0130, -0.7891, -0.2428, -2.5734, -2.0235,\n",
       "         0.8676,  1.9984, -0.8984, -1.2611,  0.9771, -1.4365,  0.5247,  0.8157,\n",
       "         0.3835, -0.0800,  0.1801, -0.4556,  0.0030,  0.0696,  0.0111,  0.2037,\n",
       "         0.2723,  0.1840,  0.0871, -0.0687, -0.0672,  0.1889, -0.0898,  0.1516,\n",
       "         0.2340, -0.2683, -0.0327,  0.2171, -0.2094,  0.3693,  0.1243, -0.2582,\n",
       "         0.1686, -0.1183, -0.1253,  0.1900,  0.2563, -0.0923, -0.3657,  0.0434,\n",
       "         0.2498, -0.3140, -0.0921, -0.0067,  0.0487, -0.1034, -0.0448,  0.0297,\n",
       "         0.0039,  0.0996, -0.2982, -0.0931, -0.0799,  0.1309, -0.1772, -0.2787,\n",
       "         0.1311,  0.0333, -0.1460,  0.0593,  0.1041, -0.2155,  0.1512,  0.1862,\n",
       "         0.0374,  0.3108,  0.4367, -0.2555,  0.1259, -0.3721, -0.2476,  0.2474,\n",
       "         0.0090, -0.1062,  0.0642,  0.0833, -0.0602,  0.2386,  0.1288,  0.1483,\n",
       "        -0.0898, -0.4314, -0.0236, -0.1009, -0.2815, -0.4015, -0.0039,  0.0074,\n",
       "        -0.0766, -0.0341,  0.1751, -0.0578, -0.0313,  0.1296,  0.3496,  0.1327,\n",
       "        -0.1812,  0.1703, -0.1339,  0.1180,  0.1683, -0.0487,  0.2448, -0.0596,\n",
       "         0.2099,  0.2992, -0.1516, -0.1040,  0.3048,  0.1310, -0.1062, -0.3717,\n",
       "        -0.5024, -0.1716, -0.2860,  0.4012, -0.1888,  0.2277,  0.1415, -0.1118,\n",
       "        -0.0757, -0.1156, -0.3216, -0.1634, -0.1015, -0.0842, -0.1508, -0.0246,\n",
       "         0.1819,  0.3947,  0.0967, -0.2361, -0.1813,  0.3654,  0.0500,  0.0726,\n",
       "        -0.0751,  0.0000,  0.0000,  0.0000], grad_fn=<SelectBackward0>)"
      ]
     },
     "execution_count": 138,
     "metadata": {},
     "output_type": "execute_result"
    }
   ],
   "source": [
    "out[-2][0,0,:,1]"
   ]
  },
  {
   "cell_type": "code",
   "execution_count": null,
   "metadata": {},
   "outputs": [],
   "source": []
  },
  {
   "cell_type": "code",
   "execution_count": 139,
   "metadata": {},
   "outputs": [],
   "source": [
    "import torch.nn as nn, torch\n",
    "\n",
    "class HydraAttention(nn.Module):\n",
    "    def __init__(self, d_model, output_layer='scale_and_bias'):\n",
    "        '''\n",
    "        output_layer: 'scale_and_bias' | 'linear' | 'none'\n",
    "        '''\n",
    "        super(HydraAttention, self).__init__()\n",
    "        self.d_model = d_model\n",
    "        self.qkv = nn.Linear(d_model, d_model * 3)\n",
    "        if output_layer == 'scale_and_bias':\n",
    "            self.scale = nn.Parameter(torch.ones(1, 1, d_model))\n",
    "            self.bias = nn.Parameter(torch.zeros(1, 1, d_model))\n",
    "            self.out = lambda x: x * self.scale + self.bias\n",
    "        elif output_layer == 'linear':\n",
    "            self.out = nn.Linear(d_model, d_model)\n",
    "        elif output_layer == 'none':\n",
    "            self.out = nn.Identity()\n",
    "\n",
    "    def forward(self, x):\n",
    "        '''x: (B, T, D)'''\n",
    "        q, k, v = self.qkv(x).chunk(3, dim=-1)\n",
    "        q = q / q.norm(dim=-1, keepdim=True)\n",
    "        k = k / k.norm(dim=-1, keepdim=True)\n",
    "        kv = (k * v).sum(dim=-2, keepdim=True)\n",
    "        out = q * kv\n",
    "        return self.out(out)"
   ]
  },
  {
   "cell_type": "code",
   "execution_count": 140,
   "metadata": {},
   "outputs": [
    {
     "data": {
      "text/plain": [
       "tensor([[[ 1.7800e-02, -2.0949e-02, -4.0454e-03,  ...,  1.7476e-03,\n",
       "           7.7937e-03, -1.1197e-02],\n",
       "         [-8.3292e-02, -1.0956e-02,  1.3293e-02,  ..., -4.8901e-03,\n",
       "           6.8717e-03,  5.0117e-03],\n",
       "         [-2.5896e-02, -2.2059e-02,  1.9145e-02,  ..., -6.5789e-03,\n",
       "          -5.2304e-02, -1.1451e-02],\n",
       "         ...,\n",
       "         [ 1.8919e-03, -2.5293e-02, -7.9536e-03,  ..., -5.3984e-03,\n",
       "          -6.4683e-02, -1.4539e-02],\n",
       "         [ 1.5556e-02, -1.9646e-03, -6.1028e-03,  ...,  1.0065e-02,\n",
       "          -7.6068e-03, -2.8695e-02],\n",
       "         [-2.6423e-02, -9.2779e-03, -2.6357e-04,  ..., -8.4673e-03,\n",
       "           6.8516e-02,  1.2305e-02]],\n",
       "\n",
       "        [[-3.1916e-03,  6.6154e-03, -7.1143e-04,  ..., -7.6106e-04,\n",
       "          -2.3541e-02, -2.7446e-03],\n",
       "         [-1.4876e-03, -1.2582e-02,  3.3824e-03,  ...,  1.3493e-02,\n",
       "          -8.2018e-03, -2.4740e-03],\n",
       "         [-8.4997e-04, -1.2136e-03,  2.9695e-04,  ..., -9.1224e-03,\n",
       "           1.5852e-02,  8.1763e-04],\n",
       "         ...,\n",
       "         [-7.7412e-04,  7.5713e-03,  2.3390e-03,  ..., -1.2516e-02,\n",
       "          -1.6135e-02, -9.7435e-04],\n",
       "         [ 4.4038e-04, -1.2958e-02,  1.1730e-03,  ..., -3.6664e-02,\n",
       "          -1.1558e-02, -8.4326e-04],\n",
       "         [ 2.5203e-04,  4.0150e-03, -4.9077e-04,  ...,  1.7681e-02,\n",
       "           1.2706e-03, -6.1990e-05]],\n",
       "\n",
       "        [[ 2.7713e-03,  4.0934e-03,  2.6020e-02,  ...,  1.7421e-02,\n",
       "          -3.6611e-02, -4.0180e-03],\n",
       "         [ 4.4953e-03,  2.0272e-02, -2.0947e-02,  ..., -1.1161e-02,\n",
       "           9.3215e-03,  4.5929e-04],\n",
       "         [-1.4653e-02, -5.4300e-03, -1.9938e-02,  ..., -7.0576e-02,\n",
       "          -8.1649e-03, -2.3145e-03],\n",
       "         ...,\n",
       "         [-2.0422e-02, -1.1333e-02,  2.3665e-03,  ...,  5.7234e-03,\n",
       "          -2.0376e-02, -1.2147e-02],\n",
       "         [-2.7079e-03,  2.5105e-02,  2.2017e-02,  ..., -1.8779e-02,\n",
       "           8.6017e-03, -8.8168e-04],\n",
       "         [-8.8545e-03,  2.0378e-02,  7.4162e-03,  ...,  2.2289e-02,\n",
       "           2.7084e-03, -1.7414e-03]]], grad_fn=<AddBackward0>)"
      ]
     },
     "execution_count": 140,
     "metadata": {},
     "output_type": "execute_result"
    }
   ],
   "source": [
    "HydraAttention(256)(x)"
   ]
  },
  {
   "cell_type": "code",
   "execution_count": 115,
   "metadata": {},
   "outputs": [
    {
     "name": "stdout",
     "output_type": "stream",
     "text": [
      "/exp/exp1/acp21rjf/deliberation/speachy/tedlium\n"
     ]
    }
   ],
   "source": [
    "%cd ../tedlium"
   ]
  },
  {
   "cell_type": "code",
   "execution_count": 116,
   "metadata": {},
   "outputs": [],
   "source": [
    "import non_iid_dataloader as niiddl, torch"
   ]
  },
  {
   "cell_type": "code",
   "execution_count": 117,
   "metadata": {},
   "outputs": [],
   "source": [
    "import tools"
   ]
  },
  {
   "cell_type": "code",
   "execution_count": 118,
   "metadata": {},
   "outputs": [
    {
     "data": {
      "text/plain": [
       "<module 'non_iid_dataloader' from '/exp/exp1/acp21rjf/deliberation/speachy/tedlium/non_iid_dataloader.py'>"
      ]
     },
     "execution_count": 118,
     "metadata": {},
     "output_type": "execute_result"
    }
   ],
   "source": [
    "from importlib import reload as rl\n",
    "rl(niiddl)"
   ]
  },
  {
   "cell_type": "code",
   "execution_count": 119,
   "metadata": {},
   "outputs": [],
   "source": [
    "corpus = tools.load_corpus()"
   ]
  },
  {
   "cell_type": "code",
   "execution_count": 120,
   "metadata": {},
   "outputs": [],
   "source": [
    "tkn = tools.load_tokenizer('./tokenizers/tokenizer_spe_bpe_v128/tokenizer.model')"
   ]
  },
  {
   "cell_type": "code",
   "execution_count": 7,
   "metadata": {},
   "outputs": [],
   "source": [
    "dl = niiddl.get_eval_dataloader(\n",
    "    split = corpus['train'],\n",
    "    batch_size = 1,\n",
    "    max_duration = 3000000000000000000000000000000,\n",
    "    concat_samples = False,\n",
    "    return_speaker=True\n",
    ")"
   ]
  },
  {
   "cell_type": "code",
   "execution_count": 185,
   "metadata": {},
   "outputs": [],
   "source": [
    "from tqdm import tqdm"
   ]
  },
  {
   "cell_type": "code",
   "execution_count": 186,
   "metadata": {},
   "outputs": [
    {
     "name": "stderr",
     "output_type": "stream",
     "text": [
      "100%|██████████| 774/774 [02:54<00:00,  4.44it/s]\n"
     ]
    }
   ],
   "source": [
    "items = []\n",
    "for i in tqdm(dl):\n",
    "    items.append(i['audio'].shape[0])\n",
    "    "
   ]
  },
  {
   "cell_type": "code",
   "execution_count": 192,
   "metadata": {},
   "outputs": [
    {
     "data": {
      "text/plain": [
       "73.38888888888889"
      ]
     },
     "execution_count": 192,
     "metadata": {},
     "output_type": "execute_result"
    }
   ],
   "source": [
    "sum(items)/len(items)"
   ]
  },
  {
   "cell_type": "code",
   "execution_count": 84,
   "metadata": {},
   "outputs": [],
   "source": [
    "def create_subbatches_eval(audio, audio_lens, text, speakers, segment_lens): # for loops ):\n",
    "    max_segment_len = segment_lens.max()\n",
    "    text = np.array(text)\n",
    "    speakers = np.array(speakers)\n",
    "\n",
    "    culm_seglens = segment_lens.cumsum(dim=0)\n",
    "    cur_positions = culm_seglens - segment_lens\n",
    "    sub_batches_indices = []\n",
    "\n",
    "    # first get indices for each sub batch of the \"rnn\"\n",
    "    for ix in range(max_segment_len):\n",
    "        indices = []\n",
    "        for iz in range(len(segment_lens)):\n",
    "            pos = cur_positions[iz].item()\n",
    "            if pos < culm_seglens[iz]:\n",
    "                indices.append(pos)\n",
    "                cur_positions[iz] += 1\n",
    "            else:\n",
    "                indices.append(-1)\n",
    "        sub_batches_indices.append(torch.tensor(indices, dtype=torch.long))\n",
    "    ####\n",
    "    ### after each forward pass the model will return the cached kvs\n",
    "    # this gets the indices of the correct kvs for the next forward pass\n",
    "    non_empty_indices = torch.arange(len(segment_lens), dtype=torch.long)\n",
    "    prev_non_empty_fetch = []\n",
    "    for i in range(len(sub_batches_indices)):\n",
    "        cur = sub_batches_indices[i]\n",
    "        cur = cur[sub_batches_indices[i-1] != -1] if i > 0 else cur\n",
    "        non_empty_indices = non_empty_indices[cur != -1]\n",
    "        prev_non_empty_fetch.append(non_empty_indices.clone())\n",
    "        non_empty_indices = torch.arange(len(non_empty_indices), dtype=torch.long)\n",
    "    ####\n",
    "    sub_batches = []\n",
    "    for i, ix in enumerate(sub_batches_indices):\n",
    "        sbi = ix[ix != -1]\n",
    "        cur_audio, cur_audio_lens, cur_text, cur_speakers = audio[sbi], audio_lens[sbi], text[sbi], speakers[sbi]\n",
    "        # trim audio and tokens to max length in sub batch\n",
    "        max_cur_audio_len = cur_audio_lens.max()\n",
    "        cur_audio = cur_audio[:, :max_cur_audio_len]\n",
    "        sub_batches.append({\n",
    "            'audio': cur_audio,\n",
    "            'audio_lens': cur_audio_lens,\n",
    "            'text': cur_text.tolist(),\n",
    "            'speakers': cur_speakers.tolist(),\n",
    "            'prev_state_indices': prev_non_empty_fetch[i] if i > 0 else None, # for the first sub batch there is no previous state  \n",
    "        })\n",
    "        \n",
    "    return sub_batches"
   ]
  },
  {
   "cell_type": "code",
   "execution_count": 85,
   "metadata": {},
   "outputs": [],
   "source": [
    "import numpy as np"
   ]
  },
  {
   "cell_type": "code",
   "execution_count": 86,
   "metadata": {},
   "outputs": [
    {
     "data": {
      "text/plain": [
       "array([['was trying to think how is sync connected to happiness and it occurred to me'],\n",
       "       [\"we like to dance together we like singing together and so if you'll put up with this i would like to\"]],\n",
       "      dtype='<U295')"
      ]
     },
     "execution_count": 86,
     "metadata": {},
     "output_type": "execute_result"
    }
   ],
   "source": [
    "np.array(z['text'])[[0,2]]"
   ]
  },
  {
   "cell_type": "code",
   "execution_count": 87,
   "metadata": {},
   "outputs": [
    {
     "data": {
      "text/plain": [
       "[[['StevenStrogatz_2004R']],\n",
       " [['StevenStrogatz_2004R']],\n",
       " [['StevenStrogatz_2004R']],\n",
       " [['StevenStrogatz_2004R']],\n",
       " [['StevenStrogatz_2004R']],\n",
       " [['StevenStrogatz_2004R']],\n",
       " [['StevenStrogatz_2004R']],\n",
       " [['StevenStrogatz_2004R']],\n",
       " [['StevenStrogatz_2004R']],\n",
       " [['StevenStrogatz_2004R']],\n",
       " [['StevenStrogatz_2004R']],\n",
       " [['StevenStrogatz_2004R']],\n",
       " [['StevenStrogatz_2004R']],\n",
       " [['StevenStrogatz_2004R']],\n",
       " [['StevenStrogatz_2004R']],\n",
       " [['StevenStrogatz_2004R']],\n",
       " [['StevenStrogatz_2004R']],\n",
       " [['StevenStrogatz_2004R']],\n",
       " [['StevenStrogatz_2004R']],\n",
       " [['StevenStrogatz_2004R']],\n",
       " [['StevenStrogatz_2004R']],\n",
       " [['StevenStrogatz_2004R']],\n",
       " [['StevenStrogatz_2004R']],\n",
       " [['StevenStrogatz_2004R']],\n",
       " [['StevenStrogatz_2004R']],\n",
       " [['StevenStrogatz_2004R']],\n",
       " [['StevenStrogatz_2004R']],\n",
       " [['StevenStrogatz_2004R']],\n",
       " [['StevenStrogatz_2004R']],\n",
       " [['StevenStrogatz_2004R']],\n",
       " [['StevenStrogatz_2004R']],\n",
       " [['StevenStrogatz_2004R']],\n",
       " [['StevenStrogatz_2004R']],\n",
       " [['StevenStrogatz_2004R']],\n",
       " [['StevenStrogatz_2004R']],\n",
       " [['StevenStrogatz_2004R']],\n",
       " [['StevenStrogatz_2004R']],\n",
       " [['StevenStrogatz_2004R']],\n",
       " [['StevenStrogatz_2004R']],\n",
       " [['StevenStrogatz_2004R']],\n",
       " [['StevenStrogatz_2004R']],\n",
       " [['StevenStrogatz_2004R']],\n",
       " [['StevenStrogatz_2004R']],\n",
       " [['StevenStrogatz_2004R']],\n",
       " [['StevenStrogatz_2004R']],\n",
       " [['StevenStrogatz_2004R']],\n",
       " [['StevenStrogatz_2004R']],\n",
       " [['StevenStrogatz_2004R']],\n",
       " [['StevenStrogatz_2004R']],\n",
       " [['StevenStrogatz_2004R']],\n",
       " [['StevenStrogatz_2004R']],\n",
       " [['StevenStrogatz_2004R']],\n",
       " [['StevenStrogatz_2004R']],\n",
       " [['StevenStrogatz_2004R']],\n",
       " [['StevenStrogatz_2004R']],\n",
       " [['StevenStrogatz_2004R']],\n",
       " [['StevenStrogatz_2004R']],\n",
       " [['StevenStrogatz_2004R']],\n",
       " [['StevenStrogatz_2004R']],\n",
       " [['StevenStrogatz_2004R']],\n",
       " [['StevenStrogatz_2004R']],\n",
       " [['StevenStrogatz_2004R']],\n",
       " [['StevenStrogatz_2004R']],\n",
       " [['StevenStrogatz_2004R']],\n",
       " [['StevenStrogatz_2004R']],\n",
       " [['StevenStrogatz_2004R']],\n",
       " [['StevenStrogatz_2004R']],\n",
       " [['StevenStrogatz_2004R']],\n",
       " [['StevenStrogatz_2004R']],\n",
       " [['StevenStrogatz_2004R']],\n",
       " [['StevenStrogatz_2004R']],\n",
       " [['StevenStrogatz_2004R']],\n",
       " [['StevenStrogatz_2004R']],\n",
       " [['StevenStrogatz_2004R']],\n",
       " [['StevenStrogatz_2004R']],\n",
       " [['StevenStrogatz_2004R']],\n",
       " [['StevenStrogatz_2004R']],\n",
       " [['StevenStrogatz_2004R']],\n",
       " [['StevenStrogatz_2004R']],\n",
       " [['StevenStrogatz_2004R']],\n",
       " [['StevenStrogatz_2004R']],\n",
       " [['StevenStrogatz_2004R']],\n",
       " [['StevenStrogatz_2004R']],\n",
       " [['StevenStrogatz_2004R']],\n",
       " [['StevenStrogatz_2004R']],\n",
       " [['StevenStrogatz_2004R']],\n",
       " [['StevenStrogatz_2004R']],\n",
       " [['StevenStrogatz_2004R']],\n",
       " [['StevenStrogatz_2004R']],\n",
       " [['StevenStrogatz_2004R']],\n",
       " [['StevenStrogatz_2004R']],\n",
       " [['StevenStrogatz_2004R']],\n",
       " [['StevenStrogatz_2004R']],\n",
       " [['StevenStrogatz_2004R']],\n",
       " [['StevenStrogatz_2004R']],\n",
       " [['StevenStrogatz_2004R']],\n",
       " [['StevenStrogatz_2004R']],\n",
       " [['StevenStrogatz_2004R']],\n",
       " [['StevenStrogatz_2004R']],\n",
       " [['StevenStrogatz_2004R']],\n",
       " [['StevenStrogatz_2004R']],\n",
       " [['StevenStrogatz_2004R']],\n",
       " [['StevenStrogatz_2004R']],\n",
       " [['StevenStrogatz_2004R']],\n",
       " [['StevenStrogatz_2004R']],\n",
       " [['StevenStrogatz_2004R']],\n",
       " [['StevenStrogatz_2004R']],\n",
       " [['StevenStrogatz_2004R']],\n",
       " [['StevenStrogatz_2004R']],\n",
       " [['StevenStrogatz_2004R']],\n",
       " [['StevenStrogatz_2004R']],\n",
       " [['StevenStrogatz_2004R']],\n",
       " [['StevenStrogatz_2004R']],\n",
       " [['StevenStrogatz_2004R']],\n",
       " [['StevenStrogatz_2004R']],\n",
       " [['StevenStrogatz_2004R']],\n",
       " [['StevenStrogatz_2004R']],\n",
       " [['StevenStrogatz_2004R']],\n",
       " [['StevenStrogatz_2004R']],\n",
       " [['StevenStrogatz_2004R']],\n",
       " [['StevenStrogatz_2004R']],\n",
       " [['StevenStrogatz_2004R']],\n",
       " [['StevenStrogatz_2004R']],\n",
       " [['StevenStrogatz_2004R']],\n",
       " [['StevenStrogatz_2004R']],\n",
       " [['StevenStrogatz_2004R']],\n",
       " [['StevenStrogatz_2004R']],\n",
       " [['StevenStrogatz_2004R']],\n",
       " [['StevenStrogatz_2004R']],\n",
       " [['StevenStrogatz_2004R']],\n",
       " [['StevenStrogatz_2004R']],\n",
       " [['StevenStrogatz_2004R']],\n",
       " [['StevenStrogatz_2004R']],\n",
       " [['StevenStrogatz_2004R']],\n",
       " [['StevenStrogatz_2004R']],\n",
       " [['StevenStrogatz_2004R']],\n",
       " [['StevenStrogatz_2004R']],\n",
       " [['StevenStrogatz_2004R']],\n",
       " [['StevenStrogatz_2004R']],\n",
       " [['AimeeMullins_1998']],\n",
       " [['AimeeMullins_1998']],\n",
       " [['AimeeMullins_1998']],\n",
       " [['AimeeMullins_1998']],\n",
       " [['AimeeMullins_1998']],\n",
       " [['AimeeMullins_1998']],\n",
       " [['AimeeMullins_1998']],\n",
       " [['AimeeMullins_1998']],\n",
       " [['AimeeMullins_1998']],\n",
       " [['AimeeMullins_1998']],\n",
       " [['AimeeMullins_1998']],\n",
       " [['AimeeMullins_1998']],\n",
       " [['AimeeMullins_1998']],\n",
       " [['AimeeMullins_1998']],\n",
       " [['AimeeMullins_1998']],\n",
       " [['AimeeMullins_1998']],\n",
       " [['AimeeMullins_1998']],\n",
       " [['AimeeMullins_1998']],\n",
       " [['AimeeMullins_1998']],\n",
       " [['AimeeMullins_1998']],\n",
       " [['AimeeMullins_1998']],\n",
       " [['AimeeMullins_1998']],\n",
       " [['AimeeMullins_1998']],\n",
       " [['AimeeMullins_1998']],\n",
       " [['AimeeMullins_1998']],\n",
       " [['AimeeMullins_1998']],\n",
       " [['AimeeMullins_1998']],\n",
       " [['AimeeMullins_1998']],\n",
       " [['AimeeMullins_1998']],\n",
       " [['AimeeMullins_1998']],\n",
       " [['AimeeMullins_1998']],\n",
       " [['AimeeMullins_1998']],\n",
       " [['AimeeMullins_1998']],\n",
       " [['AimeeMullins_1998']],\n",
       " [['AimeeMullins_1998']],\n",
       " [['AimeeMullins_1998']],\n",
       " [['AimeeMullins_1998']],\n",
       " [['AimeeMullins_1998']],\n",
       " [['AimeeMullins_1998']],\n",
       " [['AimeeMullins_1998']],\n",
       " [['AimeeMullins_1998']],\n",
       " [['AimeeMullins_1998']],\n",
       " [['AimeeMullins_1998']],\n",
       " [['AimeeMullins_1998']],\n",
       " [['AimeeMullins_1998']],\n",
       " [['AimeeMullins_1998']],\n",
       " [['AimeeMullins_1998']],\n",
       " [['AimeeMullins_1998']],\n",
       " [['AimeeMullins_1998']],\n",
       " [['AimeeMullins_1998']],\n",
       " [['AimeeMullins_1998']],\n",
       " [['AimeeMullins_1998']],\n",
       " [['AimeeMullins_1998']],\n",
       " [['AimeeMullins_1998']],\n",
       " [['AimeeMullins_1998']],\n",
       " [['AimeeMullins_1998']],\n",
       " [['AimeeMullins_1998']],\n",
       " [['AimeeMullins_1998']],\n",
       " [['AimeeMullins_1998']],\n",
       " [['AimeeMullins_1998']],\n",
       " [['AimeeMullins_1998']],\n",
       " [['AimeeMullins_1998']],\n",
       " [['AimeeMullins_1998']],\n",
       " [['AimeeMullins_1998']],\n",
       " [['AimeeMullins_1998']],\n",
       " [['AimeeMullins_1998']],\n",
       " [['AimeeMullins_1998']],\n",
       " [['AimeeMullins_1998']],\n",
       " [['AimeeMullins_1998']],\n",
       " [['AimeeMullins_1998']],\n",
       " [['AimeeMullins_1998']],\n",
       " [['AimeeMullins_1998']],\n",
       " [['AimeeMullins_1998']],\n",
       " [['AimeeMullins_1998']],\n",
       " [['AimeeMullins_1998']],\n",
       " [['AimeeMullins_1998']],\n",
       " [['AimeeMullins_1998']],\n",
       " [['AimeeMullins_1998']],\n",
       " [['AimeeMullins_1998']],\n",
       " [['AimeeMullins_1998']],\n",
       " [['AimeeMullins_1998']],\n",
       " [['AimeeMullins_1998']],\n",
       " [['AimeeMullins_1998']],\n",
       " [['TheLXD_2010']],\n",
       " [['TheLXD_2010']],\n",
       " [['TheLXD_2010']],\n",
       " [['TheLXD_2010']],\n",
       " [['TheLXD_2010']],\n",
       " [['TheLXD_2010']],\n",
       " [['TheLXD_2010']],\n",
       " [['TheLXD_2010']],\n",
       " [['TheLXD_2010']],\n",
       " [['TheLXD_2010']],\n",
       " [['TheLXD_2010']],\n",
       " [['TheLXD_2010']],\n",
       " [['TheLXD_2010']],\n",
       " [['TheLXD_2010']],\n",
       " [['HillelCooperman_2010U']],\n",
       " [['HillelCooperman_2010U']],\n",
       " [['HillelCooperman_2010U']],\n",
       " [['HillelCooperman_2010U']],\n",
       " [['HillelCooperman_2010U']],\n",
       " [['HillelCooperman_2010U']],\n",
       " [['HillelCooperman_2010U']],\n",
       " [['HillelCooperman_2010U']],\n",
       " [['HillelCooperman_2010U']],\n",
       " [['HillelCooperman_2010U']],\n",
       " [['HillelCooperman_2010U']],\n",
       " [['HillelCooperman_2010U']],\n",
       " [['HillelCooperman_2010U']],\n",
       " [['HillelCooperman_2010U']],\n",
       " [['HillelCooperman_2010U']],\n",
       " [['HillelCooperman_2010U']],\n",
       " [['HillelCooperman_2010U']],\n",
       " [['HillelCooperman_2010U']],\n",
       " [['HillelCooperman_2010U']],\n",
       " [['HillelCooperman_2010U']],\n",
       " [['HillelCooperman_2010U']],\n",
       " [['HillelCooperman_2010U']],\n",
       " [['HillelCooperman_2010U']],\n",
       " [['HillelCooperman_2010U']],\n",
       " [['HillelCooperman_2010U']],\n",
       " [['HillelCooperman_2010U']],\n",
       " [['HillelCooperman_2010U']],\n",
       " [['HillelCooperman_2010U']],\n",
       " [['VusiMahlaselaSONGOFMAMA_2007G']],\n",
       " [['VusiMahlaselaSONGOFMAMA_2007G']],\n",
       " [['VusiMahlaselaSONGOFMAMA_2007G']],\n",
       " [['VusiMahlaselaSONGOFMAMA_2007G']],\n",
       " [['VusiMahlaselaSONGOFMAMA_2007G']],\n",
       " [['VusiMahlaselaSONGOFMAMA_2007G']],\n",
       " [['VusiMahlaselaSONGOFMAMA_2007G']],\n",
       " [['VusiMahlaselaSONGOFMAMA_2007G']],\n",
       " [['VusiMahlaselaSONGOFMAMA_2007G']],\n",
       " [['VusiMahlaselaSONGOFMAMA_2007G']],\n",
       " [['VusiMahlaselaSONGOFMAMA_2007G']],\n",
       " [['VusiMahlaselaSONGOFMAMA_2007G']],\n",
       " [['VusiMahlaselaSONGOFMAMA_2007G']],\n",
       " [['VusiMahlaselaSONGOFMAMA_2007G']],\n",
       " [['VusiMahlaselaSONGOFMAMA_2007G']],\n",
       " [['VusiMahlaselaSONGOFMAMA_2007G']],\n",
       " [['VusiMahlaselaSONGOFMAMA_2007G']],\n",
       " [['VusiMahlaselaSONGOFMAMA_2007G']],\n",
       " [['VusiMahlaselaSONGOFMAMA_2007G']],\n",
       " [['VusiMahlaselaSONGOFMAMA_2007G']],\n",
       " [['VusiMahlaselaSONGOFMAMA_2007G']],\n",
       " [['VusiMahlaselaSONGOFMAMA_2007G']],\n",
       " [['VusiMahlaselaSONGOFMAMA_2007G']],\n",
       " [['VusiMahlaselaSONGOFMAMA_2007G']],\n",
       " [['JakeShimabukuro_2010']],\n",
       " [['JakeShimabukuro_2010']],\n",
       " [['VanJones_2010X']],\n",
       " [['VanJones_2010X']],\n",
       " [['VanJones_2010X']],\n",
       " [['VanJones_2010X']],\n",
       " [['VanJones_2010X']],\n",
       " [['VanJones_2010X']],\n",
       " [['VanJones_2010X']],\n",
       " [['VanJones_2010X']],\n",
       " [['VanJones_2010X']],\n",
       " [['VanJones_2010X']],\n",
       " [['VanJones_2010X']],\n",
       " [['VanJones_2010X']],\n",
       " [['VanJones_2010X']],\n",
       " [['VanJones_2010X']],\n",
       " [['VanJones_2010X']],\n",
       " [['VanJones_2010X']],\n",
       " [['VanJones_2010X']],\n",
       " [['VanJones_2010X']],\n",
       " [['VanJones_2010X']],\n",
       " [['VanJones_2010X']],\n",
       " [['VanJones_2010X']],\n",
       " [['VanJones_2010X']],\n",
       " [['VanJones_2010X']],\n",
       " [['VanJones_2010X']],\n",
       " [['VanJones_2010X']],\n",
       " [['VanJones_2010X']],\n",
       " [['VanJones_2010X']],\n",
       " [['VanJones_2010X']],\n",
       " [['VanJones_2010X']],\n",
       " [['VanJones_2010X']],\n",
       " [['VanJones_2010X']],\n",
       " [['VanJones_2010X']],\n",
       " [['VanJones_2010X']],\n",
       " [['VanJones_2010X']],\n",
       " [['VanJones_2010X']],\n",
       " [['VanJones_2010X']],\n",
       " [['VanJones_2010X']],\n",
       " [['VanJones_2010X']],\n",
       " [['VanJones_2010X']],\n",
       " [['VanJones_2010X']],\n",
       " [['VanJones_2010X']],\n",
       " [['VanJones_2010X']],\n",
       " [['VanJones_2010X']],\n",
       " [['VanJones_2010X']],\n",
       " [['VanJones_2010X']],\n",
       " [['VanJones_2010X']],\n",
       " [['VanJones_2010X']],\n",
       " [['VanJones_2010X']],\n",
       " [['VanJones_2010X']],\n",
       " [['VanJones_2010X']],\n",
       " [['VanJones_2010X']],\n",
       " [['VanJones_2010X']],\n",
       " [['JohnDoerr_2007']],\n",
       " [['JohnDoerr_2007']],\n",
       " [['JohnDoerr_2007']],\n",
       " [['JohnDoerr_2007']],\n",
       " [['JohnDoerr_2007']],\n",
       " [['JohnDoerr_2007']],\n",
       " [['JohnDoerr_2007']],\n",
       " [['JohnDoerr_2007']],\n",
       " [['JohnDoerr_2007']],\n",
       " [['JohnDoerr_2007']],\n",
       " [['JohnDoerr_2007']],\n",
       " [['JohnDoerr_2007']],\n",
       " [['JohnDoerr_2007']],\n",
       " [['JohnDoerr_2007']],\n",
       " [['JohnDoerr_2007']],\n",
       " [['JohnDoerr_2007']],\n",
       " [['JohnDoerr_2007']],\n",
       " [['JohnDoerr_2007']],\n",
       " [['JohnDoerr_2007']],\n",
       " [['JohnDoerr_2007']],\n",
       " [['JohnDoerr_2007']],\n",
       " [['JohnDoerr_2007']],\n",
       " [['JohnDoerr_2007']],\n",
       " [['JohnDoerr_2007']],\n",
       " [['JohnDoerr_2007']],\n",
       " [['JohnDoerr_2007']],\n",
       " [['JohnDoerr_2007']],\n",
       " [['JohnDoerr_2007']],\n",
       " [['JohnDoerr_2007']],\n",
       " [['JohnDoerr_2007']],\n",
       " [['JohnDoerr_2007']],\n",
       " [['JohnDoerr_2007']],\n",
       " [['JohnDoerr_2007']],\n",
       " [['JohnDoerr_2007']],\n",
       " [['JohnDoerr_2007']],\n",
       " [['JohnDoerr_2007']],\n",
       " [['JohnDoerr_2007']],\n",
       " [['JohnDoerr_2007']],\n",
       " [['JohnDoerr_2007']],\n",
       " [['JohnDoerr_2007']],\n",
       " [['JohnDoerr_2007']],\n",
       " [['JohnDoerr_2007']],\n",
       " [['JohnDoerr_2007']],\n",
       " [['JohnDoerr_2007']],\n",
       " [['JohnDoerr_2007']],\n",
       " [['JohnDoerr_2007']],\n",
       " [['JohnDoerr_2007']],\n",
       " [['JohnDoerr_2007']],\n",
       " [['JohnDoerr_2007']],\n",
       " [['JohnDoerr_2007']],\n",
       " [['JohnDoerr_2007']],\n",
       " [['JohnDoerr_2007']],\n",
       " [['JohnDoerr_2007']],\n",
       " [['JohnDoerr_2007']],\n",
       " [['JohnDoerr_2007']],\n",
       " [['JohnDoerr_2007']],\n",
       " [['JohnDoerr_2007']],\n",
       " [['JohnDoerr_2007']],\n",
       " [['JohnDoerr_2007']]]"
      ]
     },
     "execution_count": 87,
     "metadata": {},
     "output_type": "execute_result"
    }
   ],
   "source": [
    "z['speakers']"
   ]
  },
  {
   "cell_type": "code",
   "execution_count": 88,
   "metadata": {},
   "outputs": [
    {
     "data": {
      "text/plain": [
       "dict_keys(['audio', 'audio_lens', 'text', 'speakers', 'segment_lens'])"
      ]
     },
     "execution_count": 88,
     "metadata": {},
     "output_type": "execute_result"
    }
   ],
   "source": [
    "z.keys()"
   ]
  },
  {
   "cell_type": "code",
   "execution_count": 94,
   "metadata": {},
   "outputs": [],
   "source": [
    "sbi = create_subbatches_eval(**z)[-5]['speakers']"
   ]
  },
  {
   "cell_type": "code",
   "execution_count": 96,
   "metadata": {},
   "outputs": [
    {
     "data": {
      "text/plain": [
       "['StevenStrogatz_2004R',\n",
       " 'StevenStrogatz_2004R',\n",
       " 'StevenStrogatz_2004R',\n",
       " 'StevenStrogatz_2004R',\n",
       " 'StevenStrogatz_2004R',\n",
       " 'StevenStrogatz_2004R',\n",
       " 'StevenStrogatz_2004R',\n",
       " 'StevenStrogatz_2004R',\n",
       " 'AimeeMullins_1998',\n",
       " 'AimeeMullins_1998',\n",
       " 'JohnDoerr_2007']"
      ]
     },
     "execution_count": 96,
     "metadata": {},
     "output_type": "execute_result"
    }
   ],
   "source": [
    "[\"_\".join(el[0]) for el in sbi]"
   ]
  },
  {
   "cell_type": "code",
   "execution_count": 19,
   "metadata": {},
   "outputs": [],
   "source": [
    "def create_subbatches(audio, audio_lens, tokens, token_lens, segment_lens): # for loops ):\n",
    "    max_segment_len = segment_lens.max()\n",
    "\n",
    "    culm_seglens = segment_lens.cumsum(dim=0)\n",
    "    cur_positions = culm_seglens - segment_lens\n",
    "    sub_batches_indices = []\n",
    "\n",
    "    # first get indices for each sub batch of the \"rnn\"\n",
    "    for ix in range(max_segment_len):\n",
    "        indices = []\n",
    "        for iz in range(len(segment_lens)):\n",
    "            pos = cur_positions[iz].item()\n",
    "            if pos < culm_seglens[iz]:\n",
    "                indices.append(pos)\n",
    "                cur_positions[iz] += 1\n",
    "            else:\n",
    "                indices.append(-1)\n",
    "        sub_batches_indices.append(torch.tensor(indices, dtype=torch.long))\n",
    "    ####\n",
    "    ### after each forward pass the model will return the cached kvs\n",
    "    # this gets the indices of the correct kvs for the next forward pass\n",
    "    non_empty_indices = torch.arange(len(segment_lens), dtype=torch.long)\n",
    "    prev_non_empty_fetch = []\n",
    "    for i in range(len(sub_batches_indices)):\n",
    "        cur = sub_batches_indices[i]\n",
    "        cur = cur[sub_batches_indices[i-1] != -1] if i > 0 else cur\n",
    "        non_empty_indices = non_empty_indices[cur != -1]\n",
    "        prev_non_empty_fetch.append(non_empty_indices.clone())\n",
    "        non_empty_indices = torch.arange(len(non_empty_indices), dtype=torch.long)\n",
    "    ####\n",
    "    sub_batches = []\n",
    "    for i, ix in enumerate(sub_batches_indices):\n",
    "        sbi = ix[ix != -1]\n",
    "        cur_audio, cur_audio_lens, cur_tokens, cur_token_lens = audio[sbi], audio_lens[sbi], tokens[sbi], token_lens[sbi]\n",
    "        # trim audio and tokens to max length in sub batch\n",
    "        max_cur_audio_len, max_cur_token_len = cur_audio_lens.max(), cur_token_lens.max()\n",
    "        cur_audio, cur_tokens = cur_audio[:, :max_cur_audio_len], cur_tokens[:, :max_cur_token_len]\n",
    "        sub_batches.append({\n",
    "            'audio': cur_audio,\n",
    "            'audio_lens': cur_audio_lens,\n",
    "            'tokens': cur_tokens,\n",
    "            'token_lens': cur_token_lens,\n",
    "            'prev_state_indices': prev_non_empty_fetch[i] if i > 0 else None, # for the first sub batch there is no previous state  \n",
    "        })\n",
    "        \n",
    "    return sub_batches"
   ]
  },
  {
   "cell_type": "code",
   "execution_count": 1,
   "metadata": {},
   "outputs": [
    {
     "name": "stdout",
     "output_type": "stream",
     "text": [
      "/exp/exp1/acp21rjf/deliberation/speachy/tedlium\n"
     ]
    }
   ],
   "source": [
    "%cd ../tedlium"
   ]
  },
  {
   "cell_type": "code",
   "execution_count": 2,
   "metadata": {},
   "outputs": [],
   "source": [
    "import torch, pickle as pkl"
   ]
  },
  {
   "cell_type": "code",
   "execution_count": 3,
   "metadata": {},
   "outputs": [
    {
     "name": "stdout",
     "output_type": "stream",
     "text": [
      "attn_0.pkl\t\t\t\t    get_oracle_wer.py\n",
      "attn_10.pkl\t\t\t\t    lm\n",
      "attn_11.pkl\t\t\t\t    lm_exps\n",
      "attn_1.pkl\t\t\t\t    lm_utils.py\n",
      "attn_2.pkl\t\t\t\t    log.txt\n",
      "attn_3.pkl\t\t\t\t    model_utils.py\n",
      "attn_4.pkl\t\t\t\t    ngrams\n",
      "attn_5.pkl\t\t\t\t    non_iid_dataloader.py\n",
      "attn_6.pkl\t\t\t\t    old\n",
      "attn_7.pkl\t\t\t\t    plain_text\n",
      "attn_8.pkl\t\t\t\t    __pycache__\n",
      "attn_9.pkl\t\t\t\t    testing.json\n",
      "bias.pkl\t\t\t\t    tokenizers\n",
      "bin\t\t\t\t\t    tools.py\n",
      "checkpoint_cosine_d0\t\t\t    train_block_reccurrent.py\n",
      "checkpoint_cosine_ths_d050_ss\t\t    train_conformer_rnn.sh\n",
      "checkpoint_cosine_ths_d050_ss_30s\t    train_H.py\n",
      "checkpoints_conformer_xl_test\t\t    train_LM.py\n",
      "checkpoints_cosine_hydra_d10_30_hydra_attn  train_lm.sh\n",
      "create_tokenizer\t\t\t    train_long_context.sh\n",
      "eval_ctc.py\t\t\t\t    train_roberta.sh\n",
      "eval_ctc_xl.py\t\t\t\t    trns\n",
      "eval_perplexity_pretrained.py\t\t    Untitled-1.ipynb\n",
      "eval_perplexity.py\t\t\t    wandb\n",
      "generate_multi_hypothesis.py\n"
     ]
    }
   ],
   "source": [
    "!ls"
   ]
  },
  {
   "cell_type": "code",
   "execution_count": 4,
   "metadata": {},
   "outputs": [],
   "source": [
    "attn_layers = []\n",
    "for i in range(12):\n",
    "    with open(f'attn_{i}.pkl', 'rb') as f:\n",
    "        attn_layers.append(pkl.load(f))\n",
    "attn_layers = torch.stack(attn_layers)"
   ]
  },
  {
   "cell_type": "code",
   "execution_count": 5,
   "metadata": {},
   "outputs": [],
   "source": [
    "with open('bias.pkl', 'rb') as f:\n",
    "    pos = pkl.load(f)"
   ]
  },
  {
   "cell_type": "code",
   "execution_count": 7,
   "metadata": {},
   "outputs": [
    {
     "data": {
      "text/plain": [
       "tensor(3.5148e-05)"
      ]
     },
     "execution_count": 7,
     "metadata": {},
     "output_type": "execute_result"
    }
   ],
   "source": [
    "attn_layers[0,0,0,0,0]"
   ]
  },
  {
   "cell_type": "code",
   "execution_count": 8,
   "metadata": {},
   "outputs": [],
   "source": [
    "import matplotlib.pyplot as plt"
   ]
  },
  {
   "cell_type": "code",
   "execution_count": 11,
   "metadata": {},
   "outputs": [
    {
     "data": {
      "text/plain": [
       "torch.Size([532, 684])"
      ]
     },
     "execution_count": 11,
     "metadata": {},
     "output_type": "execute_result"
    }
   ],
   "source": [
    "attn_layers[L, B, H, :, :].shape"
   ]
  },
  {
   "cell_type": "code",
   "execution_count": 24,
   "metadata": {},
   "outputs": [
    {
     "data": {
      "image/png": "[encoded data removed]",
      "text/plain": [
       "<Figure size 640x480 with 1 Axes>"
      ]
     },
     "metadata": {},
     "output_type": "display_data"
    }
   ],
   "source": [
    "N = 49\n",
    "B = 0\n",
    "H = 3\n",
    "L = 7\n",
    "specific_head = False\n",
    "plt.plot(attn_layers[L, B, :, L, :].T) if specific_head == False else plt.plot(attn_layers[L, B, H, N, :])\n",
    "legend = [f'head {i}' for i in range(attn_layers.shape[2])] if specific_head == False else [f'layer {i}' for i in range(attn_layers.shape[0])]\n",
    "plt.legend(legend, loc='upper right')\n",
    "#plt.scatter(y=attn_layers[L, B, H, N, :1000].T, x=torch.arange(attn_layers.shape[-1])[:1000], s=3, c='r')\n",
    "plt.show()\n",
    "#plt.scatter(torch.arange(attn_layers.shape[-1]), attn_layers[L, B, H, N, :], s=2, c='r')"
   ]
  },
  {
   "cell_type": "code",
   "execution_count": null,
   "metadata": {},
   "outputs": [],
   "source": []
  },
  {
   "cell_type": "code",
   "execution_count": 251,
   "metadata": {},
   "outputs": [
    {
     "data": {
      "text/plain": [
       "torch.Size([8, 287, 562])"
      ]
     },
     "execution_count": 251,
     "metadata": {},
     "output_type": "execute_result"
    }
   ],
   "source": [
    "pos.shape"
   ]
  },
  {
   "cell_type": "code",
   "execution_count": 25,
   "metadata": {},
   "outputs": [
    {
     "data": {
      "text/plain": [
       "tensor([0.1503, 0.1503, 0.1503, 0.1503, 0.1503, 0.1503, 0.1503, 0.1503, 0.1503,\n",
       "        0.1503, 0.1503, 0.1503, 0.1503, 0.1503, 0.1503, 0.1503, 0.1503, 0.1503,\n",
       "        0.1503, 0.1503, 0.1503, 0.1503, 0.1503, 0.1503, 0.1503, 0.1503, 0.1503,\n",
       "        0.1503, 0.1503, 0.1503, 0.1503, 0.1503, 0.1503, 0.1503, 0.1503, 0.1503,\n",
       "        0.1503, 0.1503, 0.1503, 0.1503, 0.1503, 0.1503, 0.1503, 0.1503, 0.1503,\n",
       "        0.1503, 0.1503, 0.1503, 0.1503, 0.1503, 0.1503, 0.1503, 0.1503, 0.1503,\n",
       "        0.1503, 0.1503, 0.1503, 0.1503, 0.1503, 0.1503, 0.1503, 0.1503, 0.1503,\n",
       "        0.1503, 0.1503, 0.1503, 0.1503, 0.1503, 0.1503, 0.1503, 0.1503, 0.1503,\n",
       "        0.1503, 0.1503, 0.1503, 0.1503, 0.1503, 0.1503, 0.1503, 0.1503, 0.1503,\n",
       "        0.1503, 0.1503, 0.1503, 0.1503, 0.1503, 0.1503, 0.1503, 0.1503, 0.1503,\n",
       "        0.1503, 0.1503, 0.1503, 0.1503, 0.1503, 0.1503, 0.1503, 0.1503, 0.1503,\n",
       "        0.1503, 0.1503, 0.1503, 0.1503, 0.1503, 0.1503, 0.1503, 0.1503, 0.1503,\n",
       "        0.1503, 0.1503, 0.1503, 0.1503, 0.1503, 0.1503, 0.1503, 0.1503, 0.1503,\n",
       "        0.1503, 0.1503, 0.1503, 0.1503, 0.1503, 0.1503, 0.1503, 0.1503, 0.1503,\n",
       "        0.1503, 0.1503, 0.1503, 0.1503, 0.1503, 0.1503, 0.1503, 0.1503, 0.1503,\n",
       "        0.1503, 0.1503, 0.1503, 0.1503, 0.1503, 0.1503, 0.1503, 0.1503, 0.1503,\n",
       "        0.1503, 0.1503, 0.1503, 0.1503, 0.1503, 0.1503, 0.1503, 0.1503, 0.1503,\n",
       "        0.1503, 0.1503, 0.1503, 0.1503, 0.1503, 0.1503, 0.1503, 0.1503, 0.1503,\n",
       "        0.1503, 0.1503, 0.1503, 0.1503, 0.1503, 0.1503, 0.1503, 0.1503, 0.1503,\n",
       "        0.1503, 0.1503, 0.1503, 0.1503, 0.1503, 0.1503, 0.1503, 0.1503, 0.1503,\n",
       "        0.1503, 0.1503, 0.1503, 0.1503, 0.1503, 0.1503, 0.1503, 0.1503, 0.1503,\n",
       "        0.1503, 0.1503, 0.1503, 0.1503, 0.1503, 0.1503, 0.1503, 0.1503, 0.1503,\n",
       "        0.1503, 0.1503, 0.1503, 0.1503, 0.1503, 0.1503, 0.1503, 0.1503, 0.1503,\n",
       "        0.1503, 0.1503, 0.1503, 0.1503, 0.1503, 0.1503, 0.1503, 0.1503, 0.1503,\n",
       "        0.1503, 0.1503, 0.1503, 0.1503, 0.1503, 0.1503, 0.1503, 0.1503, 0.1503,\n",
       "        0.1503, 0.1503, 0.1503, 0.1503, 0.1503, 0.1503, 0.1503, 0.1503, 0.1503,\n",
       "        0.1503, 0.1503, 0.1503, 0.1503, 0.1503, 0.1503, 0.1503, 0.1503, 0.1503,\n",
       "        0.1503, 0.1503, 0.1503, 0.1503, 0.1503, 0.1503, 0.1503, 0.1503, 0.1503,\n",
       "        0.1503, 0.1503, 0.1503, 0.1503, 0.1503, 0.1503, 0.1503, 0.1503, 0.1503,\n",
       "        0.1503, 0.1503, 0.1503, 0.1503, 0.1503, 0.1503, 0.1503, 0.1503, 0.1503,\n",
       "        0.1503, 0.1503, 0.1503, 0.1503, 0.1503, 0.1503, 0.1503, 0.1503, 0.1503,\n",
       "        0.1503, 0.1503, 0.1503, 0.1503, 0.1503, 0.1503, 0.1503, 0.1503, 0.1503,\n",
       "        0.1503, 0.1503, 0.1503, 0.1503, 0.1503, 0.1503, 0.1503, 0.1503, 0.1503,\n",
       "        0.1503, 0.1503, 0.1503, 0.1503, 0.1503, 0.1503, 0.1503, 0.1503, 0.1503,\n",
       "        0.1503, 0.1503, 0.1503, 0.1503, 0.1503, 0.1503, 0.1503, 0.1503, 0.1503,\n",
       "        0.1503, 0.1503, 0.1503, 0.1503, 0.1503, 0.1503, 0.1503, 0.1503, 0.1503,\n",
       "        0.1503, 0.1503, 0.1503, 0.1503, 0.1503, 0.1503, 0.1503, 0.1503, 0.1503,\n",
       "        0.1503, 0.1503, 0.1503, 0.1503, 0.1503, 0.1503, 0.1503, 0.1503, 0.1503,\n",
       "        0.1503, 0.1503, 0.1503, 0.1503, 0.1503, 0.1503, 0.1503, 0.1503, 0.1503,\n",
       "        0.1503, 0.1503, 0.1503, 0.1503, 0.1503, 0.1503, 0.1503, 0.1503, 0.1503,\n",
       "        0.1503, 0.1503, 0.1503, 0.1503, 0.1503, 0.1503, 0.1503, 0.1503, 0.1503,\n",
       "        0.1503, 0.1503, 0.1503, 0.1503, 0.1503, 0.1503, 0.1503, 0.1503, 0.1503,\n",
       "        0.1503, 0.1503, 0.1503, 0.1503, 0.1503, 0.1503, 0.1503, 0.1503, 0.1503,\n",
       "        0.1503, 0.1503, 0.1503, 0.1503, 0.1503, 0.1503, 0.1503, 0.1503, 0.1503,\n",
       "        0.1503, 0.1503, 0.1503, 0.1503, 0.1503, 0.1503, 0.1503, 0.1503, 0.1503,\n",
       "        0.1503, 0.1503, 0.1503, 0.1503, 0.1503])"
      ]
     },
     "execution_count": 25,
     "metadata": {},
     "output_type": "execute_result"
    }
   ],
   "source": [
    "pos[0, 0][562-288:]"
   ]
  },
  {
   "cell_type": "code",
   "execution_count": 26,
   "metadata": {},
   "outputs": [
    {
     "data": {
      "text/plain": [
       "tensor([0.1503, 0.1503, 0.1503, 0.1503, 0.1503, 0.1503, 0.1503, 0.1503, 0.1503,\n",
       "        0.1503, 0.1503, 0.1503, 0.1503, 0.1503, 0.1503, 0.1503, 0.1503, 0.1503,\n",
       "        0.1503, 0.1503, 0.1503, 0.1503, 0.1503, 0.1503, 0.1503, 0.1503, 0.1503,\n",
       "        0.1503, 0.1503, 0.1503, 0.1503, 0.1503, 0.1503, 0.1503, 0.1503, 0.1503,\n",
       "        0.1503, 0.1503, 0.1503, 0.1503, 0.1503, 0.1503, 0.1503, 0.1503, 0.1503,\n",
       "        0.1503, 0.1503, 0.1503, 0.1503, 0.1503, 0.1503, 0.1503, 0.1503, 0.1503,\n",
       "        0.1503, 0.1503, 0.1503, 0.1503, 0.1503, 0.1503, 0.1503, 0.1503, 0.1503,\n",
       "        0.1503, 0.1503, 0.1503, 0.1503, 0.1503, 0.1503, 0.1503, 0.1503, 0.1503,\n",
       "        0.1503, 0.1503, 0.1503, 0.1503, 0.1503, 0.1503, 0.1503, 0.1503, 0.1503,\n",
       "        0.1503, 0.1503, 0.1503, 0.1503, 0.1503, 0.1503, 0.1503, 0.1503, 0.1503,\n",
       "        0.1503, 0.1503, 0.1503, 0.1503, 0.1503, 0.1503, 0.1503, 0.1503, 0.1503,\n",
       "        0.1503, 0.1503, 0.1503, 0.1503, 0.1503, 0.1503, 0.1503, 0.1503, 0.1503,\n",
       "        0.1503, 0.1503, 0.1503, 0.1503, 0.1503, 0.1503, 0.1503, 0.1503, 0.1503,\n",
       "        0.1503, 0.1503, 0.1503, 0.1503, 0.1503, 0.1503, 0.1503, 0.1503, 0.1503,\n",
       "        0.1503, 0.1503, 0.1503, 0.1503, 0.1503, 0.1503, 0.1503, 0.1503, 0.1503,\n",
       "        0.1503, 0.1503, 0.1503, 0.1503, 0.1503, 0.1503, 0.1503, 0.1503, 0.1503,\n",
       "        0.1503, 0.1503, 0.1503, 0.1503, 0.1503, 0.1503, 0.1503, 0.1503, 0.1503,\n",
       "        0.1503, 0.1503, 0.1503, 0.1503, 0.1503, 0.1503, 0.1503, 0.1503, 0.1503,\n",
       "        0.1503, 0.1503, 0.1503, 0.1503, 0.1503, 0.1503, 0.1503, 0.1503, 0.1503,\n",
       "        0.1503, 0.1503, 0.1503, 0.1503, 0.1503, 0.1503, 0.1503, 0.1503, 0.1503,\n",
       "        0.1503, 0.1503, 0.1503, 0.1503, 0.1503, 0.1503, 0.1503, 0.1503, 0.1503,\n",
       "        0.1503, 0.1503, 0.1503, 0.1503, 0.1503, 0.1503, 0.1503, 0.1503, 0.1503,\n",
       "        0.1503, 0.1503])"
      ]
     },
     "execution_count": 26,
     "metadata": {},
     "output_type": "execute_result"
    }
   ],
   "source": [
    "pos[0,100][-200:]"
   ]
  },
  {
   "cell_type": "code",
   "execution_count": 27,
   "metadata": {},
   "outputs": [
    {
     "data": {
      "image/png": "[encoded data removed]",
      "text/plain": [
       "<Figure size 640x480 with 1 Axes>"
      ]
     },
     "metadata": {},
     "output_type": "display_data"
    },
    {
     "data": {
      "image/png": "[encoded data removed]",
      "text/plain": [
       "<Figure size 640x480 with 1 Axes>"
      ]
     },
     "metadata": {},
     "output_type": "display_data"
    }
   ],
   "source": [
    "plt.plot(pos[6, 50, :])\n",
    "plt.show()\n",
    "plt.plot(pos[:, 70, :].T)\n",
    "plt.legend([f'head {i}' for i in range(pos.shape[1])], loc='upper left')\n",
    "plt.show()\n"
   ]
  },
  {
   "cell_type": "code",
   "execution_count": 282,
   "metadata": {},
   "outputs": [
    {
     "data": {
      "image/png": "[encoded data removed]",
      "text/plain": [
       "<Figure size 640x480 with 1 Axes>"
      ]
     },
     "metadata": {},
     "output_type": "display_data"
    }
   ],
   "source": [
    "plt.plot(pos[7, 0, :])\n",
    "plt.show()"
   ]
  },
  {
   "cell_type": "code",
   "execution_count": 120,
   "metadata": {},
   "outputs": [],
   "source": [
    "import torch"
   ]
  },
  {
   "cell_type": "code",
   "execution_count": 121,
   "metadata": {},
   "outputs": [],
   "source": [
    "a= torch.randn(10, 27, 256)\n",
    "d0 = nn.Dropout(0.5)\n",
    "a= d0(a.transpose(-1, -2)).transpose(-1, -2)"
   ]
  },
  {
   "cell_type": "code",
   "execution_count": 127,
   "metadata": {},
   "outputs": [
    {
     "data": {
      "text/plain": [
       "tensor([ 0.0000,  5.0313,  0.0000, -0.0000, -0.0000,  0.1405,  0.0000, -0.8368,\n",
       "         0.0000, -0.0000,  0.0000,  1.3433,  0.5267,  0.0000, -0.8593, -0.0000,\n",
       "         0.0000, -0.0000, -2.2363,  1.5589,  0.0000, -1.1833,  0.0000, -0.0000,\n",
       "        -0.0000, -0.0748, -0.0000, -1.9311, -3.0532, -0.0000,  0.0957, -0.0000,\n",
       "        -0.0584, -0.0000, -0.0000,  0.0000, -3.7319,  0.0000, -1.7989,  1.2483,\n",
       "        -1.6159, -0.6912,  0.0000,  0.2232, -4.0491, -0.0000, -0.0000, -0.0000,\n",
       "        -1.8224,  0.1816, -0.0000,  0.0000,  0.7173,  0.7913, -0.0000, -0.0000,\n",
       "         3.1974,  0.6956, -0.5368, -0.3469,  0.0000,  0.0000, -0.0000,  3.0759,\n",
       "         0.0000, -3.3976, -0.0000, -0.0000,  1.0925, -2.1674, -0.0000, -0.0000,\n",
       "         0.0000, -0.2690, -0.0000, -0.0000,  0.6925, -2.5726,  0.0000, -0.0000,\n",
       "         0.0000, -0.0000, -1.1049, -0.0000,  0.0000, -0.0000, -0.0000, -0.0381,\n",
       "        -0.9249, -1.3988, -0.7271, -0.0000,  0.0000, -0.7208, -0.0000, -0.0000,\n",
       "         0.3819,  0.5982,  0.0000,  0.0000, -0.0000,  0.0000,  5.0170, -2.1399,\n",
       "         2.4438, -0.9924,  0.0592,  0.0000,  0.0000, -0.2504, -1.4420, -0.0000,\n",
       "         0.0000, -0.9546, -0.0000,  0.0000, -0.0000, -0.0000, -0.0000, -0.0000,\n",
       "        -0.0000,  3.4740,  0.0000,  0.8027,  1.8117, -0.0000,  0.0716, -0.4567,\n",
       "        -0.0666,  0.0000, -0.2911, -1.7691,  0.0000, -0.0000,  3.8767,  0.5528,\n",
       "         0.4703, -0.0000, -1.5517, -0.5505, -0.9883, -0.0000,  1.6929, -1.5698,\n",
       "         0.0000, -0.4656,  0.2926, -0.2696, -1.0904,  0.3233, -1.2624,  0.0000,\n",
       "         1.2168, -1.4564,  0.0000,  0.3437,  1.8529, -0.0000,  0.0000,  0.0000,\n",
       "         1.2877,  0.0000, -0.0000, -0.2212, -2.6326,  0.7682, -0.0000, -1.1717,\n",
       "        -1.6686,  0.0000,  0.0000, -4.3150,  0.0000,  0.0000, -0.0000,  0.7119,\n",
       "        -0.0000,  0.0000, -3.5730, -0.4145,  0.0000, -1.5931, -3.2206, -0.8634,\n",
       "         0.0000,  3.2569, -0.0000, -2.1171,  0.8212,  2.8637, -2.8096, -6.0401,\n",
       "         0.5125, -1.6286, -0.0000,  0.6592,  0.0000,  4.6349,  0.0000, -0.0000,\n",
       "         0.0000,  2.8495,  0.0000,  0.0000,  0.0000,  0.0000,  0.7328, -2.1719,\n",
       "         1.1065,  0.0000, -0.0000,  1.1171, -2.4371,  2.0322,  0.0000,  0.0000,\n",
       "        -0.1612, -0.8271, -3.5324, -2.9129,  1.3453, -0.0000,  0.6841, -0.0000,\n",
       "        -0.0000, -0.0209,  1.3045,  0.0000, -2.6785, -0.0000,  3.6733, -3.2497,\n",
       "        -0.8308,  0.0000,  0.2778, -0.0000,  1.5697, -0.0000, -0.0000, -2.6993,\n",
       "         0.0000, -2.3287,  1.9409, -0.9959,  0.0000,  0.0000,  0.0000, -1.7887,\n",
       "        -0.0000, -1.2254,  0.2733, -2.0153,  3.0004, -1.7368, -0.0000, -1.0524])"
      ]
     },
     "execution_count": 127,
     "metadata": {},
     "output_type": "execute_result"
    }
   ],
   "source": [
    "a[0,6]"
   ]
  },
  {
   "cell_type": "code",
   "execution_count": null,
   "metadata": {},
   "outputs": [],
   "source": [
    "def move_to_device(sub_batch, device):\n",
    "    for k, v in sub_batch.items():\n",
    "        if isinstance(v, torch.Tensor):\n",
    "            sub_batch[k] = v.to(device)\n",
    "    return sub_batch"
   ]
  },
  {
   "cell_type": "code",
   "execution_count": null,
   "metadata": {},
   "outputs": [],
   "source": [
    "sb = create_subbatches(**z)"
   ]
  },
  {
   "cell_type": "code",
   "execution_count": null,
   "metadata": {},
   "outputs": [
    {
     "data": {
      "text/plain": [
       "dict_keys(['audio', 'audio_lens', 'tokens', 'token_lens', 'prev_state_indices'])"
      ]
     },
     "execution_count": 58,
     "metadata": {},
     "output_type": "execute_result"
    }
   ],
   "source": [
    "sb[0].keys()"
   ]
  },
  {
   "cell_type": "code",
   "execution_count": null,
   "metadata": {},
   "outputs": [
    {
     "data": {
      "text/plain": [
       "0.06666666666666667"
      ]
     },
     "execution_count": 26,
     "metadata": {},
     "output_type": "execute_result"
    }
   ],
   "source": [
    "(1/15)"
   ]
  },
  {
   "cell_type": "code",
   "execution_count": null,
   "metadata": {},
   "outputs": [],
   "source": [
    "torch.nn.ReLU"
   ]
  },
  {
   "cell_type": "code",
   "execution_count": null,
   "metadata": {},
   "outputs": [
    {
     "data": {
      "text/plain": [
       "tensor([ 1,  5,  6, 11])"
      ]
     },
     "execution_count": 59,
     "metadata": {},
     "output_type": "execute_result"
    }
   ],
   "source": [
    "sb[3]['prev_state_indices']"
   ]
  },
  {
   "cell_type": "code",
   "execution_count": null,
   "metadata": {},
   "outputs": [
    {
     "data": {
      "text/plain": [
       "tensor([0.0861, 0.0966, 0.0760, 0.0431, 0.0482, 0.0565, 0.1114, 0.1451, 0.0998,\n",
       "        0.0939, 0.0719, 0.0715])"
      ]
     },
     "execution_count": 39,
     "metadata": {},
     "output_type": "execute_result"
    }
   ],
   "source": [
    "# init uniform\n",
    "q = torch.FloatTensor(1, 12, 256).uniform_(-1, 1)\n",
    "k = torch.FloatTensor(1, 12, 256).uniform_(-1, 1)\n",
    "dots = torch.einsum('bnd,bmd->bnm', q, k) / q.shape[-1]**0.5\n",
    "dots.softmax(dim=-1)[0][0]"
   ]
  },
  {
   "cell_type": "code",
   "execution_count": null,
   "metadata": {},
   "outputs": [
    {
     "data": {
      "text/plain": [
       "[{'unique_id': 'f6a3719a-1aa1-48c0-9792-4a28ffd69cb8',\n",
       "  'timings': {'segment_start': 437.65, 'segment_end': 441.61},\n",
       "  'recording_id': 'GeverTulley_2007U',\n",
       "  'utterance_id': 'GeverTulley_2007U-31',\n",
       "  'speaker': 'GeverTulley_2007U'}]"
      ]
     },
     "execution_count": 100,
     "metadata": {},
     "output_type": "execute_result"
    }
   ],
   "source": [
    "z['metadata'][2]"
   ]
  },
  {
   "cell_type": "code",
   "execution_count": null,
   "metadata": {},
   "outputs": [
    {
     "data": {
      "text/plain": [
       "dict_keys(['audio', 'audio_lens', 'tokens', 'token_lens', 'segment_lens'])"
      ]
     },
     "execution_count": 105,
     "metadata": {},
     "output_type": "execute_result"
    }
   ],
   "source": [
    "z.keys()"
   ]
  },
  {
   "cell_type": "code",
   "execution_count": null,
   "metadata": {},
   "outputs": [
    {
     "data": {
      "text/plain": [
       "torch.Size([6, 265920])"
      ]
     },
     "execution_count": 106,
     "metadata": {},
     "output_type": "execute_result"
    }
   ],
   "source": [
    "z['audio'].shape"
   ]
  },
  {
   "cell_type": "code",
   "execution_count": null,
   "metadata": {},
   "outputs": [],
   "source": [
    "import torch.nn as nn\n",
    "from einops import rearrange\n",
    "class DynamicPositionBiasXL(nn.Module):\n",
    "    '''Adapted From Phil Wang's x-transformers library\n",
    "       Altered to work with attention matrix that is not square\n",
    "    '''\n",
    "    def __init__(self, dim, *, heads, depth, log_distance = False, norm = False):\n",
    "        super().__init__()\n",
    "        assert depth >= 1, 'depth for dynamic position bias MLP must be greater or equal to 1'\n",
    "        self.log_distance = log_distance\n",
    "\n",
    "        self.mlp = nn.ModuleList([])\n",
    "\n",
    "        self.mlp.append(nn.Sequential(\n",
    "            nn.Linear(1, dim),\n",
    "            nn.LayerNorm(dim) if norm else nn.Identity(),\n",
    "            nn.ReLU()\n",
    "        ))\n",
    "\n",
    "        for _ in range(depth - 1):\n",
    "            self.mlp.append(nn.Sequential(\n",
    "                nn.Linear(dim, dim),\n",
    "                nn.LayerNorm(dim) if norm else nn.Identity(),\n",
    "                nn.ReLU()\n",
    "            ))\n",
    "\n",
    "        self.mlp.append(nn.Linear(dim, heads))\n",
    "        self.history_decay = nn.Parameter(torch.ones(1))\n",
    "      \n",
    "\n",
    "    @staticmethod\n",
    "    def fetch_module_kwargs(kwargs):\n",
    "        return {\n",
    "            'dim': kwargs.get('dpos_dim', 64),\n",
    "            'depth': kwargs.get('dpos_depth', 2),\n",
    "            'log_distance': kwargs.get('dpos_log_distance', False),\n",
    "            'norm': kwargs.get('dpos_norm', False)\n",
    "        }\n",
    "\n",
    "    def forward(self, i, j, device, dtype):\n",
    "        # get the (i x j) matrix of distances\n",
    "        assert i >= 1 and j >= 1 and i <= j, 'I should be in the range [1, j] and j >= 1'\n",
    "        \n",
    "        seq_arange = torch.arange(i, device = device)\n",
    "        context_arange = torch.arange(j, device = device)\n",
    "        indices = rearrange(seq_arange, 'i -> i 1') - rearrange(context_arange, 'j -> 1 j')\n",
    "        indices += (j-1)\n",
    "        \n",
    "        # input to continuous positions MLP\n",
    "        pos = torch.arange(-i + 1, (j+i), device = device, dtype = dtype)\n",
    "        pos = rearrange(pos, '... -> ... 1')\n",
    "     \n",
    "        if self.log_distance:\n",
    "            pos = torch.sign(pos) * torch.log(pos.abs() + 1)  # log of distance is sign(rel_pos) * log(abs(rel_pos) + 1)\n",
    "        \n",
    "        for layer in self.mlp:\n",
    "            pos = layer(pos)\n",
    "\n",
    "        # get position biases        \n",
    "        bias = pos[indices]\n",
    "        bias = rearrange(bias, 'i j h -> h i j')\n",
    "\n",
    "        if j > i:\n",
    "            history_len = j - i\n",
    "            bias[:, :, :history_len] *= self.history_decay\n",
    "\n",
    "        return bias"
   ]
  },
  {
   "cell_type": "code",
   "execution_count": null,
   "metadata": {},
   "outputs": [],
   "source": [
    "dpos = DynamicPositionBiasXL(dim=256, heads=8, depth=2)\n",
    "pos = dpos(10, 10, 'cpu', torch.float32).squeeze()"
   ]
  },
  {
   "cell_type": "code",
   "execution_count": null,
   "metadata": {},
   "outputs": [],
   "source": [
    "test_mask = (torch.randn(10) <0.5)"
   ]
  },
  {
   "cell_type": "code",
   "execution_count": null,
   "metadata": {},
   "outputs": [
    {
     "data": {
      "text/plain": [
       "tensor([True, True, True, True, True, True, True, True, True, True])"
      ]
     },
     "execution_count": 354,
     "metadata": {},
     "output_type": "execute_result"
    }
   ],
   "source": [
    "(test_mask +1).bool()"
   ]
  },
  {
   "cell_type": "code",
   "execution_count": null,
   "metadata": {},
   "outputs": [],
   "source": [
    "r = torch.randn(10) *10"
   ]
  },
  {
   "cell_type": "code",
   "execution_count": null,
   "metadata": {},
   "outputs": [],
   "source": [
    "r[r<5] = 10"
   ]
  },
  {
   "cell_type": "code",
   "execution_count": null,
   "metadata": {},
   "outputs": [
    {
     "data": {
      "text/plain": [
       "True"
      ]
     },
     "execution_count": 363,
     "metadata": {},
     "output_type": "execute_result"
    },
    {
     "ename": "",
     "evalue": "",
     "output_type": "error",
     "traceback": [
      "\u001b[1;31mThe Kernel crashed while executing code in the the current cell or a previous cell. Please review the code in the cell(s) to identify a possible cause of the failure. Click <a href='https://aka.ms/vscodeJupyterKernelCrash'>here</a> for more info. View Jupyter <a href='command:jupyter.viewOutput'>log</a> for further details."
     ]
    }
   ],
   "source": [
    "-1422.823974609375 == -1422.823974609375"
   ]
  },
  {
   "cell_type": "code",
   "execution_count": null,
   "metadata": {},
   "outputs": [
    {
     "data": {
      "text/plain": [
       "tensor([10.0000, 10.0000, 10.0000, 10.0000, 10.0000, 10.0000,  8.9258, 17.1805,\n",
       "        10.0000, 10.0000])"
      ]
     },
     "execution_count": 361,
     "metadata": {},
     "output_type": "execute_result"
    }
   ],
   "source": [
    "AUDIOTOTAL: -1422.823974609375\n",
    "WER (nemo): 0.2394909090909091\n",
    "\n",
    "AUDIOTOTAL: -1422.823974609375\n",
    "WER (nemo): 0.2394909090909091\n",
    "\n",
    "AUDIOTOTAL: -1422.823974609375\n",
    "WER (nemo): 0.23945454545454545\n",
    "\n",
    "\n",
    "AUDIOTOTAL: -1422.8238525390625\n",
    "WER (nemo): 0.2394909090909091\n",
    "\n",
    "AUDIOTOTAL: -1422.8238525390625\n",
    "WER (nemo): 0.2394909090909091\n",
    "\n",
    "\n"
   ]
  },
  {
   "cell_type": "code",
   "execution_count": null,
   "metadata": {},
   "outputs": [],
   "source": [
    "AUDIOTOTAL: -1422.82373046875\n",
    "WER (nemo): 0.9292\n",
    "\n",
    "AUDIOTOTAL: -1422.823974609375\n",
    "WER (nemo): 0.9292363636363636\n"
   ]
  },
  {
   "cell_type": "code",
   "execution_count": null,
   "metadata": {},
   "outputs": [],
   "source": [
    "0.7781906166848194\n",
    "0.778211296926916\n",
    "0.7781837232707871\n",
    "0.7781492562006259"
   ]
  },
  {
   "cell_type": "code",
   "execution_count": null,
   "metadata": {},
   "outputs": [],
   "source": [
    "0.7781630430286904\n",
    "0.7781630430286904"
   ]
  },
  {
   "cell_type": "code",
   "execution_count": null,
   "metadata": {},
   "outputs": [],
   "source": [
    "AUDIOTOTAL: -1422.823974609375\n",
    "WER (nemo): 0.7783146981373995\n",
    "\n",
    "AUDIOTOTAL: -1422.823974609375\n",
    "WER (nemo): 0.7783146981373995\n",
    "0.04769553168902431\n",
    "\n",
    "\n",
    "0.08378181818181818\n",
    "0.08367272727272727"
   ]
  },
  {
   "cell_type": "code",
   "execution_count": null,
   "metadata": {},
   "outputs": [],
   "source": [
    "AUDIOS TOTAL: -1422.823974609375\n",
    "WER (nemo): 0.09825454545454546\n",
    "\n",
    "AUDIOS TOTAL: -1422.823974609375\n",
    "WER (nemo): 0.0982909090909091\n",
    "\n",
    "AUDIOS TOTAL: -1422.823974609375\n",
    "WER (nemo): 0.0982909090909091\n"
   ]
  },
  {
   "cell_type": "code",
   "execution_count": null,
   "metadata": {},
   "outputs": [],
   "source": [
    "import torch\n",
    "from einops import rearrange"
   ]
  },
  {
   "cell_type": "code",
   "execution_count": null,
   "metadata": {},
   "outputs": [
    {
     "data": {
      "text/plain": [
       "tensor([[-41.0888, -51.0194,  64.5614,  ..., -29.1492, 101.4100, -58.6910],\n",
       "        [ -6.2383, -37.3124, 106.6235,  ..., -56.6056, -39.9867, -51.3461],\n",
       "        [ -3.1641, -23.2686, -18.4355,  ..., -22.1669, -24.1924, -29.1323],\n",
       "        ...,\n",
       "        [-65.7582,  23.7784, -74.1952,  ...,  -0.4829,  22.9448,  83.3716],\n",
       "        [  5.5886, -29.3647,  50.4721,  ...,  21.1906,  79.5414, -37.8894],\n",
       "        [-20.1722,   7.4665, 116.8719,  ..., -60.9847,  -3.3432, -49.8833]])"
      ]
     },
     "execution_count": 27,
     "metadata": {},
     "output_type": "execute_result"
    }
   ],
   "source": [
    "dots_ein[0][0]"
   ]
  },
  {
   "cell_type": "code",
   "execution_count": null,
   "metadata": {},
   "outputs": [],
   "source": [
    "from torch.profiler import profile, record_function, ProfilerActivity"
   ]
  },
  {
   "cell_type": "code",
   "execution_count": null,
   "metadata": {},
   "outputs": [],
   "source": [
    "def einsum_attn():\n",
    "    B,H,N,D = 10,8,230,32\n",
    "    q = torch.randn(B, H, N, D).cuda()\n",
    "    k = torch.randn(B, 1, N, D).cuda()\n",
    "    \n",
    "    dots_ein = torch.einsum('bhld,bhmd->bhlm', q, k) * 10"
   ]
  },
  {
   "cell_type": "code",
   "execution_count": null,
   "metadata": {},
   "outputs": [],
   "source": [
    "def bad_attn():\n",
    "    B,H,N,D = 10,8,230,32\n",
    "    q = torch.randn(B, H, N, D).cuda()\n",
    "    k = torch.randn(B, H, N, D).cuda()\n",
    "\n",
    "    remap = lambda t: rearrange(t, 'b h n d -> (b h) n d')\n",
    "    revert = lambda t: rearrange(t, '(b h) n d -> b h n d', b=B, h=H)\n",
    "    q,k = map(remap, (q,k))\n",
    "    dots_mm = torch.baddbmm(batch1=q, batch2=k.transpose(-2, -1), beta=0.0, alpha=10.0, input=torch.empty(10*8, 230, 230).cuda())\n",
    "    dots_mm = revert(dots_mm)"
   ]
  },
  {
   "cell_type": "code",
   "execution_count": null,
   "metadata": {},
   "outputs": [
    {
     "ename": "RuntimeError",
     "evalue": "Expected size for first two dimensions of batch2 tensor to be: [80, 32] but got: [10, 32].",
     "output_type": "error",
     "traceback": [
      "\u001b[0;31m---------------------------------------------------------------------------\u001b[0m",
      "\u001b[0;31mRuntimeError\u001b[0m                              Traceback (most recent call last)",
      "Cell \u001b[0;32mIn [81], line 3\u001b[0m\n\u001b[1;32m      1\u001b[0m \u001b[38;5;28;01mwith\u001b[39;00m profile(activities\u001b[38;5;241m=\u001b[39m[ProfilerActivity\u001b[38;5;241m.\u001b[39mCPU, ProfilerActivity\u001b[38;5;241m.\u001b[39mCUDA], record_shapes\u001b[38;5;241m=\u001b[39m\u001b[38;5;28;01mTrue\u001b[39;00m) \u001b[38;5;28;01mas\u001b[39;00m prof:\n\u001b[1;32m      2\u001b[0m     \u001b[38;5;28;01mwith\u001b[39;00m record_function(\u001b[38;5;124m\"\u001b[39m\u001b[38;5;124mmodel_inference\u001b[39m\u001b[38;5;124m\"\u001b[39m):\n\u001b[0;32m----> 3\u001b[0m         bad_attn()\n\u001b[1;32m      4\u001b[0m \u001b[38;5;28mprint\u001b[39m(prof\u001b[38;5;241m.\u001b[39mkey_averages()\u001b[38;5;241m.\u001b[39mtable(sort_by\u001b[38;5;241m=\u001b[39m\u001b[38;5;124m\"\u001b[39m\u001b[38;5;124mcuda_time_total\u001b[39m\u001b[38;5;124m\"\u001b[39m, row_limit\u001b[38;5;241m=\u001b[39m\u001b[38;5;241m10\u001b[39m))\n",
      "Cell \u001b[0;32mIn [80], line 9\u001b[0m, in \u001b[0;36mbad_attn\u001b[0;34m()\u001b[0m\n\u001b[1;32m      7\u001b[0m revert \u001b[38;5;241m=\u001b[39m \u001b[38;5;28;01mlambda\u001b[39;00m t: rearrange(t, \u001b[38;5;124m'\u001b[39m\u001b[38;5;124m(b h) n d -> b h n d\u001b[39m\u001b[38;5;124m'\u001b[39m, b\u001b[38;5;241m=\u001b[39mB, h\u001b[38;5;241m=\u001b[39mH)\n\u001b[1;32m      8\u001b[0m q,k \u001b[38;5;241m=\u001b[39m \u001b[38;5;28mmap\u001b[39m(remap, (q,k))\n\u001b[0;32m----> 9\u001b[0m dots_mm \u001b[38;5;241m=\u001b[39m \u001b[43mtorch\u001b[49m\u001b[38;5;241;43m.\u001b[39;49m\u001b[43mbaddbmm\u001b[49m\u001b[43m(\u001b[49m\u001b[43mbatch1\u001b[49m\u001b[38;5;241;43m=\u001b[39;49m\u001b[43mq\u001b[49m\u001b[43m,\u001b[49m\u001b[43m \u001b[49m\u001b[43mbatch2\u001b[49m\u001b[38;5;241;43m=\u001b[39;49m\u001b[43mk\u001b[49m\u001b[38;5;241;43m.\u001b[39;49m\u001b[43mtranspose\u001b[49m\u001b[43m(\u001b[49m\u001b[38;5;241;43m-\u001b[39;49m\u001b[38;5;241;43m2\u001b[39;49m\u001b[43m,\u001b[49m\u001b[43m \u001b[49m\u001b[38;5;241;43m-\u001b[39;49m\u001b[38;5;241;43m1\u001b[39;49m\u001b[43m)\u001b[49m\u001b[43m,\u001b[49m\u001b[43m \u001b[49m\u001b[43mbeta\u001b[49m\u001b[38;5;241;43m=\u001b[39;49m\u001b[38;5;241;43m0.0\u001b[39;49m\u001b[43m,\u001b[49m\u001b[43m \u001b[49m\u001b[43malpha\u001b[49m\u001b[38;5;241;43m=\u001b[39;49m\u001b[38;5;241;43m10.0\u001b[39;49m\u001b[43m,\u001b[49m\u001b[43m \u001b[49m\u001b[38;5;28;43minput\u001b[39;49m\u001b[38;5;241;43m=\u001b[39;49m\u001b[43mtorch\u001b[49m\u001b[38;5;241;43m.\u001b[39;49m\u001b[43mempty\u001b[49m\u001b[43m(\u001b[49m\u001b[38;5;241;43m10\u001b[39;49m\u001b[38;5;241;43m*\u001b[39;49m\u001b[38;5;241;43m8\u001b[39;49m\u001b[43m,\u001b[49m\u001b[43m \u001b[49m\u001b[38;5;241;43m230\u001b[39;49m\u001b[43m,\u001b[49m\u001b[43m \u001b[49m\u001b[38;5;241;43m230\u001b[39;49m\u001b[43m)\u001b[49m\u001b[38;5;241;43m.\u001b[39;49m\u001b[43mcuda\u001b[49m\u001b[43m(\u001b[49m\u001b[43m)\u001b[49m\u001b[43m)\u001b[49m\n\u001b[1;32m     10\u001b[0m dots_mm \u001b[38;5;241m=\u001b[39m revert(dots_mm)\n",
      "\u001b[0;31mRuntimeError\u001b[0m: Expected size for first two dimensions of batch2 tensor to be: [80, 32] but got: [10, 32]."
     ]
    }
   ],
   "source": [
    "with profile(activities=[ProfilerActivity.CPU, ProfilerActivity.CUDA], record_shapes=True) as prof:\n",
    "    with record_function(\"model_inference\"):\n",
    "        bad_attn()\n",
    "print(prof.key_averages().table(sort_by=\"cuda_time_total\", row_limit=10))\n"
   ]
  },
  {
   "cell_type": "code",
   "execution_count": null,
   "metadata": {},
   "outputs": [
    {
     "name": "stdout",
     "output_type": "stream",
     "text": [
      "-------------------------------------------------------  ------------  ------------  ------------  ------------  ------------  ------------  ------------  ------------  ------------  ------------  \n",
      "                                                   Name    Self CPU %      Self CPU   CPU total %     CPU total  CPU time avg     Self CUDA   Self CUDA %    CUDA total  CUDA time avg    # of Calls  \n",
      "-------------------------------------------------------  ------------  ------------  ------------  ------------  ------------  ------------  ------------  ------------  ------------  ------------  \n",
      "                                        model_inference         1.88%     254.000us        99.73%      13.490ms      13.490ms       0.000us         0.00%     516.000us     516.000us             1  \n",
      "                                               aten::to         3.05%     412.000us        24.15%       3.267ms       1.633ms       0.000us         0.00%     422.000us     211.000us             2  \n",
      "                                         aten::_to_copy         0.41%      55.000us        21.11%       2.855ms       1.427ms       0.000us         0.00%     422.000us     211.000us             2  \n",
      "                                            aten::copy_         0.35%      47.000us        17.08%       2.311ms       1.155ms     422.000us        81.78%     422.000us     211.000us             2  \n",
      "                       Memcpy HtoD (Pageable -> Device)         0.00%       0.000us         0.00%       0.000us       0.000us     422.000us        81.78%     422.000us     211.000us             2  \n",
      "                                              aten::mul         0.31%      42.000us         0.49%      66.000us      66.000us      51.000us         9.88%      51.000us      51.000us             1  \n",
      "void at::native::vectorized_elementwise_kernel<4, at...         0.00%       0.000us         0.00%       0.000us       0.000us      51.000us         9.88%      51.000us      51.000us             1  \n",
      "                                           aten::einsum         0.69%      93.000us        10.80%       1.461ms       1.461ms       0.000us         0.00%      43.000us      43.000us             1  \n",
      "                                              aten::bmm         0.75%     102.000us         9.20%       1.244ms       1.244ms      43.000us         8.33%      43.000us      43.000us             1  \n",
      "                                ampere_sgemm_128x128_tn         0.00%       0.000us         0.00%       0.000us       0.000us      43.000us         8.33%      43.000us      43.000us             1  \n",
      "-------------------------------------------------------  ------------  ------------  ------------  ------------  ------------  ------------  ------------  ------------  ------------  ------------  \n",
      "Self CPU time total: 13.527ms\n",
      "Self CUDA time total: 516.000us\n",
      "\n"
     ]
    }
   ],
   "source": [
    "with profile(activities=[ProfilerActivity.CPU, ProfilerActivity.CUDA], record_shapes=True) as prof:\n",
    "    with record_function(\"model_inference\"):\n",
    "        einsum_attn()\n",
    "print(prof.key_averages().table(sort_by=\"cuda_time_total\", row_limit=10))\n"
   ]
  },
  {
   "cell_type": "code",
   "execution_count": 2,
   "metadata": {},
   "outputs": [],
   "source": [
    "import triton\n",
    "import torch"
   ]
  },
  {
   "cell_type": "code",
   "execution_count": null,
   "metadata": {},
   "outputs": [],
   "source": [
    "triton.tools."
   ]
  },
  {
   "cell_type": "code",
   "execution_count": 3,
   "metadata": {},
   "outputs": [
    {
     "name": "stdout",
     "output_type": "stream",
     "text": [
      "torch.Size([3, 8, 230])\n"
     ]
    },
    {
     "ename": "RuntimeError",
     "evalue": "Triton requires CUDA 11.4+",
     "output_type": "error",
     "traceback": [
      "\u001b[0;31m---------------------------------------------------------------------------\u001b[0m",
      "\u001b[0;31mKeyError\u001b[0m                                  Traceback (most recent call last)",
      "File \u001b[0;32m<string>:21\u001b[0m, in \u001b[0;36m_dsd_kernel\u001b[0;34m(A, B, C, stride_az, stride_ha, stride_am, stride_ak, stride_zb, stride_hb, stride_bk, stride_bn, stride_zc, stride_hc, stride_cm, stride_cn, DS0, DS1, lut, TILE_M, TILE_N, TILE_K, GROUP_SIZE_M, BLOCK, grid, num_warps, num_stages, extern_libs, stream, warmup)\u001b[0m\n",
      "\u001b[0;31mKeyError\u001b[0m: ('2-.-0-.-0-26cd0f66ed04e9af9238efd24011cbf8-2b0c5161c53c71b37ae20a9996ee4bb8-c1f92808b4e4644c1732e8338187ac87-42648570729a4835b21c1c18cebedbfe-12f7ac1ca211e037f62a7c0c323d9990-5c5e32ff210f3b7f56c98ca29917c25e-06f0df2d61979d629033f4a22eff5198-0dd03b0bd512a184b3512b278d9dfa59-d35ab04ae841e2714a253c523530b071', (torch.float32, torch.float32, torch.float32, 'i32', 'i32', 'i32', 'i32', 'i32', 'i32', 'i32', 'i32', 'i32', 'i32', 'i32', 'i32', 'i32', 'i32', torch.int32), (32, 128, 32, 4, 32), (True, True, True, (True, False), (True, False), (True, False), (False, True), (True, False), (True, False), (True, False), (False, True), (True, False), (True, False), (True, False), (False, True), (True, False), (True, False), True))",
      "\nDuring handling of the above exception, another exception occurred:\n",
      "\u001b[0;31mRuntimeError\u001b[0m                              Traceback (most recent call last)",
      "Cell \u001b[0;32mIn [3], line 7\u001b[0m\n\u001b[1;32m      5\u001b[0m q[sparsity_mask] \u001b[38;5;241m=\u001b[39m \u001b[38;5;241m0\u001b[39m\n\u001b[1;32m      6\u001b[0m \u001b[38;5;28mprint\u001b[39m(sparsity_mask[\u001b[38;5;241m.\u001b[39m\u001b[38;5;241m.\u001b[39m\u001b[38;5;241m.\u001b[39m,\u001b[38;5;241m-\u001b[39m\u001b[38;5;241m1\u001b[39m]\u001b[38;5;241m.\u001b[39mshape)\n\u001b[0;32m----> 7\u001b[0m triton\u001b[38;5;241m.\u001b[39mops\u001b[38;5;241m.\u001b[39mblocksparse\u001b[38;5;241m.\u001b[39mmatmul(block\u001b[38;5;241m=\u001b[39m\u001b[38;5;241m32\u001b[39m, mode\u001b[38;5;241m=\u001b[39m\u001b[38;5;124m'\u001b[39m\u001b[38;5;124mdsd\u001b[39m\u001b[38;5;124m'\u001b[39m, device\u001b[38;5;241m=\u001b[39m\u001b[38;5;124m'\u001b[39m\u001b[38;5;124mcuda\u001b[39m\u001b[38;5;124m'\u001b[39m, layout\u001b[38;5;241m=\u001b[39msparsity_mask[\u001b[38;5;241m.\u001b[39m\u001b[38;5;241m.\u001b[39m\u001b[38;5;241m.\u001b[39m,\u001b[38;5;241m-\u001b[39m\u001b[38;5;241m1\u001b[39m])(a\u001b[38;5;241m=\u001b[39mq, b\u001b[38;5;241m=\u001b[39mk)\n",
      "File \u001b[0;32m/store/store1/software/bin/anaconda3/envs/k2_custom-nemo/lib/python3.8/site-packages/triton/ops/blocksparse/matmul.py:430\u001b[0m, in \u001b[0;36mmatmul.__call__\u001b[0;34m(self, a, b, out)\u001b[0m\n\u001b[1;32m    429\u001b[0m \u001b[39mdef\u001b[39;00m \u001b[39m__call__\u001b[39m(\u001b[39mself\u001b[39m, a, b, out\u001b[39m=\u001b[39m\u001b[39mNone\u001b[39;00m):\n\u001b[0;32m--> 430\u001b[0m     c \u001b[39m=\u001b[39m _matmul\u001b[39m.\u001b[39;49mapply(\n\u001b[1;32m    431\u001b[0m         a, b, \u001b[39mself\u001b[39;49m\u001b[39m.\u001b[39;49mtrans_a, \u001b[39mself\u001b[39;49m\u001b[39m.\u001b[39;49mtrans_b, \u001b[39mself\u001b[39;49m\u001b[39m.\u001b[39;49mtrans_c, \u001b[39mself\u001b[39;49m\u001b[39m.\u001b[39;49mmode, \u001b[39mself\u001b[39;49m\u001b[39m.\u001b[39;49mspdims, \u001b[39mself\u001b[39;49m\u001b[39m.\u001b[39;49mblock,\n\u001b[1;32m    432\u001b[0m         \u001b[39mself\u001b[39;49m\u001b[39m.\u001b[39;49mc_lut, \u001b[39mself\u001b[39;49m\u001b[39m.\u001b[39;49mc_width,\n\u001b[1;32m    433\u001b[0m         \u001b[39mself\u001b[39;49m\u001b[39m.\u001b[39;49mda_lut, \u001b[39mself\u001b[39;49m\u001b[39m.\u001b[39;49mda_width,\n\u001b[1;32m    434\u001b[0m         \u001b[39mself\u001b[39;49m\u001b[39m.\u001b[39;49mdb_lut, \u001b[39mself\u001b[39;49m\u001b[39m.\u001b[39;49mdb_width,\n\u001b[1;32m    435\u001b[0m         out\n\u001b[1;32m    436\u001b[0m     )\n\u001b[1;32m    437\u001b[0m     \u001b[39mreturn\u001b[39;00m c\n",
      "File \u001b[0;32m/store/store1/software/bin/anaconda3/envs/k2_custom-nemo/lib/python3.8/site-packages/triton/ops/blocksparse/matmul.py:363\u001b[0m, in \u001b[0;36m_matmul.forward\u001b[0;34m(ctx, a, b, trans_a, trans_b, trans_c, mode, spdims, block, c_lut, c_width, da_lut, da_width, db_lut, db_width, out)\u001b[0m\n\u001b[1;32m    358\u001b[0m \u001b[39m@staticmethod\u001b[39m\n\u001b[1;32m    359\u001b[0m \u001b[39mdef\u001b[39;00m \u001b[39mforward\u001b[39m(\n\u001b[1;32m    360\u001b[0m     ctx, a, b, trans_a, trans_b, trans_c, mode, spdims, block,\n\u001b[1;32m    361\u001b[0m     c_lut, c_width, da_lut, da_width, db_lut, db_width, out\n\u001b[1;32m    362\u001b[0m ):\n\u001b[0;32m--> 363\u001b[0m     c \u001b[39m=\u001b[39m _matmul\u001b[39m.\u001b[39;49mfn[mode](a, b, trans_a, trans_b, trans_c, spdims, block, c_lut, c_width, out\u001b[39m=\u001b[39;49mout)\n\u001b[1;32m    364\u001b[0m     \u001b[39m# save for backward\u001b[39;00m\n\u001b[1;32m    365\u001b[0m     ctx\u001b[39m.\u001b[39msave_for_backward(a, b)\n",
      "File \u001b[0;32m/store/store1/software/bin/anaconda3/envs/k2_custom-nemo/lib/python3.8/site-packages/triton/ops/blocksparse/matmul.py:231\u001b[0m, in \u001b[0;36mdsd_matmul\u001b[0;34m(a, b, trans_a, trans_b, trans_c, spdims, block, lut, width, out)\u001b[0m\n\u001b[1;32m    229\u001b[0m \u001b[39m# compute output\u001b[39;00m\n\u001b[1;32m    230\u001b[0m grid \u001b[39m=\u001b[39m \u001b[39mlambda\u001b[39;00m meta: [triton\u001b[39m.\u001b[39mcdiv(BS3, meta[\u001b[39m'\u001b[39m\u001b[39mTILE_N\u001b[39m\u001b[39m'\u001b[39m]), width, BS0]\n\u001b[0;32m--> 231\u001b[0m _dsd_kernel[grid](\n\u001b[1;32m    232\u001b[0m     a, b, c,\n\u001b[1;32m    233\u001b[0m     a\u001b[39m.\u001b[39;49mstride(\u001b[39m0\u001b[39;49m), a\u001b[39m.\u001b[39;49mstride(\u001b[39m1\u001b[39;49m), a\u001b[39m.\u001b[39;49mstride(\u001b[39m3\u001b[39;49m \u001b[39mif\u001b[39;49;00m trans_a \u001b[39melse\u001b[39;49;00m \u001b[39m2\u001b[39;49m), a\u001b[39m.\u001b[39;49mstride(\u001b[39m2\u001b[39;49m \u001b[39mif\u001b[39;49;00m trans_a \u001b[39melse\u001b[39;49;00m \u001b[39m3\u001b[39;49m),\n\u001b[1;32m    234\u001b[0m     b\u001b[39m.\u001b[39;49mstride(\u001b[39m0\u001b[39;49m), b\u001b[39m.\u001b[39;49mstride(\u001b[39m1\u001b[39;49m), b\u001b[39m.\u001b[39;49mstride(\u001b[39m3\u001b[39;49m \u001b[39mif\u001b[39;49;00m trans_b \u001b[39melse\u001b[39;49;00m \u001b[39m2\u001b[39;49m), b\u001b[39m.\u001b[39;49mstride(\u001b[39m2\u001b[39;49m \u001b[39mif\u001b[39;49;00m trans_b \u001b[39melse\u001b[39;49;00m \u001b[39m3\u001b[39;49m),\n\u001b[1;32m    235\u001b[0m     c\u001b[39m.\u001b[39;49mstride(\u001b[39m0\u001b[39;49m), c\u001b[39m.\u001b[39;49mstride(\u001b[39m1\u001b[39;49m), c\u001b[39m.\u001b[39;49mstride(\u001b[39m3\u001b[39;49m \u001b[39mif\u001b[39;49;00m trans_c \u001b[39melse\u001b[39;49;00m \u001b[39m2\u001b[39;49m), c\u001b[39m.\u001b[39;49mstride(\u001b[39m2\u001b[39;49m \u001b[39mif\u001b[39;49;00m trans_c \u001b[39melse\u001b[39;49;00m \u001b[39m3\u001b[39;49m),\n\u001b[1;32m    236\u001b[0m     BS3, AS1, lut,\n\u001b[1;32m    237\u001b[0m     TILE_M\u001b[39m=\u001b[39;49mblock, TILE_N\u001b[39m=\u001b[39;49mTILE_N, TILE_K\u001b[39m=\u001b[39;49m\u001b[39mmin\u001b[39;49m(block, \u001b[39m32\u001b[39;49m), BLOCK\u001b[39m=\u001b[39;49mblock, num_stages\u001b[39m=\u001b[39;49m\u001b[39m4\u001b[39;49m,\n\u001b[1;32m    238\u001b[0m     num_warps\u001b[39m=\u001b[39;49m\u001b[39m4\u001b[39;49m, GROUP_SIZE_M\u001b[39m=\u001b[39;49m\u001b[39m4\u001b[39;49m,\n\u001b[1;32m    239\u001b[0m )\n\u001b[1;32m    240\u001b[0m \u001b[39m# exit()\u001b[39;00m\n\u001b[1;32m    241\u001b[0m \u001b[39mreturn\u001b[39;00m c\n",
      "File \u001b[0;32m/store/store1/software/bin/anaconda3/envs/k2_custom-nemo/lib/python3.8/site-packages/triton/runtime/jit.py:106\u001b[0m, in \u001b[0;36mKernelInterface.__getitem__.<locals>.launcher\u001b[0;34m(*args, **kwargs)\u001b[0m\n\u001b[1;32m    105\u001b[0m \u001b[39mdef\u001b[39;00m \u001b[39mlauncher\u001b[39m(\u001b[39m*\u001b[39margs, \u001b[39m*\u001b[39m\u001b[39m*\u001b[39mkwargs):\n\u001b[0;32m--> 106\u001b[0m     \u001b[39mreturn\u001b[39;00m \u001b[39mself\u001b[39;49m\u001b[39m.\u001b[39;49mrun(\u001b[39m*\u001b[39;49margs, grid\u001b[39m=\u001b[39;49mgrid, \u001b[39m*\u001b[39;49m\u001b[39m*\u001b[39;49mkwargs)\n",
      "File \u001b[0;32m<string>:41\u001b[0m, in \u001b[0;36m_dsd_kernel\u001b[0;34m(A, B, C, stride_az, stride_ha, stride_am, stride_ak, stride_zb, stride_hb, stride_bk, stride_bn, stride_zc, stride_hc, stride_cm, stride_cn, DS0, DS1, lut, TILE_M, TILE_N, TILE_K, GROUP_SIZE_M, BLOCK, grid, num_warps, num_stages, extern_libs, stream, warmup)\u001b[0m\n",
      "File \u001b[0;32m/store/store1/software/bin/anaconda3/envs/k2_custom-nemo/lib/python3.8/site-packages/triton/compiler.py:1256\u001b[0m, in \u001b[0;36mcompile\u001b[0;34m(fn, signature, device, constants, num_warps, num_stages, extern_libs, configs, cc, warm_cache_only)\u001b[0m\n\u001b[1;32m   1250\u001b[0m llir_name \u001b[39m=\u001b[39m \u001b[39mf\u001b[39m\u001b[39m\"\u001b[39m\u001b[39m{\u001b[39;00mname\u001b[39m}\u001b[39;00m\u001b[39m.llir\u001b[39m\u001b[39m\"\u001b[39m\n\u001b[1;32m   1251\u001b[0m \u001b[39mif\u001b[39;00m \u001b[39mnot\u001b[39;00m fn_cache_manager\u001b[39m.\u001b[39mhas_file(cubin_name) \u001b[39mor\u001b[39;00m \\\n\u001b[1;32m   1252\u001b[0m    \u001b[39mnot\u001b[39;00m fn_cache_manager\u001b[39m.\u001b[39mhas_file(data_name) \u001b[39mor\u001b[39;00m \\\n\u001b[1;32m   1253\u001b[0m    \u001b[39mnot\u001b[39;00m fn_cache_manager\u001b[39m.\u001b[39mhas_file(ptx_name) \u001b[39mor\u001b[39;00m \\\n\u001b[1;32m   1254\u001b[0m    \u001b[39mnot\u001b[39;00m fn_cache_manager\u001b[39m.\u001b[39mhas_file(ttir_name) \u001b[39mor\u001b[39;00m \\\n\u001b[1;32m   1255\u001b[0m    \u001b[39mnot\u001b[39;00m fn_cache_manager\u001b[39m.\u001b[39mhas_file(llir_name):\n\u001b[0;32m-> 1256\u001b[0m     asm, shared, kernel_name \u001b[39m=\u001b[39m _compile(fn, signature, device, constants, configs[\u001b[39m0\u001b[39;49m], num_warps, num_stages,\n\u001b[1;32m   1257\u001b[0m                                         extern_libs, \u001b[39m\"\u001b[39;49m\u001b[39mcubin\u001b[39;49m\u001b[39m\"\u001b[39;49m, cc)\n\u001b[1;32m   1258\u001b[0m     metadata \u001b[39m=\u001b[39m {\u001b[39m\"\u001b[39m\u001b[39mname\u001b[39m\u001b[39m\"\u001b[39m: kernel_name, \u001b[39m\"\u001b[39m\u001b[39mshared\u001b[39m\u001b[39m\"\u001b[39m: shared, \u001b[39m\"\u001b[39m\u001b[39mnum_warps\u001b[39m\u001b[39m\"\u001b[39m: num_warps, \u001b[39m\"\u001b[39m\u001b[39mnum_stages\u001b[39m\u001b[39m\"\u001b[39m: num_stages}\n\u001b[1;32m   1259\u001b[0m     fn_cache_manager\u001b[39m.\u001b[39mput(asm[\u001b[39m\"\u001b[39m\u001b[39mcubin\u001b[39m\u001b[39m\"\u001b[39m], cubin_name)\n",
      "File \u001b[0;32m/store/store1/software/bin/anaconda3/envs/k2_custom-nemo/lib/python3.8/site-packages/triton/compiler.py:901\u001b[0m, in \u001b[0;36m_compile\u001b[0;34m(fn, signature, device, constants, specialization, num_warps, num_stages, extern_libs, output, cc)\u001b[0m\n\u001b[1;32m    899\u001b[0m \u001b[39mif\u001b[39;00m extern_libs \u001b[39mis\u001b[39;00m \u001b[39mNone\u001b[39;00m:\n\u001b[1;32m    900\u001b[0m     extern_libs \u001b[39m=\u001b[39m \u001b[39mdict\u001b[39m()\n\u001b[0;32m--> 901\u001b[0m name, asm, shared_mem \u001b[39m=\u001b[39m _triton\u001b[39m.\u001b[39;49mcode_gen\u001b[39m.\u001b[39;49mcompile_ttir(backend, module, device, num_warps, num_stages, extern_libs, cc)\n\u001b[1;32m    902\u001b[0m \u001b[39mreturn\u001b[39;00m asm, shared_mem, name\n",
      "\u001b[0;31mRuntimeError\u001b[0m: Triton requires CUDA 11.4+"
     ]
    },
    {
     "ename": "",
     "evalue": "",
     "output_type": "error",
     "traceback": [
      "\u001b[1;31mThe Kernel crashed while executing code in the the current cell or a previous cell. Please review the code in the cell(s) to identify a possible cause of the failure. Click <a href='https://aka.ms/vscodeJupyterKernelCrash'>here</a> for more info. View Jupyter <a href='command:jupyter.viewOutput'>log</a> for further details."
     ]
    }
   ],
   "source": [
    "B,H,N,D=3,8,230,32\n",
    "q = torch.randn(B, H, N, D).cuda()\n",
    "k = torch.randn(B, H, N, D).cuda()\n",
    "sparsity_mask = q > 10000\n",
    "q[sparsity_mask] = 0\n",
    "print(sparsity_mask[...,-1].shape)\n",
    "triton.ops.blocksparse.matmul(block=32, mode='dsd', device='cuda', layout=sparsity_mask[...,-1])(a=q, b=k)"
   ]
  },
  {
   "cell_type": "code",
   "execution_count": 10,
   "metadata": {},
   "outputs": [
    {
     "ename": "AttributeError",
     "evalue": "'str' object has no attribute 'shape'",
     "output_type": "error",
     "traceback": [
      "\u001b[0;31m---------------------------------------------------------------------------\u001b[0m",
      "\u001b[0;31mAttributeError\u001b[0m                            Traceback (most recent call last)",
      "Cell \u001b[0;32mIn [10], line 1\u001b[0m\n\u001b[0;32m----> 1\u001b[0m triton\u001b[38;5;241m.\u001b[39mops\u001b[38;5;241m.\u001b[39mblocksparse\u001b[38;5;241m.\u001b[39mmatmul(layout\u001b[38;5;241m=\u001b[39m\u001b[38;5;124m'\u001b[39m\u001b[38;5;124mdc\u001b[39m\u001b[38;5;124m'\u001b[39m, block\u001b[38;5;241m=\u001b[39m\u001b[38;5;241m32\u001b[39m, mode\u001b[38;5;241m=\u001b[39m\u001b[38;5;124m'\u001b[39m\u001b[38;5;124msdd\u001b[39m\u001b[38;5;124m'\u001b[39m, device\u001b[38;5;241m=\u001b[39m\u001b[38;5;124m'\u001b[39m\u001b[38;5;124mcuda\u001b[39m\u001b[38;5;124m'\u001b[39m)\n",
      "File \u001b[0;32m/store/store1/software/bin/anaconda3/envs/k2_custom-nemo/lib/python3.8/site-packages/triton/ops/blocksparse/matmul.py:414\u001b[0m, in \u001b[0;36mmatmul.__init__\u001b[0;34m(self, layout, block, mode, device, trans_a, trans_b, trans_c)\u001b[0m\n\u001b[1;32m    412\u001b[0m \u001b[39mself\u001b[39m\u001b[39m.\u001b[39mtrans_c \u001b[39m=\u001b[39m trans_c\n\u001b[1;32m    413\u001b[0m \u001b[39mself\u001b[39m\u001b[39m.\u001b[39mlayout \u001b[39m=\u001b[39m layout\n\u001b[0;32m--> 414\u001b[0m \u001b[39mself\u001b[39m\u001b[39m.\u001b[39mspdims \u001b[39m=\u001b[39m layout\u001b[39m.\u001b[39;49mshape\n\u001b[1;32m    415\u001b[0m step \u001b[39m=\u001b[39m \u001b[39mmin\u001b[39m(block, \u001b[39m32\u001b[39m)\n\u001b[1;32m    416\u001b[0m \u001b[39mif\u001b[39;00m \u001b[39mself\u001b[39m\u001b[39m.\u001b[39mmode \u001b[39m==\u001b[39m \u001b[39m'\u001b[39m\u001b[39msdd\u001b[39m\u001b[39m'\u001b[39m:\n",
      "\u001b[0;31mAttributeError\u001b[0m: 'str' object has no attribute 'shape'"
     ]
    }
   ],
   "source": [
    "triton.ops.blocksparse.matmul(block=32, mode='sdd', device='cuda', layout=)"
   ]
  },
  {
   "cell_type": "code",
   "execution_count": 3,
   "metadata": {},
   "outputs": [],
   "source": [
    "import torch\n",
    "from einops import rearrange\n",
    "from vector_quantize_pytorch import VectorQuantize\n"
   ]
  },
  {
   "cell_type": "code",
   "execution_count": 284,
   "metadata": {},
   "outputs": [
    {
     "ename": "SyntaxError",
     "evalue": "invalid syntax (1046607132.py, line 9)",
     "output_type": "error",
     "traceback": [
      "\u001b[0;36m  Cell \u001b[0;32mIn [284], line 9\u001b[0;36m\u001b[0m\n\u001b[0;31m    )\u001b[0m\n\u001b[0m    ^\u001b[0m\n\u001b[0;31mSyntaxError\u001b[0m\u001b[0;31m:\u001b[0m invalid syntax\n"
     ]
    }
   ],
   "source": [
    "kv = torch.randn(2, 12, 4, 1, 47, 32)\n",
    "conv_pointwise = torch.nn.Conv1d(32, 32, 1)\n",
    "act = torch.nn.SiLU()\n",
    "KV, L, B, H, N, D = kv.shape\n",
    "conv_depth = torch.nn.Conv1d(32, 32, 4, stride=2, groups=32, padding=1)\n",
    "vq = VectorQuantize(\n",
    "    dim = 32,\n",
    "    codebook_size =\n",
    ")\n",
    "\n",
    "kv = rearrange(kv, 'kv l b h n d -> (kv l b h) d n')\n",
    "kv = conv_pointwise(kv)\n",
    "kv = act(kv)\n",
    "kv = conv_depth(kv).transpose(-2, -1)\n",
    "print(k.shape)"
   ]
  },
  {
   "cell_type": "code",
   "execution_count": 191,
   "metadata": {},
   "outputs": [],
   "source": [
    "import torch.nn as nn"
   ]
  },
  {
   "cell_type": "code",
   "execution_count": 283,
   "metadata": {},
   "outputs": [
    {
     "name": "stdout",
     "output_type": "stream",
     "text": [
      "torch.Size([376, 12, 32]) torch.Size([1, 12, 32])\n",
      "torch.Size([96, 47, 32]) torch.Size([2, 12, 4, 1, 47, 32])\n"
     ]
    }
   ],
   "source": [
    "k, v = torch.randn(2, 12, 4, 1, 47, 32)\n",
    "layer_pos_q = torch.randn(1, 12, 32)\n",
    "L, B, H, N, D = k.shape\n",
    "k = rearrange(k, 'l b h n d -> (b h n) l d')\n",
    "v = rearrange(v, 'l b h n d -> (b h n) l d')\n",
    "ffk, ffv = nn.Linear(D, D), nn.Linear(D, D)\n",
    "kvf, vvf = ffk(k), ffv(v)\n",
    "kv = torch.cat([k, v], dim=0)\n",
    "kvnorm = kv / kv.norm(dim=-1, keepdim=True)\n",
    "layer_pos_q_norm = layer_pos_q / layer_pos_q.norm(dim=-1, keepdim=True)\n",
    "print(kvnorm.shape, layer_pos_q_norm.shape)\n",
    "sim = torch.einsum('s l d, b p d -> b l p', layer_pos_q_norm, kvnorm)\n",
    "attn = sim.softmax(dim=-1)\n",
    "kv_out = attn.matmul(kv)\n",
    "kv_out1 = rearrange(kv_out, '(kv b h n ) l d -> (kv b h l) n d', kv=2, b=B, h=H, n=N, d=D)\n",
    "kv_out2 = rearrange(kv_out, '(kv b h n) l d -> kv l b h n d', kv=2, b=B, h=H, n=N, d=D)\n",
    "print(kv_out1.shape, kv_out2.shape)"
   ]
  },
  {
   "cell_type": "code",
   "execution_count": 298,
   "metadata": {},
   "outputs": [
    {
     "name": "stdout",
     "output_type": "stream",
     "text": [
      "torch.Size([10, 32, 232])\n",
      "torch.Size([10, 32, 113])\n",
      "torch.Size([10, 32, 53])\n",
      "torch.Size([10, 32, 23])\n",
      "torch.Size([10, 32, 8])\n"
     ]
    }
   ],
   "source": [
    "x = torch.randn(10, 32, 470)\n",
    "conv = torch.nn.Conv1d(32, 32, 8, stride=2, padding=0)\n",
    "x = conv(x)\n",
    "print(x.shape)\n",
    "x = conv(x)\n",
    "print(x.shape)\n",
    "x = conv(x)\n",
    "print(x.shape)\n",
    "x = conv(x)\n",
    "print(x.shape)\n",
    "x = conv(x)\n",
    "print(x.shape)\n",
    "x = conv(x)"
   ]
  },
  {
   "cell_type": "code",
   "execution_count": 228,
   "metadata": {},
   "outputs": [
    {
     "data": {
      "text/plain": [
       "tensor([ 0.1728,  0.1750,  0.1582, -0.1261, -0.0012,  0.3190,  0.0314,  0.3462,\n",
       "         0.0347,  0.0106, -0.3657,  0.1372, -0.1629,  0.0996, -0.0383,  0.4446,\n",
       "         0.2881, -0.7578,  0.4497,  0.2040, -0.0979, -0.0760,  0.1567, -0.2148,\n",
       "        -0.0933,  0.2138, -0.4290, -0.1448,  0.3515, -0.3785,  0.3439,  0.1293,\n",
       "        -0.4232, -0.2096, -0.3043,  0.0161, -0.5005,  0.3965,  0.0175,  0.0440,\n",
       "        -0.2726, -0.2690,  0.4237, -0.1046,  0.0741,  0.5477,  0.3078])"
      ]
     },
     "execution_count": 228,
     "metadata": {},
     "output_type": "execute_result"
    }
   ],
   "source": [
    "kv_out1[2,:,0]"
   ]
  },
  {
   "cell_type": "code",
   "execution_count": 112,
   "metadata": {},
   "outputs": [
    {
     "data": {
      "text/plain": [
       "tensor([ 0.1408, -0.4468, -0.0967, -0.1814, -0.1534, -0.1098, -0.2832, -0.0945,\n",
       "        -0.1713, -0.6861,  0.0406,  0.2193, -0.2887,  0.1972, -0.0653,  0.1521,\n",
       "        -0.0608, -0.1063,  0.3126,  0.7086, -0.3826, -0.1101,  0.1185, -0.0067,\n",
       "        -0.0516, -0.1748,  0.8077, -0.3403, -0.4031,  0.1423,  0.5049,  0.2853])"
      ]
     },
     "execution_count": 112,
     "metadata": {},
     "output_type": "execute_result"
    }
   ],
   "source": [
    "(attn[0][0].unsqueeze(-1) * v[0]).sum(dim=0)"
   ]
  },
  {
   "cell_type": "code",
   "execution_count": 86,
   "metadata": {},
   "outputs": [
    {
     "data": {
      "text/plain": [
       "tensor([ 0.1408, -0.4468, -0.0967, -0.1814, -0.1534, -0.1098, -0.2832, -0.0945,\n",
       "        -0.1713, -0.6861,  0.0406,  0.2193, -0.2887,  0.1972, -0.0653,  0.1521,\n",
       "        -0.0608, -0.1063,  0.3126,  0.7086, -0.3826, -0.1101,  0.1185, -0.0067,\n",
       "        -0.0516, -0.1748,  0.8077, -0.3403, -0.4031,  0.1423,  0.5049,  0.2853])"
      ]
     },
     "execution_count": 86,
     "metadata": {},
     "output_type": "execute_result"
    }
   ],
   "source": [
    "out[0,0]"
   ]
  },
  {
   "cell_type": "code",
   "execution_count": 129,
   "metadata": {},
   "outputs": [
    {
     "data": {
      "text/plain": [
       "torch.Size([188, 12, 32])"
      ]
     },
     "execution_count": 129,
     "metadata": {},
     "output_type": "execute_result"
    }
   ],
   "source": [
    "out.shape"
   ]
  },
  {
   "cell_type": "code",
   "execution_count": 132,
   "metadata": {},
   "outputs": [],
   "source": [
    "\n",
    "def get_cache_indices(x_lens, cache_lens, cache_kv, x):  # replace with a vmap\n",
    "    # used later w/ gather to remove padding when cache is concatenated with current input\n",
    "    max_new_len = (x_lens + cache_lens).max()\n",
    "\n",
    "    B, H, N, D = x.shape[0], 1, (x.shape[1] + cache_kv.shape[-2]), cache_kv.shape[-1]\n",
    "\n",
    "    indices = []\n",
    "    for i in range(B):\n",
    "        cache_indices = torch.arange(cache_lens[i], device='cpu')\n",
    "        total_length = cache_lens[i] + x_lens[i]\n",
    "        print(total_length)\n",
    "        diff_from_max_len = max_new_len - total_length\n",
    "        x_indices = torch.arange(x_lens[i]+diff_from_max_len, device='cpu') + cache_kv.shape[-2]\n",
    "        if diff_from_max_len > 0:\n",
    "            print('s')\n",
    "            x_indices[-diff_from_max_len:] = N\n",
    "        new_indices = torch.cat([cache_indices, x_indices])\n",
    "        indices.append(new_indices)\n",
    "\n",
    "    indices = torch.stack(indices, dim=0)\n",
    "    \n",
    "    indices = rearrange(indices, 'b n -> () () b () n ()').expand(2, 2,B,H,-1,D)\n",
    "    return indices.to(x.device)"
   ]
  },
  {
   "cell_type": "code",
   "execution_count": 133,
   "metadata": {},
   "outputs": [
    {
     "name": "stdout",
     "output_type": "stream",
     "text": [
      "tensor(14)\n",
      "s\n",
      "tensor(15)\n",
      "torch.Size([2, 1, 26, 1])\n"
     ]
    },
    {
     "data": {
      "text/plain": [
       "tensor([[[[ 0],\n",
       "          [ 1],\n",
       "          [ 2],\n",
       "          [ 0],\n",
       "          [ 1],\n",
       "          [ 2],\n",
       "          [ 3],\n",
       "          [ 4],\n",
       "          [ 5],\n",
       "          [ 6],\n",
       "          [ 7],\n",
       "          [ 8],\n",
       "          [ 9],\n",
       "          [10],\n",
       "          [ 0]]],\n",
       "\n",
       "\n",
       "        [[[ 0],\n",
       "          [ 1],\n",
       "          [ 2],\n",
       "          [ 3],\n",
       "          [ 0],\n",
       "          [ 1],\n",
       "          [ 2],\n",
       "          [ 3],\n",
       "          [ 4],\n",
       "          [ 5],\n",
       "          [ 6],\n",
       "          [ 7],\n",
       "          [ 8],\n",
       "          [ 9],\n",
       "          [10]]]])"
      ]
     },
     "execution_count": 133,
     "metadata": {},
     "output_type": "execute_result"
    }
   ],
   "source": [
    "x = rearrange(torch.arange(20), 'n -> () n ()').repeat(2, 1, 1)\n",
    "cache = rearrange(torch.arange(5), 'n -> () () n ()').repeat(2, 1, 1, 1)\n",
    "x_lens = torch.tensor([11,11])\n",
    "cache_lens = torch.tensor([3,4])\n",
    "indices = get_cache_indices(x_lens, cache_lens, cache, x)[0][0]\n",
    "x = x.unsqueeze(1)\n",
    "zero_vector = torch.zeros_like(x[:,:,0,:]).unsqueeze(-1)\n",
    "\n",
    "both = torch.cat([cache, x, zero_vector], dim=-2)\n",
    "print(both.shape)\n",
    "both.gather(dim=-2, index=indices)"
   ]
  },
  {
   "cell_type": "code",
   "execution_count": 134,
   "metadata": {},
   "outputs": [
    {
     "data": {
      "text/plain": [
       "tensor([[ 0,  1,  2,  5,  6,  7,  8,  9, 10, 11, 12, 13, 14, 15, 25],\n",
       "        [ 0,  1,  2,  3,  5,  6,  7,  8,  9, 10, 11, 12, 13, 14, 15]])"
      ]
     },
     "execution_count": 134,
     "metadata": {},
     "output_type": "execute_result"
    }
   ],
   "source": [
    "indices.squeeze()"
   ]
  },
  {
   "cell_type": "code",
   "execution_count": null,
   "metadata": {},
   "outputs": [],
   "source": []
  }
 ],
 "metadata": {
  "kernelspec": {
   "display_name": "Python 3.8.13 ('k2_custom-nemo')",
   "language": "python",
   "name": "python3"
  },
  "language_info": {
   "codemirror_mode": {
    "name": "ipython",
    "version": 3
   },
   "file_extension": ".py",
   "mimetype": "text/x-python",
   "name": "python",
   "nbconvert_exporter": "python",
   "pygments_lexer": "ipython3",
   "version": "3.8.13"
  },
  "orig_nbformat": 4,
  "vscode": {
   "interpreter": {
    "hash": "c94c8ffa67fdebd9384b5746b8c4850bc2cec88ff489992126dcd0aca228c275"
   }
  }
 },
 "nbformat": 4,
 "nbformat_minor": 2
}
